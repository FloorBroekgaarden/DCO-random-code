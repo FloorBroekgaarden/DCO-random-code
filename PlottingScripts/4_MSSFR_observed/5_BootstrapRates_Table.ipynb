{
 "cells": [
  {
   "cell_type": "markdown",
   "metadata": {},
   "source": [
    "# Setting up Paths"
   ]
  },
  {
   "cell_type": "code",
   "execution_count": 4,
   "metadata": {},
   "outputs": [],
   "source": [
    "#path to the data\n",
    "pathCOMPASOutput = '/Volumes/Virgo/DATA/BHNS/Fiducial/'\n",
    "#path to compasrepo which contains ther popsynth folder\n",
    "pathRepo = '/Users/floorbroekgaarden/Projects/BHNS_project/'\n",
    "\n",
    "\n",
    "#path to Bootstrap\n",
    "# pathBootstrap = '/home/cneijssel/Documents/Projects/Data/CosmicInt/'\n"
   ]
  },
  {
   "cell_type": "markdown",
   "metadata": {},
   "source": [
    "# Imports"
   ]
  },
  {
   "cell_type": "code",
   "execution_count": 5,
   "metadata": {},
   "outputs": [],
   "source": [
    "import numpy as np\n",
    "import matplotlib.pyplot as plt\n",
    "import h5py as h5\n",
    "import time\n",
    "import os\n",
    "import sys\n",
    "import copy\n",
    "#Quick fudge to make import from ../Scripts work\n",
    "import sys\n",
    "sys.path.append(pathRepo + 'Scripts')\n"
   ]
  },
  {
   "cell_type": "markdown",
   "metadata": {},
   "source": [
    "# Custom Imports from COMPASrepo"
   ]
  },
  {
   "cell_type": "code",
   "execution_count": 7,
   "metadata": {},
   "outputs": [],
   "source": [
    "import ClassCosmicIntegrator  as CI #Given settings and redshifts returns rates (2D arrays) Loads the data\n",
    "import ClassBootStrap         as CB \n",
    "import coencodeVarious        as CV\n",
    "\n"
   ]
  },
  {
   "cell_type": "markdown",
   "metadata": {},
   "source": [
    "# General Idea"
   ]
  },
  {
   "cell_type": "markdown",
   "metadata": {},
   "source": [
    "In the previous notebook we cerated an h5 file with the rate per chirp mass per system per variation. In this notebook we will make a table of the rates. In addition we want to also bootstrap the rates. "
   ]
  },
  {
   "cell_type": "code",
   "execution_count": 4,
   "metadata": {},
   "outputs": [
    {
     "name": "stdout",
     "output_type": "stream",
     "text": [
      "[u'IntrinsicRedshift0', u'ObservedRate', u'Pessimistic', u'chirpMass', u'randomSeed']\n",
      "[u'IntrinsicRedshift0', u'ObservedRate', u'Pessimistic', u'chirpMass', u'randomSeed']\n",
      "[u'IntrinsicRedshift0', u'ObservedRate', u'Pessimistic', u'chirpMass', u'randomSeed']\n",
      "[u'IntrinsicRedshift0', u'ObservedRate', u'Pessimistic', u'chirpMass', u'randomSeed']\n",
      "[u'IntrinsicRedshift0', u'ObservedRate', u'Pessimistic', u'chirpMass', u'randomSeed']\n",
      "[u'IntrinsicRedshift0', u'ObservedRate', u'Pessimistic', u'chirpMass', u'randomSeed']\n",
      "[u'IntrinsicRedshift0', u'ObservedRate', u'Pessimistic', u'chirpMass', u'randomSeed']\n",
      "[u'IntrinsicRedshift0', u'ObservedRate', u'Pessimistic', u'chirpMass', u'randomSeed']\n",
      "[u'IntrinsicRedshift0', u'ObservedRate', u'Pessimistic', u'chirpMass', u'randomSeed']\n",
      "[u'IntrinsicRedshift0', u'ObservedRate', u'Pessimistic', u'chirpMass', u'randomSeed']\n",
      "[u'IntrinsicRedshift0', u'ObservedRate', u'Pessimistic', u'chirpMass', u'randomSeed']\n",
      "[u'IntrinsicRedshift0', u'ObservedRate', u'Pessimistic', u'chirpMass', u'randomSeed']\n",
      "[u'IntrinsicRedshift0', u'ObservedRate', u'Pessimistic', u'chirpMass', u'randomSeed']\n",
      "[u'IntrinsicRedshift0', u'ObservedRate', u'Pessimistic', u'chirpMass', u'randomSeed']\n",
      "[u'IntrinsicRedshift0', u'ObservedRate', u'Pessimistic', u'chirpMass', u'randomSeed']\n",
      "[u'IntrinsicRedshift0', u'ObservedRate', u'Pessimistic', u'chirpMass', u'randomSeed']\n",
      "[u'IntrinsicRedshift0', u'ObservedRate', u'Pessimistic', u'chirpMass', u'randomSeed']\n",
      "[u'IntrinsicRedshift0', u'ObservedRate', u'Pessimistic', u'chirpMass', u'randomSeed']\n"
     ]
    }
   ],
   "source": [
    "h5file           = h5.File('VariationIntegration.h5')\n",
    "\n",
    "# Results        a 2D array of 18 variations 2X3X3 (rows) and \n",
    "#                              6 types of rates 2X3 (columns) and + - error so 18 columns\n",
    "results          = np.zeros(shape=(18,18))\n",
    "\n",
    "#keys are not given sorted, however in the sorted order it is easier to make the table\n",
    "#convert list of string numbers to integers, get the arguments to sort and use these\n",
    "#to sort keys\n",
    "a = np.array(h5file.keys())\n",
    "b = np.argsort(a.astype(int))\n",
    "\n",
    "for v in a[b]:\n",
    "    #print h5file[v]['SFR_MZ_GSMF'][...]\n",
    "    print h5file[v]['BBH'].keys()"
   ]
  },
  {
   "cell_type": "markdown",
   "metadata": {},
   "source": [
    "# Bootstrap"
   ]
  },
  {
   "cell_type": "markdown",
   "metadata": {},
   "source": [
    "I have premade a bootsStrap wit ClassBootstrap, this is a resampling off all seeds per metallicity with replacement. From that I count of *all* the DCOs in my double compact object file how often they appear. \n",
    "That is stored as a column to file. Hence if I have a maskDCO of one file say cosmic integration, that same maskDCO applied to the bootstrap file gives me the nr of draws. Hence here I only have to recover the mask, and apply to bootstrap file to get counts. Then I sort the counts and get +- 90% uncertainty"
   ]
  },
  {
   "cell_type": "code",
   "execution_count": 5,
   "metadata": {},
   "outputs": [],
   "source": [
    "boot   = CB.Bootstrap(pathToFile = pathBootstrap, fileName='Bootstrap5.h5')\n",
    "\n",
    "def bootstrap(ratePerSystem):\n",
    "    #our bootstrap has 200 samples \n",
    "    nrSamples = 200\n",
    "    #what will be the total rate for each bootstrap\n",
    "    Rates     = np.zeros(nrSamples)\n",
    "    for sample in range(nrSamples):\n",
    "        #Reset rates according to Bootstrap sample\n",
    "        s             = boot.ReadSample(nrSample=sample, maskDCO=maskDCO)\n",
    "        Rates[sample] = np.sum(np.multiply(s, ratePerSystem))\n",
    "        \n",
    "    #order them from low to high and give error \n",
    "    Rates     = np.sort(Rates) - np.sum(ratePerSystem)\n",
    "    #If you sort array at what index do you find lower and upper confidence 90%\n",
    "    lower     = int((nrSamples/100.)*5)\n",
    "    upper     = int((nrSamples/100.)*95)\n",
    "    return Rates[lower], Rates[upper]\n",
    "    "
   ]
  },
  {
   "cell_type": "code",
   "execution_count": 6,
   "metadata": {},
   "outputs": [],
   "source": [
    "#per sorted variation (row)\n",
    "redoCalculation = False\n",
    "if redoCalculation:\n",
    "    for Pessimistic in [False, True]:\n",
    "        counterRow = 0\n",
    "        for v in a[b]:\n",
    "            print h5file[v]['SFR_MZ_GSMF'][...]\n",
    "            #per type (column)\n",
    "            counterColumn   = 0\n",
    "            types           = ['BBH', 'BHNS', 'BNS']\n",
    "            originalDCOfile = h5.File(pathCOMPASOutput+'COMPASOutput.h5')\n",
    "            for t in types:\n",
    "                if Pessimistic:\n",
    "                    maskPessimistic = h5file[v][t]['Pessimistic'][...].squeeze() == True\n",
    "                    seedsInterest = h5file[v][t]['randomSeed'][...].squeeze()[maskPessimistic]\n",
    "                else:\n",
    "                    seedsInterest = h5file[v][t]['randomSeed'][...].squeeze()\n",
    "                seedsOriginal = originalDCOfile['doubleCompactObjects']['seed'][...].squeeze()\n",
    "                #recover maskDCO for Bootstrap\n",
    "                maskDCO       = np.in1d(seedsOriginal, seedsInterest)\n",
    "                #for this type of this variation \n",
    "                for info in ['ObservedRate','IntrinsicRedshift0']:\n",
    "                    if Pessimistic:\n",
    "                        maskPessimistic = h5file[v][t]['Pessimistic'][...].squeeze() == True\n",
    "                        ratePerSystem = h5file[v][t][info][...].squeeze()[maskPessimistic]\n",
    "                    else:\n",
    "                        ratePerSystem = h5file[v][t][info][...].squeeze()\n",
    "                    centralValue  = np.sum(ratePerSystem)\n",
    "                    lower, Upper  = bootstrap(ratePerSystem)\n",
    "                    #fill in per three columns\n",
    "                    results[counterRow][counterColumn+0] = centralValue\n",
    "                    results[counterRow][counterColumn+1] = lower\n",
    "                    results[counterRow][counterColumn+2] = Upper\n",
    "                    counterColumn+=3\n",
    "            counterRow += 1\n",
    "        if Pessimistic:\n",
    "            np.savetxt('RatesPessimistic.txt', results)\n",
    "        else:\n",
    "            np.savetxt('RatesOptimistic.txt', results)\n",
    "        print 'Done'"
   ]
  },
  {
   "cell_type": "markdown",
   "metadata": {},
   "source": [
    "# Creating the Tables "
   ]
  },
  {
   "cell_type": "code",
   "execution_count": 7,
   "metadata": {},
   "outputs": [
    {
     "name": "stdout",
     "output_type": "stream",
     "text": [
      "(18, 18)\n"
     ]
    }
   ],
   "source": [
    "o  = np.loadtxt('RatesOptimistic.txt')\n",
    "p = np.loadtxt('RatesPessimistic.txt')\n",
    "\n",
    "print o.shape"
   ]
  },
  {
   "cell_type": "code",
   "execution_count": 8,
   "metadata": {},
   "outputs": [
    {
     "name": "stdout",
     "output_type": "stream",
     "text": [
      "\\begin{table*}\n",
      "\\begin{tabular}{|l |l | l| llllll}\n",
      "\\multicolumn{3}{|c|}{Variation MSSFR} & \\multicolumn{6}{|c|}{ Rates}  \\\\\n",
      "SFR & GSMF & MZ & BBH Obs &  BBH z=0  & BHNS Obs  & BHNS z=0 &  BNS Obs & BNS z=0 \\\\ \\hline \\hline\n",
      " &&&&&&&&\\\\\n",
      "\\multicolumn{9}{|c|}{Pessimistic} \\\\\n",
      " &&&&&&&&\\\\\n",
      "Madau et al. & Ma et al. (2004) & 1 &$ 63.07_{-1.76}^{+1.86} $ & $ 18.43_{-0.4}^{+0.42} $ & $ 32.22_{-1.43}^{+1.7} $ & $ 0.4_{-0.02}^{+0.02} $ & $ 85.97_{-2.41}^{+2.47}$ & $ 0.11_{-0.0}^{+0.0} $ \\\\\n",
      " & & 2 &$ 158.56_{-2.48}^{+2.07} $ & $ 94.35_{-1.39}^{+1.37} $ & $ 40.73_{-1.13}^{+1.37} $ & $ 0.51_{-0.02}^{+0.02} $ & $ 90.87_{-2.15}^{+2.39}$ & $ 0.12_{-0.0}^{+0.0} $ \\\\\n",
      " & & 3 &$ 174.71_{-2.7}^{+2.28} $ & $ 113.92_{-1.22}^{+1.12} $ & $ 42.14_{-1.22}^{+1.43} $ & $ 0.52_{-0.02}^{+0.02} $ & $ 91.42_{-2.24}^{+2.37}$ & $ 0.13_{-0.0}^{+0.0} $ \\\\\\cline{2-9}\n",
      " & Langer et al.  &1 &$ 448.84_{-5.24}^{+4.28} $ & $ 247.22_{-2.78}^{+2.63} $ & $ 95.47_{-2.12}^{+1.85} $ & $ 1.28_{-0.03}^{+0.03} $ & $ 144.57_{-2.3}^{+2.08}$ & $ 0.22_{-0.0}^{+0.0} $ \\\\\n",
      " &  &2 &$ 563.44_{-5.9}^{+4.1} $ & $ 441.08_{-6.24}^{+5.72} $ & $ 91.76_{-1.8}^{+1.73} $ & $ 1.19_{-0.03}^{+0.03} $ & $ 143.81_{-2.1}^{+1.93}$ & $ 0.22_{-0.0}^{+0.0} $ \\\\\n",
      " &  &3 &$ 589.13_{-6.05}^{+4.27} $ & $ 492.27_{-6.63}^{+5.85} $ & $ 96.32_{-1.9}^{+1.9} $ & $ 1.25_{-0.03}^{+0.03} $ & $ 147.1_{-2.3}^{+1.92}$ & $ 0.23_{-0.0}^{+0.0} $ \\\\\\cline{2-9}\n",
      " & Langer et al., offset  &1 &$ 59.17_{-1.34}^{+1.27} $ & $ 28.72_{-0.45}^{+0.46} $ & $ 18.98_{-0.77}^{+1.01} $ & $ 0.23_{-0.01}^{+0.01} $ & $ 72.09_{-3.01}^{+3.21}$ & $ 0.09_{-0.0}^{+0.0} $ \\\\\n",
      " &  &2 &$ 151.84_{-2.23}^{+1.88} $ & $ 120.3_{-2.23}^{+2.12} $ & $ 28.67_{-0.88}^{+0.92} $ & $ 0.35_{-0.01}^{+0.01} $ & $ 79.27_{-2.52}^{+2.67}$ & $ 0.11_{-0.0}^{+0.0} $ \\\\\n",
      " &  &3 &$ 167.64_{-2.29}^{+1.92} $ & $ 148.74_{-2.05}^{+2.0} $ & $ 29.4_{-0.98}^{+0.97} $ & $ 0.35_{-0.01}^{+0.01} $ & $ 79.32_{-2.51}^{+2.57}$ & $ 0.11_{-0.0}^{+0.0} $ \\\\\\hline\n",
      "Strolger et al. & Ma et al. (2004) & 1 &$ 101.98_{-2.88}^{+3.01} $ & $ 32.93_{-0.84}^{+0.83} $ & $ 42.11_{-1.81}^{+2.4} $ & $ 0.52_{-0.02}^{+0.03} $ & $ 91.66_{-2.49}^{+2.71}$ & $ 0.12_{-0.0}^{+0.0} $ \\\\\n",
      " & &2 &$ 255.46_{-5.7}^{+4.49} $ & $ 203.93_{-4.76}^{+5.17} $ & $ 49.05_{-1.68}^{+2.1} $ & $ 0.6_{-0.02}^{+0.02} $ & $ 98.87_{-2.72}^{+2.59}$ & $ 0.14_{-0.0}^{+0.0} $ \\\\\n",
      " & &3 &$ 271.91_{-4.67}^{+4.09} $ & $ 208.21_{-3.38}^{+3.29} $ & $ 50.49_{-1.66}^{+1.98} $ & $ 0.61_{-0.02}^{+0.03} $ & $ 98.72_{-2.72}^{+2.4}$ & $ 0.14_{-0.0}^{+0.0} $ \\\\\\cline{2-9}\n",
      " & Langer et al. &1 &$ 574.91_{-8.19}^{+6.58} $ & $ 406.39_{-5.66}^{+5.25} $ & $ 99.35_{-2.43}^{+2.32} $ & $ 1.28_{-0.04}^{+0.03} $ & $ 153.78_{-2.9}^{+2.74}$ & $ 0.23_{-0.0}^{+0.0} $ \\\\\n",
      " &  &2 &$ 688.91_{-10.42}^{+9.03} $ & $ 659.25_{-14.58}^{+15.27} $ & $ 95.9_{-2.62}^{+2.65} $ & $ 1.19_{-0.03}^{+0.03} $ & $ 153.93_{-3.4}^{+3.49}$ & $ 0.24_{-0.01}^{+0.01} $ \\\\\n",
      " &  &3 &$ 714.15_{-11.17}^{+8.77} $ & $ 710.91_{-14.29}^{+15.17} $ & $ 100.12_{-2.69}^{+2.67} $ & $ 1.25_{-0.03}^{+0.03} $ & $ 157.4_{-3.43}^{+3.8}$ & $ 0.24_{-0.01}^{+0.01} $ \\\\\\cline{2-9}\n",
      " & Langer et al., offset &1 &$ 132.55_{-3.54}^{+3.38} $ & $ 89.79_{-1.42}^{+1.42} $ & $ 27.88_{-1.27}^{+1.96} $ & $ 0.33_{-0.01}^{+0.02} $ & $ 79.81_{-3.29}^{+3.16}$ & $ 0.11_{-0.0}^{+0.0} $ \\\\\n",
      " &  &2 &$ 259.14_{-6.53}^{+5.65} $ & $ 267.34_{-7.55}^{+8.2} $ & $ 36.67_{-1.57}^{+1.58} $ & $ 0.43_{-0.02}^{+0.02} $ & $ 88.47_{-3.58}^{+3.1}$ & $ 0.12_{-0.0}^{+0.01} $ \\\\\n",
      " &  &3 &$ 276.57_{-6.48}^{+5.32} $ & $ 292.76_{-6.55}^{+7.71} $ & $ 37.36_{-1.56}^{+1.64} $ & $ 0.43_{-0.02}^{+0.02} $ & $ 88.34_{-3.29}^{+2.88}$ & $ 0.12_{-0.0}^{+0.0} $ \\\\\n",
      "\\hline \n",
      " &&&&&&&&\\\\\n",
      "\\multicolumn{9}{|c|}{Optimistic} \\\\\n",
      " &&&&&&&&\\\\\n",
      "Madau et al. & Ma et al. (2004) & 1 &$ 291.23_{-5.28}^{+4.93} $ & $ 46.27_{-0.72}^{+0.7} $ & $ 89.32_{-2.47}^{+3.19} $ & $ 0.85_{-0.02}^{+0.03} $ & $ 231.08_{-4.8}^{+4.36}$ & $ 0.33_{-0.01}^{+0.01} $  \\\\\n",
      " & & 2 &$ 408.74_{-5.52}^{+4.03} $ & $ 128.37_{-1.48}^{+1.44} $ & $ 102.22_{-2.07}^{+2.67} $ & $ 1.04_{-0.02}^{+0.03} $ & $ 227.38_{-4.46}^{+4.13}$ & $ 0.33_{-0.01}^{+0.01} $  \\\\\n",
      " & & 3 &$ 431.55_{-5.58}^{+4.5} $ & $ 148.55_{-1.38}^{+1.26} $ & $ 104.83_{-2.18}^{+2.71} $ & $ 1.06_{-0.02}^{+0.03} $ & $ 226.34_{-4.21}^{+3.71}$ & $ 0.33_{-0.01}^{+0.01} $  \\\\\\cline{2-9}\n",
      " & Langer et al.  &1 &$ 938.86_{-7.01}^{+6.16} $ & $ 332.4_{-2.77}^{+2.92} $ & $ 201.14_{-3.1}^{+3.44} $ & $ 2.33_{-0.04}^{+0.04} $ & $ 209.7_{-2.73}^{+2.85}$ & $ 0.33_{-0.0}^{+0.0} $  \\\\\n",
      " &  &2 &$ 1002.87_{-6.55}^{+5.33} $ & $ 517.59_{-6.39}^{+5.41} $ & $ 187.17_{-2.49}^{+2.79} $ & $ 2.16_{-0.03}^{+0.04} $ & $ 210.0_{-2.48}^{+2.47}$ & $ 0.33_{-0.0}^{+0.0} $  \\\\\n",
      " &  &3 &$ 1042.93_{-6.97}^{+5.27} $ & $ 572.54_{-6.41}^{+5.69} $ & $ 193.78_{-2.65}^{+2.98} $ & $ 2.25_{-0.03}^{+0.04} $ & $ 208.21_{-2.49}^{+2.55}$ & $ 0.33_{-0.0}^{+0.0} $  \\\\\\cline{2-9}\n",
      " & Langer et al., offset  &1 &$ 190.7_{-3.65}^{+3.5} $ & $ 43.44_{-0.52}^{+0.52} $ & $ 59.21_{-2.15}^{+2.69} $ & $ 0.52_{-0.01}^{+0.02} $ & $ 236.54_{-6.59}^{+6.48}$ & $ 0.34_{-0.01}^{+0.01} $  \\\\\n",
      " &  &2 &$ 317.64_{-4.02}^{+3.16} $ & $ 141.94_{-2.08}^{+2.28} $ & $ 74.72_{-1.91}^{+2.18} $ & $ 0.73_{-0.02}^{+0.02} $ & $ 232.11_{-5.96}^{+5.66}$ & $ 0.34_{-0.01}^{+0.01} $  \\\\\n",
      " &  &3 &$ 335.02_{-4.01}^{+3.3} $ & $ 170.2_{-2.02}^{+2.17} $ & $ 75.38_{-1.9}^{+2.2} $ & $ 0.73_{-0.02}^{+0.02} $ & $ 231.52_{-5.52}^{+5.68}$ & $ 0.33_{-0.01}^{+0.01} $  \\\\\\hline\n",
      "Strolger et al. & Ma et al. (2004) & 1 &$ 361.59_{-6.7}^{+5.79} $ & $ 64.2_{-1.12}^{+1.08} $ & $ 111.51_{-3.31}^{+4.29} $ & $ 1.09_{-0.03}^{+0.04} $ & $ 238.44_{-4.66}^{+4.5}$ & $ 0.34_{-0.01}^{+0.01} $  \\\\\n",
      " & &2 &$ 523.11_{-8.21}^{+5.83} $ & $ 239.42_{-4.94}^{+5.7} $ & $ 116.48_{-2.7}^{+3.27} $ & $ 1.18_{-0.03}^{+0.03} $ & $ 235.98_{-4.62}^{+4.6}$ & $ 0.34_{-0.01}^{+0.01} $  \\\\\n",
      " & &3 &$ 547.87_{-7.09}^{+6.08} $ & $ 244.58_{-3.41}^{+3.4} $ & $ 119.46_{-2.75}^{+3.05} $ & $ 1.22_{-0.03}^{+0.03} $ & $ 234.53_{-4.63}^{+3.89}$ & $ 0.34_{-0.01}^{+0.01} $  \\\\\\cline{2-9}\n",
      " & Langer et al. &1 &$ 1061.19_{-9.88}^{+8.04} $ & $ 486.78_{-5.84}^{+5.82} $ & $ 204.37_{-3.35}^{+3.37} $ & $ 2.33_{-0.04}^{+0.05} $ & $ 220.3_{-3.03}^{+3.44}$ & $ 0.34_{-0.01}^{+0.01} $  \\\\\n",
      " &  &2 &$ 1118.71_{-10.66}^{+8.74} $ & $ 730.55_{-14.5}^{+14.82} $ & $ 189.09_{-3.06}^{+2.96} $ & $ 2.14_{-0.04}^{+0.04} $ & $ 221.11_{-3.54}^{+4.03}$ & $ 0.34_{-0.01}^{+0.01} $  \\\\\n",
      " &  &3 &$ 1157.22_{-11.19}^{+9.06} $ & $ 785.44_{-14.23}^{+14.83} $ & $ 194.98_{-3.31}^{+3.02} $ & $ 2.22_{-0.04}^{+0.04} $ & $ 219.59_{-3.66}^{+3.93}$ & $ 0.34_{-0.01}^{+0.01} $  \\\\\\cline{2-9}\n",
      " & Langer et al., offset &1 &$ 291.8_{-5.44}^{+5.57} $ & $ 107.66_{-1.53}^{+1.37} $ & $ 76.78_{-2.67}^{+3.4} $ & $ 0.7_{-0.02}^{+0.02} $ & $ 244.96_{-6.62}^{+6.31}$ & $ 0.35_{-0.01}^{+0.01} $  \\\\\n",
      " &  &2 &$ 440.74_{-7.95}^{+6.82} $ & $ 290.5_{-7.21}^{+8.53} $ & $ 87.17_{-2.77}^{+2.78} $ & $ 0.86_{-0.02}^{+0.03} $ & $ 240.95_{-6.05}^{+6.21}$ & $ 0.35_{-0.01}^{+0.01} $  \\\\\n",
      " &  &3 &$ 460.27_{-7.84}^{+6.42} $ & $ 315.88_{-6.5}^{+7.94} $ & $ 87.82_{-2.54}^{+2.79} $ & $ 0.86_{-0.03}^{+0.02} $ & $ 240.19_{-5.99}^{+6.13}$ & $ 0.34_{-0.01}^{+0.01} $  \\\\\n",
      "\\end{tabular}\n",
      "\\end{table*}\n"
     ]
    }
   ],
   "source": [
    "starter     = ['Madau et al. & Ma et al. (2004) & 1 &',' & & 2 &',' & & 3 &',\n",
    "               ' & Langer et al.  &1 &',\\\n",
    "               ' &  &2 &',\\\n",
    "               ' &  &3 &',\\\n",
    "               ' & Langer et al., offset  &1 &',\\\n",
    "               ' &  &2 &',\\\n",
    "               ' &  &3 &',\\\n",
    "               'Strolger et al. & Ma et al. (2004) & 1 &',\\\n",
    "               ' & &2 &',\\\n",
    "               ' & &3 &',\\\n",
    "               ' & Langer et al. &1 &',\\\n",
    "               ' &  &2 &',\\\n",
    "               ' &  &3 &',\\\n",
    "               ' & Langer et al., offset &1 &',\\\n",
    "               ' &  &2 &',\\\n",
    "               ' &  &3 &',\\\n",
    "              ]\n",
    "print r'\\begin{table*}'\n",
    "print r'\\begin{tabular}{|l |l | l| llllll}'\n",
    "print r'\\multicolumn{3}{|c|}{Variation MSSFR} & \\multicolumn{6}{|c|}{ Rates}  \\\\'\n",
    "print r'SFR & GSMF & MZ & BBH Obs &  BBH z=0  & BHNS Obs  & BHNS z=0 &  BNS Obs & BNS z=0 \\\\ \\hline \\hline'\n",
    "\n",
    "print r' &&&&&&&&\\\\'\n",
    "print r'\\multicolumn{9}{|c|}{Pessimistic} \\\\'\n",
    "print r' &&&&&&&&\\\\'\n",
    "\n",
    "for nrV in range(len(h5file.keys())):\n",
    "    string = starter[nrV]\n",
    "    row    = p[nrV]\n",
    "    row = np.round(row, 2)\n",
    "    string+= r'$ %s_{%s}^{+%s} $ & $ %s_{%s}^{+%s} $ & $ %s_{%s}^{+%s} $ & $ %s_{%s}^{+%s} $ & $ %s_{%s}^{+%s}$ & $ %s_{%s}^{+%s} $ \\\\'\\\n",
    "    %(row[3],row[4], row[5],row[0],row[1],row[2],row[9],row[10],row[11],\\\n",
    "      row[6],row[7],row[8],row[15],row[16],row[17],row[12],row[13],row[14])\n",
    "        \n",
    "    if nrV in [2,5,11,14]:\n",
    "        string += '\\cline{2-9}'\n",
    "    if nrV == 8:\n",
    "        string += '\\hline'\n",
    "    print string\n",
    "\n",
    "print r'\\hline '\n",
    "print r' &&&&&&&&\\\\'\n",
    "print r'\\multicolumn{9}{|c|}{Optimistic} \\\\'    \n",
    "print r' &&&&&&&&\\\\'\n",
    "\n",
    "for nrV in range(len(h5file.keys())):\n",
    "    string = starter[nrV]\n",
    "    row    = o[nrV]\n",
    "    row = np.round(row, 2)\n",
    "    string+= r'$ %s_{%s}^{+%s} $ & $ %s_{%s}^{+%s} $ & $ %s_{%s}^{+%s} $ & $ %s_{%s}^{+%s} $ & $ %s_{%s}^{+%s}$ & $ %s_{%s}^{+%s} $  \\\\'\\\n",
    "    %(row[3],row[4], row[5],row[0],row[1],row[2],row[9],row[10],row[11],\\\n",
    "      row[6],row[7],row[8],row[15],row[16],row[17],row[12],row[13],row[14])\n",
    "        \n",
    "    if nrV in [2,5,11,14]:\n",
    "        string += '\\cline{2-9}'\n",
    "    if nrV == 8:\n",
    "        string += '\\hline'\n",
    "    print string\n",
    "\n",
    "print r'\\end{tabular}'\n",
    "print r'\\end{table*}'\n"
   ]
  },
  {
   "cell_type": "code",
   "execution_count": null,
   "metadata": {
    "collapsed": true
   },
   "outputs": [],
   "source": []
  },
  {
   "cell_type": "code",
   "execution_count": null,
   "metadata": {
    "collapsed": true
   },
   "outputs": [],
   "source": []
  }
 ],
 "metadata": {
  "kernelspec": {
   "display_name": "Python 2",
   "language": "python",
   "name": "python2"
  },
  "language_info": {
   "codemirror_mode": {
    "name": "ipython",
    "version": 2
   },
   "file_extension": ".py",
   "mimetype": "text/x-python",
   "name": "python",
   "nbconvert_exporter": "python",
   "pygments_lexer": "ipython2",
   "version": "2.7.16"
  }
 },
 "nbformat": 4,
 "nbformat_minor": 2
}
