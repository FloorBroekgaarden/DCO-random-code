{
 "cells": [
  {
   "cell_type": "markdown",
   "metadata": {},
   "source": [
    "# Setting up Paths"
   ]
  },
  {
   "cell_type": "code",
   "execution_count": 5,
   "metadata": {},
   "outputs": [],
   "source": [
    "#path to the data\n",
    "pathCOMPASOutput = '/Volumes/TOSHIBA EXT/BHNS_all_in/Fiducial/'\n",
    "#path to compasrepo which contains ther popsynth folder\n",
    "# pathRepo = '/home/cneijssel/Documents/COMPASpop'\n",
    "# pathPostProcessing = '/home/cneijssel/Documents/COMPASpop/popsynth/Papers/NeijsselEtAL/PostProcessing'\n"
   ]
  },
  {
   "cell_type": "markdown",
   "metadata": {},
   "source": [
    "# Imports"
   ]
  },
  {
   "cell_type": "code",
   "execution_count": 1,
   "metadata": {},
   "outputs": [],
   "source": [
    "import numpy as np\n",
    "import matplotlib.pyplot as plt\n",
    "import h5py as h5\n",
    "import time\n",
    "import sys\n",
    "#Quick fudge to make import from ../Scripts work\n",
    "import sys\n",
    "\n",
    "\n",
    "\n",
    "sys.path.append('/Users/floorbroekgaarden/Programs/COMPAS/popsynth/Papers/BroekgaardenEtAl/black_hole-neutron_star/Scripts')\n",
    "\n",
    "\n",
    "# sys.path.append(pathRepo + '/popsynth/Papers/NeijsselEtAL/CosmicIntegration/Scripts')\n",
    "sys.path.append('/Users/floorbroekgaarden/Programs/COMPAS/popsynth/Papers/BroekgaardenEtAl/black_hole-neutron_star/Scripts')\n",
    "\n"
   ]
  },
  {
   "cell_type": "markdown",
   "metadata": {},
   "source": [
    "# Custom Imports from COMPASrepo"
   ]
  },
  {
   "cell_type": "code",
   "execution_count": 2,
   "metadata": {},
   "outputs": [],
   "source": [
    "import ClassCosmicIntegrator  as CI #Given settings and redshifts returns rates (2D arrays) Loads the data\n",
    "import coencodeVarious as CV\n",
    "\n"
   ]
  },
  {
   "cell_type": "markdown",
   "metadata": {},
   "source": [
    "# The current options for MSSFR"
   ]
  },
  {
   "cell_type": "code",
   "execution_count": 3,
   "metadata": {},
   "outputs": [],
   "source": [
    "ZMs   = ['Ma et al. (2015)',\\\n",
    "         'Langer et al. (2006)', \\\n",
    "         'Langer et al. +offset (2006)']\n",
    "GSMFs = ['Panter et al. (2004) Single', \\\n",
    "         'Furlong et al. (2015) Single', \\\n",
    "         'Furlong et al. (2015) Double']\n",
    "SFRs  = ['Madau et al. (2014)',\n",
    "         'Strolger et al. (2004)']       \n",
    "            #Also have Madau 2017 , but not taken into account here"
   ]
  },
  {
   "cell_type": "code",
   "execution_count": null,
   "metadata": {},
   "outputs": [],
   "source": []
  },
  {
   "cell_type": "code",
   "execution_count": null,
   "metadata": {},
   "outputs": [],
   "source": []
  },
  {
   "cell_type": "code",
   "execution_count": 11,
   "metadata": {},
   "outputs": [
    {
     "name": "stdout",
     "output_type": "stream",
     "text": [
      "weighted samples :-D\n",
      "Remember to  self.setCOMPASDCOmask() adag and self.setCOMPASData()\n"
     ]
    }
   ],
   "source": [
    "import ClassCOMPAS     as CC\n",
    "import ClassFormationChannels as FC\n",
    "from PostProcessingScripts import * \n",
    "\n",
    "#But I want only within Hubble time \n",
    "Data            = CC.COMPASData(path=pathCOMPASOutput, lazyData=True, Mlower=5., \\\n",
    "                 Mupper=150., binaryFraction=0.7)\n",
    "Data.setCOMPASDCOmask(types='BHNS',  withinHubbleTime=True, optimistic=True)\n",
    "Data.setCOMPASData()\n",
    "SeedsHubble    = Data.seeds[Data.Hubble==True]"
   ]
  },
  {
   "cell_type": "code",
   "execution_count": null,
   "metadata": {},
   "outputs": [],
   "source": []
  },
  {
   "cell_type": "code",
   "execution_count": null,
   "metadata": {},
   "outputs": [],
   "source": []
  },
  {
   "cell_type": "markdown",
   "metadata": {},
   "source": [
    "# The Cosmic integrator class"
   ]
  },
  {
   "cell_type": "code",
   "execution_count": 12,
   "metadata": {
    "scrolled": true
   },
   "outputs": [
    {
     "name": "stdout",
     "output_type": "stream",
     "text": [
      "weighted samples :-D\n",
      "Remember to  self.setCOMPASDCOmask() adag and self.setCOMPASData()\n",
      "()\n",
      "cannot set 2D-array of rates\n",
      "COMPAS data is empty (COMPAS.setCOMPASData) \n"
     ]
    }
   ],
   "source": [
    "#Again I make a generic instance without DCO type\n",
    "#will need to set this manually with the MSSFR later\n",
    "\n",
    "#Want to show cosmic scale so high redshift\n",
    "#Large number of shells for smooth lines\n",
    "minz = 0.\n",
    "maxz = .5\n",
    "resz = 10\n",
    "Data = CI.CosmicIntegrator(COMPASpath = pathCOMPASOutput,\\\n",
    "       minRedshift=minz,   maxRedshift=maxz, nrRedshiftBins=resz)"
   ]
  },
  {
   "cell_type": "code",
   "execution_count": 9,
   "metadata": {},
   "outputs": [],
   "source": [
    "# General settings colours DCO types consistent with other notebooks\n",
    "Types      = ['BBH', 'BHNS', 'BNS']\n",
    "Colours    = ['midnightblue','mediumaquamarine','mediumvioletred' ]"
   ]
  },
  {
   "cell_type": "code",
   "execution_count": 10,
   "metadata": {
    "scrolled": false
   },
   "outputs": [
    {
     "name": "stdout",
     "output_type": "stream",
     "text": [
      "BBH\n"
     ]
    },
    {
     "ename": "NameError",
     "evalue": "global name 'FileNotFoundError' is not defined",
     "output_type": "error",
     "traceback": [
      "\u001b[0;31m---------------------------------------------------------------------------\u001b[0m",
      "\u001b[0;31mNameError\u001b[0m                                 Traceback (most recent call last)",
      "\u001b[0;32m<ipython-input-10-29d898cd2d24>\u001b[0m in \u001b[0;36m<module>\u001b[0;34m()\u001b[0m\n\u001b[1;32m     37\u001b[0m         \u001b[0mData\u001b[0m\u001b[0;34m.\u001b[0m\u001b[0mMSSFR\u001b[0m\u001b[0;34m.\u001b[0m\u001b[0mGSMFprescription\u001b[0m      \u001b[0;34m=\u001b[0m \u001b[0mGSMFs\u001b[0m\u001b[0;34m[\u001b[0m\u001b[0mnrL\u001b[0m\u001b[0;34m]\u001b[0m\u001b[0;34m\u001b[0m\u001b[0m\n\u001b[1;32m     38\u001b[0m         \u001b[0mData\u001b[0m\u001b[0;34m.\u001b[0m\u001b[0mMSSFR\u001b[0m\u001b[0;34m.\u001b[0m\u001b[0mZMprescription\u001b[0m        \u001b[0;34m=\u001b[0m \u001b[0mMZs\u001b[0m\u001b[0;34m[\u001b[0m\u001b[0mnrL\u001b[0m\u001b[0;34m]\u001b[0m\u001b[0;34m\u001b[0m\u001b[0m\n\u001b[0;32m---> 39\u001b[0;31m         \u001b[0mData\u001b[0m\u001b[0;34m.\u001b[0m\u001b[0mcosmologicalIntegration\u001b[0m\u001b[0;34m(\u001b[0m\u001b[0;34m)\u001b[0m\u001b[0;34m\u001b[0m\u001b[0m\n\u001b[0m\u001b[1;32m     40\u001b[0m \u001b[0;34m\u001b[0m\u001b[0m\n\u001b[1;32m     41\u001b[0m         \u001b[0mDCOperRedshift\u001b[0m \u001b[0;34m=\u001b[0m \u001b[0mnp\u001b[0m\u001b[0;34m.\u001b[0m\u001b[0msum\u001b[0m\u001b[0;34m(\u001b[0m\u001b[0mData\u001b[0m\u001b[0;34m.\u001b[0m\u001b[0mPerSystemPerRedshift_ratesObserved\u001b[0m\u001b[0;34m,\u001b[0m \u001b[0maxis\u001b[0m\u001b[0;34m=\u001b[0m\u001b[0;36m1\u001b[0m\u001b[0;34m)\u001b[0m\u001b[0;34m\u001b[0m\u001b[0m\n",
      "\u001b[0;32m/Users/floorbroekgaarden/Programs/COMPAS/popsynth/Papers/BroekgaardenEtAl/black_hole-neutron_star/Scripts/ClassCosmicIntegrator.pyc\u001b[0m in \u001b[0;36mcosmologicalIntegration\u001b[0;34m(self)\u001b[0m\n\u001b[1;32m    277\u001b[0m                                     \u001b[0mself\u001b[0m\u001b[0;34m.\u001b[0m\u001b[0mCOMPAS\u001b[0m\u001b[0;34m.\u001b[0m\u001b[0mmass1\u001b[0m\u001b[0;34m[\u001b[0m\u001b[0mmaskZ\u001b[0m\u001b[0;34m]\u001b[0m\u001b[0;34m,\u001b[0m\u001b[0mself\u001b[0m\u001b[0;34m.\u001b[0m\u001b[0mCOMPAS\u001b[0m\u001b[0;34m.\u001b[0m\u001b[0mmass2\u001b[0m\u001b[0;34m[\u001b[0m\u001b[0mmaskZ\u001b[0m\u001b[0;34m]\u001b[0m\u001b[0;34m,\u001b[0m \u001b[0mself\u001b[0m\u001b[0;34m.\u001b[0m\u001b[0mShell_centerRedshift\u001b[0m\u001b[0;34m[\u001b[0m\u001b[0mnr\u001b[0m\u001b[0;34m]\u001b[0m\u001b[0;34m,\u001b[0m\u001b[0;31m\\\u001b[0m\u001b[0;34m\u001b[0m\u001b[0m\n\u001b[1;32m    278\u001b[0m                                     \u001b[0mself\u001b[0m\u001b[0;34m.\u001b[0m\u001b[0mShell_luminosityDistance\u001b[0m\u001b[0;34m[\u001b[0m\u001b[0mnr\u001b[0m\u001b[0;34m]\u001b[0m\u001b[0;34m,\u001b[0m \u001b[0mself\u001b[0m\u001b[0;34m.\u001b[0m\u001b[0mGWdetector_snrThreshold\u001b[0m\u001b[0;34m,\u001b[0m\u001b[0;31m\\\u001b[0m\u001b[0;34m\u001b[0m\u001b[0m\n\u001b[0;32m--> 279\u001b[0;31m                                     sensitivity=self.GWdetector_sensitivity)\n\u001b[0m\u001b[1;32m    280\u001b[0m                 \u001b[0mNrMergersInShell\u001b[0m  \u001b[0;34m=\u001b[0m \u001b[0mnp\u001b[0m\u001b[0;34m.\u001b[0m\u001b[0mmultiply\u001b[0m\u001b[0;34m(\u001b[0m\u001b[0mRatesZ\u001b[0m\u001b[0;34m,\u001b[0m\u001b[0mself\u001b[0m\u001b[0;34m.\u001b[0m\u001b[0mShell_volume\u001b[0m\u001b[0;34m[\u001b[0m\u001b[0mnr\u001b[0m\u001b[0;34m]\u001b[0m\u001b[0;34m)\u001b[0m                    \u001b[0;31m# intrinsic rate per system per shell\u001b[0m\u001b[0;34m\u001b[0m\u001b[0m\n\u001b[1;32m    281\u001b[0m                 \u001b[0mNrMergersInShell\u001b[0m  \u001b[0;34m=\u001b[0m \u001b[0mNrMergersInShell\u001b[0m \u001b[0;34m*\u001b[0m \u001b[0;34m(\u001b[0m\u001b[0;36m1.\u001b[0m\u001b[0;34m/\u001b[0m\u001b[0;34m(\u001b[0m\u001b[0;36m1.\u001b[0m\u001b[0;34m+\u001b[0m\u001b[0mself\u001b[0m\u001b[0;34m.\u001b[0m\u001b[0mShell_centerRedshift\u001b[0m\u001b[0;34m[\u001b[0m\u001b[0mnr\u001b[0m\u001b[0;34m]\u001b[0m\u001b[0;34m)\u001b[0m\u001b[0;34m)\u001b[0m \u001b[0;31m# rate observer frame per system per shell\u001b[0m\u001b[0;34m\u001b[0m\u001b[0m\n",
      "\u001b[0;32m/Users/floorbroekgaarden/Programs/COMPAS/popsynth/Papers/BroekgaardenEtAl/black_hole-neutron_star/Scripts/selection_effects.py\u001b[0m in \u001b[0;36mdetection_probability\u001b[0;34m(m1, m2, redshift, distance, snr_threshold, sensitivity)\u001b[0m\n\u001b[1;32m     68\u001b[0m         _interpolator = Interpolator(\n\u001b[1;32m     69\u001b[0m             \u001b[0mpath\u001b[0m\u001b[0;34m+\u001b[0m\u001b[0;34m'/SNR_Grid_IMRPhenomPv2_FD_all_noise.hdf5'\u001b[0m\u001b[0;34m,\u001b[0m\u001b[0;34m\u001b[0m\u001b[0m\n\u001b[0;32m---> 70\u001b[0;31m             hdfDatasetName, mode='scipy')\n\u001b[0m\u001b[1;32m     71\u001b[0m     \u001b[0minterpolated_snr\u001b[0m \u001b[0;34m=\u001b[0m \u001b[0m_interpolator\u001b[0m\u001b[0;34m(\u001b[0m\u001b[0mm1\u001b[0m\u001b[0;34m*\u001b[0m\u001b[0;34m(\u001b[0m\u001b[0;36m1\u001b[0m\u001b[0;34m+\u001b[0m\u001b[0mredshift\u001b[0m\u001b[0;34m)\u001b[0m\u001b[0;34m,\u001b[0m \u001b[0mm2\u001b[0m\u001b[0;34m*\u001b[0m\u001b[0;34m(\u001b[0m\u001b[0;36m1\u001b[0m\u001b[0;34m+\u001b[0m\u001b[0mredshift\u001b[0m\u001b[0;34m)\u001b[0m\u001b[0;34m)\u001b[0m\u001b[0;34m\u001b[0m\u001b[0m\n\u001b[1;32m     72\u001b[0m     \u001b[0;31m# SNR scales as 1/distance\u001b[0m\u001b[0;34m\u001b[0m\u001b[0;34m\u001b[0m\u001b[0m\n",
      "\u001b[0;32m/Users/floorbroekgaarden/Programs/COMPAS/popsynth/Papers/BroekgaardenEtAl/black_hole-neutron_star/Scripts/selection_effects.py\u001b[0m in \u001b[0;36m__init__\u001b[0;34m(self, first_arg, second_arg, mode)\u001b[0m\n\u001b[1;32m    125\u001b[0m         \u001b[0;32mif\u001b[0m \u001b[0misinstance\u001b[0m\u001b[0;34m(\u001b[0m\u001b[0mfirst_arg\u001b[0m\u001b[0;34m,\u001b[0m \u001b[0mstr\u001b[0m\u001b[0;34m)\u001b[0m \u001b[0;32mand\u001b[0m \u001b[0misinstance\u001b[0m\u001b[0;34m(\u001b[0m\u001b[0msecond_arg\u001b[0m\u001b[0;34m,\u001b[0m \u001b[0mstr\u001b[0m\u001b[0;34m)\u001b[0m\u001b[0;34m:\u001b[0m\u001b[0;34m\u001b[0m\u001b[0m\n\u001b[1;32m    126\u001b[0m             \u001b[0;32mif\u001b[0m \u001b[0;32mnot\u001b[0m \u001b[0mos\u001b[0m\u001b[0;34m.\u001b[0m\u001b[0mpath\u001b[0m\u001b[0;34m.\u001b[0m\u001b[0misfile\u001b[0m\u001b[0;34m(\u001b[0m\u001b[0mfirst_arg\u001b[0m\u001b[0;34m)\u001b[0m\u001b[0;34m:\u001b[0m\u001b[0;34m\u001b[0m\u001b[0m\n\u001b[0;32m--> 127\u001b[0;31m                 \u001b[0;32mraise\u001b[0m \u001b[0mFileNotFoundError\u001b[0m\u001b[0;34m(\u001b[0m\u001b[0;34m'HDF5 file expected: %r'\u001b[0m \u001b[0;34m%\u001b[0m \u001b[0mfirst_arg\u001b[0m\u001b[0;34m)\u001b[0m\u001b[0;34m\u001b[0m\u001b[0m\n\u001b[0m\u001b[1;32m    128\u001b[0m             \u001b[0;32mwith\u001b[0m \u001b[0mh5py\u001b[0m\u001b[0;34m.\u001b[0m\u001b[0mFile\u001b[0m\u001b[0;34m(\u001b[0m\u001b[0mfirst_arg\u001b[0m\u001b[0;34m,\u001b[0m \u001b[0;34m'r'\u001b[0m\u001b[0;34m)\u001b[0m \u001b[0;32mas\u001b[0m \u001b[0mhdf\u001b[0m\u001b[0;34m:\u001b[0m\u001b[0;34m\u001b[0m\u001b[0m\n\u001b[1;32m    129\u001b[0m                 \u001b[0mmass_axis\u001b[0m \u001b[0;34m=\u001b[0m \u001b[0mhdf\u001b[0m\u001b[0;34m[\u001b[0m\u001b[0;34m'mass_axis'\u001b[0m\u001b[0;34m]\u001b[0m\u001b[0;34m[\u001b[0m\u001b[0;34m.\u001b[0m\u001b[0;34m.\u001b[0m\u001b[0;34m.\u001b[0m\u001b[0;34m]\u001b[0m\u001b[0;34m\u001b[0m\u001b[0m\n",
      "\u001b[0;31mNameError\u001b[0m: global name 'FileNotFoundError' is not defined"
     ]
    },
    {
     "data": {
      "image/png": "[encoded data removed]",
      "text/plain": [
       "<Figure size 648x576 with 2 Axes>"
      ]
     },
     "metadata": {
      "needs_background": "light"
     },
     "output_type": "display_data"
    }
   ],
   "source": [
    "#The distribution of DCOs as a function of redshift\n",
    "\n",
    "method     = ['logNormal'                ,'MZ_GSMF'                     ,'MZ_GSMF'                      , 'MZ_GSMF']\n",
    "SFRs       = ['Neijssel et al. (2019)'   ,'Madau et al. (2014)'         ,'Madau et al. (2014)'          , 'Madau et al. (2014)']\n",
    "logNormal  = ['Neijssel Phenomenological', None                         , None                          , None]\n",
    "GSMFs      = [None                       , 'Panter et al. (2004) Single', 'Furlong et al. (2015) Single', 'Panter et al. (2004) Single']\n",
    "MZs        = [None                       , 'Langer et al. (2006)'       , 'Langer et al. (2006)'        , 'Ma et al. (2015)']\n",
    "\n",
    "linestyles = ['-'                        , '--'                         , ':'                           , '-.']\n",
    "labels     = ['Preferred model'          , 'Barrett et al. (2018) MSSFR', 'Furlong et al. (2015) Single', 'Ma et al. (2015)']\n",
    "\n",
    "\n",
    "cm       = plt.get_cmap('viridis')\n",
    "nColors  = 3+1  #want three colours for three variations (1 used in other plot later)\n",
    "                    # dont want the brigthest colour hence I add a dummy value.\n",
    "                    #Should be consistent with figure of metallicity PDFs\n",
    "mycolors = [cm(x) for x in np.linspace(0,1 , nColors)]\n",
    "\n",
    "colours  =  [ 'k'                        ,mycolors[0]                   , mycolors[1]                   , mycolors[2]]\n",
    "\n",
    "\n",
    "\n",
    "#Setting DCO types takes the longest so first loop\n",
    "#over types, then variations\n",
    "fig, axes = plt.subplots(1,1,figsize=(9,8))\n",
    "ax2 = plt.axes([.6, .6, .35, .35])\n",
    "handles1  = []\n",
    "for nrT, Type in enumerate(Types):\n",
    "    print(Type)\n",
    "    Data.COMPAS.setCOMPASDCOmask(types=Type)\n",
    "    Data.COMPAS.setCOMPASData()\n",
    "    Data.setBirthTimesAnd2Darrays()\n",
    "    for nrL, L in enumerate(labels):\n",
    "        Data.MSSFR.Zprescription         = method[nrL]\n",
    "        Data.MSSFR.SFRprescription       = SFRs[nrL]\n",
    "        Data.MSSFR.logNormalPrescription = logNormal[nrL]\n",
    "        Data.MSSFR.GSMFprescription      = GSMFs[nrL]\n",
    "        Data.MSSFR.ZMprescription        = MZs[nrL]\n",
    "        Data.cosmologicalIntegration()\n",
    "        \n",
    "        DCOperRedshift = np.sum(Data.PerSystemPerRedshift_ratesObserved, axis=1)\n",
    "        Redshifts      = Data.Shell_centerRedshift\n",
    "        dz             = Data.Shell_dz\n",
    "        NrPerZ         = np.divide(DCOperRedshift, dz)\n",
    "        print('rate %s at redshift 0 for %s  = %s' \\\n",
    "              %(Type, L, DCOperRedshift[0]))\n",
    "        #only want a label for DCO type  once when we have solid line\n",
    "        #if nrL != 3: #Dont Ma et al for clarity\n",
    "        if nrL == 0:\n",
    "            label = Type\n",
    "            ll    = True\n",
    "        else:\n",
    "            label = None\n",
    "            ll    = False\n",
    "        if ll:\n",
    "            l = axes.plot(Redshifts, NrPerZ, label=label,lw=3.,\\\n",
    "                 c=Colours[nrT], linestyle=linestyles[nrL])\n",
    "            handles1.extend(l)\n",
    "        else:\n",
    "            axes.plot(Redshifts, NrPerZ, label=label,lw=3.,\\\n",
    "                 c=Colours[nrT], linestyle=linestyles[nrL])\n",
    "\n",
    "        if Type != 'BBH':\n",
    "            ax2.plot(Redshifts, NrPerZ, label=label,lw=3.,\\\n",
    "             c=Colours[nrT], linestyle=linestyles[nrL])\n",
    "        #if (nrL == 3) and (Type =='BBH'): #Dont Ma et al for clarity\n",
    "        #    print '?'\n",
    "        #    if nrL == 0:\n",
    "        #        label = Type\n",
    "        #        ll    = True\n",
    "        #    else:\n",
    "        #        label = None\n",
    "        #        ll    = False\n",
    "        #    if ll:\n",
    "        #        l = axes.plot(Redshifts, DCOperRedshift, label=label,lw=3.,\\\n",
    "        #             c=Colours[nrT], linestyle=linestyles[nrL])\n",
    "        #        handles1.extend(l)\n",
    "        #    else:\n",
    "        #        axes.plot(Redshifts, DCOperRedshift, label=label,lw=3.,\\\n",
    "        #             c=Colours[nrT], linestyle=linestyles[nrL])\n",
    "                \n",
    "ax2.set_xlim(0,0.07)\n",
    "ax2.set_ylim(bottom=0.15)\n",
    "ax2.set_yscale('log')\n",
    "ticks = ax2.get_xticks()\n",
    "ax2.set_xticks(ticks[:-1])\n",
    "axes.set_xlim(0,0.7)\n",
    "axes.set_ylim(bottom=6, top=100000)\n",
    "axes.set_yscale('log')\n",
    "axes\n",
    "first_legend = axes.legend(handles=handles1, loc=4,  prop={'size':18}, ncol=1)   \n",
    "axes.add_artist(first_legend) \n",
    "\n",
    "handles2 = []\n",
    "for nrL, L in enumerate(labels):\n",
    "    l = axes.plot([0,2], [-1,-1], c='k', linestyle=linestyles[nrL], label=L, lw=3.)\n",
    "    handles2.extend(l)\n",
    "second_legend = axes.legend(handles=handles2, loc=2,  prop={'size':16}, ncol=1)#, bbox_to_anchor=(1., .45))   \n",
    "axes.add_artist(second_legend) \n",
    "\n",
    "\n",
    "nameX = r'$\\rm redshift $'\n",
    "nameY = r'$\\rm dN/(dt_{obs}dz)\\ [ yr^{-1}]  $'\n",
    "axes = CV.layoutAxes(axes, nameX=nameX, nameY=nameY)\n",
    "ax2 = CV.layoutAxes(ax2, nameX='', nameY='',  fontsize=14)\n",
    "axes.set_ylim(bottom=0)\n",
    "plt.tight_layout()\n",
    "# plt.savefig('./TotalMergerRateRedshiftObs.png', dpi=300, transparent=False)\n",
    "plt.show()\n",
    "plt.close()\n",
    "\n",
    "#it will give warnings for BBH given that maximum redshift of detectable mergers is around 0.8\n",
    "#Given that this is for plotting not actual rates it is of no concern :)"
   ]
  },
  {
   "cell_type": "code",
   "execution_count": null,
   "metadata": {},
   "outputs": [],
   "source": []
  }
 ],
 "metadata": {
  "kernelspec": {
   "display_name": "Python 2",
   "language": "python",
   "name": "python2"
  },
  "language_info": {
   "codemirror_mode": {
    "name": "ipython",
    "version": 2
   },
   "file_extension": ".py",
   "mimetype": "text/x-python",
   "name": "python",
   "nbconvert_exporter": "python",
   "pygments_lexer": "ipython2",
   "version": "2.7.16"
  }
 },
 "nbformat": 4,
 "nbformat_minor": 2
}
