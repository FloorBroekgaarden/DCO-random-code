{
 "cells": [
  {
   "cell_type": "markdown",
   "metadata": {},
   "source": [
    "# Setting up Paths"
   ]
  },
  {
   "cell_type": "code",
   "execution_count": 1,
   "metadata": {
    "collapsed": true
   },
   "outputs": [],
   "source": [
    "#path to the data\n",
    "pathCOMPASOutput = '/home/cneijssel/Documents/Projects/Data/CosmicInt/'\n",
    "#path to compasrepo which contains ther popsynth folder\n",
    "pathRepo = '/home/cneijssel/Documents/COMPASpop'\n",
    "#path to Bootstrap\n",
    "pathBootstrap = '/home/cneijssel/Documents/Projects/Data/CosmicInt/'\n"
   ]
  },
  {
   "cell_type": "markdown",
   "metadata": {},
   "source": [
    "# Imports"
   ]
  },
  {
   "cell_type": "code",
   "execution_count": 2,
   "metadata": {
    "collapsed": false
   },
   "outputs": [],
   "source": [
    "import numpy as np\n",
    "import matplotlib.pyplot as plt\n",
    "import h5py as h5\n",
    "import time\n",
    "import os\n",
    "import sys\n",
    "import copy\n",
    "#Quick fudge to make import from ../Scripts work\n",
    "import sys\n",
    "sys.path.append(pathRepo + '/popsynth/Papers/NeijsselEtAL/CosmicIntegration/Scripts')\n"
   ]
  },
  {
   "cell_type": "markdown",
   "metadata": {},
   "source": [
    "# Custom Imports from COMPASrepo"
   ]
  },
  {
   "cell_type": "code",
   "execution_count": 3,
   "metadata": {
    "collapsed": false
   },
   "outputs": [],
   "source": [
    "import ClassCosmicIntegrator  as CI #Given settings and redshifts returns rates (2D arrays) Loads the data\n",
    "import ClassBootStrap         as CB #pre sampled from initial seeds per metallicity the reader is there too\n",
    "import coencodeVarious        as CV\n",
    "import ClassBayes             as CL  #Used to create KDECOMPAS/Posterior/Likelyhood \n",
    "import ClassEvents            as CE  #Where I store the GW-events observed\n"
   ]
  },
  {
   "cell_type": "markdown",
   "metadata": {},
   "source": [
    "# General Idea"
   ]
  },
  {
   "cell_type": "markdown",
   "metadata": {},
   "source": [
    "This combines the rates and likelihood results for the main table"
   ]
  },
  {
   "cell_type": "code",
   "execution_count": 4,
   "metadata": {
    "collapsed": false
   },
   "outputs": [
    {
     "name": "stdout",
     "output_type": "stream",
     "text": [
      "[-33.90132988 -32.42209207 -32.47923602 -32.23573001 -32.60862832\n",
      " -32.77281298 -32.30432394 -32.68407745 -32.87289791 -33.82371569\n",
      " -32.80701404 -32.64662089 -32.43929589 -32.98485115 -33.08891159\n",
      " -32.45776248 -33.20094135 -33.2234479 ]\n",
      "[ -34.86818006  -41.28140683  -44.38259041  -67.08519109 -103.20872203\n",
      " -113.00032587  -33.37576681  -45.61126481  -50.49214084  -35.1320506\n",
      "  -59.94767911  -60.54303704  -96.54754265 -144.90105212 -154.87401259\n",
      "  -40.63307633  -71.68295846  -76.32728187]\n"
     ]
    }
   ],
   "source": [
    "#         [0,1,2]   [3,4,5]   [6,7,8]   [9,10,11]  [12,13,14]\n",
    "#L columns   McO1-+ RO1-+     McO2-+     RO2-+     Ltot-+\n",
    "#            [0,1,2]    [3,4,5]   [6,7,8]      [9,10,11]   [12,13,14]  [15,16,17]\n",
    "#R columns = BBH Obs &  BBH z=0  & BHNS Obs  & BHNS z=0 &  BNS Obs & BNS z=0 \n",
    "oL  = np.loadtxt('LikelihoodsOptimistic.txt')\n",
    "pL  = np.loadtxt('LikelihoodsPessimistic.txt')\n",
    "oR  = np.loadtxt('RatesOptimistic.txt')\n",
    "pR  = np.loadtxt('RatesPessimistic.txt')\n",
    "\n",
    "\n",
    "#the files are ordered with the same variations\n",
    "#combine them in new results array for easier printing\n",
    "\n",
    "#columns = BBH BHNS BNS LMc LR Ltot  (no error bars so 6 columns 18 variations)\n",
    "o        = np.zeros(shape=(18,6))\n",
    "o[:,0]   = oR[:,0]  #BBH\n",
    "o[:,1]   = oR[:,6]  #BHNS\n",
    "o[:,2]   = oR[:,12] #BNS\n",
    "o[:,3]   = np.add(oL[:,0], oL[:,6]) #Lmc tot\n",
    "o[:,4]   = np.add(oL[:,3], oL[:,9]) #LR  tot\n",
    "o[:,5]   = oL[:,12]\n",
    "\n",
    "#print np.add(o[:,3], o[:,4])\n",
    "#print o[:,5]\n",
    "\n",
    "\n",
    "\n",
    "#columns = BBH BHNS BNS LMc LR Ltot  (no error bars so 6 columns 18 variations)\n",
    "p        = np.zeros(shape=(18,6))\n",
    "p[:,0]   = pR[:,0]  #BBH\n",
    "p[:,1]   = pR[:,6]  #BHNS\n",
    "p[:,2]   = pR[:,12] #BNS\n",
    "p[:,3]   = np.add(pL[:,0], pL[:,6]) #Lmc tot\n",
    "p[:,4]   = np.add(pL[:,3], pL[:,9]) #LR  tot\n",
    "p[:,5]   = pL[:,12]\n",
    "\n",
    "print p[:,3]\n",
    "print p[:,5]"
   ]
  },
  {
   "cell_type": "code",
   "execution_count": 5,
   "metadata": {
    "collapsed": false,
    "scrolled": true
   },
   "outputs": [
    {
     "name": "stdout",
     "output_type": "stream",
     "text": [
      "\\begin{table*}\n",
      "\\begin{tabular}{|l |l | l| llllll}\n",
      "\\multicolumn{3}{|c|}{Variation MSSFR} & \\multicolumn{3}{|c|}{ Rates} & \\multicolumn{3}{|c|}{ Likelihoods} \\\\\n",
      "SFR & GSMF & MZ & $\\rm BBH $ &   $\\rm BHNS $  &$\\rm BNS$ &   $\\rm \\mathcal{L}_{M_{chirp}}$ & $\\rm \\mathcal{L}_{R}$ & $\\rm \\mathcal{L}_{tot}$\\\\ \\hline \\hline\n",
      "Madau et al. & Ma et al. (2004) & 1 &18.43 & 0.4 & 0.11 & -33.9 & -0.97 & -34.87 \\\\\n",
      " & & 2 &94.35 & 0.51 & 0.12 & -32.42 & -8.86 & -41.28 \\\\\n",
      " & & 3 &113.92 & 0.52 & 0.13 & -32.48 & -11.9 & -44.38 \\\\\\cline{2-9}\n",
      " & Langer et al.  &1 &247.22 & 1.28 & 0.22 & -32.24 & -34.85 & -67.09 \\\\\n",
      " &  &2 &441.08 & 1.19 & 0.22 & -32.61 & -70.6 & -103.21 \\\\\n",
      " &  &3 &492.27 & 1.25 & 0.23 & -32.77 & -80.23 & -113.0 \\\\\\cline{2-9}\n",
      " & Langer et al., offset  &1 &28.72 & 0.23 & 0.09 & -32.3 & -1.07 & -33.38 \\\\\n",
      " &  &2 &120.3 & 0.35 & 0.11 & -32.68 & -12.93 & -45.61 \\\\\n",
      " &  &3 &148.74 & 0.35 & 0.11 & -32.87 & -17.62 & -50.49 \\\\\\hline\n",
      "Strolger et al. & Ma et al. (2004) & 1 &32.93 & 0.52 & 0.12 & -33.82 & -1.31 & -35.13 \\\\\n",
      " & &2 &203.93 & 0.6 & 0.14 & -32.81 & -27.14 & -59.95 \\\\\n",
      " & &3 &208.21 & 0.61 & 0.14 & -32.65 & -27.9 & -60.54 \\\\\\cline{2-9}\n",
      " & Langer et al. &1 &406.39 & 1.28 & 0.23 & -32.44 & -64.11 & -96.55 \\\\\n",
      " &  &2 &659.25 & 1.19 & 0.24 & -32.98 & -111.92 & -144.9 \\\\\n",
      " &  &3 &710.91 & 1.25 & 0.24 & -33.09 & -121.79 & -154.87 \\\\\\cline{2-9}\n",
      " & Langer et al., offset &1 &89.79 & 0.33 & 0.11 & -32.46 & -8.18 & -40.63 \\\\\n",
      " &  &2 &267.34 & 0.43 & 0.12 & -33.2 & -38.48 & -71.68 \\\\\n",
      " &  &3 &292.76 & 0.43 & 0.12 & -33.22 & -43.1 & -76.33 \\\\\n",
      "\\end{tabular}\n",
      "\\end{table*}\n"
     ]
    }
   ],
   "source": [
    "\n",
    "\n",
    "\n",
    "starter     = ['Madau et al. & Ma et al. (2004) & 1 &',' & & 2 &',' & & 3 &',\n",
    "               ' & Langer et al.  &1 &',\\\n",
    "               ' &  &2 &',\\\n",
    "               ' &  &3 &',\\\n",
    "               ' & Langer et al., offset  &1 &',\\\n",
    "               ' &  &2 &',\\\n",
    "               ' &  &3 &',\\\n",
    "               'Strolger et al. & Ma et al. (2004) & 1 &',\\\n",
    "               ' & &2 &',\\\n",
    "               ' & &3 &',\\\n",
    "               ' & Langer et al. &1 &',\\\n",
    "               ' &  &2 &',\\\n",
    "               ' &  &3 &',\\\n",
    "               ' & Langer et al., offset &1 &',\\\n",
    "               ' &  &2 &',\\\n",
    "               ' &  &3 &',\\\n",
    "              ]\n",
    "print r'\\begin{table*}'\n",
    "print r'\\begin{tabular}{|l |l | l| llllll}'\n",
    "print r'\\multicolumn{3}{|c|}{Variation MSSFR} & \\multicolumn{3}{|c|}{ Rates} & \\multicolumn{3}{|c|}{ Likelihoods} \\\\'\n",
    "print r'SFR & GSMF & MZ & $\\rm BBH $ &   $\\rm BHNS $  &$\\rm BNS$ &   $\\rm \\mathcal{L}_{M_{chirp}}$ & $\\rm \\mathcal{L}_{R}$ & $\\rm \\mathcal{L}_{tot}$\\\\ \\hline \\hline'\n",
    "\n",
    "\n",
    "for nrV in range(len(p[:,0])):\n",
    "    string = starter[nrV]\n",
    "    row    = p[nrV]\n",
    "    row = np.round(row, 2)\n",
    "    string+= r'%s & %s & %s & %s & %s & %s \\\\'\\\n",
    "    %(row[0],row[1], row[2],row[3],row[4],row[5])\n",
    "        \n",
    "    if nrV in [2,5,11,14]:\n",
    "        string += '\\cline{2-9}'\n",
    "    if nrV == 8:\n",
    "        string += '\\hline'\n",
    "    print string\n",
    "\n",
    "\n",
    "print r'\\end{tabular}'\n",
    "print r'\\end{table*}'"
   ]
  },
  {
   "cell_type": "code",
   "execution_count": null,
   "metadata": {
    "collapsed": true
   },
   "outputs": [],
   "source": []
  }
 ],
 "metadata": {
  "kernelspec": {
   "display_name": "Python 2",
   "language": "python",
   "name": "python2"
  },
  "language_info": {
   "codemirror_mode": {
    "name": "ipython",
    "version": 2
   },
   "file_extension": ".py",
   "mimetype": "text/x-python",
   "name": "python",
   "nbconvert_exporter": "python",
   "pygments_lexer": "ipython2",
   "version": "2.7.12"
  }
 },
 "nbformat": 4,
 "nbformat_minor": 2
}
