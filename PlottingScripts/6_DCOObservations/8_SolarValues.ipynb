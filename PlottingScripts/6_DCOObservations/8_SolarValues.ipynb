{
 "cells": [
  {
   "cell_type": "markdown",
   "metadata": {},
   "source": [
    "# Setting up Paths"
   ]
  },
  {
   "cell_type": "code",
   "execution_count": 1,
   "metadata": {
    "collapsed": true
   },
   "outputs": [],
   "source": [
    "#path to the data\n",
    "pathCOMPASOutput = '/home/cneijssel/Documents/Projects/Data/CosmicInt/'\n",
    "#path to compasrepo which contains ther popsynth folder\n",
    "pathRepo = '/home/cneijssel/Documents/COMPASpop'\n"
   ]
  },
  {
   "cell_type": "markdown",
   "metadata": {},
   "source": [
    "# Imports"
   ]
  },
  {
   "cell_type": "code",
   "execution_count": 2,
   "metadata": {
    "collapsed": false
   },
   "outputs": [],
   "source": [
    "import numpy as np\n",
    "import matplotlib.pyplot as plt\n",
    "import h5py as h5\n",
    "import time\n",
    "import os\n",
    "import sys\n",
    "import copy\n",
    "#Quick fudge to make import from ../Scripts work\n",
    "import sys\n",
    "sys.path.append(pathRepo + '/popsynth/Papers/NeijsselEtAL/CosmicIntegration/Scripts')\n"
   ]
  },
  {
   "cell_type": "markdown",
   "metadata": {},
   "source": [
    "# Custom Imports from COMPASrepo"
   ]
  },
  {
   "cell_type": "code",
   "execution_count": 3,
   "metadata": {
    "collapsed": false
   },
   "outputs": [],
   "source": [
    "import ClassCosmicIntegrator  as CI #Given settings and redshifts returns rates (2D arrays) Loads the data\n",
    "import coencodeVarious        as CV\n",
    "import ClassBayes             as CL  #Used to create KDECOMPAS/Posterior/Likelyhood \n",
    "import ClassEvents            as CE  #Where I store the GW-events observed\n"
   ]
  },
  {
   "cell_type": "markdown",
   "metadata": {},
   "source": [
    "# General Idea"
   ]
  },
  {
   "cell_type": "markdown",
   "metadata": {},
   "source": [
    "The main results of this study assume values for the solar metallicity mass fraction and the solar oxygen to hydrogen number density. Although are stellar models do not depend on this assumption, the translation between our models and the MSSFR distributions do.\n",
    "Here I assume one MSSFR variation and then do a two dimensional study in the aforementioned parameters to estimate the effect on the observed rate for O1."
   ]
  },
  {
   "cell_type": "code",
   "execution_count": 4,
   "metadata": {
    "collapsed": false
   },
   "outputs": [],
   "source": [
    "resolution  = 12\n",
    "logOH12suns = np.linspace(8.69, 9.1, resolution)\n",
    "solars      = np.linspace(0.0127, 0.02, resolution)\n",
    "#every row a redshift, every column a system\n",
    "#observed2D    = cosmic.PerSystemRedshift_ratesObserved\n",
    "\n",
    "results = np.zeros(shape=(len(logOH12suns), len(solars)))\n"
   ]
  },
  {
   "cell_type": "code",
   "execution_count": 5,
   "metadata": {
    "collapsed": false
   },
   "outputs": [
    {
     "name": "stdout",
     "output_type": "stream",
     "text": [
      "Remember to  self.setCOMPASDCOmask() and self.setCOMPASData()\n"
     ]
    }
   ],
   "source": [
    "#The general cosmic integrator\n",
    "\n",
    "Data      = CI.CosmicIntegrator(COMPASpath = pathCOMPASOutput, DCOtypes='BBH',\\\n",
    "            minRedshift=0,   maxRedshift=1, nrRedshiftBins=25, optimistic=False)\n",
    "#MSSFR\n",
    "Data.MSSFR.Zprescription         = 'MZ_GSMF'\n",
    "Data.MSSFR.SFRprescription       = 'Madau et al. (2014)'\n",
    "Data.MSSFR.ZMprescription        = 'Ma et al. (2015)'\n",
    "Data.MSSFR.GSMFprescription      = 'Furlong et al. (2015) Double'"
   ]
  },
  {
   "cell_type": "code",
   "execution_count": 6,
   "metadata": {
    "collapsed": false,
    "scrolled": true
   },
   "outputs": [
    {
     "name": "stdout",
     "output_type": "stream",
     "text": [
      "0 12\n",
      "      0 12\n",
      "      1 12\n",
      "      2 12\n",
      "      3 12\n",
      "      4 12\n",
      "      5 12\n",
      "      6 12\n",
      "      7 12\n",
      "      8 12\n",
      "      9 12\n",
      "      10 12\n",
      "      11 12\n",
      "1 12\n",
      "      0 12\n",
      "      1 12\n",
      "      2 12\n",
      "      3 12\n",
      "      4 12\n",
      "      5 12\n",
      "      6 12\n",
      "      7 12\n",
      "      8 12\n",
      "      9 12\n",
      "      10 12\n",
      "      11 12\n",
      "2 12\n",
      "      0 12\n",
      "      1 12\n",
      "      2 12\n",
      "      3 12\n",
      "      4 12\n",
      "      5 12\n",
      "      6 12\n",
      "      7 12\n",
      "      8 12\n",
      "      9 12\n",
      "      10 12\n",
      "      11 12\n",
      "3 12\n",
      "      0 12\n",
      "      1 12\n",
      "      2 12\n",
      "      3 12\n",
      "      4 12\n",
      "      5 12\n",
      "      6 12\n",
      "      7 12\n",
      "      8 12\n",
      "      9 12\n",
      "      10 12\n",
      "      11 12\n",
      "4 12\n",
      "      0 12\n",
      "      1 12\n",
      "      2 12\n",
      "      3 12\n",
      "      4 12\n",
      "      5 12\n",
      "      6 12\n",
      "      7 12\n",
      "      8 12\n",
      "      9 12\n",
      "      10 12\n",
      "      11 12\n",
      "5 12\n",
      "      0 12\n",
      "      1 12\n",
      "      2 12\n",
      "      3 12\n",
      "      4 12\n",
      "      5 12\n",
      "      6 12\n",
      "      7 12\n",
      "      8 12\n",
      "      9 12\n",
      "      10 12\n",
      "      11 12\n",
      "6 12\n",
      "      0 12\n",
      "      1 12\n",
      "      2 12\n",
      "      3 12\n",
      "      4 12\n",
      "      5 12\n",
      "      6 12\n",
      "      7 12\n",
      "      8 12\n",
      "      9 12\n",
      "      10 12\n",
      "      11 12\n",
      "7 12\n",
      "      0 12\n",
      "      1 12\n",
      "      2 12\n",
      "      3 12\n",
      "      4 12\n",
      "      5 12\n",
      "      6 12\n",
      "      7 12\n",
      "      8 12\n",
      "      9 12\n",
      "      10 12\n",
      "      11 12\n",
      "8 12\n",
      "      0 12\n",
      "      1 12\n",
      "      2 12\n",
      "      3 12\n",
      "      4 12\n",
      "      5 12\n",
      "      6 12\n",
      "      7 12\n",
      "      8 12\n",
      "      9 12\n",
      "      10 12\n",
      "      11 12\n",
      "9 12\n",
      "      0 12\n",
      "      1 12\n",
      "      2 12\n",
      "      3 12\n",
      "      4 12\n",
      "      5 12\n",
      "      6 12\n",
      "      7 12\n",
      "      8 12\n",
      "      9 12\n",
      "      10 12\n",
      "      11 12\n",
      "10 12\n",
      "      0 12\n",
      "      1 12\n",
      "      2 12\n",
      "      3 12\n",
      "      4 12\n",
      "      5 12\n",
      "      6 12\n",
      "      7 12\n",
      "      8 12\n",
      "      9 12\n",
      "      10 12\n",
      "      11 12\n",
      "11 12\n",
      "      0 12\n",
      "      1 12\n",
      "      2 12\n",
      "      3 12\n",
      "      4 12\n",
      "      5 12\n",
      "      6 12\n",
      "      7 12\n",
      "      8 12\n",
      "      9 12\n",
      "      10 12\n",
      "      11 12\n"
     ]
    }
   ],
   "source": [
    "RedoCalculation    =  True\n",
    "if RedoCalculation == True:\n",
    "    for nrOH12, logOH12sun in enumerate(logOH12suns):\n",
    "        print nrOH12, len(logOH12suns)\n",
    "        for nrs, solar in enumerate(solars):\n",
    "            print '     ', nrs, len(solars)\n",
    "            Data.MSSFR.logOH12sun            = logOH12sun        #fraction number density solar\n",
    "            Data.MSSFR.solarMetallicity      = solar  #fraction mass in metals solar\n",
    "            Data.cosmologicalIntegration()\n",
    "\n",
    "            RateObserved        = np.sum(Data.PerSystemPerRedshift_ratesObserved)\n",
    "            results[nrOH12][nrs] = RateObserved\n",
    "    np.savetxt('solarValuesV.txt', results)"
   ]
  },
  {
   "cell_type": "code",
   "execution_count": 7,
   "metadata": {
    "collapsed": false
   },
   "outputs": [
    {
     "name": "stdout",
     "output_type": "stream",
     "text": [
      "91.8910385164\n",
      "80.7369227433 287.934454705\n"
     ]
    },
    {
     "data": {
      "image/png": "[encoded data removed]",
      "text/plain": [
       "<matplotlib.figure.Figure at 0x7fa8d6bfb890>"
      ]
     },
     "metadata": {},
     "output_type": "display_data"
    }
   ],
   "source": [
    "\n",
    "fig, axes = plt.subplots(1,1, figsize=(10,9))\n",
    "\n",
    "array = np.genfromtxt('./solarValuesV.txt')\n",
    "for nrOH12, logOH12sun in enumerate(logOH12suns):\n",
    "    for nrs, solar in enumerate(solars):\n",
    "        sc = axes.scatter(logOH12sun, solar, c=array[nrOH12][nrs],\\\n",
    "                          vmin=np.min(array), vmax=np.max(array), cmap='viridis',\\\n",
    "                         lw=0., s=2500, marker='s')\n",
    "axes.scatter(logOH12suns[0], solars[2], c=array[0][2],\\\n",
    "                          vmin=np.min(array), vmax=np.max(array), cmap='viridis',\\\n",
    "                         lw=3., s=2500, marker='s', edgecolor='w')        \n",
    "print array[0][7]\n",
    "cbar = fig.colorbar(sc)\n",
    "cbar.set_label(label='BBHs O1', fontsize=17)\n",
    "cbar.ax.tick_params(labelsize=17) \n",
    "namesX = r'$ \\rm (log_{10}[O/H]+12)_{\\odot}$'\n",
    "namesY = r'$\\rm Z_{\\odot}$'\n",
    "axes = CV.layoutAxes(axes, namesX, namesY)\n",
    "axes.set_xlim(8.68, 9.11)\n",
    "axes.set_ylim(0.0126, 0.0201)\n",
    "print np.min(array), np.max(array)\n",
    "\n",
    "plt.tight_layout()\n",
    "plt.savefig('./solarValuesV.png')\n",
    "plt.show()"
   ]
  },
  {
   "cell_type": "code",
   "execution_count": null,
   "metadata": {
    "collapsed": true
   },
   "outputs": [],
   "source": []
  }
 ],
 "metadata": {
  "kernelspec": {
   "display_name": "Python 2",
   "language": "python",
   "name": "python2"
  },
  "language_info": {
   "codemirror_mode": {
    "name": "ipython",
    "version": 2
   },
   "file_extension": ".py",
   "mimetype": "text/x-python",
   "name": "python",
   "nbconvert_exporter": "python",
   "pygments_lexer": "ipython2",
   "version": "2.7.12"
  }
 },
 "nbformat": 4,
 "nbformat_minor": 2
}
