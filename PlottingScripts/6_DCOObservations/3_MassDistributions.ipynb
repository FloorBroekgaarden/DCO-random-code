{
 "cells": [
  {
   "cell_type": "markdown",
   "metadata": {},
   "source": [
    "# Setting up Paths"
   ]
  },
  {
   "cell_type": "code",
   "execution_count": 1,
   "metadata": {
    "collapsed": true
   },
   "outputs": [],
   "source": [
    "#path to the data\n",
    "pathCOMPASOutput = '/home/cneijssel/Documents/Projects/Data/CosmicInt/'\n",
    "#path to compasrepo which contains ther popsynth folder\n",
    "pathRepo = '/home/cneijssel/Documents/COMPASpop'\n",
    "pathPostProcessing = '/home/cneijssel/Documents/COMPASpop/popsynth/Papers/NeijsselEtAL/PostProcessing'\n"
   ]
  },
  {
   "cell_type": "markdown",
   "metadata": {},
   "source": [
    "# Imports"
   ]
  },
  {
   "cell_type": "code",
   "execution_count": 2,
   "metadata": {
    "collapsed": true
   },
   "outputs": [],
   "source": [
    "import numpy as np\n",
    "import matplotlib.pyplot as plt\n",
    "import h5py as h5\n",
    "import time\n",
    "import sys\n",
    "import copy\n",
    "#Quick fudge to make import from ../Scripts work\n",
    "import sys\n",
    "sys.path.append(pathRepo + '/popsynth/Papers/NeijsselEtAL/CosmicIntegration/Scripts')\n",
    "sys.path.append(pathPostProcessing+'/2_CosmicIntegration')"
   ]
  },
  {
   "cell_type": "markdown",
   "metadata": {},
   "source": [
    "# Custom Imports from COMPASrepo"
   ]
  },
  {
   "cell_type": "code",
   "execution_count": 3,
   "metadata": {
    "collapsed": false
   },
   "outputs": [],
   "source": [
    "import ClassCosmicIntegrator  as CI #Given settings and redshifts returns rates (2D arrays) Loads the data\n",
    "import ClassEvents            as CE\n",
    "import ClassBayes             as CB\n",
    "import coencodeVarious        as CV\n",
    "\n"
   ]
  },
  {
   "cell_type": "markdown",
   "metadata": {},
   "source": [
    "# The cosmic integrator class"
   ]
  },
  {
   "cell_type": "code",
   "execution_count": 4,
   "metadata": {
    "collapsed": false
   },
   "outputs": [
    {
     "name": "stdout",
     "output_type": "stream",
     "text": [
      "Remember to  self.setCOMPASDCOmask() and self.setCOMPASData()\n",
      "[44.1257 34.6308 31.6234 ... 12.792  23.9426 19.4889]\n"
     ]
    }
   ],
   "source": [
    "#Will only look at BBHs so might as well set everything\n",
    "minz = 0.\n",
    "maxz = 1.\n",
    "resz = 50\n",
    "Data = CI.CosmicIntegrator(COMPASpath = pathCOMPASOutput, DCOtypes='BBH',\\\n",
    "       minRedshift=minz,   maxRedshift=maxz, nrRedshiftBins=resz, optimistic=False, Cosmology='Custom Flat')\n",
    "\n",
    "#I use the custom cosmology because this was the flatlambda prescription used before WMAP Stevenson et al 2019\n",
    "#Doesnt matter to much (between WMAP and \n",
    "#this it is 22, and 22.7 per year) but to prevent redoing all the numbers in the tex for referee\n",
    "\n",
    "print(Data.COMPAS.mass1)"
   ]
  },
  {
   "cell_type": "markdown",
   "metadata": {},
   "source": [
    "# The plot"
   ]
  },
  {
   "cell_type": "code",
   "execution_count": 5,
   "metadata": {
    "collapsed": false
   },
   "outputs": [
    {
     "name": "stdout",
     "output_type": "stream",
     "text": [
      "Preferred model 22.535488870092475\n",
      "Barrett et al. (2018) MSSFR 247.87108065882057\n",
      "Furlong et al. (2015) Single 441.8695636916429\n",
      "Ma et al. (2015) 18.525066725772472\n"
     ]
    }
   ],
   "source": [
    "#The distribution of DCOs as a function of redshift\n",
    "\n",
    "method     = ['logNormal'                ,'MZ_GSMF'                     ,'MZ_GSMF'                      , 'MZ_GSMF']\n",
    "SFRs       = ['Neijssel et al. (2019)'   ,'Madau et al. (2014)'         ,'Madau et al. (2014)'          , 'Madau et al. (2014)']\n",
    "logNormal  = ['Neijssel Phenomenological', None                         , None                          , None]\n",
    "GSMFs      = [None                       , 'Panter et al. (2004) Single', 'Furlong et al. (2015) Single', 'Panter et al. (2004) Single']\n",
    "MZs        = [None                       , 'Langer et al. (2006)'       , 'Langer et al. (2006)'        , 'Ma et al. (2015)']\n",
    "\n",
    "linestyles = ['-'                        , '--'                         , ':'                           , '-.']\n",
    "labels     = ['Preferred model'          , 'Barrett et al. (2018) MSSFR', 'Furlong et al. (2015) Single', 'Ma et al. (2015)']\n",
    "\n",
    "\n",
    "cm       = plt.get_cmap('viridis')\n",
    "nColors  = 3+1  #want three colours for three variations (1 used in other plot later)\n",
    "                    # dont want the brigthest colour hence I add a dummy value.\n",
    "                    #Should be consistent with figure of metallicity PDFs\n",
    "mycolors = [cm(x) for x in np.linspace(0,1 , nColors)]\n",
    "\n",
    "colours  =  [ 'k'                        ,mycolors[0]                   , mycolors[1]                   , mycolors[2]]\n",
    "\n",
    "\n",
    "\n",
    "\n",
    "rates    = []\n",
    "totals   = []\n",
    "for nrL, L in enumerate(labels):\n",
    "    Data.MSSFR.Zprescription         = method[nrL]\n",
    "    Data.MSSFR.SFRprescription       = SFRs[nrL]\n",
    "    Data.MSSFR.logNormalPrescription = logNormal[nrL]\n",
    "    Data.MSSFR.GSMFprescription      = GSMFs[nrL]\n",
    "    Data.MSSFR.ZMprescription        = MZs[nrL]\n",
    "    Data.cosmologicalIntegration()\n",
    "        \n",
    "    \n",
    "    Row        =np.sum(Data.PerSystemPerRedshift_ratesObserved, axis=0)\n",
    "    rates.append(Row)\n",
    "    totals.extend([np.sum(Row)])\n",
    "    print(L, np.sum(Row))"
   ]
  },
  {
   "cell_type": "code",
   "execution_count": 6,
   "metadata": {
    "collapsed": false
   },
   "outputs": [
    {
     "name": "stderr",
     "output_type": "stream",
     "text": [
      "/home/cneijssel/Documents/COMPASpop/popsynth/Papers/NeijsselEtAL/CosmicIntegration/Scripts/ClassEvents.py:59: FutureWarning: Method .as_matrix will be removed in a future version. Use .values instead.\n",
      "  boolean = (self.observations[header[nrc]] == selection).as_matrix()\n",
      "/home/cneijssel/Documents/COMPASpop/popsynth/Papers/NeijsselEtAL/CosmicIntegration/Scripts/ClassEvents.py:66: FutureWarning: Method .as_matrix will be removed in a future version. Use .values instead.\n",
      "  return self.observations['eventName'].as_matrix()[boolSlice],\\\n",
      "/home/cneijssel/Documents/COMPASpop/popsynth/Papers/NeijsselEtAL/CosmicIntegration/Scripts/ClassEvents.py:67: FutureWarning: Method .as_matrix will be removed in a future version. Use .values instead.\n",
      "  self.observations[parameter].as_matrix()[boolSlice],\\\n",
      "/home/cneijssel/Documents/COMPASpop/popsynth/Papers/NeijsselEtAL/CosmicIntegration/Scripts/ClassEvents.py:68: FutureWarning: Method .as_matrix will be removed in a future version. Use .values instead.\n",
      "  self.observations[parameter+'_ll'].as_matrix()[boolSlice],\\\n",
      "/home/cneijssel/Documents/COMPASpop/popsynth/Papers/NeijsselEtAL/CosmicIntegration/Scripts/ClassEvents.py:69: FutureWarning: Method .as_matrix will be removed in a future version. Use .values instead.\n",
      "  self.observations[parameter+'_ul'].as_matrix()[boolSlice],\\\n",
      "/home/cneijssel/Documents/COMPASpop/popsynth/Papers/NeijsselEtAL/CosmicIntegration/Scripts/ClassEvents.py:70: FutureWarning: Method .as_matrix will be removed in a future version. Use .values instead.\n",
      "  self.observations['survey'].as_matrix()[boolSlice]\n"
     ]
    }
   ],
   "source": [
    "##### For each observation (column) we draw a chirpmass with probability gaussian\n",
    "\n",
    "events     = CE.Observations() \n",
    "names, values, lowerErrors, upperErrors, survey =\\\n",
    "events.giveParameterAndError(parameter='Mchirp', types=['BBH'])  \n",
    "\n",
    "\n",
    "draws = 5000\n",
    "arraydraws = np.zeros(shape=(draws, len(names)))\n",
    "\n",
    "\n",
    "Mtot       = Data.COMPAS.mChirp\n",
    "bins       = np.linspace(0,60,250)\n",
    "centerx     = (bins[1:]+bins[:-1])/2.\n",
    "dMtot      = np.diff(bins)\n",
    "gaussians  = []\n",
    "\n",
    "Bayes      = CB.BayesianLikelyhoodSingleObservation(datapoints = Data.COMPAS.mChirp)\n",
    "for nre, event in enumerate(names):\n",
    "    Bayes.setObservation(observation=values[nre], lowerError=lowerErrors[nre], \\\n",
    "                         upperError=upperErrors[nre], confidence=0.9)\n",
    "    Bayes.calculatePDFposterior()\n",
    "    pdf, bins = np.histogram(Bayes._x, bins=bins, weights=Bayes._PDFobservation)\n",
    "    gaussians.append(pdf)\n",
    "    \n",
    "    sigma   = Bayes._sigmaSymmetric\n",
    "    mu      = Bayes._symmetricMu\n",
    "    s = np.random.normal(mu, sigma, draws)\n",
    "    arraydraws[:,nre] = s"
   ]
  },
  {
   "cell_type": "code",
   "execution_count": 7,
   "metadata": {
    "collapsed": false
   },
   "outputs": [
    {
     "data": {
      "image/png": "[encoded data removed]",
      "text/plain": [
       "<Figure size 432x288 with 1 Axes>"
      ]
     },
     "metadata": {
      "needs_background": "light"
     },
     "output_type": "display_data"
    }
   ],
   "source": [
    "###### Turn each PDF into CDF per model\n",
    "\n",
    "chirpMasses     = Data.COMPAS.mChirp\n",
    "indexSortMasses = np.argsort(chirpMasses)\n",
    "sortedMasses    = chirpMasses[indexSortMasses]\n",
    "CDFs            = []\n",
    "for nrM, model in enumerate(labels):\n",
    "    sortedRate  = rates[nrM][indexSortMasses]\n",
    "    CDFs.append(np.cumsum(sortedRate)/float(np.sum(sortedRate)))\n",
    "fig, axes = plt.subplots(1,1)\n",
    "for cdf in CDFs:\n",
    "    axes.plot(sortedMasses, cdf)\n",
    "plt.show()"
   ]
  },
  {
   "cell_type": "code",
   "execution_count": 8,
   "metadata": {
    "collapsed": false
   },
   "outputs": [
    {
     "name": "stdout",
     "output_type": "stream",
     "text": [
      "5000\n"
     ]
    }
   ],
   "source": [
    "def return10Masses(cdf, masses):\n",
    "    #draw number between 0-1\n",
    "    nrdraws = 10\n",
    "    d = np.random.uniform(low=0.0, high=1.0, size=nrdraws)\n",
    "    #find nearest value cdf\n",
    "    indices = np.zeros(nrdraws, dtype=int)\n",
    "    for nrd, draw in enumerate(d):\n",
    "        difference   = np.abs(cdf-draw)\n",
    "        minimum      = np.min(difference)\n",
    "        indices[nrd] = int(np.where(difference == minimum)[0][0])\n",
    "    indices = np.array(indices)\n",
    "    return np.sort(masses[indices])\n",
    "\n",
    "y10draws = np.cumsum(np.ones(10)/np.sum(np.ones(10)))\n",
    "x10draws = []\n",
    "counter  = 0\n",
    "while counter < draws:\n",
    "    masses = return10Masses(CDFs[0], sortedMasses)\n",
    "    x10draws.append(masses)\n",
    "    counter+=1\n",
    "    \n",
    "print(len(x10draws))"
   ]
  },
  {
   "cell_type": "code",
   "execution_count": 9,
   "metadata": {
    "collapsed": false,
    "scrolled": false
   },
   "outputs": [
    {
     "name": "stdout",
     "output_type": "stream",
     "text": [
      "249 249\n",
      "249 249\n",
      "249 249\n",
      "249 249\n",
      "249 249\n",
      "249 249\n",
      "249 249\n",
      "249 249\n",
      "249 249\n",
      "249 249\n"
     ]
    }
   ],
   "source": [
    "fig        = plt.subplots(1,1,figsize=(9,14))\n",
    "ax0        = plt.subplot2grid((6,3),(0,0), colspan=3, rowspan=3)\n",
    "ax1        = plt.subplot2grid((6,3),(3,0), colspan=3, rowspan=3)\n",
    "\n",
    "ax12 = ax1.twinx() #right side bottom panel for cumulative\n",
    "\n",
    "############\n",
    "#  Top panel with MSSFR\n",
    "############\n",
    "Mtot       = Data.COMPAS.mChirp\n",
    "bins       = np.linspace(0,60,100)\n",
    "center     = (bins[1:]+bins[:-1])/2.\n",
    "dMtot      = np.diff(bins)\n",
    "\n",
    "for nrL, L in enumerate(labels):\n",
    "    rate       = rates[nrL]\n",
    "    rate, _    = np.histogram(Mtot, bins=bins, weights = rate)\n",
    "    rate       = np.divide(rate, dMtot)\n",
    "    rate       = rate / np.sum(rate)\n",
    "    label      = labels[nrL]+r' $\\rm \\normalfont [%s \\ yr^{-1}]$' %(int(totals[nrL]))\n",
    "    ax0.plot(center, rate, lw=3.5, c=colours[nrL], label=label, linestyle=linestyles[nrL], alpha=0.85)\n",
    "ax0.get_xaxis().set_visible(False)\n",
    "nameX = r'$  $'\n",
    "nameY = r'$\\rm dP / dM_{chirp} \\ [M_{\\odot}^{-1}]  $'\n",
    "ax0 = CV.layoutAxes(ax0, nameX=nameX, nameY=nameY)\n",
    "ax0.legend(loc=1, prop={'size':16})\n",
    "ax0.set_ylim(top=0.07)\n",
    "\n",
    "\n",
    "##########\n",
    "#\n",
    "#########\n",
    "\n",
    "for nrd  in range(draws):\n",
    "    ax1.plot(x10draws[nrd], y10draws, lw=1., c=colours[0], alpha=.05)\n",
    "###########\n",
    "# Bottom panel with Events\n",
    "###########\n",
    "for nre, event in enumerate(names):\n",
    "    for nrd  in range(draws):\n",
    "        #row is random draw sort them on chirpmass\n",
    "        chirpmasses = np.sort(arraydraws[nrd])\n",
    "        cumulative  = np.cumsum(np.ones(len(chirpmasses)))/float(len(chirpmasses))\n",
    "        ax1.plot(chirpmasses, cumulative, lw=1., c='c', alpha=0.1)\n",
    "        \n",
    "    print(len(centerx), len(gaussians[nre]))\n",
    "    ax12.plot(centerx, gaussians[nre], lw=2., c='c')\n",
    "    \n",
    "#for nrL, L in enumerate(labels):\n",
    "#    rate       = rates[nrL]\n",
    "#    ax1.plot(center, np.cumsum(rate)/float(np.sum(rate)), c=colours[nrL], linestyle=linestyles[nrL],\\\n",
    "#              alpha=0.85,lw=3.5)\n",
    "\n",
    "    \n",
    "ax12.set_xlim(ax0.get_xlim())\n",
    "ax1.set_xlim(ax0.get_xlim())\n",
    "ax1.set_ylim(top=1.01)\n",
    "y = ax1.get_yticks()\n",
    "ax1.set_yticks(y[:-2])\n",
    "ax12.set_ylim(top=0.8)\n",
    "ax12.get_yaxis().set_visible(False)\n",
    "nameX = r'$\\rm M_{chirp}\\ \\ [M_{\\odot}] $'\n",
    "nameY = r'$\\rm CDF $'\n",
    "ax1 = CV.layoutAxes(ax1, nameX=nameX, nameY=nameY)\n",
    "ax12 = CV.layoutAxes(ax12, nameX='', nameY='', second=True)\n",
    "plt.tight_layout()\n",
    "plt.subplots_adjust(wspace=0., hspace=0.0)\n",
    "plt.savefig('./MassDistributionAtRedshiftObs.png', dpi=300, transparent=False)\n",
    "#plt.show()\n",
    "plt.close()"
   ]
  },
  {
   "cell_type": "code",
   "execution_count": null,
   "metadata": {
    "collapsed": true
   },
   "outputs": [],
   "source": []
  },
  {
   "cell_type": "code",
   "execution_count": null,
   "metadata": {
    "collapsed": true
   },
   "outputs": [],
   "source": []
  }
 ],
 "metadata": {
  "kernelspec": {
   "display_name": "Python 3",
   "language": "python",
   "name": "python3"
  },
  "language_info": {
   "codemirror_mode": {
    "name": "ipython",
    "version": 3
   },
   "file_extension": ".py",
   "mimetype": "text/x-python",
   "name": "python",
   "nbconvert_exporter": "python",
   "pygments_lexer": "ipython3",
   "version": "3.5.2"
  }
 },
 "nbformat": 4,
 "nbformat_minor": 2
}
