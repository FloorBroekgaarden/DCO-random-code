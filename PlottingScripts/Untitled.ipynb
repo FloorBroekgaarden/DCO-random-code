{
 "cells": [
  {
   "cell_type": "code",
   "execution_count": 2,
   "metadata": {},
   "outputs": [],
   "source": [
    "from __future__ import print_function\n",
    "\n",
    "import numpy as np\n",
    "import matplotlib.pyplot as plt\n",
    "import h5py as h5\n",
    "import time\n",
    "import sys\n",
    "import copy\n",
    "#Quick fudge to make import from ../Scripts work\n",
    "import sys\n",
    "sys.path.append('/Users/floorbroekgaarden/Projects/BHNS_project/Scripts')\n",
    "\n",
    "from time import sleep\n",
    "from IPython.display import clear_output, display\n",
    "import pandas as pd \n",
    "import string\n",
    "# # sys.path.append(pathPostProcessing+'/2_CosmicIntegration')\n",
    "\n",
    "\n",
    "import ClassCosmicIntegrator  as CI #Given settings and redshifts returns rates (2D arrays) Loads the data\n",
    "# import ClassEvents            as CE\n",
    "# import ClassBayes             as CB\n",
    "import coencodeVarious        as CV\n",
    "from PostProcessingScripts import * \n",
    "\n",
    "\n",
    "BPSmodelName='A'\n",
    "DCOtype='BHNS'\n",
    "\n",
    "if DCOtype=='BHNS':\n",
    "    DCOname='BHNS'\n",
    "elif DCOtype=='BHBH':\n",
    "    DCOname='BBH'\n",
    "elif DCOtype=='NSNS':\n",
    "    DCOname='BNS'\n",
    "\n",
    "\n",
    "# constants\n",
    "Zsolar=0.0142\n",
    "nModels = 15\n",
    "\n",
    "\n",
    "path_dir = '/Volumes/Andromeda/DATA/AllDCO_bugfix/'\n",
    "nModels=15\n",
    "BPSnameslist = list(string.ascii_uppercase)[0:nModels]\n",
    "modelDirList = ['fiducial', 'massTransferEfficiencyFixed_0_25', 'massTransferEfficiencyFixed_0_5', 'massTransferEfficiencyFixed_0_75', \\\n",
    "               'unstableCaseBB', 'alpha0_5', 'alpha2_0', 'fiducial', 'rapid', 'maxNSmass2_0', 'maxNSmass3_0', 'noPISN',  'ccSNkick_100km_s', 'ccSNkick_30km_s', 'noBHkick' ]\n",
    "\n",
    "alphabetDirDict =  {BPSnameslist[i]: modelDirList[i] for i in range(len(BPSnameslist))}\n",
    "\n",
    "\n",
    "\n",
    "#####\n",
    "\n",
    "\n",
    "\n",
    "path_ = path_dir\n",
    "path_ = path_ + alphabetDirDict[BPSmodelName] +'/'\n",
    "path  = path_ + 'COMPASCompactOutput_'+ DCOname +'_' + BPSmodelName + '.h5'\n",
    "\n",
    "\n",
    "fdata = h5.File(path)"
   ]
  },
  {
   "cell_type": "code",
   "execution_count": 7,
   "metadata": {},
   "outputs": [
    {
     "name": "stdout",
     "output_type": "stream",
     "text": [
      "[16.0735 13.9897 11.8315 ... 11.1767 12.5436 12.0486]\n"
     ]
    }
   ],
   "source": [
    "print(fdata['doubleCompactObjects']['tform'][...].squeeze()) # Myr "
   ]
  },
  {
   "cell_type": "code",
   "execution_count": 8,
   "metadata": {},
   "outputs": [],
   "source": [
    "fdata.close()"
   ]
  },
  {
   "cell_type": "code",
   "execution_count": null,
   "metadata": {},
   "outputs": [],
   "source": []
  }
 ],
 "metadata": {
  "kernelspec": {
   "display_name": "Python 2",
   "language": "python",
   "name": "python2"
  },
  "language_info": {
   "codemirror_mode": {
    "name": "ipython",
    "version": 2
   },
   "file_extension": ".py",
   "mimetype": "text/x-python",
   "name": "python",
   "nbconvert_exporter": "python",
   "pygments_lexer": "ipython2",
   "version": "2.7.16"
  }
 },
 "nbformat": 4,
 "nbformat_minor": 2
}
