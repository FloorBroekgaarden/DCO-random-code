{
 "cells": [
  {
   "cell_type": "code",
   "execution_count": 1,
   "metadata": {},
   "outputs": [],
   "source": [
    "# #path to the data\n",
    "# pathCOMPASOutput = '/Volumes/TOSHIBA EXT/black_hole-neutron_star/Fiducial/'\n"
   ]
  },
  {
   "cell_type": "code",
   "execution_count": 2,
   "metadata": {},
   "outputs": [],
   "source": [
    "#Needed in general\n",
    "import numpy as np\n",
    "import matplotlib.pyplot as plt\n",
    "import sys\n",
    "\n",
    "#Quick fudge to make import from ../Scripts work\n",
    "sys.path.append('../../Scripts')\n",
    "\n",
    "#Custom imports\n",
    "import ClassCOMPAS     as CC ###\n",
    "import ClassFormationChannels as FC \n",
    "import coencodeVarious        as CV\n"
   ]
  },
  {
   "cell_type": "markdown",
   "metadata": {},
   "source": [
    "# General Idea"
   ]
  },
  {
   "cell_type": "markdown",
   "metadata": {},
   "source": [
    "The formation of DCos happens through several channels\n",
    "In this notebook we first figure out what the main channels are.\n",
    "And we group their seeds accordingly. This uses the formation channels class\n",
    "and the formation channel printing output of COMPAS.\n",
    "\n",
    "\n",
    "WARNING:\n",
    "\n",
    "During the time of these simulations\n",
    "not all bugs (MS mass transfers). As it happens MS mass transfer is not important for the formation of BHs, but this data set of formation channels might be buggy for other projects such as BeXRBs or LRN.\n",
    "This has been fixed since.\n",
    "Furthermore this simulation did not have later introduced SN types ( (P)PISN). Future implementation of the formation channel output might change and make this notebook outdated. Note that a temporary workaround is to give a list of seeds from PPISN, and a list of seeds without PPISN to differentiate.\n"
   ]
  },
  {
   "cell_type": "markdown",
   "metadata": {
    "collapsed": true
   },
   "source": [
    "The formation channel output gives a line per system in the entire simulation\n",
    "hence reducing /sorting such an array will possibly leave your pc in flames.\n",
    "\n",
    "Hence we only want the channels of systems of interest\n",
    "so we pass the unique seeds we are interested in.\n"
   ]
  },
  {
   "cell_type": "code",
   "execution_count": 3,
   "metadata": {},
   "outputs": [],
   "source": [
    "#all the counts strings and channels are sorted\n",
    "#this function prints the main channels and checks what \n",
    "#percentage of all DCO=type is accounted for\n",
    "def printTopXchannels(x):\n",
    "    maxx = x\n",
    "    i    = 0\n",
    "    totalPercentage = 0.\n",
    "    while i <= maxx:\n",
    "        print 'Nr systems = %s'%(fc.sortedCounts[i])\n",
    "        percentage = fc.sortedCounts[i] / float(np.sum(fc.sortedCounts))\n",
    "        print 'pecentage of all %s' %(percentage)\n",
    "        totalPercentage += percentage\n",
    "        print fc.sortedStrings[i]\n",
    "        i +=1\n",
    "        print 'ssss ', len(fc.sortedCounts)\n",
    "    print 'the above channels account for %s of all systems'  \\\n",
    "    %(totalPercentage)"
   ]
  },
  {
   "cell_type": "markdown",
   "metadata": {},
   "source": [
    "# Get the formation channels and seeds BHNS"
   ]
  },
  {
   "cell_type": "code",
   "execution_count": 5,
   "metadata": {},
   "outputs": [],
   "source": [
    "pathCOMPASOutput='/Volumes/Virgo/DATA/BHNS/Fiducial/'\n",
    "\n",
    "#hdf5 name needs to be: COMPASOutput.h5\n",
    "\n",
    "#If you want to see what steps and class attributes are set -> verbose=True\n",
    "fc = FC.FormationChannels(path = pathCOMPASOutput,verbose=True)"
   ]
  },
  {
   "cell_type": "code",
   "execution_count": null,
   "metadata": {},
   "outputs": [
    {
     "name": "stdout",
     "output_type": "stream",
     "text": [
      "self.booleanFilter \n",
      " Looking up the seeds/systems and creating mask for formation Channels. \n"
     ]
    }
   ],
   "source": [
    "#I dont want to take the merged within Hubble time into account in the formation\n",
    "#channels. meaning if we have two exactly the same channels but one mergers within \n",
    "#Hubble and one doesnt. Techinally this is two different channels.\n",
    "#By adding this column to delete columns we ignore this colum.\n",
    "#Same could be done for stellar types of donors etc\n",
    "# fc.deleteColumns = ['merged_in_Hubble_time'] #/floor\n",
    "\n",
    "# For DCO types I have inbuilt sorter to return seeds\n",
    "# set types argument and leave seeds argument empty (or None)\n",
    "#note that withinHubbleTime and optimistic argument are  only used\n",
    "# when types is given, not for seeds.\n",
    "#Additionally there are the following arguments with their Default:\n",
    "#   withinHubbleTime=True, optimistic=False\n",
    "#Not that optimistic True, or withinHubble = False does not give opposite but all systems\n",
    "fc.formationChannelsSeeds(seeds=None, types='BHNS', withinHubbleTime=True, optimistic=False)\n"
   ]
  },
  {
   "cell_type": "markdown",
   "metadata": {},
   "source": [
    "# I just do the following since I also wanna know their masses. But you can skip this step\n"
   ]
  },
  {
   "cell_type": "code",
   "execution_count": 5,
   "metadata": {},
   "outputs": [
    {
     "name": "stdout",
     "output_type": "stream",
     "text": [
      "weighted samples :-D\n",
      "Remember to  self.setCOMPASDCOmask() adag and self.setCOMPASData()\n",
      "1366530\n",
      "1366530\n"
     ]
    }
   ],
   "source": [
    "\n",
    "\n",
    "Data            = CC.COMPASData(path=pathCOMPASOutput, lazyData=True, Mlower=5., \\\n",
    "                 Mupper=150., binaryFraction=0.7)\n",
    "# print len(Data.mass1[...].squeeze())\n",
    "#     print(len(Data.mass1))\n",
    "Data.setCOMPASDCOmask(types='BHNS',  withinHubbleTime=True, optimistic=False)\n",
    "Data.setCOMPASData()\n",
    "if len(Data.mass1[...].squeeze()):\n",
    "    print(len(Data.mass1))\n",
    "\n",
    "SeedsHubble    = Data.seeds[Data.Hubble==True]\n",
    "print(len(SeedsHubble))"
   ]
  },
  {
   "cell_type": "code",
   "execution_count": null,
   "metadata": {},
   "outputs": [],
   "source": [
    "#weighted samples :-D\n",
    "# Remember to  self.setCOMPASDCOmask() adag and self.setCOMPASData()\n",
    "# 1076538\n",
    "# 1076538 \n",
    "\n",
    "\n",
    "\n",
    "#My channels:\n",
    "\n",
    "# { 'stable A':[1,7,8,12,24,28,35,47,49], 'stable A rejuvenation':[16,19],\\\n",
    "#                     'stable B':[2,3,4,5,6,21,23,27,29,33], 'stable B no CEE':[15,17,42], \\\n",
    "#                     'stable C':[11,20,22,25,32,37,38,39,43],\\\n",
    "#                 r'unstable $\\rightarrow$ CE':[13,18,26,30,45,48],  r'unstable $\\rightarrow$ DCCE':[9,10,14,31,34,36,40,41,44, 46], \\\n",
    "#                     }\n",
    "# SNlucky = [21,25]\n",
    "# dictChannelsBHNS = { 'stable A':[13,22,26], 'stable A rejuvenation':[4,6,15,20,24,29,36,39],\\\n",
    "#                     'stable B':[1,2,3,8,11,16,28,35], 'stable B no CEE':[5,12,23,27,32,34,38], \\\n",
    "#                     'stable C':[9,19,40],\\\n",
    "#                 r'unstable $\\rightarrow$ CE':[17,18,37],  r'unstable $\\rightarrow$ DCCE':[7,10,14,30,31,33,41], \\\n",
    "#                     }\n",
    "# bug channels = "
   ]
  },
  {
   "cell_type": "code",
   "execution_count": null,
   "metadata": {},
   "outputs": [],
   "source": []
  },
  {
   "cell_type": "markdown",
   "metadata": {},
   "source": [
    "# print string formation channel of index channel (index starts at 1, where index=1 is most common channel)"
   ]
  },
  {
   "cell_type": "code",
   "execution_count": 38,
   "metadata": {
    "scrolled": false
   },
   "outputs": [
    {
     "name": "stdout",
     "output_type": "stream",
     "text": [
      " ->mt_primary_ep1 P=EAGB  S=CHeB  ->CEE ->ccSN primary  ->ccSN secondary  -> last type Primary in Form=EAGB  -> last type Secondary in Form=CHeB  -> merged within Hubble=True -> binary disrupted=False\n",
      "I have now accounted for  %s percent 99.05192873519951\n",
      "[3.40495 3.52858 3.21358 3.97842 4.24267 3.91043 3.95582 3.69828 3.2345\n",
      " 3.08277 4.19459 3.96808 2.7092  3.041   2.84594 3.40016 2.84373 3.17336\n",
      " 4.19663 3.48233 3.60375 3.48273 3.11992 2.78793 3.4998  3.27415 4.05583\n",
      " 3.28697 2.67625 3.13494 4.22293 3.13438 3.83716 4.08291 4.19124 4.73182\n",
      " 3.68052 4.01295 4.01377 2.75675 3.66651 4.96323 3.67984 4.04526 3.81036\n",
      " 3.22815 3.37191 3.38516 2.95912 3.91455 3.00363 2.70468 4.20739 2.93664\n",
      " 3.04589 3.92641 3.36358 2.92969 5.70575 3.76166 3.71823 3.64103 3.85876\n",
      " 4.43383 3.37432 3.83544 3.75325 4.90743 3.24663 3.33217 2.92548 2.98811\n",
      " 3.51131 4.638   5.47372 5.51674 3.23365 4.09701 4.29762 2.725   4.0327\n",
      " 3.54102 3.88487 4.04642 2.77942 4.06501 4.39959 3.75934 2.98313 3.29797\n",
      " 3.85425 4.74247 3.67823 5.81291 2.74869 3.50774 4.01037 4.22517 3.36948\n",
      " 3.8179  3.83916 4.29368 3.74975 4.04171 4.07858 4.0849  3.1563  5.55948\n",
      " 3.19075 5.16944 4.06611 4.32059 3.12048 4.19417 3.8773  4.62802 3.88777\n",
      " 2.9631  3.89369 4.06245 3.11448 2.90183 4.65376 2.84482 2.94479 3.97326\n",
      " 3.52457 4.03395 4.84336 5.94408 3.39004 3.88018 3.65699 2.77555 4.8444\n",
      " 3.49831 3.50414 3.61694 3.9683  5.04954 3.02653 3.9376  4.67659 4.63203\n",
      " 4.7842  3.18668 4.36028 3.23206 4.51874 4.23973 4.24406 4.82059 3.87585\n",
      " 5.18381 4.6046  4.45181 4.1687  3.73613 4.10013 4.72554 4.60127 4.38785\n",
      " 4.75833 4.29058 4.17237 3.74943 4.09432 4.27145 2.87408 4.22708 4.90298\n",
      " 2.87933 3.07535 5.3692  5.79793 4.44565 3.93423 3.90346 4.85869 4.46147\n",
      " 3.94888 4.85519 3.91697 4.33039 5.27229 3.13339 3.06681 4.33957 4.85745\n",
      " 5.37445 2.85772 2.98004 3.43825 4.26437 3.09462 4.42643 6.09996 4.23399\n",
      " 3.9386  4.65297 5.77655 3.7767  3.88202 3.80198 3.2949  3.69632 5.03155\n",
      " 4.22572 3.45231 4.49437 4.79576 4.25688 5.73634 4.70641 4.1971  4.08398\n",
      " 3.11105 4.02146 4.19892 4.57539 4.11565 4.64063 4.76895 4.30259 5.38211\n",
      " 3.41538 3.7894  4.59587 4.06784 5.43107 3.70908 4.41556 3.9379  4.72754\n",
      " 5.28912 5.69484 3.13969 3.84237 4.21133 3.80228 2.95799 5.15783 3.92758\n",
      " 2.78824 4.4273  3.60398 4.53673 3.93642 4.73569 4.57391 5.42406 4.4515\n",
      " 3.44175 4.09756 4.2504  4.41332 4.17093 4.96367 4.81839 2.89003 4.48212\n",
      " 4.01503 4.5624  4.04979 3.21363 4.91186 3.90596 3.42916 4.18293 4.38837\n",
      " 3.64993 3.78702 4.5987  5.01466 4.00073 3.77712 3.14193 4.73088 4.92838\n",
      " 5.21289 4.91477 4.07534 3.90429 4.99169 3.48056 4.83434 2.89682 4.04088\n",
      " 3.1072  4.40883 4.23711 3.14362 4.12167 3.75293 4.33902 4.76128 4.85908\n",
      " 5.74585 4.32213 4.11863 4.20242 4.26183 3.76929 4.7201  4.46617 2.97095\n",
      " 3.01225 4.139   4.65274 4.70933 4.8375  4.68849 4.11882 4.32145 5.83802\n",
      " 3.76231 3.34461 4.67881 4.40946 3.94305 3.14049 3.36904 3.68465 2.86464\n",
      " 3.09267 3.51345 4.81775 3.47693 4.02126 3.60671 3.76687 4.31208 4.65686\n",
      " 3.83766 2.94882 4.55353 2.7754  3.85832 3.3579  2.94593 3.16968 4.39188\n",
      " 3.7221  3.87758 3.78273 3.85942 3.30932 4.46982 3.59907 3.23925 2.81824\n",
      " 3.89927 2.74464 5.8066  2.7616  3.57595 2.73076 4.33522 2.87068 5.05089\n",
      " 5.37377 5.61059 3.48524 3.97885 4.49814 5.02378 3.19119 3.63203 4.19533\n",
      " 2.84142 4.8846  4.65026 4.12688 3.97818 4.17566 5.33555 4.32562 4.13837\n",
      " 4.05321 4.20556 4.52212 3.58333 3.37121 4.36364 4.44404 3.90474 2.71645\n",
      " 3.43243 3.04139 3.79456 4.82543 3.3004  2.67364 3.99241 6.09909 2.83199\n",
      " 3.17676 3.67306 3.04496 2.9211  4.51529 3.85741 3.13586 3.91897 4.22103\n",
      " 5.17421 3.10341 3.81211 3.34923 4.57486 3.373   3.75422 3.0672  3.25145\n",
      " 2.88545 3.00786 3.5817  4.59719 4.31183 4.81043 3.86772 3.16165 4.86197\n",
      " 3.68401 3.22652 4.63225 3.50736 2.98881 2.83633 3.02265 3.97944 3.62185\n",
      " 2.93552 4.41391 4.64817 3.98386 4.00382 4.63258 4.32595 4.13681 3.49928\n",
      " 4.35825 3.71599 4.0313  3.90422 3.42458 3.88393 2.89421 3.89018 3.78922\n",
      " 3.81889 3.97321 4.23952 4.10348 5.72618 3.62666 5.23255 3.77653 2.86934\n",
      " 2.8771  5.17996 3.15618 3.22334 3.49909 2.90171 2.67538 2.73908 4.29952\n",
      " 3.88507 4.02545 5.68947 2.79093 3.02456 3.59675 3.37613 3.07536 5.34017\n",
      " 3.8951  2.79398 4.65205 2.67386 4.51732 3.26501 2.85544 4.28633 3.59102\n",
      " 2.73643 4.12519 3.06077 3.01088 4.99039 3.17268 3.03137 4.17868 2.91763\n",
      " 2.90689 2.98578 5.26698 4.4934  3.72728 3.31172 3.31327 3.74158 4.06941\n",
      " 4.11267 4.66116 4.31855 4.73272 3.59111 4.90001 4.43657 3.07922 4.65459\n",
      " 3.19052 3.19752 3.27993 3.64422 5.46611 5.51836 3.08127 3.75826 2.71245\n",
      " 4.19732 3.12553 3.90149 3.50838 3.07034 3.51743 4.04743 4.10344 3.43315\n",
      " 4.29406 4.10125 3.06734 2.82819 2.87389 3.79479 3.18851 3.02613 2.86053\n",
      " 3.09939 3.02845 4.10573 2.96831 3.48258 3.62312 4.31789 3.46988 3.09566\n",
      " 3.03873 4.07898 3.08806 4.45992 3.13464 4.17702 4.49564 4.32231 3.0949\n",
      " 3.314   3.91509 2.87257 3.23789 3.76676 4.05222 2.96808 2.95108 3.81523\n",
      " 3.46316 5.58583 3.81996 3.04705 3.92404 3.66782 3.02825 2.98422 3.45128\n",
      " 4.24543 5.13327 3.70445 3.13127 3.26481 4.69423 3.33932 3.9942  4.16154\n",
      " 3.84046 3.62261 3.01079 3.25142 3.73187 3.26944 3.85729 3.17948 2.73344\n",
      " 3.88464 2.86056 3.85826 4.79068 2.98871 4.10886 4.66487 3.26824 4.01838\n",
      " 5.77447 3.99912 3.95948 2.72758 4.74529 3.26654 3.96263 4.58879 3.16023\n",
      " 2.70123 3.88114 3.25981 3.17252 3.05329 2.84951 3.18604 2.71644 3.17998\n",
      " 2.87459 2.94464 4.1975  3.45168 4.91897 3.74088 3.9713  4.35255 4.09591\n",
      " 3.24967 4.02721 5.48961 3.09435 4.26787 3.45533 3.51132 2.75022 2.94083\n",
      " 3.36102 3.88498 4.26214 2.88103 4.3118  4.49211 4.86194 4.51284 4.59964\n",
      " 3.8229  3.96283 2.73828 4.62125 4.61532 4.22112 3.04565 2.83489 4.03906\n",
      " 3.18231 5.39983 2.73652 2.95889 2.81784 4.06641 4.16337 3.63141 4.45604\n",
      " 4.03241 3.16319 3.0911  3.14266 3.59291 3.45176 4.14541 5.01827 4.14772\n",
      " 2.71031 2.97933 2.85332 4.99683 3.17537 2.88099 4.78012 2.75827 3.60895\n",
      " 2.68778 3.30868 3.48266 2.77771 5.21633 2.71562 3.09718 2.85555 2.98661\n",
      " 3.14978 3.22602 2.85608 3.06846 4.11004 3.81909 3.18192 3.00995 4.53287\n",
      " 2.76616 2.99339 3.90972 4.24965 2.90496 4.33836 3.29809 3.02061 3.22527\n",
      " 3.25264 3.5472  3.48597 2.67655 3.75198 3.32064 3.7795  4.05874 3.36692\n",
      " 2.7119  3.44641 3.33367 2.76016 3.00099 2.83767 2.7711  2.74554 2.86007\n",
      " 2.94522 2.67825 2.78653 3.06153 2.72088 2.89873 2.8226  3.05444 2.74871\n",
      " 2.9764  3.19915 2.7541  2.82928 2.73305 2.86561 2.68    2.78159 2.81929\n",
      " 2.74256]\n",
      "748\n"
     ]
    }
   ],
   "source": [
    "#The method :\n",
    "#Go index by index -> read string and group in cell below the indices\n",
    "#Note some channels do exactlu the #same but one is within Hubble other not, \n",
    "#this is classified as differencce\n",
    "index = 30 #[13,18,26,30,36,40,41,45,46,48]  #[9,10,14,31,34,44] #,18,26,30,36,40,41,45,46,48] #,10,14,31,34,44]\n",
    "index = index-1\n",
    "print fc.sortedStrings[index]\n",
    "\n",
    "print 'I have now accounted for  %s percent', np.sum(fc.sortedCounts[0:index+1])*100 / float(np.sum(fc.sortedCounts))\n",
    "\n",
    "\n",
    "seedsInterest = []\n",
    "seedsInterest.extend(fc.sortedSeeds[index])\n",
    "#         Get metallicity systems this works because seeds in both\n",
    "#         files are in the same order\n",
    "mask = np.in1d(Data.seeds, np.array(seedsInterest))\n",
    "mass1 = Data.mass1[mask]\n",
    "mass2 = Data.mass2[mask]\n",
    "print(mass1)\n",
    "print(len(seedsInterest))\n",
    "\n",
    "# print(len(mass1))"
   ]
  },
  {
   "cell_type": "code",
   "execution_count": null,
   "metadata": {},
   "outputs": [],
   "source": [
    "dictChannelsBHNS = { 'stable A':[13,16,21], 'case B immediate CE':[4,7,17],\\\n",
    "                    'stable B':[1,2,8,9,10,18,29], 'stable B no CEE':[11,12,22], \\\n",
    "                    'stable C':[3,15,25],\\\n",
    "                r'case C immediate CE':[19,23],  r'double-core CE':[5,6,20,24,26],  \\\n",
    "                    'other':[28,30]\\\n",
    "                    }"
   ]
  },
  {
   "cell_type": "code",
   "execution_count": null,
   "metadata": {},
   "outputs": [],
   "source": [
    "# # For set up channels:\n",
    "\n",
    "# # from PostProcessingScripts import * \n",
    "\n",
    "\n",
    "# dictChannelsBHNS = { 'stable A':[10,16,19], 'case B immediate CE':[6,7,20,29],\\\n",
    "#                     'stable B':[1,2,5,9,14,18,25,28], 'stable B no CEE':[8,11,31,], \\\n",
    "#                     'stable C':[4,15,26],\\\n",
    "#                 r'case C immediate CE':[17,21,],  r'double-core CE':[3,12,13,23,24,30],  \\\n",
    "#                     'other':[22, 32,33,34,35,36,37,38,39,40,41, 42, 43, 44, 45, 46, 47, 48, 49, 50, 51, 52, 53, 54, 55, 56, 57, 58, 59, 60, 61, 62, 63, 64, 65, 66, 67, 68, 69, 70, 71, 72, 73, 74, 75, 76, 77, 78, 79, 80, 81, 82, 83, 84, 85, 86, 87, 88, 89,90]\\\n",
    "#                     }\n",
    "# # [0,1,2,3,4,5,6,7]\n",
    "\n",
    "# dictChannelsBHNSList = [ 'stable B', 'stable B no CEE', \\\n",
    "#                     'case B immediate CE','stable C',\\\n",
    "#                     r'case C immediate CE', \n",
    "#                     'stable A', \\\n",
    "#                  r'double-core CE', 'other']\n",
    "\n",
    "\n",
    "# allchannels = np.asarray(range(136)) +1\n",
    "# new_list = allchannels\n",
    "# for _, Ch_name in enumerate(dictChannelsBHNSList):\n",
    "#     channel_list = dictChannelsBHNS[Ch_name]\n",
    "\n",
    "    \n",
    "#     new_list = [nr for nr in  new_list if nr not in channel_list]\n",
    "# print new_list"
   ]
  },
  {
   "cell_type": "code",
   "execution_count": 42,
   "metadata": {},
   "outputs": [
    {
     "name": "stdout",
     "output_type": "stream",
     "text": [
      "[31, 32, 33, 34, 35, 36, 37, 38, 39, 40, 41, 42, 43, 44, 45, 46, 47, 48, 49, 50, 51, 52, 53, 54, 55, 56, 57, 58, 59, 60, 61, 62, 63, 64, 65, 66, 67, 68, 69, 70, 71, 72, 73, 74, 75, 76, 77, 78, 79, 80, 81, 82, 83, 84, 85]\n"
     ]
    }
   ],
   "source": [
    "dictChannelsBHNS = { 'stable A':[13,16,21], 'case B immediate CE':[4,7,17],\\\n",
    "                    'stable B':[1,2,8,9,10,18,29], 'stable B no CEE':[11,12,22], \\\n",
    "                    'stable C':[3,15,25],\\\n",
    "                r'case C immediate CE':[19,23],  r'double-core CE':[5,6,14,20,24,26,27],  \\\n",
    "                    'other':[28,30]\\\n",
    "                    }\n",
    "\n",
    "dictChannelsBHNSList = [ 'stable B', 'stable B no CEE', \\\n",
    "                    'case B immediate CE','stable C',\\\n",
    "                    r'case C immediate CE', \n",
    "                    'stable A', \\\n",
    "                 r'double-core CE', 'other']\n",
    "\n",
    "\n",
    "\n",
    "allchannels = np.asarray(range(85)) +1\n",
    "new_list = allchannels\n",
    "for _, Ch_name in enumerate(dictChannelsBHNSList):\n",
    "    channel_list = dictChannelsBHNS[Ch_name]\n",
    "\n",
    "    \n",
    "    new_list = [nr for nr in  new_list if nr not in channel_list]\n",
    "print new_list\n",
    "\n",
    "\n",
    "\n",
    "dictChannelsBHNS = { 'stable A':[13,16,21], 'case B immediate CE':[4,7,17],\\\n",
    "                    'stable B':[1,2,8,9,10,18,29], 'stable B no CEE':[11,12,22], \\\n",
    "                    'stable C':[3,15,25],\\\n",
    "                r'case C immediate CE':[19,23],  r'double-core CE':[5,6,14,20,24,26,27],  \\\n",
    "                    'other':[28,30,31, 32, 33, \\\n",
    "                             34, 35, 36, 37, 38, 39, 40, 41, 42, 43, 44, 45, 46, 47, 48, 49,\\\n",
    "                             50, 51, 52, 53, 54, 55, 56, 57, 58, 59, 60, 61, 62, 63, 64, 65,\\\n",
    "                             66, 67, 68, 69, 70, 71, 72, 73, 74, 75, 76, 77, 78, 79, 80, 81, 82, 83, 84, 85]\\\n",
    "                    }"
   ]
  },
  {
   "cell_type": "code",
   "execution_count": null,
   "metadata": {},
   "outputs": [],
   "source": []
  },
  {
   "cell_type": "code",
   "execution_count": null,
   "metadata": {},
   "outputs": [],
   "source": []
  },
  {
   "cell_type": "code",
   "execution_count": null,
   "metadata": {},
   "outputs": [],
   "source": []
  },
  {
   "cell_type": "code",
   "execution_count": null,
   "metadata": {},
   "outputs": [],
   "source": [
    "\n",
    "# dictChannelsBHNSList = [ 'stable B', 'stable B no CEE', \\\n",
    "#                     'case B immediate CE','stable C',\\\n",
    "#                     r'case C immediate CE', \n",
    "#                     'stable A', \\\n",
    "#                  r'double-core CE', 'other']"
   ]
  },
  {
   "cell_type": "code",
   "execution_count": null,
   "metadata": {},
   "outputs": [],
   "source": [
    "# dictChannelsBHNS = { 'stable A':[10,16,19], 'case B immediate CE':[6,7,20,29],\\\n",
    "#                     'stable B':[1,2,5,9,14,18,25,28], 'stable B no CEE':[8,11,31,], \\\n",
    "#                     'stable C':[4,15,26],\\\n",
    "#                 r'case C immediate CE':[17,21],  r'double-core CE':[3,12,13,23,24,27,30],  \\\n",
    "#                     'other':[22, 32,33,34,35,36,37,38,39,40,41, 42, 43, 44, 45, 46, 47, 48, 49, 50, 51, 52, 53, 54, 55, 56, 57, 58, 59, 60, 61, 62, 63, 64, 65, 66, 67, 68, 69, 70, 71, 72, 73, 74, 75, 76, 77, 78, 79, 80, 81, 82, 83, 84, 85, 86, 87, 88, 89]\\\n",
    "#                     }"
   ]
  },
  {
   "cell_type": "code",
   "execution_count": 44,
   "metadata": {},
   "outputs": [
    {
     "name": "stdout",
     "output_type": "stream",
     "text": [
      "--------------------\n",
      "[ 0  1  7  8  9 17 28]\n",
      "at channel stable B \n",
      "this channel contributes 69.36097409561076 percent\n",
      "this channel has 1219699  systems\n",
      "--------------------\n",
      "[10 11 21]\n",
      "at channel stable B no CEE \n",
      "this channel contributes 4.402510665162931 percent\n",
      "this channel has 16257  systems\n",
      "--------------------\n",
      "[ 3  6 16]\n",
      "at channel case B immediate CE \n",
      "this channel contributes 7.162940255621381 percent\n",
      "this channel has 33790  systems\n",
      "--------------------\n",
      "[ 2 14 24]\n",
      "at channel stable C \n",
      "this channel contributes 5.073978757380075 percent\n",
      "this channel has 24368  systems\n",
      "--------------------\n",
      "[18 22]\n",
      "at channel case C immediate CE \n",
      "this channel contributes 0.9776723378536865 percent\n",
      "this channel has 2629  systems\n",
      "--------------------\n",
      "[12 15 20]\n",
      "at channel stable A \n",
      "this channel contributes 3.0328906069427157 percent\n",
      "this channel has 9156  systems\n",
      "--------------------\n",
      "[ 4  5 13 19 23 25 26]\n",
      "at channel double-core CE \n",
      "this channel contributes 8.693686707605638 percent\n",
      "this channel has 57492  systems\n",
      "--------------------\n",
      "[27 29 30 31 32 33 34 35 36 37 38 39 40 41 42 43 44 45 46 47 48 49 50 51\n",
      " 52 53 54 55 56 57 58 59 60 61 62 63 64 65 66 67 68 69 70 71 72 73 74 75\n",
      " 76 77 78 79 80 81 82 83 84]\n",
      "at channel other \n",
      "this channel contributes 1.2953465738228118 percent\n",
      "this channel has 3139  systems\n",
      "Done\n",
      "()\n",
      "tot frac = 100.0, tot N = 1366530\n"
     ]
    }
   ],
   "source": [
    "#The method :\n",
    "#Go index by index -> read string and group in cell below the indices\n",
    "#Note some channels do exactlu the #same but one is within Hubble other not, \n",
    "#this is classified as differencce\n",
    "\n",
    "totFract = 0\n",
    "totN = 0\n",
    "for _, Ch_name in enumerate(dictChannelsBHNSList):\n",
    "    channel_list = dictChannelsBHNS[Ch_name]\n",
    "\n",
    "    print('--------------------')\n",
    "    index = channel_list #[7,10,14,30,31,33,41]#[9,10,14,31,34,36,40,41,44, 46] #[11,20,22,25,32,37,38,39,43]\n",
    "\n",
    "\n",
    "    indices = np.asarray(index)-1\n",
    "    print(indices)\n",
    "    # print fc.sortedStrings[index]\n",
    "    sumpercent = 0\n",
    "    Ncount = 0 \n",
    "    for ind, ind_indices in enumerate(indices):\n",
    "        sumpercent+= (fc.sortedCounts[ind_indices])*100 / float(np.sum(fc.sortedCounts))\n",
    "\n",
    "        seedsInterest = []\n",
    "        seedsInterest.extend(fc.sortedSeeds[ind_indices])\n",
    "        #         Get metallicity systems this works because seeds in both\n",
    "        #         files are in the same order\n",
    "        mask = np.in1d(Data.seeds, np.array(seedsInterest))\n",
    "        mass1 = Data.mass1[mask]\n",
    "        mass2 = Data.mass2[mask]    \n",
    "\n",
    "        if len(mass1):\n",
    "            Ncount += len(mass1)\n",
    "    \n",
    "    print('at channel %s '%Ch_name)\n",
    "    print 'this channel contributes %s percent'%sumpercent\n",
    "    print 'this channel has %s  systems'%Ncount\n",
    "    totFract+= sumpercent\n",
    "    totN+=Ncount\n",
    "print('Done')\n",
    "print()\n",
    "print('tot frac = %s, tot N = %s'%(totFract,totN))\n",
    "\n",
    "# seedsInterest.extend(fc.sortedSeeds[index])\n",
    "#         Get metallicity systems this works because seeds in both\n",
    "#         files are in the same order\n",
    "# mask = np.in1d(Data.seeds, np.array(seedsInterest))\n",
    "# mass1 = Data.mass1[mask]\n",
    "# print(mass1)\n",
    "\n"
   ]
  },
  {
   "cell_type": "markdown",
   "metadata": {},
   "source": [
    "# TESTS FOR BUG BH/NS mass"
   ]
  },
  {
   "cell_type": "code",
   "execution_count": null,
   "metadata": {},
   "outputs": [],
   "source": [
    "#Because some parts in the FC channels class get appended  (form strings)\n",
    "#it is better to reset the class partially\n",
    "fc.resetResults()\n",
    "fc.formationChannelsSeeds(seeds=None, types='BHNS', withinHubbleTime=False)\n",
    "Data            = CC.COMPASData(path=pathCOMPASOutput, lazyData=True, Mlower=5., \\\n",
    "                 Mupper=150., binaryFraction=0.7)\n",
    "Data.setCOMPASDCOmask(types='BHNS',  withinHubbleTime=False, optimistic=False)\n",
    "Data.setCOMPASData()\n",
    "SeedsHubble    = Data.seeds[Data.Hubble==False]"
   ]
  },
  {
   "cell_type": "code",
   "execution_count": null,
   "metadata": {},
   "outputs": [],
   "source": []
  },
  {
   "cell_type": "code",
   "execution_count": null,
   "metadata": {},
   "outputs": [],
   "source": [
    "\n",
    "\n",
    "#The method :\n",
    "#Go index by index -> read string and group in cell below the indices\n",
    "#Note some channels do exactlu the #same but one is within Hubble other not, \n",
    "#this is classified as differencce\n",
    "index = range(89) #[9,10,14,31,34,36,40,41,44, 46] #[11,20,22,25,32,37,38,39,43]\n",
    "# Single CE [13,18,26,30,36,40,41,45,46,48]\n",
    "# DCCE[9,10,14,31,34,44]\n",
    "# stab;e case B = [2,3,4,5,6,21,23,27,29,33] + [11,20,22,25,32,37,38,39,43] + [15,17,42]\n",
    "# case A [1,7,8,12,24,28,35,47,49] + [16,19]\n",
    "indices = np.asarray(index)\n",
    "# print fc.sortedStrings[index]\n",
    "sumpercent = 0\n",
    "sumall=0\n",
    "for ind, ind_indices in enumerate(indices):\n",
    "    seedsInterest.extend(fc.sortedSeeds[ind_indices])\n",
    "\n",
    "    \n",
    "    sumpercent+= (fc.sortedCounts[ind_indices])*100 / float(np.sum(fc.sortedCounts))\n",
    "    \n",
    "    \n",
    "    \n",
    "print 'this channel contributes %s percent'%sumpercent\n",
    "\n",
    "\n",
    "\n",
    "# seedsInterest.extend(fc.sortedSeeds[index])\n",
    "#         Get metallicity systems this works because seeds in both\n",
    "#         files are in the same order\n",
    "# mask = np.in1d(Data.seeds, np.array(seedsInterest))\n",
    "# mass1 = Data.mass1[mask]\n",
    "# print(mass1)\n",
    "\n",
    "\n"
   ]
  },
  {
   "cell_type": "code",
   "execution_count": null,
   "metadata": {},
   "outputs": [],
   "source": []
  },
  {
   "cell_type": "code",
   "execution_count": null,
   "metadata": {},
   "outputs": [],
   "source": [
    "{ 'stable A':[1,7,8,12,24,28,35,47,49], 'stable A rejuvenation':[16,19],\\\n",
    "                    'stable B':[2,3,4,5,6,21,23,27,29,33], 'stable B no CEE':[15,17,42], \\\n",
    "                    'stable C':[11,20,22,25,32,37,38,39,43],\\\n",
    "                r'unstable $\\rightarrow$ CE':[13,18,26,30,45,48],  r'unstable $\\rightarrow$ DCCE':[9,10,14,31,34,36,40,41,44, 46], \\\n",
    "                    }\n",
    "\n",
    "\n",
    "dictChannelsNSorBHfirst{'BH-NS':[2,3,6,10,11,13,14,15,17,18,20,21,22,23,25,26,27], 'NS-BH':[1,4,5,7,8,9,12,16,19,24]}\n",
    "\n",
    "allchannels = range(136)\n",
    "\n",
    "# dictChannelsBHNS{'classic CaseB':[2,3,4,5,6,20,21], 'classic caseA':[1,8,12], \\\n",
    "#                 'double core CE':[9,10,14], 'unstable caseC':[11,13, 18,26,30,36], 'no CEE':[15, 17], \\\n",
    "#                'caseA rejuvenation':[16, 19], 'classic caseC':[7,20]}\n",
    "\n",
    "\n"
   ]
  },
  {
   "cell_type": "code",
   "execution_count": null,
   "metadata": {},
   "outputs": [],
   "source": []
  },
  {
   "cell_type": "markdown",
   "metadata": {
    "collapsed": true
   },
   "source": [
    "# Same but now for BNS"
   ]
  },
  {
   "cell_type": "code",
   "execution_count": null,
   "metadata": {},
   "outputs": [],
   "source": [
    "#Because some parts in the FC channels class get appended  (form strings)\n",
    "#it is better to reset the class partially\n",
    "fc.resetResults()\n",
    "fc.formationChannelsSeeds(seeds=None, types='BNS', withinHubbleTime=False)\n",
    "\n",
    "\n"
   ]
  },
  {
   "cell_type": "code",
   "execution_count": null,
   "metadata": {},
   "outputs": [],
   "source": []
  },
  {
   "cell_type": "code",
   "execution_count": null,
   "metadata": {},
   "outputs": [],
   "source": [
    "print fc.sortedStrings[15]\n",
    "\n",
    "print 'I have now accounted for %s percent', np.sum(fc.sortedCounts[0:15]) / float(np.sum(fc.sortedCounts))\n",
    "seedsInterest = []\n",
    "seedsInterest.extend(fc.sortedSeeds[index])\n",
    "        #Get metallicity systems this works because seeds in both\n",
    "        #files are in the same order\n",
    "mask = np.in1d(Data.seeds, np.array(seedsInterest))\n",
    "mass1 = Data.mass1[mask]\n",
    "print mass1"
   ]
  },
  {
   "cell_type": "code",
   "execution_count": null,
   "metadata": {},
   "outputs": [],
   "source": [
    "dictRank = {'double Core CEE + double stripped MT + ultrastripped':[0,1],    'Classic + ultra stripped':[2,3,8,14],\\\n",
    "            'double core CEE + ultra stripped':[4,5], 'Classic ':[6,7,10],\\\n",
    "            'double Core CEE + double stripped MT':[9,11],   'double Core CEE':[12,13]}\n",
    "# EAGB/CHeB - CHeB -> CEE -> HeHG- HeMS  -> SN -> NS-HeHG -> SN -> BNS\n",
    "doubleCore2MT        = [0,1]\n",
    "#HG-MS -> SN -> NS-CHeB/EAGB ->CEE -> NS-HeHG -> SN ->BNS  #different SN types\n",
    "ClassicUltrastrip    = [2,3,8,14]  #2 SN1 =ECSN, 3 SN1=CCSN, 8 SN1= ECSN\n",
    "#EAG/CHeB-CHeB -> CEE -> SN -> NS-HeHG ->SN\n",
    "doubleCoreUltrastrip = [4,5]\n",
    "#HG-MS -> SN -> NS-CHeB/EAGB ->CEE -> SN ->BNS  #different SN types\n",
    "classic              = [6,7,10] #6 SN1=ECSN , 7 1SN=CCSN  , 10 SN1=ECSN\n",
    "#CHeCHeB -> CEE -> HeHG-HeMS -> SN  -> SN\n",
    "doubleCoredUltraOntoStripped = [9,11]\n",
    "#EAGB CHeB -> CEE -> SN->SN\n",
    "doubleCore   =[12,13]"
   ]
  },
  {
   "cell_type": "code",
   "execution_count": null,
   "metadata": {},
   "outputs": [],
   "source": [
    "# Get the formation channels and Seeds BHNS"
   ]
  },
  {
   "cell_type": "code",
   "execution_count": null,
   "metadata": {},
   "outputs": [],
   "source": [
    "#Because some parts in the FC channels class get appended  (form strings)\n",
    "#it is better to reset the class partially\n",
    "#fc.resetResults()\n",
    "#fc.formationChannelsSeeds(seeds=None, types='BHNS')"
   ]
  },
  {
   "cell_type": "code",
   "execution_count": null,
   "metadata": {},
   "outputs": [],
   "source": [
    "#printTopXchannels(18)"
   ]
  },
  {
   "cell_type": "code",
   "execution_count": null,
   "metadata": {},
   "outputs": [],
   "source": []
  }
 ],
 "metadata": {
  "kernelspec": {
   "display_name": "Python 2",
   "language": "python",
   "name": "python2"
  },
  "language_info": {
   "codemirror_mode": {
    "name": "ipython",
    "version": 2
   },
   "file_extension": ".py",
   "mimetype": "text/x-python",
   "name": "python",
   "nbconvert_exporter": "python",
   "pygments_lexer": "ipython2",
   "version": "2.7.16"
  }
 },
 "nbformat": 4,
 "nbformat_minor": 2
}
