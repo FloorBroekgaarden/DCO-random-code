{
 "cells": [
  {
   "cell_type": "code",
   "execution_count": 1,
   "metadata": {},
   "outputs": [],
   "source": [
    "#path to the data\n",
    "pathCOMPASOutput = '/Volumes/TOSHIBA EXT/BHNS_all_in/Fiducial/'\n"
   ]
  },
  {
   "cell_type": "code",
   "execution_count": 2,
   "metadata": {},
   "outputs": [],
   "source": [
    "#Needed in general\n",
    "import numpy as np\n",
    "import matplotlib.pyplot as plt\n",
    "import sys\n",
    "import h5py as h5\n",
    "import gc\n",
    "#Quick fudge to make import from ../Scripts work\n",
    "sys.path.append('../../Scripts')\n",
    "\n",
    "#Custom imports\n",
    "import ClassFormationChannels as FC \n",
    "import coencodeVarious        as CV\n",
    "import ClassCOMPAS            as CC"
   ]
  },
  {
   "cell_type": "markdown",
   "metadata": {},
   "source": [
    "# General Idea"
   ]
  },
  {
   "cell_type": "markdown",
   "metadata": {},
   "source": [
    "96 percent of the BBHs form through three distinct channels.\n",
    "In this notebook we will go through the steps of the birth of the binaries until the moment they merge as BBHs. We will asses what fractions of all systems drop out at which steps.\n",
    "\n",
    "In previous git versions you can find a compiled approach\n",
    "to the fractions in Appendix_fractions. Would be nice experimental code\n",
    "t formalise. However for clarity I do it explicitly here\n",
    "\n",
    "We start by gathering the seeds of the three channels and printing them as a reminder\n",
    "\n",
    "\n",
    "WARNING:\n",
    "\n",
    "This notebook takes long to run for my simulation of 90million binaries. I used a laptop with 8GB ram and it worked but struggled\n",
    "a bit. Run at own risk \n"
   ]
  },
  {
   "cell_type": "markdown",
   "metadata": {},
   "source": [
    "# Get the seeds of interest"
   ]
  },
  {
   "cell_type": "markdown",
   "metadata": {},
   "source": [
    "Based on discussions with Ilya we chose to give the formation channels at a specific metallicity.\n",
    "We chose tenth of solar.\n"
   ]
  },
  {
   "cell_type": "code",
   "execution_count": 3,
   "metadata": {},
   "outputs": [
    {
     "name": "stdout",
     "output_type": "stream",
     "text": [
      "Remember to  self.setCOMPASDCOmask() and self.setCOMPASData()\n"
     ]
    }
   ],
   "source": [
    "#But I want only within Hubble time \n",
    "Data            = CC.COMPASData(path=pathCOMPASOutput, lazyData=True, Mlower=5., \\\n",
    "                 Mupper=150., binaryFraction=0.7)\n",
    "Data.setCOMPASDCOmask(types='BBH',  withinHubbleTime=True, optimistic=False)\n",
    "Data.setCOMPASData()\n",
    "#only want to look at "
   ]
  },
  {
   "cell_type": "code",
   "execution_count": 4,
   "metadata": {},
   "outputs": [
    {
     "name": "stdout",
     "output_type": "stream",
     "text": [
      "[ 0.0001      0.00012196  0.00014873  0.00018139  0.00022122  0.00026979\n",
      "  0.00032903  0.00040128  0.00048939  0.00059685  0.00072789  0.00088772\n",
      "  0.00108264  0.00132035  0.00161026  0.00196383  0.00239503  0.0029209\n",
      "  0.00356225  0.00434441  0.00529832  0.00646167  0.00788046  0.00961078\n",
      "  0.011721    0.0142946   0.0174333   0.0212611   0.0259294 ]\n",
      "12850\n"
     ]
    }
   ],
   "source": [
    "#what are the metallicities in terms of solar?\n",
    "solar   = 0.0142\n",
    "print np.unique(Data.metallicitySystems)\n",
    "metallicityInterest = 0.00132035\n",
    "#closest metallicity to tenth solar = 0.00132035\n",
    "#give me the seeds of BBH mergers that have this metallicity\n",
    "maskZ   = Data.metallicitySystems ==  metallicityInterest\n",
    "seedsInterest = Data.seeds[maskZ]\n",
    "print len(seedsInterest)\n"
   ]
  },
  {
   "cell_type": "markdown",
   "metadata": {},
   "source": [
    "# Percentage interacting"
   ]
  },
  {
   "cell_type": "code",
   "execution_count": 5,
   "metadata": {},
   "outputs": [
    {
     "name": "stdout",
     "output_type": "stream",
     "text": [
      "(43556497,) (34992084,)\n",
      "of all seeds 51.7132666667 percent experiencedMT\n"
     ]
    },
    {
     "data": {
      "text/plain": [
       "0"
      ]
     },
     "execution_count": 5,
     "metadata": {},
     "output_type": "execute_result"
    }
   ],
   "source": [
    "#The first step is to look at the number of systems interacting at this metallicity\n",
    "#at the time of simulating RLOF and CEE printing was not robust yet\n",
    "# to catch all the systems. Some MS and touching systems might\n",
    "#not be there but should not be too many\n",
    "\n",
    "#precentage interacting systems the systems?\n",
    "#What were all the systems at metallicity Z?\n",
    "f          = h5.File(pathCOMPASOutput+'COMPASOutput.h5')\n",
    "maskZ      = f['systems']['Metallicity1'][...].squeeze() == metallicityInterest\n",
    "allSeedsZ  = f['systems']['SEED'][...].squeeze()[maskZ]\n",
    "normalisation = float(len(allSeedsZ))\n",
    "#which seeds are interacting (Z doesnt matter)\n",
    "RLOFseeds  = np.unique(f['RLOF']['randomSeed'][...].squeeze())\n",
    "CEEseeds   = np.unique(f['commonEnvelopes']['randomSeed'][...].squeeze())\n",
    "print RLOFseeds.shape, CEEseeds.shape\n",
    "InteractingSeeds = np.unique(np.concatenate((RLOFseeds, CEEseeds)))\n",
    "\n",
    "\n",
    "#Which of the Seeds in SeedsZ are interacting?\n",
    "boolInteracting  = np.in1d(allSeedsZ, InteractingSeeds)\n",
    "print 'of all seeds %s percent experiencedMT'\\\n",
    "    %((np.sum(boolInteracting)/normalisation)*100)\n",
    "#from here on we use the seedsOf interest to do the next step in the formation channel\n",
    "seedsInterest = allSeedsZ[boolInteracting]    \n",
    "#these arrays are long delete and clear memory\n",
    "del maskZ\n",
    "del allSeedsZ\n",
    "del CEEseeds\n",
    "del RLOFseeds\n",
    "del boolInteracting\n",
    "del InteractingSeeds\n",
    "#garbage collect forces deleted arrays to clear from memory\n",
    "gc.collect()\n",
    "\n"
   ]
  },
  {
   "cell_type": "markdown",
   "metadata": {},
   "source": [
    "# First moment of mass Transfer"
   ]
  },
  {
   "cell_type": "code",
   "execution_count": 6,
   "metadata": {},
   "outputs": [
    {
     "data": {
      "text/plain": [
       "0"
      ]
     },
     "execution_count": 6,
     "metadata": {},
     "output_type": "execute_result"
    }
   ],
   "source": [
    "# During this research the RLOF printing was very much in development\n",
    "# This means that some output such as the x-th moment of RLOF was \n",
    "# not robust (yet). Hence we use a clever trick with the seeds\n",
    "# Credits  idea to J.W.Barrett, made it more general to get not only\n",
    "# firt RLOF per system but x-th. Snipper is in coencodeVarious.cp\n",
    "\n",
    "#carefull the cosmicInt simulation is large and this will \n",
    "#take a lot of RAM-memory - be patient and hope (fingerscrossed)\n",
    "#array of 90.000.000 for allSeeds RLOF possibly more for RLOF\n",
    "#close other windows :O X'(\n",
    "\n",
    "#UPDATE we only want of metallicity Z\n",
    "RLOFseeds   = f['RLOF']['randomSeed'][...].squeeze()\n",
    "RLOF_Z_MASK = np.in1d(RLOFseeds,seedsInterest)\n",
    "\n",
    "# dont care about 4th and 5th moment etc will take longer to\n",
    "# calculate those\n",
    "nthMoment   = CV.getXmomentOfMT(RLOFseeds, maxCounter=3)\n",
    "del RLOFseeds\n",
    "gc.collect()"
   ]
  },
  {
   "cell_type": "code",
   "execution_count": 7,
   "metadata": {},
   "outputs": [
    {
     "name": "stdout",
     "output_type": "stream",
     "text": [
      "[u'EccentricityPostCEE', u'EccentricityPreCEE', u'SemiMajorAxisPostCEE', u'SemiMajorAxisPreCEE', u'alphaCE', u'bEFixed1', u'bEFixed2', u'bEKruckow1', u'bEKruckow2', u'bELoveridge1', u'bELoveridge2', u'bELoveridgeWinds1', u'bELoveridgeWinds2', u'bENanjing1', u'bENanjing2', u'bindingEnergy1', u'bindingEnergy2', u'counterCEE', u'finalType1', u'finalType2', u'lambda1', u'lambda2', u'lambdaFixed1', u'lambdaFixed2', u'lambdaKruckow1', u'lambdaKruckow2', u'lambdaLoveridge1', u'lambdaLoveridge2', u'lambdaLoveridgeWinds1', u'lambdaLoveridgeWinds2', u'lambdaNanjing1', u'lambdaNanjing2', u'mass1', u'mass1ZAMS', u'mass2', u'mass2ZAMS', u'massCore1', u'massCore2', u'massEnvelope1', u'massEnvelope2', u'massTransferTrackerHistory', u'optimisticCommonEnvelopeFlag', u'radius1', u'radius1AfterStripping', u'radius2', u'radius2AfterStripping', u'randomSeed', u'rocheLobe1to2PostCEE', u'rocheLobe1to2PreCEE', u'rocheLobe2to1PostCEE', u'rocheLobe2to1PreCEE', u'stellarMerger', u'time', u'type1', u'type2']\n"
     ]
    }
   ],
   "source": [
    "print f['commonEnvelopes'].keys()"
   ]
  },
  {
   "cell_type": "markdown",
   "metadata": {},
   "source": [
    "# Classic Channel "
   ]
  },
  {
   "cell_type": "code",
   "execution_count": 8,
   "metadata": {},
   "outputs": [
    {
     "name": "stdout",
     "output_type": "stream",
     "text": [
      "post MS primar onto MS secondary \n",
      "of interacting systems 49.2590666667 percentage\n"
     ]
    },
    {
     "data": {
      "text/plain": [
       "0"
      ]
     },
     "execution_count": 8,
     "metadata": {},
     "output_type": "execute_result"
    }
   ],
   "source": [
    "# percentage of systems post MS primaries\n",
    "# MS transfering onto MS secondary  (channel 1 and 2)\n",
    "donorPostMS = ((f['RLOF']['type1Prev'][...].squeeze() >1) &\\\n",
    "              (f['RLOF']['type1Prev'][...].squeeze() <7))[RLOF_Z_MASK]\n",
    "companionMS = ((f['RLOF']['type2Prev'][...].squeeze() == 1) |\\\n",
    "              (f['RLOF']['type2Prev'][...].squeeze() == 0))[RLOF_Z_MASK]\n",
    "primary     = (f['RLOF']['flagRLOF1'][...].squeeze() == True)[RLOF_Z_MASK]\n",
    "firstMoment = (nthMoment == 1)[RLOF_Z_MASK]\n",
    "\n",
    "maskInterest      = [donorPostMS & companionMS & firstMoment & primary]\n",
    "seedsRemain       = f['RLOF']['randomSeed'][...].squeeze()[RLOF_Z_MASK][maskInterest]\n",
    "nrSystemsInterest = len(seedsRemain)\n",
    "print \"post MS primar onto MS secondary \"\n",
    "print \"of interacting systems %s percentage\"\\\n",
    "      %((nrSystemsInterest/normalisation)*100)\n",
    "del donorPostMS\n",
    "del companionMS\n",
    "del firstMoment\n",
    "del primary\n",
    "del maskInterest\n",
    "gc.collect()\n"
   ]
  },
  {
   "cell_type": "code",
   "execution_count": 9,
   "metadata": {},
   "outputs": [
    {
     "name": "stdout",
     "output_type": "stream",
     "text": [
      "percentage stable after 1st MT = 23.0556333333\n"
     ]
    },
    {
     "data": {
      "text/plain": [
       "0"
      ]
     },
     "execution_count": 9,
     "metadata": {},
     "output_type": "execute_result"
    }
   ],
   "source": [
    "# test the number of stable mass transfers.\n",
    "donorPostMS = ((f['commonEnvelopes']['type1'][...].squeeze() >1) &\\\n",
    "              (f['commonEnvelopes']['type1'][...].squeeze() <7))\n",
    "companionMS = (f['commonEnvelopes']['type2'][...].squeeze() == 1) |\\\n",
    "              (f['commonEnvelopes']['type2'][...].squeeze() == 0)\n",
    "seeds        = np.in1d(f['commonEnvelopes']['randomSeed'][...].squeeze(), seedsRemain)\n",
    "maskInterest = donorPostMS & companionMS & seeds\n",
    "seedsCEE    = f['commonEnvelopes']['randomSeed'][...].squeeze()\\\n",
    "                                [maskInterest]\n",
    "seedsRemain = seedsRemain[np.logical_not(np.in1d(seedsRemain, seedsCEE))]\n",
    "nrStable     = float(len(seedsRemain))\n",
    "print \"percentage stable after 1st MT = %s\"  %((nrStable/normalisation)*100)\n",
    "del seedsCEE\n",
    "del donorPostMS\n",
    "del companionMS\n",
    "del maskInterest\n",
    "gc.collect()"
   ]
  },
  {
   "cell_type": "code",
   "execution_count": 10,
   "metadata": {},
   "outputs": [
    {
     "name": "stdout",
     "output_type": "stream",
     "text": [
      "4320585\n",
      "percentage surviving first SN = 2.6639\n"
     ]
    },
    {
     "data": {
      "text/plain": [
       "0"
      ]
     },
     "execution_count": 10,
     "metadata": {},
     "output_type": "execute_result"
    }
   ],
   "source": [
    "# nr systems that survived the first SN\n",
    "primary   = f['supernovae']['whichStar'][...].squeeze() ==1\n",
    "survived  = f['supernovae']['Survived'][...].squeeze() == True\n",
    "BH        = f['supernovae']['RemnantType'][...].squeeze() == 14\n",
    "maskInterest = BH & primary & survived\n",
    "print np.sum(maskInterest)\n",
    "seedsSN   = f['supernovae']['randomSeed'][...].squeeze()[maskInterest]\n",
    "seedsRemain = seedsRemain[(np.in1d(seedsRemain, seedsSN))]\n",
    "print \"percentage surviving first SN = %s\"  %((len(seedsRemain)/normalisation)*100)\n",
    "del primary\n",
    "del BH\n",
    "del survived\n",
    "del seedsSN\n",
    "gc.collect()"
   ]
  },
  {
   "cell_type": "code",
   "execution_count": 11,
   "metadata": {},
   "outputs": [
    {
     "name": "stdout",
     "output_type": "stream",
     "text": [
      "percentage having a second MT from secondary  = 2.22736666667\n",
      "8204607777667079584\n"
     ]
    }
   ],
   "source": [
    "#nr systems second mass transfer \n",
    "secondMoment = (nthMoment == 2)[RLOF_Z_MASK]\n",
    "secondary    = (f['RLOF']['flagRLOF2'][...].squeeze() == True)[RLOF_Z_MASK]\n",
    "seeds        = np.in1d(f['RLOF']['randomSeed'][...].squeeze()[RLOF_Z_MASK], seedsRemain)\n",
    "maskInterest = secondMoment & secondary & seeds\n",
    "seedsRemain  = f['RLOF']['randomSeed'][...].squeeze()[RLOF_Z_MASK][maskInterest]\n",
    "print \"percentage having a second MT from secondary  = %s\"  %((len(seedsRemain)/normalisation)*100)\n",
    "del secondMoment\n",
    "del secondary\n",
    "del seeds\n",
    "gc.collect()\n",
    "print seedsRemain[0]"
   ]
  },
  {
   "cell_type": "code",
   "execution_count": 12,
   "metadata": {},
   "outputs": [
    {
     "name": "stdout",
     "output_type": "stream",
     "text": [
      "percentage unstable second MT =  0.8738\n"
     ]
    }
   ],
   "source": [
    "# test the number of stable mass transfers.\n",
    "donorUnstripped = (f['commonEnvelopes']['type2'][...].squeeze() <7)\n",
    "#donor not allowed to be a HG star\n",
    "seeds           = np.in1d(f['commonEnvelopes']['randomSeed'][...].squeeze(), seedsRemain)\n",
    "maskInterest    = seeds & donorUnstripped \n",
    "seedsRemain        = f['commonEnvelopes']['randomSeed'][...].squeeze()[maskInterest]\n",
    "print \"percentage unstable second MT =  %s\"  %((len(seedsRemain)/normalisation)*100)"
   ]
  },
  {
   "cell_type": "code",
   "execution_count": 13,
   "metadata": {},
   "outputs": [
    {
     "name": "stderr",
     "output_type": "stream",
     "text": [
      "/home/cneijssel/.local/lib/python2.7/site-packages/ipykernel/__main__.py:10: RuntimeWarning: invalid value encountered in less\n"
     ]
    },
    {
     "name": "stdout",
     "output_type": "stream",
     "text": [
      "percentage survived =  0.496133333333\n"
     ]
    },
    {
     "data": {
      "text/plain": [
       "0"
      ]
     },
     "execution_count": 13,
     "metadata": {},
     "output_type": "execute_result"
    }
   ],
   "source": [
    "survived        = (f['commonEnvelopes']['stellarMerger'][...].squeeze() == False)\n",
    "#we do the pessimistic assumption\n",
    "pessimistic     = f['commonEnvelopes']['optimisticCommonEnvelopeFlag'][...].squeeze() ==  False\n",
    "#they should also not RLOF after stripping directly\n",
    "R1              = f['commonEnvelopes']['radius1AfterStripping'][...].squeeze()\n",
    "RLOF1           = f['commonEnvelopes']['rocheLobe1to2PostCEE'][...].squeeze()\n",
    "R2              = f['commonEnvelopes']['radius2AfterStripping'][...].squeeze()\n",
    "RLOF2           = f['commonEnvelopes']['rocheLobe2to1PostCEE'][...].squeeze()\n",
    "\n",
    "noRLOF          = (np.divide(R1, RLOF1) < 1) & (np.divide(R2, RLOF2) < 1)\n",
    "\n",
    "seeds           = np.in1d(f['commonEnvelopes']['randomSeed'][...].squeeze(), seedsRemain)\n",
    "maskInterest    = seeds &  survived & pessimistic & noRLOF\n",
    "seedsRemain        = f['commonEnvelopes']['randomSeed'][...].squeeze()[maskInterest]\n",
    "print \"percentage survived =  %s\"  %((len(seedsRemain)/normalisation)*100)\n",
    "del survived\n",
    "gc.collect()"
   ]
  },
  {
   "cell_type": "code",
   "execution_count": 14,
   "metadata": {},
   "outputs": [
    {
     "name": "stdout",
     "output_type": "stream",
     "text": [
      "percentage surviving second SN = 0.427\n"
     ]
    },
    {
     "data": {
      "text/plain": [
       "0"
      ]
     },
     "execution_count": 14,
     "metadata": {},
     "output_type": "execute_result"
    }
   ],
   "source": [
    "# nr systems that survived the second SN\n",
    "secondary    = f['supernovae']['whichStar'][...].squeeze() ==2\n",
    "survived     = f['supernovae']['Survived'][...].squeeze() == True\n",
    "BH           = f['supernovae']['RemnantType'][...].squeeze() == 14\n",
    "seeds        = np.in1d(f['supernovae']['randomSeed'][...].squeeze(), seedsRemain)\n",
    "maskInterest = BH & secondary & survived & seeds\n",
    "seedsRemain  = f['supernovae']['randomSeed'][...].squeeze()[maskInterest]\n",
    "print \"percentage surviving second SN = %s\"  %((len(seedsRemain)/normalisation)*100)\n",
    "del secondary\n",
    "del BH\n",
    "del survived\n",
    "gc.collect()"
   ]
  },
  {
   "cell_type": "code",
   "execution_count": 15,
   "metadata": {},
   "outputs": [
    {
     "name": "stdout",
     "output_type": "stream",
     "text": [
      "7193\n",
      "percentage merging within Hubble time = 0.239766666667\n"
     ]
    },
    {
     "data": {
      "text/plain": [
       "0"
      ]
     },
     "execution_count": 15,
     "metadata": {},
     "output_type": "execute_result"
    }
   ],
   "source": [
    "seeds        = np.in1d(f['doubleCompactObjects']['seed'][...].squeeze(), seedsRemain)\n",
    "Hubble       = f['doubleCompactObjects']['mergesInHubbleTimeFlag'][...].squeeze() == True\n",
    "#to double check R1 RLOF1 method before I double check effect of CEE2 mask (there is none so good :) )\n",
    "CEE2         = f['doubleCompactObjects']['RLOFSecondaryAfterCEE'][...].squeeze() == False\n",
    "maskInterest = seeds & Hubble & CEE2\n",
    "seedsRemain  = f['doubleCompactObjects']['seed'][...].squeeze()[maskInterest]\n",
    "print np.sum(maskInterest)\n",
    "print \"percentage merging within Hubble time = %s\"  %((len(seedsRemain)/normalisation)*100)\n",
    "\n",
    "del CEE2\n",
    "del Hubble \n",
    "gc.collect()"
   ]
  },
  {
   "cell_type": "markdown",
   "metadata": {},
   "source": [
    "# Non CEE Channel"
   ]
  },
  {
   "cell_type": "markdown",
   "metadata": {},
   "source": [
    "I go through the same steps except making the 2nd MT stable \n"
   ]
  },
  {
   "cell_type": "code",
   "execution_count": 29,
   "metadata": {},
   "outputs": [
    {
     "name": "stdout",
     "output_type": "stream",
     "text": [
      "post MS primar onto MS secondary \n",
      "of interacting systems 49.2590666667 percentage\n"
     ]
    },
    {
     "data": {
      "text/plain": [
       "0"
      ]
     },
     "execution_count": 29,
     "metadata": {},
     "output_type": "execute_result"
    }
   ],
   "source": [
    "# percentage of systems post MS primaries\n",
    "# MS transfering onto MS secondary  (channel 1 and 2)\n",
    "donorPostMS = ((f['RLOF']['type1Prev'][...].squeeze() >1) &\\\n",
    "              (f['RLOF']['type1Prev'][...].squeeze() <7))[RLOF_Z_MASK]\n",
    "companionMS = ((f['RLOF']['type2Prev'][...].squeeze() == 1) |\\\n",
    "              (f['RLOF']['type2Prev'][...].squeeze() == 0))[RLOF_Z_MASK]\n",
    "primary     = (f['RLOF']['flagRLOF1'][...].squeeze() == True)[RLOF_Z_MASK]\n",
    "firstMoment = (nthMoment == 1)[RLOF_Z_MASK]\n",
    "\n",
    "maskInterest      = [donorPostMS & companionMS & firstMoment & primary]\n",
    "seedsRemain       = f['RLOF']['randomSeed'][...].squeeze()[RLOF_Z_MASK][maskInterest]\n",
    "nrSystemsInterest = len(seedsRemain)\n",
    "print \"post MS primar onto MS secondary \"\n",
    "print \"of interacting systems %s percentage\"\\\n",
    "      %((nrSystemsInterest/normalisation)*100)\n",
    "del donorPostMS\n",
    "del companionMS\n",
    "del firstMoment\n",
    "del primary\n",
    "del maskInterest\n",
    "gc.collect()\n"
   ]
  },
  {
   "cell_type": "code",
   "execution_count": 30,
   "metadata": {},
   "outputs": [
    {
     "name": "stdout",
     "output_type": "stream",
     "text": [
      "percentage stable after 1st MT = 23.0556333333\n"
     ]
    },
    {
     "data": {
      "text/plain": [
       "0"
      ]
     },
     "execution_count": 30,
     "metadata": {},
     "output_type": "execute_result"
    }
   ],
   "source": [
    "# test the number of stable mass transfers.\n",
    "donorPostMS = ((f['commonEnvelopes']['type1'][...].squeeze() >1) &\\\n",
    "              (f['commonEnvelopes']['type1'][...].squeeze() <7))\n",
    "companionMS = (f['commonEnvelopes']['type2'][...].squeeze() == 1) |\\\n",
    "              (f['commonEnvelopes']['type2'][...].squeeze() == 0)\n",
    "seeds        = np.in1d(f['commonEnvelopes']['randomSeed'][...].squeeze(), seedsRemain)\n",
    "maskInterest = donorPostMS & companionMS & seeds\n",
    "seedsCEE    = f['commonEnvelopes']['randomSeed'][...].squeeze()\\\n",
    "                                [maskInterest]\n",
    "seedsRemain = seedsRemain[np.logical_not(np.in1d(seedsRemain, seedsCEE))]\n",
    "nrStable     = float(len(seedsRemain))\n",
    "print \"percentage stable after 1st MT = %s\"  %((nrStable/normalisation)*100)\n",
    "del seedsCEE\n",
    "del donorPostMS\n",
    "del companionMS\n",
    "del maskInterest\n",
    "gc.collect()"
   ]
  },
  {
   "cell_type": "code",
   "execution_count": 31,
   "metadata": {},
   "outputs": [
    {
     "name": "stdout",
     "output_type": "stream",
     "text": [
      "4320585\n",
      "percentage surviving first SN = 2.6639\n"
     ]
    },
    {
     "data": {
      "text/plain": [
       "0"
      ]
     },
     "execution_count": 31,
     "metadata": {},
     "output_type": "execute_result"
    }
   ],
   "source": [
    "# nr systems that survived the first SN\n",
    "primary   = f['supernovae']['whichStar'][...].squeeze() ==1\n",
    "survived  = f['supernovae']['Survived'][...].squeeze() == True\n",
    "BH        = f['supernovae']['RemnantType'][...].squeeze() == 14\n",
    "maskInterest = BH & primary & survived\n",
    "print np.sum(maskInterest)\n",
    "seedsSN   = f['supernovae']['randomSeed'][...].squeeze()[maskInterest]\n",
    "seedsRemain = seedsRemain[(np.in1d(seedsRemain, seedsSN))]\n",
    "print \"percentage surviving first SN = %s\"  %((len(seedsRemain)/normalisation)*100)\n",
    "del primary\n",
    "del BH\n",
    "del survived\n",
    "del seedsSN\n",
    "gc.collect()"
   ]
  },
  {
   "cell_type": "code",
   "execution_count": 32,
   "metadata": {},
   "outputs": [
    {
     "name": "stdout",
     "output_type": "stream",
     "text": [
      "percentage having a second MT from secondary  = 2.22736666667\n",
      "8204607777667079584\n"
     ]
    }
   ],
   "source": [
    "#nr systems second mass transfer \n",
    "secondMoment = (nthMoment == 2)[RLOF_Z_MASK]\n",
    "secondary    = (f['RLOF']['flagRLOF2'][...].squeeze() == True)[RLOF_Z_MASK]\n",
    "seeds        = np.in1d(f['RLOF']['randomSeed'][...].squeeze()[RLOF_Z_MASK], seedsRemain)\n",
    "maskInterest = secondMoment & secondary & seeds\n",
    "seedsRemain  = f['RLOF']['randomSeed'][...].squeeze()[RLOF_Z_MASK][maskInterest]\n",
    "print \"percentage having a second MT from secondary  = %s\"  %((len(seedsRemain)/normalisation)*100)\n",
    "del secondMoment\n",
    "del secondary\n",
    "del seeds\n",
    "gc.collect()\n",
    "print seedsRemain[0]"
   ]
  },
  {
   "cell_type": "code",
   "execution_count": 33,
   "metadata": {},
   "outputs": [
    {
     "name": "stdout",
     "output_type": "stream",
     "text": [
      "percentage stable second MT =  1.35356666667\n"
     ]
    }
   ],
   "source": [
    "# test the number of stable mass transfers.\n",
    "donorUnstripped = (f['commonEnvelopes']['type2'][...].squeeze() <7)\n",
    "#donor not allowed to be a HG star\n",
    "seeds           = np.in1d(f['commonEnvelopes']['randomSeed'][...].squeeze(), seedsRemain)\n",
    "maskInterest    = seeds & donorUnstripped \n",
    "seedsCEE    = f['commonEnvelopes']['randomSeed'][...].squeeze()\\\n",
    "                                [maskInterest]\n",
    "seedsRemain = seedsRemain[np.logical_not(np.in1d(seedsRemain, seedsCEE))]\n",
    "print \"percentage stable second MT =  %s\"  %((len(seedsRemain)/normalisation)*100)"
   ]
  },
  {
   "cell_type": "code",
   "execution_count": 34,
   "metadata": {},
   "outputs": [
    {
     "name": "stdout",
     "output_type": "stream",
     "text": [
      "percentage surviving second SN = 1.01536666667\n"
     ]
    },
    {
     "data": {
      "text/plain": [
       "0"
      ]
     },
     "execution_count": 34,
     "metadata": {},
     "output_type": "execute_result"
    }
   ],
   "source": [
    "# nr systems that survived the second SN\n",
    "secondary    = f['supernovae']['whichStar'][...].squeeze() ==2\n",
    "survived     = f['supernovae']['Survived'][...].squeeze() == True\n",
    "BH           = f['supernovae']['RemnantType'][...].squeeze() == 14\n",
    "seeds        = np.in1d(f['supernovae']['randomSeed'][...].squeeze(), seedsRemain)\n",
    "maskInterest = BH & secondary & survived & seeds\n",
    "seedsRemain  = f['supernovae']['randomSeed'][...].squeeze()[maskInterest]\n",
    "print \"percentage surviving second SN = %s\"  %((len(seedsRemain)/normalisation)*100)\n",
    "del secondary\n",
    "del BH\n",
    "del survived\n",
    "gc.collect()"
   ]
  },
  {
   "cell_type": "code",
   "execution_count": 35,
   "metadata": {},
   "outputs": [
    {
     "name": "stdout",
     "output_type": "stream",
     "text": [
      "4552\n",
      "percentage merging within Hubble time = 0.151733333333\n"
     ]
    },
    {
     "data": {
      "text/plain": [
       "0"
      ]
     },
     "execution_count": 35,
     "metadata": {},
     "output_type": "execute_result"
    }
   ],
   "source": [
    "seeds        = np.in1d(f['doubleCompactObjects']['seed'][...].squeeze(), seedsRemain)\n",
    "Hubble       = f['doubleCompactObjects']['mergesInHubbleTimeFlag'][...].squeeze() == True\n",
    "#to double check R1 RLOF1 method before I double check effect of CEE2 mask (there is none so good :) )\n",
    "CEE2         = f['doubleCompactObjects']['RLOFSecondaryAfterCEE'][...].squeeze() == False\n",
    "maskInterest = seeds & Hubble & CEE2\n",
    "seedsRemain  = f['doubleCompactObjects']['seed'][...].squeeze()[maskInterest]\n",
    "print np.sum(maskInterest)\n",
    "print \"percentage merging within Hubble time = %s\"  %((len(seedsRemain)/normalisation)*100)\n",
    "\n",
    "del CEE2\n",
    "del Hubble \n",
    "gc.collect()"
   ]
  },
  {
   "cell_type": "markdown",
   "metadata": {},
   "source": [
    "# Double Core channel"
   ]
  },
  {
   "cell_type": "code",
   "execution_count": 65,
   "metadata": {},
   "outputs": [
    {
     "name": "stdout",
     "output_type": "stream",
     "text": [
      "1.0\n",
      "post MS primar onto MS secondary \n",
      "of interacting systems 1.39753333333 percentage\n"
     ]
    },
    {
     "data": {
      "text/plain": [
       "0"
      ]
     },
     "execution_count": 65,
     "metadata": {},
     "output_type": "execute_result"
    }
   ],
   "source": [
    "# percentage of systems post MS primaries\n",
    "# MS transfering onto MS secondary  (channel 1 and 2)\n",
    "primaryPostHG = (f['RLOF']['type1Prev'][...].squeeze() >2)[RLOF_Z_MASK]\n",
    "secondaryPostHG = (f['RLOF']['type2Prev'][...].squeeze() >2)[RLOF_Z_MASK]\n",
    "firstMoment = (nthMoment == 1)[RLOF_Z_MASK]\n",
    "\n",
    "maskInterest      = [primaryPostHG & secondaryPostHG & firstMoment]\n",
    "seedsRemain       = f['RLOF']['randomSeed'][...].squeeze()[RLOF_Z_MASK][maskInterest]\n",
    "nrSystemsInterest = len(seedsRemain)\n",
    "\n",
    "testMoment   = CV.getXmomentOfMT(seedsRemain, maxCounter=10)\n",
    "print np.max(testMoment)\n",
    "\n",
    "\n",
    "print \"post MS primar onto MS secondary \"\n",
    "print \"of interacting systems %s percentage\"\\\n",
    "      %((nrSystemsInterest/normalisation)*100)\n",
    "del primaryPostHG\n",
    "del secondaryPostHG\n",
    "del firstMoment\n",
    "del maskInterest\n",
    "gc.collect()\n"
   ]
  },
  {
   "cell_type": "code",
   "execution_count": 66,
   "metadata": {},
   "outputs": [
    {
     "name": "stdout",
     "output_type": "stream",
     "text": [
      "percentage unstable-> CEE = 1.26673333333\n"
     ]
    },
    {
     "data": {
      "text/plain": [
       "0"
      ]
     },
     "execution_count": 66,
     "metadata": {},
     "output_type": "execute_result"
    }
   ],
   "source": [
    "# both stars are post MS\n",
    "primaryPostHG = (f['commonEnvelopes']['type1'][...].squeeze() >2) &\\\n",
    "                (f['commonEnvelopes']['type1'][...].squeeze() <7)\n",
    "secondaryPostHG = (f['commonEnvelopes']['type2'][...].squeeze()>2) &\\\n",
    "                (f['commonEnvelopes']['type2'][...].squeeze() <7)\n",
    "seeds        = np.in1d(f['commonEnvelopes']['randomSeed'][...].squeeze(), seedsRemain)\n",
    "maskInterest = primaryPostHG & secondaryPostHG & seeds \n",
    "seedsRemain    = f['commonEnvelopes']['randomSeed'][...].squeeze()[maskInterest]\n",
    "print \"percentage unstable-> CEE = %s\"  %((len(seedsRemain)/normalisation)*100)\n",
    "del primaryPostHG\n",
    "del secondaryPostHG\n",
    "del seeds\n",
    "del maskInterest\n",
    "gc.collect()"
   ]
  },
  {
   "cell_type": "code",
   "execution_count": 67,
   "metadata": {},
   "outputs": [
    {
     "name": "stderr",
     "output_type": "stream",
     "text": [
      "/home/cneijssel/.local/lib/python2.7/site-packages/ipykernel/__main__.py:9: RuntimeWarning: invalid value encountered in less\n"
     ]
    },
    {
     "name": "stdout",
     "output_type": "stream",
     "text": [
      "percentage survived =  0.7143\n"
     ]
    },
    {
     "data": {
      "text/plain": [
       "0"
      ]
     },
     "execution_count": 67,
     "metadata": {},
     "output_type": "execute_result"
    }
   ],
   "source": [
    "survived        = (f['commonEnvelopes']['stellarMerger'][...].squeeze() == False)\n",
    "#we do the pessimistic assumption\n",
    "pessimistic     = f['commonEnvelopes']['optimisticCommonEnvelopeFlag'][...].squeeze() ==  False\n",
    "#they should also not RLOF after stripping directly\n",
    "R1              = f['commonEnvelopes']['radius1AfterStripping'][...].squeeze()\n",
    "RLOF1           = f['commonEnvelopes']['rocheLobe1to2PostCEE'][...].squeeze()\n",
    "R2              = f['commonEnvelopes']['radius2AfterStripping'][...].squeeze()\n",
    "RLOF2           = f['commonEnvelopes']['rocheLobe2to1PostCEE'][...].squeeze()\n",
    "noRLOF          = (np.divide(R1, RLOF1) < 1) & (np.divide(R2, RLOF2) < 1)\n",
    "\n",
    "seeds           = np.in1d(f['commonEnvelopes']['randomSeed'][...].squeeze(), seedsRemain)\n",
    "maskInterest    = seeds &  survived & pessimistic & noRLOF\n",
    "seedsRemain        = f['commonEnvelopes']['randomSeed'][...].squeeze()[maskInterest]\n",
    "print \"percentage survived =  %s\"  %((len(seedsRemain)/normalisation)*100)\n",
    "del survived\n",
    "gc.collect()"
   ]
  },
  {
   "cell_type": "code",
   "execution_count": 68,
   "metadata": {},
   "outputs": [
    {
     "name": "stdout",
     "output_type": "stream",
     "text": [
      "4320585\n",
      "percentage surviving first SN = 0.0922\n",
      "percentage surviving second SN = 0.0449333333333\n"
     ]
    },
    {
     "data": {
      "text/plain": [
       "0"
      ]
     },
     "execution_count": 68,
     "metadata": {},
     "output_type": "execute_result"
    }
   ],
   "source": [
    "# nr systems that survived the first SN\n",
    "primary   = f['supernovae']['whichStar'][...].squeeze() ==1\n",
    "survived  = f['supernovae']['Survived'][...].squeeze() == True\n",
    "BH        = f['supernovae']['RemnantType'][...].squeeze() == 14\n",
    "maskInterest = BH & primary & survived\n",
    "print np.sum(maskInterest)\n",
    "seedsSN   = f['supernovae']['randomSeed'][...].squeeze()[maskInterest]\n",
    "seedsRemain = seedsRemain[(np.in1d(seedsRemain, seedsSN))]\n",
    "print \"percentage surviving first SN = %s\"  %((len(seedsRemain)/normalisation)*100)\n",
    "del primary\n",
    "del BH\n",
    "del survived\n",
    "del seedsSN\n",
    "gc.collect()\n",
    "\n",
    "# nr systems that survived the second SN\n",
    "secondary    = f['supernovae']['whichStar'][...].squeeze() ==2\n",
    "survived     = f['supernovae']['Survived'][...].squeeze() == True\n",
    "BH           = f['supernovae']['RemnantType'][...].squeeze() == 14\n",
    "seeds        = np.in1d(f['supernovae']['randomSeed'][...].squeeze(), seedsRemain)\n",
    "maskInterest = BH & secondary & survived & seeds\n",
    "seedsRemain  = f['supernovae']['randomSeed'][...].squeeze()[maskInterest]\n",
    "print \"percentage surviving second SN = %s\"  %((len(seedsRemain)/normalisation)*100)\n",
    "del secondary\n",
    "del BH\n",
    "del survived\n",
    "gc.collect()"
   ]
  },
  {
   "cell_type": "code",
   "execution_count": 69,
   "metadata": {},
   "outputs": [
    {
     "name": "stdout",
     "output_type": "stream",
     "text": [
      "921\n",
      "percentage merging within Hubble time = 0.0307\n"
     ]
    },
    {
     "data": {
      "text/plain": [
       "0"
      ]
     },
     "execution_count": 69,
     "metadata": {},
     "output_type": "execute_result"
    }
   ],
   "source": [
    "seeds        = np.in1d(f['doubleCompactObjects']['seed'][...].squeeze(), seedsRemain)\n",
    "Hubble       = f['doubleCompactObjects']['mergesInHubbleTimeFlag'][...].squeeze() == True\n",
    "#to double check R1 RLOF1 method before I double check effect of CEE2 mask (there is none so good :) )\n",
    "CEE2         = f['doubleCompactObjects']['RLOFSecondaryAfterCEE'][...].squeeze() == False\n",
    "maskInterest = seeds & Hubble & CEE2\n",
    "seedsRemain  = f['doubleCompactObjects']['seed'][...].squeeze()[maskInterest]\n",
    "print np.sum(maskInterest)\n",
    "print \"percentage merging within Hubble time = %s\"  %((len(seedsRemain)/normalisation)*100)\n",
    "\n",
    "del CEE2\n",
    "del Hubble \n",
    "gc.collect()"
   ]
  },
  {
   "cell_type": "code",
   "execution_count": null,
   "metadata": {
    "collapsed": true
   },
   "outputs": [],
   "source": []
  }
 ],
 "metadata": {
  "kernelspec": {
   "display_name": "Python 2",
   "language": "python",
   "name": "python2"
  },
  "language_info": {
   "codemirror_mode": {
    "name": "ipython",
    "version": 2
   },
   "file_extension": ".py",
   "mimetype": "text/x-python",
   "name": "python",
   "nbconvert_exporter": "python",
   "pygments_lexer": "ipython2",
   "version": "2.7.16"
  }
 },
 "nbformat": 4,
 "nbformat_minor": 2
}
