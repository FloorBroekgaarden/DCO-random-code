{
 "cells": [
  {
   "cell_type": "markdown",
   "metadata": {},
   "source": [
    "To do <br>\n",
    " \n",
    " \n",
    "For some reason channel 6 is not showing up in all my labels, maybe because the first entry is somehow empty? (how?) double check this "
   ]
  },
  {
   "cell_type": "markdown",
   "metadata": {},
   "source": [
    "# imports"
   ]
  },
  {
   "cell_type": "code",
   "execution_count": 1,
   "metadata": {},
   "outputs": [],
   "source": [
    "\n",
    "# from __future__ import division\n",
    "import numpy as np\n",
    "import matplotlib.pyplot as plt\n",
    "import h5py as h5\n",
    "import pandas as pd"
   ]
  },
  {
   "cell_type": "code",
   "execution_count": 2,
   "metadata": {},
   "outputs": [],
   "source": [
    "import matplotlib.gridspec as gridspec\n",
    "import matplotlib\n",
    "\n",
    "from matplotlib.offsetbox import AnchoredText\n",
    "from matplotlib import rc                                                                                                                                                                                                                    \n",
    "from matplotlib import rcParams\n",
    "\n",
    "rc('font', family='serif', weight = 'bold')\n",
    "rc('text', usetex=True)\n",
    "matplotlib.rcParams['text.latex.preamble']=[r\"\\usepackage{amsmath}\"]\n",
    "matplotlib.rcParams['text.latex.preamble'] = [r'\\boldmath']\n",
    "rc('axes', linewidth=2)\n",
    "\n",
    "matplotlib.rcParams['xtick.major.size'] = 12\n",
    "matplotlib.rcParams['ytick.major.size'] = 12\n",
    "matplotlib.rcParams['xtick.minor.size'] = 8\n",
    "matplotlib.rcParams['ytick.minor.size'] = 8\n",
    "matplotlib.rcParams['font.weight']= 'bold'\n",
    "matplotlib.rcParams.update({'font.weight': 'bold'})\n",
    "fs = 30 # fontsize for plots\n",
    "rc('axes', linewidth=2)\n",
    "\n"
   ]
  },
  {
   "cell_type": "code",
   "execution_count": 3,
   "metadata": {},
   "outputs": [],
   "source": [
    "# # own definitions\n",
    "\n",
    "# ChannelLabelList = ['channel 1','channel 2','channel 3','channel 4','channel 5','channel 6' ]  # labels of channels  \n",
    "# ChannelLabelListShort = ['1','2','3','4','5','6' ] # shorter notation of ChannelLabelList\n",
    "# bbox_props = dict(boxstyle=\"round\", fc=\"w\", ec=\"0.5\", alpha=0.75) # for box around text in plot\n",
    "\n",
    "# colorlist = ['#1f77b4', '#ff7f0e', '#2ca02c', '#d62728', '#9467bd', '#8c564b', 'gold']\n"
   ]
  },
  {
   "cell_type": "markdown",
   "metadata": {},
   "source": [
    "# Custom imports"
   ]
  },
  {
   "cell_type": "code",
   "execution_count": 4,
   "metadata": {},
   "outputs": [],
   "source": [
    "import sys\n",
    "\n",
    "sys.path.append('/Users/floorbroekgaarden/Programs/COMPAS/popsynth/Papers/BroekgaardenEtAl/black_hole-neutron_star/Scripts')\n",
    "import FormationChannel as FC\n",
    "from PostProcessingScripts import *\n",
    "\n"
   ]
  },
  {
   "cell_type": "markdown",
   "metadata": {},
   "source": [
    "# Read in the data"
   ]
  },
  {
   "cell_type": "code",
   "execution_count": 5,
   "metadata": {},
   "outputs": [
    {
     "name": "stdout",
     "output_type": "stream",
     "text": [
      "[u'RLOF', u'XRayBinaries', u'commonEnvelopes', u'cppSource', u'doubleCompactObjects', u'formationChannels', u'runtimes', u'supernovae', u'systems']\n"
     ]
    }
   ],
   "source": [
    "#general path to file (which I pass to the formationChannel file later)\n",
    "path = '/Volumes/TOSHIBA EXT/black_hole-neutron_star/Fiducial/'\n",
    "\n",
    "#specific path to use now\n",
    "path1 = path+'COMPASOutput.h5'\n",
    "fdata = h5.File(path1)\n",
    "print(fdata.keys())"
   ]
  },
  {
   "cell_type": "code",
   "execution_count": 6,
   "metadata": {},
   "outputs": [],
   "source": [
    "#Note above that COMPASOutput.h5 contains all the ascii files\n",
    "#(if turned on in the pythonSubmit during the simulation)\n",
    "\n",
    "#easy name for the doubleCompactObjects h5 group\n",
    "fDCO      = fdata['doubleCompactObjects']"
   ]
  },
  {
   "cell_type": "raw",
   "metadata": {},
   "source": [
    "Some syntax for h5py (thnx to Jim Barrett)\n",
    "\n",
    "fDCO['stellarType1']      = the group containing the column stellarType1\n",
    "\n",
    "fDCO['stellarType1'][...] = read in the entire column , this returns a bit weird syntax\n",
    "                            instead of the classical array [1,2,3,4,etc]\n",
    "                            it returns it in a weird form\n",
    "                            [[1], [2], [3], [4]]\n",
    "                            Nonetheless boolean slicing works (see selection on stellar types below)\n",
    "\n",
    "To turn it into a 'classical' array for which all numpy stuff works\n",
    "there are two options, either you could use .reshape hardcode it.\n",
    "Or a lazy option that I use which is squeeze\n",
    "\n",
    "fDCO['stellarType1'][...].squeeze() = 1D array of data in column STellarType1\n",
    "\n",
    "The downside of H5py is that you really have to force it to read\n",
    "in each column (partially the reason why it is memory efficient since it only reads what it has to)\n",
    "So below I:\n",
    "\n",
    "1 - select for DCO\n",
    "\n",
    "2 - in one step read-in/mask/squeeze the data in array and name it for easy use later"
   ]
  },
  {
   "cell_type": "code",
   "execution_count": 7,
   "metadata": {},
   "outputs": [
    {
     "name": "stdout",
     "output_type": "stream",
     "text": [
      "(29000123, 'total systems simulated')\n"
     ]
    }
   ],
   "source": [
    "#chosenMetallicity= 0.001\n",
    "\n",
    "\n",
    "\n",
    "fDCO  = fdata['doubleCompactObjects']\n",
    "fForm = fdata['formationChannels']\n",
    "fSN   = fdata['supernovae']\n",
    "fCE  = fdata['commonEnvelopes']\n",
    "\n",
    "totalSystems= len((fdata['systems']['mass1'][...].squeeze()))\n",
    "print(totalSystems, 'total systems simulated')\n",
    "#Only want BBHs\n",
    "\n"
   ]
  },
  {
   "cell_type": "markdown",
   "metadata": {},
   "source": [
    "# info about metallicities"
   ]
  },
  {
   "cell_type": "code",
   "execution_count": null,
   "metadata": {},
   "outputs": [],
   "source": []
  },
  {
   "cell_type": "code",
   "execution_count": null,
   "metadata": {},
   "outputs": [],
   "source": []
  },
  {
   "cell_type": "markdown",
   "metadata": {},
   "source": [
    "# Obtain Detailed Evolution"
   ]
  },
  {
   "cell_type": "code",
   "execution_count": 8,
   "metadata": {},
   "outputs": [],
   "source": [
    "G = 6.67259 * 10**(-8) # [gr cm s^2\n",
    "c = 3 * 10**10\n",
    "Msun = 1.99 * 10**(33)\n",
    "AU = 1.5*10**11 #Rsun\n",
    "\n",
    "\n",
    "Rsch = (G * 200*Msun / c**2 ) / AU\n",
    "\n",
    "def KeplerIII(Pdays, M1sun, M2sun):\n",
    "    G = 6.67259 * 10**(-8) # [gr cm s^2]\n",
    "    a = (Pdays*24*3600)**(2/3) * (G * (M1sun + M2sun)*1.99 * 10**(33))**(1/3) * (4*np.pi**2)**(-1/3)\n",
    "    \n",
    "    separationAU = a / (1.49597871 * 10**13)\n",
    "    return separationAU\n",
    "\n",
    "\n",
    "\n"
   ]
  },
  {
   "cell_type": "code",
   "execution_count": null,
   "metadata": {},
   "outputs": [],
   "source": [
    "\n",
    "# # set_channels(z= 0.001)\n",
    "# channels,seeds = set_channels(z=0.001)\n",
    "# seed_b, seed_a, seed_c, seed_d, seed_e, seed_f , seed_g    = seeds\n",
    "# channel_b, channel_a, channel_c, channel_d, channel_e, channel_f, channel_g = channels\n",
    "\n",
    "def printHeaders(seed, pathData): # x1, x2, x3,\n",
    "    \n",
    "    outputPath = pathData + str(seed)\n",
    "    \n",
    "    d = pd.read_csv(outputPath + '/dataOutput_0.dat', sep='\\t', header=1) \n",
    "\n",
    "    \n",
    "    print(np.asarray(list(d.columns)).T) \n",
    "    return\n",
    "\n",
    "printHeaders(seed=seed_g[0], pathData=dataDetailed)"
   ]
  },
  {
   "cell_type": "code",
   "execution_count": 9,
   "metadata": {},
   "outputs": [],
   "source": [
    "ST_dict = {'0' : 'smallMS', '1' : ' MS ', '2' : ' HG ', '3' : ' GB ',\\\n",
    "           '4' : 'CHeB', '5' : 'EAGB', '6' : 'TPAGB', '7' : 'HeMS'\\\n",
    "          , '8' : 'HeHG', '9' : 'HeGB', '10' : 'HeWD', '11' : 'COWD', '12' :'ONeWD', '13' : '  NS', '14' : '  BH'  }"
   ]
  },
  {
   "cell_type": "code",
   "execution_count": null,
   "metadata": {},
   "outputs": [],
   "source": [
    "ST_dict['1']"
   ]
  },
  {
   "cell_type": "code",
   "execution_count": null,
   "metadata": {
    "scrolled": false
   },
   "outputs": [],
   "source": [
    "def plotDetailedEvolution(seed, x_m1, x_m2, ylabel, pathData,metallicity): # x1, x2, x3,\n",
    "    \"\"\"    \"\"\"\n",
    "    \n",
    "    \n",
    "    if metallicity==0.0142:\n",
    "        pathZ = 'Z0_0142/'\n",
    "    elif metallicity==0.001:\n",
    "        pathZ=\"Z0_001/\"\n",
    "    else:\n",
    "        print('Error: Z path not defined')\n",
    "        \n",
    "        \n",
    "        \n",
    "    outputPath = pathData + pathZ+ str(seed)\n",
    "    \n",
    "    data = np.genfromtxt(outputPath + '/dataOutput_0.dat', skip_header=1, names=True) \n",
    "    \n",
    "    # obtaingiven parameters\n",
    "    param_m1 = data[x_m1]\n",
    "    param_m2 = data[x_m2]\n",
    "    \n",
    "    # we always need the parameters below\n",
    "    StellarType1 = data['S1type']\n",
    "    StellarType2 = data['S2type']\n",
    "    time = data['time']\n",
    "    \n",
    "    # obtain mask for when Stellar Type changes \n",
    "    maskST1changes = np.where(StellarType1[:-1] != StellarType1[1:])[0]\n",
    "    maskST2changes = np.where(StellarType2[:-1] != StellarType2[1:])[0]\n",
    "    \n",
    "    \n",
    "    f, axarr = plt.subplots(1, 1, figsize=(10, 6))\n",
    "    # plot given parameters for star 1 and star 2\n",
    "    axarr.plot(time, param_m1, lw = 4, c=colorlist[0], label = 'primary')\n",
    "    axarr.plot(time, param_m2, lw = 4, c=colorlist[1], label = 'secondary')\n",
    "    \n",
    "\n",
    "    # plot stellartype + a scatter point when steller type changes\n",
    "    axarr.scatter(time[maskST1changes], param_m1[maskST1changes], s=120, c=colorlist[6],\\\n",
    "                  marker='o', edgecolors =None, zorder=1000)\n",
    "    axarr.scatter(time[maskST2changes], param_m2[maskST2changes], s=120, c=colorlist[6],\\\n",
    "                  marker='o', edgecolors =None, zorder = 1000)\n",
    "    \n",
    "    \n",
    "    x_offset, y_offset = .25, .7\n",
    "    \n",
    "    time_prev_1 = 0\n",
    "    time_prev_2 = 0\n",
    "    for ind, ST in enumerate(StellarType1[maskST1changes][:]):\n",
    "        if ind==0:\n",
    "            continue\n",
    "        else:\n",
    "            time_this_1 = time[maskST1changes][ind] \n",
    "            time_this_2 = time[maskST2changes][ind] \n",
    "            \n",
    "            if abs(time_this_1 - time_prev_1) >= 1./3:\n",
    "                axarr.text(time[maskST1changes][ind]-(x_offset+.75), param_m1[maskST1changes][ind]+(y_offset), \\\n",
    "                           s=ST_dict[str(int(ST))] , fontsize = 16)\n",
    "            else:\n",
    "                axarr.text(time[maskST1changes][ind]+(x_offset), param_m1[maskST1changes][ind]-(y_offset+0.25), \\\n",
    "                   s=ST_dict[str(int(ST))] , fontsize = 16)\n",
    "                \n",
    "            if abs(time_this_2 - time_prev_2) >= 1./2:\n",
    "                axarr.text(time[maskST2changes][ind] -(x_offset+.75), param_m2[maskST2changes][ind]+(y_offset), \\\n",
    "                           s=ST_dict[str(int(StellarType2[maskST2changes][ind]))] , fontsize = 16)\n",
    "            else:\n",
    "                axarr.text(time[maskST2changes][ind]+(x_offset), param_m2[maskST2changes][ind]-(y_offset+0.25), \\\n",
    "                   s=ST_dict[str(int(StellarType2[maskST2changes][ind]))] , fontsize = 16)\n",
    "\n",
    "        time_prev_1 = time[maskST1changes][ind] \n",
    "        time_prev_2 = time[maskST2changes][ind] \n",
    "    \n",
    "    # make plot look nicer with code below\n",
    "    axarr.legend(fontsize = 24 , loc = 'lower left')\n",
    "\n",
    "    axarr.grid(which='both')\n",
    "    axarr.grid(which='minor', alpha=0.2)\n",
    "    axarr.grid(which='major', alpha=0.5) \n",
    "\n",
    "    axarr.grid(True)\n",
    "    axarr.tick_params(labelsize=24)\n",
    "    axarr.set_xlabel('Time [Myr]', fontsize=24)\n",
    "    axarr.set_ylabel('%s'%ylabel, fontsize=24)     \n",
    "    \n",
    "#     f.tight_layout()\n",
    "\n",
    "    plt.tight_layout()\n",
    "    plt.savefig('/Users/floorbroekgaarden'+\\\n",
    "    '/Programs/COMPAS/popsynth/Papers/BroekgaardenEtAl/black_hole-neutron_star' +\\\n",
    "    '/PlottingScripts/3_DCO-Population/DetailedPlots/detailed_evolution/'+pathZ+str(seed)+'.pdf')\n",
    "    plt.show()\n",
    "    \n",
    "    \n",
    "    return\n",
    "\n",
    "\n",
    "metallicity = 0.001\n",
    "dataDetailed = '/Volumes/TOSHIBA EXT/black_hole-neutron_star/Fiducial/detailed/'\n",
    "\n",
    "plotDetailedEvolution(seed=,x_m1='mass1', x_m2='mass2', \\\n",
    "                      ylabel=r'Mass $[\\rm{M}_{\\odot}]$', pathData=dataDetailed, metallicity=metallicity)\n"
   ]
  },
  {
   "cell_type": "code",
   "execution_count": null,
   "metadata": {},
   "outputs": [],
   "source": [
    "1/5"
   ]
  },
  {
   "cell_type": "code",
   "execution_count": null,
   "metadata": {},
   "outputs": [],
   "source": []
  },
  {
   "cell_type": "code",
   "execution_count": null,
   "metadata": {
    "scrolled": false
   },
   "outputs": [],
   "source": [
    "# def plotDetailedEvolution4Panels(seed, pathData):\n",
    "    \n",
    "#     outputPath = pathData + str(seed)\n",
    "    \n",
    "#     d = np.genfromtxt(outputPath + '/dataOutput_0.dat', names=True,skip_header=1 )\n",
    "    \n",
    "#     time = d['time']\n",
    "#     separation = d['separation']\n",
    "#     mass1_0 = d['mass1_0']\n",
    "#     mass2_0 = d['mass2_0']\n",
    "#     S1type = d['S1type']\n",
    "#     S2type = d['S2type']\n",
    "#     mass1 = d['mass1']\n",
    "#     mass2 = d['mass2']\n",
    "#     Radius1 = d['Radius1']\n",
    "#     Radius2 = d['Radius2']\n",
    "#     RocheLobe1 = np.asarray(d['RocheLobe1a'])*separation\n",
    "#     RocheLobe2 = np.asarray(d['RocheLobe2a'])*separation\n",
    "\n",
    "    \n",
    "#     totalmass = mass1 + mass2 \n",
    "    \n",
    "    \n",
    "#     var = [separation,  Radius1, mass1, S1type]\n",
    "#     var2 = [mass2_0, Radius2, mass2, S2type]\n",
    "#     label = [' separation [Rsol]',  'Radius Rsun', 'mass',  'stellar type']\n",
    "\n",
    "\n",
    "#     #label2 = [' separation [Rsol]', 'mass_0 [Msun]', 'stellar type']\n",
    "#     legend = ['', 'star1', 'star1']\n",
    "#     legend2 = ['', 'star2', 'star1']\n",
    "\n",
    "#     f, axarr = plt.subplots(len(var),1 , figsize=(20, 40))\n",
    "\n",
    "\n",
    "\n",
    "\n",
    "#     i = 1\n",
    "#     for j in range(len(var)):\n",
    "\n",
    "\n",
    "\n",
    "\n",
    "\n",
    "#             if j==0:\n",
    "#                 axarr[j].set_yscale('log')\n",
    "#                 axarr[j].plot(time, var[j], lw = 5, c='k', label = 'star1')\n",
    "\n",
    "\n",
    "\n",
    "\n",
    "\n",
    "\n",
    "\n",
    "\n",
    "\n",
    "#             # plot also second star\n",
    "#             else: # (j ==1) | (j==2) | (j==3) :\n",
    "\n",
    "#                 axarr[j].plot(time, var[j], lw = 5, c='r', label = 'star1')\n",
    "#                 axarr[j].plot(time, var2[j], lw = 5, c='b', label = '%s'%legend2[1])\n",
    "#                 axarr[j].legend(fontsize = 20 , loc = 'lower left')\n",
    "\n",
    "\n",
    "#             if j==1:\n",
    "#                 axarr[j].plot(time, RocheLobe1, lw = 5, c='r', ls='--', label = 'RL1')\n",
    "#                 axarr[j].plot(time, RocheLobe2, lw = 5, c='b', ls='--', label = 'RL2')\n",
    "#                 axarr[j].legend(fontsize = 20 , loc = 'lower left')\n",
    "# #                 axarr[j].set_yscale('log')\n",
    "\n",
    "#             if j==2: \n",
    "#                 axarr[j].plot(time, totalmass, lw = 5, c='k', label = 'total')\n",
    "#                 axarr[j].legend(fontsize = 20 , loc = 'lower left')\n",
    "\n",
    "\n",
    "\n",
    "#             axarr[j].grid(which='both')\n",
    "#             axarr[j].grid(which='minor', alpha=0.2)\n",
    "#             axarr[j].grid(which='major', alpha=0.5) \n",
    "\n",
    "#             axarr[j].grid(True)\n",
    "#             axarr[j].tick_params(labelsize=30)\n",
    "#             axarr[j].set_xlabel(' time [Myr]', fontsize=40)\n",
    "\n",
    "\n",
    "#             axarr[j].set_ylabel('%s'%label[j], fontsize=40)        \n",
    "\n",
    "\n",
    "#     #         major_ticks = np.arange(min(time), max(time)+1, 20)\n",
    "#     #         minor_ticks = np.arange(min(var[j]), max(var[j]), 5)\n",
    "\n",
    "#     #         axarr[j].set_xticks(major_ticks)\n",
    "#     #         axarr[j].set_xticks(minor_ticks, minor=True)\n",
    "#     #         axarr[j].set_yticks(major_ticks)\n",
    "#     #         axarr[j].set_yticks(minor_ticks, minor=True)            \n",
    "#     #         if i == 2:\n",
    "#     #             axarr[i, j].set_yscale('log')\n",
    "#     #         if j == 2:\n",
    "#     #             axarr[i, j].set_xscale('log')\n",
    "\n",
    "#     #     else:\n",
    "#     #         axarr[i, j].axis('off')\n",
    "\n",
    "\n",
    "#     plt.tight_layout()\n",
    "#     # plt.xticks()\n",
    "\n",
    "\n",
    "# #     plt.savefig('/home/floor/Documents_Thesis/DataAnalysis/images/SuperEddingtonAccretionTotal_1.png')\n",
    "#     plt.show()    \n",
    "    \n",
    "    \n",
    "    \n",
    "#     return\n",
    "\n",
    "# plotDetailedEvolution(seed=seed_g[0], pathData=dataDetailed)\n",
    "\n"
   ]
  },
  {
   "cell_type": "code",
   "execution_count": null,
   "metadata": {},
   "outputs": [],
   "source": []
  },
  {
   "cell_type": "code",
   "execution_count": null,
   "metadata": {
    "scrolled": false
   },
   "outputs": [],
   "source": []
  },
  {
   "cell_type": "code",
   "execution_count": null,
   "metadata": {},
   "outputs": [],
   "source": []
  },
  {
   "cell_type": "code",
   "execution_count": null,
   "metadata": {},
   "outputs": [],
   "source": []
  },
  {
   "cell_type": "code",
   "execution_count": null,
   "metadata": {},
   "outputs": [],
   "source": []
  }
 ],
 "metadata": {
  "kernelspec": {
   "display_name": "Python 2",
   "language": "python",
   "name": "python2"
  },
  "language_info": {
   "codemirror_mode": {
    "name": "ipython",
    "version": 2
   },
   "file_extension": ".py",
   "mimetype": "text/x-python",
   "name": "python",
   "nbconvert_exporter": "python",
   "pygments_lexer": "ipython2",
   "version": "2.7.16"
  }
 },
 "nbformat": 4,
 "nbformat_minor": 2
}
