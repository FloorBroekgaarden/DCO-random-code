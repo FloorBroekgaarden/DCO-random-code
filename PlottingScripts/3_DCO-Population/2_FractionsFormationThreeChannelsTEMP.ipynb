{
 "cells": [
  {
   "cell_type": "code",
   "execution_count": 1,
   "metadata": {},
   "outputs": [],
   "source": [
    "#path to the data\n",
    "pathCOMPASOutput = '/Volumes/TOSHIBA EXT/BHNS_all_in/Fiducial/'\n"
   ]
  },
  {
   "cell_type": "code",
   "execution_count": 1,
   "metadata": {},
   "outputs": [],
   "source": [
    "#Needed in general\n",
    "import numpy as np\n",
    "import matplotlib.pyplot as plt\n",
    "import sys\n",
    "import h5py as h5\n",
    "import gc\n",
    "#Quick fudge to make import from ../Scripts work\n",
    "sys.path.append('../../Scripts')\n",
    "\n",
    "#Custom imports\n",
    "import ClassFormationChannels as FC \n",
    "import coencodeVarious        as CV\n",
    "import ClassCOMPAS            as CC"
   ]
  },
  {
   "cell_type": "markdown",
   "metadata": {},
   "source": [
    "# General Idea"
   ]
  },
  {
   "cell_type": "markdown",
   "metadata": {},
   "source": [
    "96 percent of the BBHs form through three distinct channels.\n",
    "In this notebook we will go through the steps of the birth of the binaries until the moment they merge as BBHs. We will asses what fractions of all systems drop out at which steps.\n",
    "\n",
    "In previous git versions you can find a compiled approach\n",
    "to the fractions in Appendix_fractions. Would be nice experimental code\n",
    "t formalise. However for clarity I do it explicitly here\n",
    "\n",
    "We start by gathering the seeds of the three channels and printing them as a reminder\n",
    "\n",
    "\n",
    "WARNING:\n",
    "\n",
    "This notebook takes long to run for my simulation of 90million binaries. I used a laptop with 8GB ram and it worked but struggled\n",
    "a bit. Run at own risk \n"
   ]
  },
  {
   "cell_type": "markdown",
   "metadata": {},
   "source": [
    "# Get the seeds of interest"
   ]
  },
  {
   "cell_type": "markdown",
   "metadata": {},
   "source": [
    "Based on discussions with Ilya we chose to give the formation channels at a specific metallicity.\n",
    "We chose tenth of solar.\n"
   ]
  },
  {
   "cell_type": "code",
   "execution_count": 2,
   "metadata": {},
   "outputs": [
    {
     "ename": "IOError",
     "evalue": "Unable to create file (unable to open file: name = '/Volumes/Andromeda/DATA/AllDCO_bugfix/fiducial/COMPASOutput.h5', errno = 17, error message = 'File exists', flags = 15, o_flags = a02)",
     "output_type": "error",
     "traceback": [
      "\u001b[0;31m---------------------------------------------------------------------------\u001b[0m",
      "\u001b[0;31mIOError\u001b[0m                                   Traceback (most recent call last)",
      "\u001b[0;32m<ipython-input-2-cb8aaace1123>\u001b[0m in \u001b[0;36m<module>\u001b[0;34m()\u001b[0m\n\u001b[1;32m      2\u001b[0m \u001b[0;34m\u001b[0m\u001b[0m\n\u001b[1;32m      3\u001b[0m \u001b[0;31m#But I want only within Hubble time\u001b[0m\u001b[0;34m\u001b[0m\u001b[0;34m\u001b[0m\u001b[0m\n\u001b[0;32m----> 4\u001b[0;31m \u001b[0mData\u001b[0m            \u001b[0;34m=\u001b[0m \u001b[0mCC\u001b[0m\u001b[0;34m.\u001b[0m\u001b[0mCOMPASData\u001b[0m\u001b[0;34m(\u001b[0m\u001b[0mpath\u001b[0m\u001b[0;34m=\u001b[0m\u001b[0mpathCOMPASOutput\u001b[0m\u001b[0;34m,\u001b[0m \u001b[0mlazyData\u001b[0m\u001b[0;34m=\u001b[0m\u001b[0mTrue\u001b[0m\u001b[0;34m,\u001b[0m \u001b[0mMlower\u001b[0m\u001b[0;34m=\u001b[0m\u001b[0;36m5.\u001b[0m\u001b[0;34m,\u001b[0m                  \u001b[0mMupper\u001b[0m\u001b[0;34m=\u001b[0m\u001b[0;36m150.\u001b[0m\u001b[0;34m,\u001b[0m \u001b[0mbinaryFraction\u001b[0m\u001b[0;34m=\u001b[0m\u001b[0;36m1\u001b[0m\u001b[0;34m)\u001b[0m\u001b[0;34m\u001b[0m\u001b[0m\n\u001b[0m\u001b[1;32m      5\u001b[0m \u001b[0mData\u001b[0m\u001b[0;34m.\u001b[0m\u001b[0msetCOMPASDCOmask\u001b[0m\u001b[0;34m(\u001b[0m\u001b[0mtypes\u001b[0m\u001b[0;34m=\u001b[0m\u001b[0;34m'BHNS'\u001b[0m\u001b[0;34m,\u001b[0m  \u001b[0mwithinHubbleTime\u001b[0m\u001b[0;34m=\u001b[0m\u001b[0mTrue\u001b[0m\u001b[0;34m,\u001b[0m \u001b[0moptimistic\u001b[0m\u001b[0;34m=\u001b[0m\u001b[0mTrue\u001b[0m\u001b[0;34m)\u001b[0m\u001b[0;34m\u001b[0m\u001b[0m\n\u001b[1;32m      6\u001b[0m \u001b[0mData\u001b[0m\u001b[0;34m.\u001b[0m\u001b[0msetCOMPASData\u001b[0m\u001b[0;34m(\u001b[0m\u001b[0;34m)\u001b[0m\u001b[0;34m\u001b[0m\u001b[0m\n",
      "\u001b[0;32m/Users/floorbroekgaarden/Projects/BHNS_project/Scripts/ClassCOMPAS.pyc\u001b[0m in \u001b[0;36m__init__\u001b[0;34m(self, path, lazyData, Mlower, Mupper, binaryFraction)\u001b[0m\n\u001b[1;32m     15\u001b[0m             \u001b[0;32mraise\u001b[0m \u001b[0mValueError\u001b[0m\u001b[0;34m(\u001b[0m\u001b[0;34m\"h5 file not found. Wrong path given?\"\u001b[0m\u001b[0;34m,\u001b[0m \u001b[0;34m\"path given = %s\"\u001b[0m\u001b[0;34m%\u001b[0m\u001b[0mpath\u001b[0m\u001b[0;34m)\u001b[0m\u001b[0;34m\u001b[0m\u001b[0m\n\u001b[1;32m     16\u001b[0m         \u001b[0;32melif\u001b[0m \u001b[0mos\u001b[0m\u001b[0;34m.\u001b[0m\u001b[0mpath\u001b[0m\u001b[0;34m.\u001b[0m\u001b[0misfile\u001b[0m\u001b[0;34m(\u001b[0m\u001b[0mpath\u001b[0m\u001b[0;34m+\u001b[0m\u001b[0;34m'COMPASOutput.h5'\u001b[0m\u001b[0;34m)\u001b[0m\u001b[0;34m:\u001b[0m\u001b[0;34m\u001b[0m\u001b[0m\n\u001b[0;32m---> 17\u001b[0;31m             \u001b[0mself\u001b[0m\u001b[0;34m.\u001b[0m\u001b[0mh5file\u001b[0m           \u001b[0;34m=\u001b[0m \u001b[0mh5\u001b[0m\u001b[0;34m.\u001b[0m\u001b[0mFile\u001b[0m\u001b[0;34m(\u001b[0m\u001b[0mpath\u001b[0m\u001b[0;34m+\u001b[0m\u001b[0;34m'COMPASOutput.h5'\u001b[0m\u001b[0;34m)\u001b[0m\u001b[0;34m\u001b[0m\u001b[0m\n\u001b[0m\u001b[1;32m     18\u001b[0m \u001b[0;34m\u001b[0m\u001b[0m\n\u001b[1;32m     19\u001b[0m \u001b[0;34m\u001b[0m\u001b[0m\n",
      "\u001b[0;32m/Users/floorbroekgaarden/anaconda2/lib/python2.7/site-packages/h5py/_hl/files.pyc\u001b[0m in \u001b[0;36m__init__\u001b[0;34m(self, name, mode, driver, libver, userblock_size, swmr, rdcc_nslots, rdcc_nbytes, rdcc_w0, track_order, **kwds)\u001b[0m\n\u001b[1;32m    392\u001b[0m                 fid = make_fid(name, mode, userblock_size,\n\u001b[1;32m    393\u001b[0m                                \u001b[0mfapl\u001b[0m\u001b[0;34m,\u001b[0m \u001b[0mfcpl\u001b[0m\u001b[0;34m=\u001b[0m\u001b[0mmake_fcpl\u001b[0m\u001b[0;34m(\u001b[0m\u001b[0mtrack_order\u001b[0m\u001b[0;34m=\u001b[0m\u001b[0mtrack_order\u001b[0m\u001b[0;34m)\u001b[0m\u001b[0;34m,\u001b[0m\u001b[0;34m\u001b[0m\u001b[0m\n\u001b[0;32m--> 394\u001b[0;31m                                swmr=swmr)\n\u001b[0m\u001b[1;32m    395\u001b[0m \u001b[0;34m\u001b[0m\u001b[0m\n\u001b[1;32m    396\u001b[0m             \u001b[0;32mif\u001b[0m \u001b[0mswmr_support\u001b[0m\u001b[0;34m:\u001b[0m\u001b[0;34m\u001b[0m\u001b[0m\n",
      "\u001b[0;32m/Users/floorbroekgaarden/anaconda2/lib/python2.7/site-packages/h5py/_hl/files.pyc\u001b[0m in \u001b[0;36mmake_fid\u001b[0;34m(name, mode, userblock_size, fapl, fcpl, swmr)\u001b[0m\n\u001b[1;32m    193\u001b[0m                 \u001b[0mfid\u001b[0m \u001b[0;34m=\u001b[0m \u001b[0mh5f\u001b[0m\u001b[0;34m.\u001b[0m\u001b[0mopen\u001b[0m\u001b[0;34m(\u001b[0m\u001b[0mname\u001b[0m\u001b[0;34m,\u001b[0m \u001b[0mh5f\u001b[0m\u001b[0;34m.\u001b[0m\u001b[0mACC_RDONLY\u001b[0m\u001b[0;34m,\u001b[0m \u001b[0mfapl\u001b[0m\u001b[0;34m=\u001b[0m\u001b[0mfapl\u001b[0m\u001b[0;34m)\u001b[0m\u001b[0;34m\u001b[0m\u001b[0m\n\u001b[1;32m    194\u001b[0m             \u001b[0;32mexcept\u001b[0m \u001b[0mIOError\u001b[0m\u001b[0;34m:\u001b[0m\u001b[0;34m\u001b[0m\u001b[0m\n\u001b[0;32m--> 195\u001b[0;31m                 \u001b[0mfid\u001b[0m \u001b[0;34m=\u001b[0m \u001b[0mh5f\u001b[0m\u001b[0;34m.\u001b[0m\u001b[0mcreate\u001b[0m\u001b[0;34m(\u001b[0m\u001b[0mname\u001b[0m\u001b[0;34m,\u001b[0m \u001b[0mh5f\u001b[0m\u001b[0;34m.\u001b[0m\u001b[0mACC_EXCL\u001b[0m\u001b[0;34m,\u001b[0m \u001b[0mfapl\u001b[0m\u001b[0;34m=\u001b[0m\u001b[0mfapl\u001b[0m\u001b[0;34m,\u001b[0m \u001b[0mfcpl\u001b[0m\u001b[0;34m=\u001b[0m\u001b[0mfcpl\u001b[0m\u001b[0;34m)\u001b[0m\u001b[0;34m\u001b[0m\u001b[0m\n\u001b[0m\u001b[1;32m    196\u001b[0m     \u001b[0;32melse\u001b[0m\u001b[0;34m:\u001b[0m\u001b[0;34m\u001b[0m\u001b[0m\n\u001b[1;32m    197\u001b[0m         \u001b[0;32mraise\u001b[0m \u001b[0mValueError\u001b[0m\u001b[0;34m(\u001b[0m\u001b[0;34m\"Invalid mode; must be one of r, r+, w, w-, x, a\"\u001b[0m\u001b[0;34m)\u001b[0m\u001b[0;34m\u001b[0m\u001b[0m\n",
      "\u001b[0;32mh5py/_objects.pyx\u001b[0m in \u001b[0;36mh5py._objects.with_phil.wrapper\u001b[0;34m()\u001b[0m\n",
      "\u001b[0;32mh5py/_objects.pyx\u001b[0m in \u001b[0;36mh5py._objects.with_phil.wrapper\u001b[0;34m()\u001b[0m\n",
      "\u001b[0;32mh5py/h5f.pyx\u001b[0m in \u001b[0;36mh5py.h5f.create\u001b[0;34m()\u001b[0m\n",
      "\u001b[0;31mIOError\u001b[0m: Unable to create file (unable to open file: name = '/Volumes/Andromeda/DATA/AllDCO_bugfix/fiducial/COMPASOutput.h5', errno = 17, error message = 'File exists', flags = 15, o_flags = a02)"
     ]
    }
   ],
   "source": [
    "pathCOMPASOutput='/Volumes/Andromeda/DATA/AllDCO_bugfix/fiducial/'\n",
    "\n",
    "#But I want only within Hubble time \n",
    "Data            = CC.COMPASData(path=pathCOMPASOutput, lazyData=True, Mlower=5., \\\n",
    "                 Mupper=150., binaryFraction=1)\n",
    "Data.setCOMPASDCOmask(types='BHNS',  withinHubbleTime=True, optimistic=True)\n",
    "Data.setCOMPASData()\n",
    "#only want to look at "
   ]
  },
  {
   "cell_type": "code",
   "execution_count": 5,
   "metadata": {},
   "outputs": [
    {
     "name": "stdout",
     "output_type": "stream",
     "text": [
      "[0.0001 0.0002 0.0005 0.001  0.002  0.006  0.0142 0.03  ]\n",
      "32133\n"
     ]
    }
   ],
   "source": [
    "#what are the metallicities in terms of solar?\n",
    "solar   = 0.0142\n",
    "print np.unique(Data.metallicitySystems)\n",
    "metallicityInterest = 0.001\n",
    "#closest metallicity to tenth solar = 0.00132035\n",
    "#give me the seeds of BBH mergers that have this metallicity\n",
    "maskZ   = Data.metallicitySystems ==  metallicityInterest\n",
    "seedsInterest = Data.seeds[maskZ]\n",
    "print len(seedsInterest)\n"
   ]
  },
  {
   "cell_type": "markdown",
   "metadata": {},
   "source": [
    "# Percentage interacting"
   ]
  },
  {
   "cell_type": "code",
   "execution_count": 6,
   "metadata": {},
   "outputs": [
    {
     "name": "stdout",
     "output_type": "stream",
     "text": [
      "(4799583,) (3773878,)\n",
      "of all seeds 70.47153622771017 percent experiencedMT\n"
     ]
    },
    {
     "data": {
      "text/plain": [
       "7"
      ]
     },
     "execution_count": 6,
     "metadata": {},
     "output_type": "execute_result"
    }
   ],
   "source": [
    "#The first step is to look at the number of systems interacting at this metallicity\n",
    "#at the time of simulating RLOF and CEE printing was not robust yet\n",
    "# to catch all the systems. Some MS and touching systems might\n",
    "#not be there but should not be too many\n",
    "\n",
    "#precentage interacting systems the systems?\n",
    "#What were all the systems at metallicity Z?\n",
    "f          = h5.File(pathCOMPASOutput+'COMPASOutput.h5')\n",
    "maskZ      = f['systems']['Metallicity1'][...].squeeze() == metallicityInterest\n",
    "allSeedsZ  = f['systems']['SEED'][...].squeeze()[maskZ]\n",
    "normalisation = float(len(allSeedsZ))\n",
    "#which seeds are interacting (Z doesnt matter)\n",
    "RLOFseeds  = np.unique(f['RLOF']['randomSeed'][...].squeeze())\n",
    "CEEseeds   = np.unique(f['commonEnvelopes']['randomSeed'][...].squeeze())\n",
    "print RLOFseeds.shape, CEEseeds.shape\n",
    "InteractingSeeds = np.unique(np.concatenate((RLOFseeds, CEEseeds)))\n",
    "\n",
    "\n",
    "#Which of the Seeds in SeedsZ are interacting?\n",
    "boolInteracting  = np.in1d(allSeedsZ, InteractingSeeds)\n",
    "print 'of all seeds %s percent experiencedMT'\\\n",
    "    %((np.sum(boolInteracting)/normalisation)*100)\n",
    "#from here on we use the seedsOf interest to do the next step in the formation channel\n",
    "seedsInterest = allSeedsZ[boolInteracting]    \n",
    "#these arrays are long delete and clear memory\n",
    "del maskZ\n",
    "del allSeedsZ\n",
    "del CEEseeds\n",
    "del RLOFseeds\n",
    "del boolInteracting\n",
    "del InteractingSeeds\n",
    "#garbage collect forces deleted arrays to clear from memory\n",
    "gc.collect()\n",
    "\n"
   ]
  },
  {
   "cell_type": "markdown",
   "metadata": {},
   "source": [
    "# First moment of mass Transfer"
   ]
  },
  {
   "cell_type": "code",
   "execution_count": 7,
   "metadata": {},
   "outputs": [
    {
     "data": {
      "text/plain": [
       "0"
      ]
     },
     "execution_count": 7,
     "metadata": {},
     "output_type": "execute_result"
    }
   ],
   "source": [
    "# During this research the RLOF printing was very much in development\n",
    "# This means that some output such as the x-th moment of RLOF was \n",
    "# not robust (yet). Hence we use a clever trick with the seeds\n",
    "# Credits  idea to J.W.Barrett, made it more general to get not only\n",
    "# firt RLOF per system but x-th. Snipper is in coencodeVarious.cp\n",
    "\n",
    "#carefull the cosmicInt simulation is large and this will \n",
    "#take a lot of RAM-memory - be patient and hope (fingerscrossed)\n",
    "#array of 90.000.000 for allSeeds RLOF possibly more for RLOF\n",
    "#close other windows :O X'(\n",
    "\n",
    "#UPDATE we only want of metallicity Z\n",
    "RLOFseeds   = f['RLOF']['randomSeed'][...].squeeze()\n",
    "RLOF_Z_MASK = np.in1d(RLOFseeds,seedsInterest)\n",
    "\n",
    "# dont care about 4th and 5th moment etc will take longer to\n",
    "# calculate those\n",
    "nthMoment   = CV.getXmomentOfMT(RLOFseeds, maxCounter=3)\n",
    "del RLOFseeds\n",
    "gc.collect()"
   ]
  },
  {
   "cell_type": "code",
   "execution_count": 7,
   "metadata": {},
   "outputs": [
    {
     "name": "stdout",
     "output_type": "stream",
     "text": [
      "[u'EccentricityPostCEE', u'EccentricityPreCEE', u'SemiMajorAxisPostCEE', u'SemiMajorAxisPreCEE', u'alphaCE', u'bEFixed1', u'bEFixed2', u'bEKruckow1', u'bEKruckow2', u'bELoveridge1', u'bELoveridge2', u'bELoveridgeWinds1', u'bELoveridgeWinds2', u'bENanjing1', u'bENanjing2', u'bindingEnergy1', u'bindingEnergy2', u'counterCEE', u'finalType1', u'finalType2', u'lambda1', u'lambda2', u'lambdaFixed1', u'lambdaFixed2', u'lambdaKruckow1', u'lambdaKruckow2', u'lambdaLoveridge1', u'lambdaLoveridge2', u'lambdaLoveridgeWinds1', u'lambdaLoveridgeWinds2', u'lambdaNanjing1', u'lambdaNanjing2', u'mass1', u'mass1ZAMS', u'mass2', u'mass2ZAMS', u'massCore1', u'massCore2', u'massEnvelope1', u'massEnvelope2', u'massTransferTrackerHistory', u'optimisticCommonEnvelopeFlag', u'radius1', u'radius1AfterStripping', u'radius2', u'radius2AfterStripping', u'randomSeed', u'rocheLobe1to2PostCEE', u'rocheLobe1to2PreCEE', u'rocheLobe2to1PostCEE', u'rocheLobe2to1PreCEE', u'stellarMerger', u'time', u'type1', u'type2']\n"
     ]
    }
   ],
   "source": [
    "print f['commonEnvelopes'].keys()"
   ]
  },
  {
   "cell_type": "markdown",
   "metadata": {},
   "source": [
    "# Classic Channel "
   ]
  },
  {
   "cell_type": "code",
   "execution_count": 8,
   "metadata": {},
   "outputs": [
    {
     "name": "stdout",
     "output_type": "stream",
     "text": [
      "post MS primar onto MS secondary \n",
      "of interacting systems 46.968624251 percentage\n"
     ]
    },
    {
     "name": "stderr",
     "output_type": "stream",
     "text": [
      "/Users/floorbroekgaarden/anaconda2/lib/python2.7/site-packages/ipykernel_launcher.py:9: FutureWarning: Using a non-tuple sequence for multidimensional indexing is deprecated; use `arr[tuple(seq)]` instead of `arr[seq]`. In the future this will be interpreted as an array index, `arr[np.array(seq)]`, which will result either in an error or a different result.\n",
      "  if __name__ == '__main__':\n"
     ]
    },
    {
     "data": {
      "text/plain": [
       "0"
      ]
     },
     "execution_count": 8,
     "metadata": {},
     "output_type": "execute_result"
    }
   ],
   "source": [
    "# percentage of systems post MS primaries\n",
    "# MS transfering onto MS secondary  (channel 1 and 2)\n",
    "donorPostMS = ((f['RLOF']['type1Prev'][...].squeeze() >1) &\\\n",
    "              (f['RLOF']['type1Prev'][...].squeeze() <7))[RLOF_Z_MASK]\n",
    "companionMS = ((f['RLOF']['type2Prev'][...].squeeze() == 1) |\\\n",
    "              (f['RLOF']['type2Prev'][...].squeeze() == 0))[RLOF_Z_MASK]\n",
    "primary     = (f['RLOF']['flagRLOF1'][...].squeeze() == True)[RLOF_Z_MASK]\n",
    "firstMoment = (nthMoment == 1)[RLOF_Z_MASK]\n",
    "\n",
    "maskInterest      = [donorPostMS & companionMS & firstMoment & primary]\n",
    "seedsRemain       = f['RLOF']['randomSeed'][...].squeeze()[RLOF_Z_MASK][maskInterest]\n",
    "nrSystemsInterest = len(seedsRemain)\n",
    "print \"post MS primar onto MS secondary \"\n",
    "print \"of interacting systems %s percentage\"\\\n",
    "      %((nrSystemsInterest/normalisation)*100)\n",
    "del donorPostMS\n",
    "del companionMS\n",
    "del firstMoment\n",
    "del primary\n",
    "del maskInterest\n",
    "gc.collect()\n"
   ]
  },
  {
   "cell_type": "code",
   "execution_count": 9,
   "metadata": {},
   "outputs": [
    {
     "ename": "KeyError",
     "evalue": "\"Unable to open object (object 'type1' doesn't exist)\"",
     "output_type": "error",
     "traceback": [
      "\u001b[0;31m---------------------------------------------------------------------------\u001b[0m",
      "\u001b[0;31mKeyError\u001b[0m                                  Traceback (most recent call last)",
      "\u001b[0;32m<ipython-input-9-f315b69eaaca>\u001b[0m in \u001b[0;36m<module>\u001b[0;34m()\u001b[0m\n\u001b[1;32m      1\u001b[0m \u001b[0;31m# test the number of stable mass transfers.\u001b[0m\u001b[0;34m\u001b[0m\u001b[0;34m\u001b[0m\u001b[0m\n\u001b[0;32m----> 2\u001b[0;31m \u001b[0mdonorPostMS\u001b[0m \u001b[0;34m=\u001b[0m \u001b[0;34m(\u001b[0m\u001b[0;34m(\u001b[0m\u001b[0mf\u001b[0m\u001b[0;34m[\u001b[0m\u001b[0;34m'commonEnvelopes'\u001b[0m\u001b[0;34m]\u001b[0m\u001b[0;34m[\u001b[0m\u001b[0;34m'type1'\u001b[0m\u001b[0;34m]\u001b[0m\u001b[0;34m[\u001b[0m\u001b[0;34m.\u001b[0m\u001b[0;34m.\u001b[0m\u001b[0;34m.\u001b[0m\u001b[0;34m]\u001b[0m\u001b[0;34m.\u001b[0m\u001b[0msqueeze\u001b[0m\u001b[0;34m(\u001b[0m\u001b[0;34m)\u001b[0m \u001b[0;34m>\u001b[0m\u001b[0;36m1\u001b[0m\u001b[0;34m)\u001b[0m \u001b[0;34m&\u001b[0m              \u001b[0;34m(\u001b[0m\u001b[0mf\u001b[0m\u001b[0;34m[\u001b[0m\u001b[0;34m'commonEnvelopes'\u001b[0m\u001b[0;34m]\u001b[0m\u001b[0;34m[\u001b[0m\u001b[0;34m'type1'\u001b[0m\u001b[0;34m]\u001b[0m\u001b[0;34m[\u001b[0m\u001b[0;34m.\u001b[0m\u001b[0;34m.\u001b[0m\u001b[0;34m.\u001b[0m\u001b[0;34m]\u001b[0m\u001b[0;34m.\u001b[0m\u001b[0msqueeze\u001b[0m\u001b[0;34m(\u001b[0m\u001b[0;34m)\u001b[0m \u001b[0;34m<\u001b[0m\u001b[0;36m7\u001b[0m\u001b[0;34m)\u001b[0m\u001b[0;34m)\u001b[0m\u001b[0;34m\u001b[0m\u001b[0m\n\u001b[0m\u001b[1;32m      3\u001b[0m \u001b[0mcompanionMS\u001b[0m \u001b[0;34m=\u001b[0m \u001b[0;34m(\u001b[0m\u001b[0mf\u001b[0m\u001b[0;34m[\u001b[0m\u001b[0;34m'commonEnvelopes'\u001b[0m\u001b[0;34m]\u001b[0m\u001b[0;34m[\u001b[0m\u001b[0;34m'type2'\u001b[0m\u001b[0;34m]\u001b[0m\u001b[0;34m[\u001b[0m\u001b[0;34m.\u001b[0m\u001b[0;34m.\u001b[0m\u001b[0;34m.\u001b[0m\u001b[0;34m]\u001b[0m\u001b[0;34m.\u001b[0m\u001b[0msqueeze\u001b[0m\u001b[0;34m(\u001b[0m\u001b[0;34m)\u001b[0m \u001b[0;34m==\u001b[0m \u001b[0;36m1\u001b[0m\u001b[0;34m)\u001b[0m \u001b[0;34m|\u001b[0m              \u001b[0;34m(\u001b[0m\u001b[0mf\u001b[0m\u001b[0;34m[\u001b[0m\u001b[0;34m'commonEnvelopes'\u001b[0m\u001b[0;34m]\u001b[0m\u001b[0;34m[\u001b[0m\u001b[0;34m'type2'\u001b[0m\u001b[0;34m]\u001b[0m\u001b[0;34m[\u001b[0m\u001b[0;34m.\u001b[0m\u001b[0;34m.\u001b[0m\u001b[0;34m.\u001b[0m\u001b[0;34m]\u001b[0m\u001b[0;34m.\u001b[0m\u001b[0msqueeze\u001b[0m\u001b[0;34m(\u001b[0m\u001b[0;34m)\u001b[0m \u001b[0;34m==\u001b[0m \u001b[0;36m0\u001b[0m\u001b[0;34m)\u001b[0m\u001b[0;34m\u001b[0m\u001b[0m\n\u001b[1;32m      4\u001b[0m \u001b[0mseeds\u001b[0m        \u001b[0;34m=\u001b[0m \u001b[0mnp\u001b[0m\u001b[0;34m.\u001b[0m\u001b[0min1d\u001b[0m\u001b[0;34m(\u001b[0m\u001b[0mf\u001b[0m\u001b[0;34m[\u001b[0m\u001b[0;34m'commonEnvelopes'\u001b[0m\u001b[0;34m]\u001b[0m\u001b[0;34m[\u001b[0m\u001b[0;34m'randomSeed'\u001b[0m\u001b[0;34m]\u001b[0m\u001b[0;34m[\u001b[0m\u001b[0;34m.\u001b[0m\u001b[0;34m.\u001b[0m\u001b[0;34m.\u001b[0m\u001b[0;34m]\u001b[0m\u001b[0;34m.\u001b[0m\u001b[0msqueeze\u001b[0m\u001b[0;34m(\u001b[0m\u001b[0;34m)\u001b[0m\u001b[0;34m,\u001b[0m \u001b[0mseedsRemain\u001b[0m\u001b[0;34m)\u001b[0m\u001b[0;34m\u001b[0m\u001b[0m\n\u001b[1;32m      5\u001b[0m \u001b[0mmaskInterest\u001b[0m \u001b[0;34m=\u001b[0m \u001b[0mdonorPostMS\u001b[0m \u001b[0;34m&\u001b[0m \u001b[0mcompanionMS\u001b[0m \u001b[0;34m&\u001b[0m \u001b[0mseeds\u001b[0m\u001b[0;34m\u001b[0m\u001b[0m\n",
      "\u001b[0;32mh5py/_objects.pyx\u001b[0m in \u001b[0;36mh5py._objects.with_phil.wrapper\u001b[0;34m()\u001b[0m\n",
      "\u001b[0;32mh5py/_objects.pyx\u001b[0m in \u001b[0;36mh5py._objects.with_phil.wrapper\u001b[0;34m()\u001b[0m\n",
      "\u001b[0;32m/Users/floorbroekgaarden/anaconda2/lib/python2.7/site-packages/h5py/_hl/group.pyc\u001b[0m in \u001b[0;36m__getitem__\u001b[0;34m(self, name)\u001b[0m\n\u001b[1;32m    260\u001b[0m                 \u001b[0;32mraise\u001b[0m \u001b[0mValueError\u001b[0m\u001b[0;34m(\u001b[0m\u001b[0;34m\"Invalid HDF5 object reference\"\u001b[0m\u001b[0;34m)\u001b[0m\u001b[0;34m\u001b[0m\u001b[0m\n\u001b[1;32m    261\u001b[0m         \u001b[0;32melse\u001b[0m\u001b[0;34m:\u001b[0m\u001b[0;34m\u001b[0m\u001b[0m\n\u001b[0;32m--> 262\u001b[0;31m             \u001b[0moid\u001b[0m \u001b[0;34m=\u001b[0m \u001b[0mh5o\u001b[0m\u001b[0;34m.\u001b[0m\u001b[0mopen\u001b[0m\u001b[0;34m(\u001b[0m\u001b[0mself\u001b[0m\u001b[0;34m.\u001b[0m\u001b[0mid\u001b[0m\u001b[0;34m,\u001b[0m \u001b[0mself\u001b[0m\u001b[0;34m.\u001b[0m\u001b[0m_e\u001b[0m\u001b[0;34m(\u001b[0m\u001b[0mname\u001b[0m\u001b[0;34m)\u001b[0m\u001b[0;34m,\u001b[0m \u001b[0mlapl\u001b[0m\u001b[0;34m=\u001b[0m\u001b[0mself\u001b[0m\u001b[0;34m.\u001b[0m\u001b[0m_lapl\u001b[0m\u001b[0;34m)\u001b[0m\u001b[0;34m\u001b[0m\u001b[0m\n\u001b[0m\u001b[1;32m    263\u001b[0m \u001b[0;34m\u001b[0m\u001b[0m\n\u001b[1;32m    264\u001b[0m         \u001b[0motype\u001b[0m \u001b[0;34m=\u001b[0m \u001b[0mh5i\u001b[0m\u001b[0;34m.\u001b[0m\u001b[0mget_type\u001b[0m\u001b[0;34m(\u001b[0m\u001b[0moid\u001b[0m\u001b[0;34m)\u001b[0m\u001b[0;34m\u001b[0m\u001b[0m\n",
      "\u001b[0;32mh5py/_objects.pyx\u001b[0m in \u001b[0;36mh5py._objects.with_phil.wrapper\u001b[0;34m()\u001b[0m\n",
      "\u001b[0;32mh5py/_objects.pyx\u001b[0m in \u001b[0;36mh5py._objects.with_phil.wrapper\u001b[0;34m()\u001b[0m\n",
      "\u001b[0;32mh5py/h5o.pyx\u001b[0m in \u001b[0;36mh5py.h5o.open\u001b[0;34m()\u001b[0m\n",
      "\u001b[0;31mKeyError\u001b[0m: \"Unable to open object (object 'type1' doesn't exist)\""
     ]
    }
   ],
   "source": [
    "# test the number of stable mass transfers.\n",
    "donorPostMS = ((f['commonEnvelopes']['type1'][...].squeeze() >1) &\\\n",
    "              (f['commonEnvelopes']['type1'][...].squeeze() <7))\n",
    "companionMS = (f['commonEnvelopes']['type2'][...].squeeze() == 1) |\\\n",
    "              (f['commonEnvelopes']['type2'][...].squeeze() == 0)\n",
    "seeds        = np.in1d(f['commonEnvelopes']['randomSeed'][...].squeeze(), seedsRemain)\n",
    "maskInterest = donorPostMS & companionMS & seeds\n",
    "seedsCEE    = f['commonEnvelopes']['randomSeed'][...].squeeze()\\\n",
    "                                [maskInterest]\n",
    "seedsRemain = seedsRemain[np.logical_not(np.in1d(seedsRemain, seedsCEE))]\n",
    "nrStable     = float(len(seedsRemain))\n",
    "print \"percentage stable after 1st MT = %s\"  %((nrStable/normalisation)*100)\n",
    "del seedsCEE\n",
    "del donorPostMS\n",
    "del companionMS\n",
    "del maskInterest\n",
    "gc.collect()"
   ]
  },
  {
   "cell_type": "code",
   "execution_count": 10,
   "metadata": {},
   "outputs": [
    {
     "name": "stdout",
     "output_type": "stream",
     "text": [
      "1018277\n",
      "percentage surviving first SN = 11.6828065375\n"
     ]
    },
    {
     "data": {
      "text/plain": [
       "0"
      ]
     },
     "execution_count": 10,
     "metadata": {},
     "output_type": "execute_result"
    }
   ],
   "source": [
    "# nr systems that survived the first SN\n",
    "primary   = f['supernovae']['whichStar'][...].squeeze() ==1\n",
    "survived  = f['supernovae']['Survived'][...].squeeze() == True\n",
    "BH        = f['supernovae']['RemnantType'][...].squeeze() == 14\n",
    "maskInterest = BH & primary & survived\n",
    "print np.sum(maskInterest)\n",
    "seedsSN   = f['supernovae']['randomSeed'][...].squeeze()[maskInterest]\n",
    "seedsRemain = seedsRemain[(np.in1d(seedsRemain, seedsSN))]\n",
    "print \"percentage surviving first SN = %s\"  %((len(seedsRemain)/normalisation)*100)\n",
    "del primary\n",
    "del BH\n",
    "del survived\n",
    "del seedsSN\n",
    "gc.collect()"
   ]
  },
  {
   "cell_type": "code",
   "execution_count": 11,
   "metadata": {},
   "outputs": [
    {
     "name": "stdout",
     "output_type": "stream",
     "text": [
      "percentage having a second MT from secondary  = 10.4825161399\n",
      "4259793261020842\n"
     ]
    }
   ],
   "source": [
    "#nr systems second mass transfer \n",
    "secondMoment = (nthMoment == 2)[RLOF_Z_MASK]\n",
    "secondary    = (f['RLOF']['flagRLOF2'][...].squeeze() == True)[RLOF_Z_MASK]\n",
    "seeds        = np.in1d(f['RLOF']['randomSeed'][...].squeeze()[RLOF_Z_MASK], seedsRemain)\n",
    "maskInterest = secondMoment & secondary & seeds\n",
    "seedsRemain  = f['RLOF']['randomSeed'][...].squeeze()[RLOF_Z_MASK][maskInterest]\n",
    "print \"percentage having a second MT from secondary  = %s\"  %((len(seedsRemain)/normalisation)*100)\n",
    "del secondMoment\n",
    "del secondary\n",
    "del seeds\n",
    "gc.collect()\n",
    "print seedsRemain[0]"
   ]
  },
  {
   "cell_type": "code",
   "execution_count": 12,
   "metadata": {},
   "outputs": [
    {
     "ename": "KeyError",
     "evalue": "\"Unable to open object (object 'type2' doesn't exist)\"",
     "output_type": "error",
     "traceback": [
      "\u001b[0;31m---------------------------------------------------------------------------\u001b[0m",
      "\u001b[0;31mKeyError\u001b[0m                                  Traceback (most recent call last)",
      "\u001b[0;32m<ipython-input-12-db02a7f0c7f3>\u001b[0m in \u001b[0;36m<module>\u001b[0;34m()\u001b[0m\n\u001b[1;32m      1\u001b[0m \u001b[0;31m# test the number of stable mass transfers.\u001b[0m\u001b[0;34m\u001b[0m\u001b[0;34m\u001b[0m\u001b[0m\n\u001b[0;32m----> 2\u001b[0;31m \u001b[0mdonorUnstripped\u001b[0m \u001b[0;34m=\u001b[0m \u001b[0;34m(\u001b[0m\u001b[0mf\u001b[0m\u001b[0;34m[\u001b[0m\u001b[0;34m'commonEnvelopes'\u001b[0m\u001b[0;34m]\u001b[0m\u001b[0;34m[\u001b[0m\u001b[0;34m'type2'\u001b[0m\u001b[0;34m]\u001b[0m\u001b[0;34m[\u001b[0m\u001b[0;34m.\u001b[0m\u001b[0;34m.\u001b[0m\u001b[0;34m.\u001b[0m\u001b[0;34m]\u001b[0m\u001b[0;34m.\u001b[0m\u001b[0msqueeze\u001b[0m\u001b[0;34m(\u001b[0m\u001b[0;34m)\u001b[0m \u001b[0;34m<\u001b[0m\u001b[0;36m7\u001b[0m\u001b[0;34m)\u001b[0m\u001b[0;34m\u001b[0m\u001b[0m\n\u001b[0m\u001b[1;32m      3\u001b[0m \u001b[0;31m#donor not allowed to be a HG star\u001b[0m\u001b[0;34m\u001b[0m\u001b[0;34m\u001b[0m\u001b[0m\n\u001b[1;32m      4\u001b[0m \u001b[0mseeds\u001b[0m           \u001b[0;34m=\u001b[0m \u001b[0mnp\u001b[0m\u001b[0;34m.\u001b[0m\u001b[0min1d\u001b[0m\u001b[0;34m(\u001b[0m\u001b[0mf\u001b[0m\u001b[0;34m[\u001b[0m\u001b[0;34m'commonEnvelopes'\u001b[0m\u001b[0;34m]\u001b[0m\u001b[0;34m[\u001b[0m\u001b[0;34m'randomSeed'\u001b[0m\u001b[0;34m]\u001b[0m\u001b[0;34m[\u001b[0m\u001b[0;34m.\u001b[0m\u001b[0;34m.\u001b[0m\u001b[0;34m.\u001b[0m\u001b[0;34m]\u001b[0m\u001b[0;34m.\u001b[0m\u001b[0msqueeze\u001b[0m\u001b[0;34m(\u001b[0m\u001b[0;34m)\u001b[0m\u001b[0;34m,\u001b[0m \u001b[0mseedsRemain\u001b[0m\u001b[0;34m)\u001b[0m\u001b[0;34m\u001b[0m\u001b[0m\n\u001b[1;32m      5\u001b[0m \u001b[0mmaskInterest\u001b[0m    \u001b[0;34m=\u001b[0m \u001b[0mseeds\u001b[0m \u001b[0;34m&\u001b[0m \u001b[0mdonorUnstripped\u001b[0m\u001b[0;34m\u001b[0m\u001b[0m\n",
      "\u001b[0;32mh5py/_objects.pyx\u001b[0m in \u001b[0;36mh5py._objects.with_phil.wrapper\u001b[0;34m()\u001b[0m\n",
      "\u001b[0;32mh5py/_objects.pyx\u001b[0m in \u001b[0;36mh5py._objects.with_phil.wrapper\u001b[0;34m()\u001b[0m\n",
      "\u001b[0;32m/Users/floorbroekgaarden/anaconda2/lib/python2.7/site-packages/h5py/_hl/group.pyc\u001b[0m in \u001b[0;36m__getitem__\u001b[0;34m(self, name)\u001b[0m\n\u001b[1;32m    260\u001b[0m                 \u001b[0;32mraise\u001b[0m \u001b[0mValueError\u001b[0m\u001b[0;34m(\u001b[0m\u001b[0;34m\"Invalid HDF5 object reference\"\u001b[0m\u001b[0;34m)\u001b[0m\u001b[0;34m\u001b[0m\u001b[0m\n\u001b[1;32m    261\u001b[0m         \u001b[0;32melse\u001b[0m\u001b[0;34m:\u001b[0m\u001b[0;34m\u001b[0m\u001b[0m\n\u001b[0;32m--> 262\u001b[0;31m             \u001b[0moid\u001b[0m \u001b[0;34m=\u001b[0m \u001b[0mh5o\u001b[0m\u001b[0;34m.\u001b[0m\u001b[0mopen\u001b[0m\u001b[0;34m(\u001b[0m\u001b[0mself\u001b[0m\u001b[0;34m.\u001b[0m\u001b[0mid\u001b[0m\u001b[0;34m,\u001b[0m \u001b[0mself\u001b[0m\u001b[0;34m.\u001b[0m\u001b[0m_e\u001b[0m\u001b[0;34m(\u001b[0m\u001b[0mname\u001b[0m\u001b[0;34m)\u001b[0m\u001b[0;34m,\u001b[0m \u001b[0mlapl\u001b[0m\u001b[0;34m=\u001b[0m\u001b[0mself\u001b[0m\u001b[0;34m.\u001b[0m\u001b[0m_lapl\u001b[0m\u001b[0;34m)\u001b[0m\u001b[0;34m\u001b[0m\u001b[0m\n\u001b[0m\u001b[1;32m    263\u001b[0m \u001b[0;34m\u001b[0m\u001b[0m\n\u001b[1;32m    264\u001b[0m         \u001b[0motype\u001b[0m \u001b[0;34m=\u001b[0m \u001b[0mh5i\u001b[0m\u001b[0;34m.\u001b[0m\u001b[0mget_type\u001b[0m\u001b[0;34m(\u001b[0m\u001b[0moid\u001b[0m\u001b[0;34m)\u001b[0m\u001b[0;34m\u001b[0m\u001b[0m\n",
      "\u001b[0;32mh5py/_objects.pyx\u001b[0m in \u001b[0;36mh5py._objects.with_phil.wrapper\u001b[0;34m()\u001b[0m\n",
      "\u001b[0;32mh5py/_objects.pyx\u001b[0m in \u001b[0;36mh5py._objects.with_phil.wrapper\u001b[0;34m()\u001b[0m\n",
      "\u001b[0;32mh5py/h5o.pyx\u001b[0m in \u001b[0;36mh5py.h5o.open\u001b[0;34m()\u001b[0m\n",
      "\u001b[0;31mKeyError\u001b[0m: \"Unable to open object (object 'type2' doesn't exist)\""
     ]
    }
   ],
   "source": [
    "# test the number of stable mass transfers.\n",
    "donorUnstripped = (f['commonEnvelopes']['type2'][...].squeeze() <7)\n",
    "#donor not allowed to be a HG star\n",
    "seeds           = np.in1d(f['commonEnvelopes']['randomSeed'][...].squeeze(), seedsRemain)\n",
    "maskInterest    = seeds & donorUnstripped \n",
    "seedsRemain        = f['commonEnvelopes']['randomSeed'][...].squeeze()[maskInterest]\n",
    "print \"percentage unstable second MT =  %s\"  %((len(seedsRemain)/normalisation)*100)"
   ]
  },
  {
   "cell_type": "code",
   "execution_count": 13,
   "metadata": {},
   "outputs": [
    {
     "name": "stderr",
     "output_type": "stream",
     "text": [
      "/home/cneijssel/.local/lib/python2.7/site-packages/ipykernel/__main__.py:10: RuntimeWarning: invalid value encountered in less\n"
     ]
    },
    {
     "name": "stdout",
     "output_type": "stream",
     "text": [
      "percentage survived =  0.496133333333\n"
     ]
    },
    {
     "data": {
      "text/plain": [
       "0"
      ]
     },
     "execution_count": 13,
     "metadata": {},
     "output_type": "execute_result"
    }
   ],
   "source": [
    "survived        = (f['commonEnvelopes']['stellarMerger'][...].squeeze() == False)\n",
    "#we do the pessimistic assumption\n",
    "pessimistic     = f['commonEnvelopes']['optimisticCommonEnvelopeFlag'][...].squeeze() ==  False\n",
    "#they should also not RLOF after stripping directly\n",
    "R1              = f['commonEnvelopes']['radius1AfterStripping'][...].squeeze()\n",
    "RLOF1           = f['commonEnvelopes']['rocheLobe1to2PostCEE'][...].squeeze()\n",
    "R2              = f['commonEnvelopes']['radius2AfterStripping'][...].squeeze()\n",
    "RLOF2           = f['commonEnvelopes']['rocheLobe2to1PostCEE'][...].squeeze()\n",
    "\n",
    "noRLOF          = (np.divide(R1, RLOF1) < 1) & (np.divide(R2, RLOF2) < 1)\n",
    "\n",
    "seeds           = np.in1d(f['commonEnvelopes']['randomSeed'][...].squeeze(), seedsRemain)\n",
    "maskInterest    = seeds &  survived & pessimistic & noRLOF\n",
    "seedsRemain        = f['commonEnvelopes']['randomSeed'][...].squeeze()[maskInterest]\n",
    "print \"percentage survived =  %s\"  %((len(seedsRemain)/normalisation)*100)\n",
    "del survived\n",
    "gc.collect()"
   ]
  },
  {
   "cell_type": "code",
   "execution_count": 14,
   "metadata": {},
   "outputs": [
    {
     "name": "stdout",
     "output_type": "stream",
     "text": [
      "percentage surviving second SN = 0.427\n"
     ]
    },
    {
     "data": {
      "text/plain": [
       "0"
      ]
     },
     "execution_count": 14,
     "metadata": {},
     "output_type": "execute_result"
    }
   ],
   "source": [
    "# nr systems that survived the second SN\n",
    "secondary    = f['supernovae']['whichStar'][...].squeeze() ==2\n",
    "survived     = f['supernovae']['Survived'][...].squeeze() == True\n",
    "BH           = f['supernovae']['RemnantType'][...].squeeze() == 14\n",
    "seeds        = np.in1d(f['supernovae']['randomSeed'][...].squeeze(), seedsRemain)\n",
    "maskInterest = BH & secondary & survived & seeds\n",
    "seedsRemain  = f['supernovae']['randomSeed'][...].squeeze()[maskInterest]\n",
    "print \"percentage surviving second SN = %s\"  %((len(seedsRemain)/normalisation)*100)\n",
    "del secondary\n",
    "del BH\n",
    "del survived\n",
    "gc.collect()"
   ]
  },
  {
   "cell_type": "code",
   "execution_count": 15,
   "metadata": {},
   "outputs": [
    {
     "name": "stdout",
     "output_type": "stream",
     "text": [
      "7193\n",
      "percentage merging within Hubble time = 0.239766666667\n"
     ]
    },
    {
     "data": {
      "text/plain": [
       "0"
      ]
     },
     "execution_count": 15,
     "metadata": {},
     "output_type": "execute_result"
    }
   ],
   "source": [
    "seeds        = np.in1d(f['doubleCompactObjects']['seed'][...].squeeze(), seedsRemain)\n",
    "Hubble       = f['doubleCompactObjects']['mergesInHubbleTimeFlag'][...].squeeze() == True\n",
    "#to double check R1 RLOF1 method before I double check effect of CEE2 mask (there is none so good :) )\n",
    "CEE2         = f['doubleCompactObjects']['RLOFSecondaryAfterCEE'][...].squeeze() == False\n",
    "maskInterest = seeds & Hubble & CEE2\n",
    "seedsRemain  = f['doubleCompactObjects']['seed'][...].squeeze()[maskInterest]\n",
    "print np.sum(maskInterest)\n",
    "print \"percentage merging within Hubble time = %s\"  %((len(seedsRemain)/normalisation)*100)\n",
    "\n",
    "del CEE2\n",
    "del Hubble \n",
    "gc.collect()"
   ]
  },
  {
   "cell_type": "markdown",
   "metadata": {},
   "source": [
    "# Non CEE Channel"
   ]
  },
  {
   "cell_type": "markdown",
   "metadata": {},
   "source": [
    "I go through the same steps except making the 2nd MT stable \n"
   ]
  },
  {
   "cell_type": "code",
   "execution_count": 29,
   "metadata": {},
   "outputs": [
    {
     "name": "stdout",
     "output_type": "stream",
     "text": [
      "post MS primar onto MS secondary \n",
      "of interacting systems 49.2590666667 percentage\n"
     ]
    },
    {
     "data": {
      "text/plain": [
       "0"
      ]
     },
     "execution_count": 29,
     "metadata": {},
     "output_type": "execute_result"
    }
   ],
   "source": [
    "# percentage of systems post MS primaries\n",
    "# MS transfering onto MS secondary  (channel 1 and 2)\n",
    "donorPostMS = ((f['RLOF']['type1Prev'][...].squeeze() >1) &\\\n",
    "              (f['RLOF']['type1Prev'][...].squeeze() <7))[RLOF_Z_MASK]\n",
    "companionMS = ((f['RLOF']['type2Prev'][...].squeeze() == 1) |\\\n",
    "              (f['RLOF']['type2Prev'][...].squeeze() == 0))[RLOF_Z_MASK]\n",
    "primary     = (f['RLOF']['flagRLOF1'][...].squeeze() == True)[RLOF_Z_MASK]\n",
    "firstMoment = (nthMoment == 1)[RLOF_Z_MASK]\n",
    "\n",
    "maskInterest      = [donorPostMS & companionMS & firstMoment & primary]\n",
    "seedsRemain       = f['RLOF']['randomSeed'][...].squeeze()[RLOF_Z_MASK][maskInterest]\n",
    "nrSystemsInterest = len(seedsRemain)\n",
    "print \"post MS primar onto MS secondary \"\n",
    "print \"of interacting systems %s percentage\"\\\n",
    "      %((nrSystemsInterest/normalisation)*100)\n",
    "del donorPostMS\n",
    "del companionMS\n",
    "del firstMoment\n",
    "del primary\n",
    "del maskInterest\n",
    "gc.collect()\n"
   ]
  },
  {
   "cell_type": "code",
   "execution_count": 30,
   "metadata": {},
   "outputs": [
    {
     "name": "stdout",
     "output_type": "stream",
     "text": [
      "percentage stable after 1st MT = 23.0556333333\n"
     ]
    },
    {
     "data": {
      "text/plain": [
       "0"
      ]
     },
     "execution_count": 30,
     "metadata": {},
     "output_type": "execute_result"
    }
   ],
   "source": [
    "# test the number of stable mass transfers.\n",
    "donorPostMS = ((f['commonEnvelopes']['type1'][...].squeeze() >1) &\\\n",
    "              (f['commonEnvelopes']['type1'][...].squeeze() <7))\n",
    "companionMS = (f['commonEnvelopes']['type2'][...].squeeze() == 1) |\\\n",
    "              (f['commonEnvelopes']['type2'][...].squeeze() == 0)\n",
    "seeds        = np.in1d(f['commonEnvelopes']['randomSeed'][...].squeeze(), seedsRemain)\n",
    "maskInterest = donorPostMS & companionMS & seeds\n",
    "seedsCEE    = f['commonEnvelopes']['randomSeed'][...].squeeze()\\\n",
    "                                [maskInterest]\n",
    "seedsRemain = seedsRemain[np.logical_not(np.in1d(seedsRemain, seedsCEE))]\n",
    "nrStable     = float(len(seedsRemain))\n",
    "print \"percentage stable after 1st MT = %s\"  %((nrStable/normalisation)*100)\n",
    "del seedsCEE\n",
    "del donorPostMS\n",
    "del companionMS\n",
    "del maskInterest\n",
    "gc.collect()"
   ]
  },
  {
   "cell_type": "code",
   "execution_count": 31,
   "metadata": {},
   "outputs": [
    {
     "name": "stdout",
     "output_type": "stream",
     "text": [
      "4320585\n",
      "percentage surviving first SN = 2.6639\n"
     ]
    },
    {
     "data": {
      "text/plain": [
       "0"
      ]
     },
     "execution_count": 31,
     "metadata": {},
     "output_type": "execute_result"
    }
   ],
   "source": [
    "# nr systems that survived the first SN\n",
    "primary   = f['supernovae']['whichStar'][...].squeeze() ==1\n",
    "survived  = f['supernovae']['Survived'][...].squeeze() == True\n",
    "BH        = f['supernovae']['RemnantType'][...].squeeze() == 14\n",
    "maskInterest = BH & primary & survived\n",
    "print np.sum(maskInterest)\n",
    "seedsSN   = f['supernovae']['randomSeed'][...].squeeze()[maskInterest]\n",
    "seedsRemain = seedsRemain[(np.in1d(seedsRemain, seedsSN))]\n",
    "print \"percentage surviving first SN = %s\"  %((len(seedsRemain)/normalisation)*100)\n",
    "del primary\n",
    "del BH\n",
    "del survived\n",
    "del seedsSN\n",
    "gc.collect()"
   ]
  },
  {
   "cell_type": "code",
   "execution_count": 32,
   "metadata": {},
   "outputs": [
    {
     "name": "stdout",
     "output_type": "stream",
     "text": [
      "percentage having a second MT from secondary  = 2.22736666667\n",
      "8204607777667079584\n"
     ]
    }
   ],
   "source": [
    "#nr systems second mass transfer \n",
    "secondMoment = (nthMoment == 2)[RLOF_Z_MASK]\n",
    "secondary    = (f['RLOF']['flagRLOF2'][...].squeeze() == True)[RLOF_Z_MASK]\n",
    "seeds        = np.in1d(f['RLOF']['randomSeed'][...].squeeze()[RLOF_Z_MASK], seedsRemain)\n",
    "maskInterest = secondMoment & secondary & seeds\n",
    "seedsRemain  = f['RLOF']['randomSeed'][...].squeeze()[RLOF_Z_MASK][maskInterest]\n",
    "print \"percentage having a second MT from secondary  = %s\"  %((len(seedsRemain)/normalisation)*100)\n",
    "del secondMoment\n",
    "del secondary\n",
    "del seeds\n",
    "gc.collect()\n",
    "print seedsRemain[0]"
   ]
  },
  {
   "cell_type": "code",
   "execution_count": 33,
   "metadata": {},
   "outputs": [
    {
     "name": "stdout",
     "output_type": "stream",
     "text": [
      "percentage stable second MT =  1.35356666667\n"
     ]
    }
   ],
   "source": [
    "# test the number of stable mass transfers.\n",
    "donorUnstripped = (f['commonEnvelopes']['type2'][...].squeeze() <7)\n",
    "#donor not allowed to be a HG star\n",
    "seeds           = np.in1d(f['commonEnvelopes']['randomSeed'][...].squeeze(), seedsRemain)\n",
    "maskInterest    = seeds & donorUnstripped \n",
    "seedsCEE    = f['commonEnvelopes']['randomSeed'][...].squeeze()\\\n",
    "                                [maskInterest]\n",
    "seedsRemain = seedsRemain[np.logical_not(np.in1d(seedsRemain, seedsCEE))]\n",
    "print \"percentage stable second MT =  %s\"  %((len(seedsRemain)/normalisation)*100)"
   ]
  },
  {
   "cell_type": "code",
   "execution_count": 34,
   "metadata": {},
   "outputs": [
    {
     "name": "stdout",
     "output_type": "stream",
     "text": [
      "percentage surviving second SN = 1.01536666667\n"
     ]
    },
    {
     "data": {
      "text/plain": [
       "0"
      ]
     },
     "execution_count": 34,
     "metadata": {},
     "output_type": "execute_result"
    }
   ],
   "source": [
    "# nr systems that survived the second SN\n",
    "secondary    = f['supernovae']['whichStar'][...].squeeze() ==2\n",
    "survived     = f['supernovae']['Survived'][...].squeeze() == True\n",
    "BH           = f['supernovae']['RemnantType'][...].squeeze() == 14\n",
    "seeds        = np.in1d(f['supernovae']['randomSeed'][...].squeeze(), seedsRemain)\n",
    "maskInterest = BH & secondary & survived & seeds\n",
    "seedsRemain  = f['supernovae']['randomSeed'][...].squeeze()[maskInterest]\n",
    "print \"percentage surviving second SN = %s\"  %((len(seedsRemain)/normalisation)*100)\n",
    "del secondary\n",
    "del BH\n",
    "del survived\n",
    "gc.collect()"
   ]
  },
  {
   "cell_type": "code",
   "execution_count": 35,
   "metadata": {},
   "outputs": [
    {
     "name": "stdout",
     "output_type": "stream",
     "text": [
      "4552\n",
      "percentage merging within Hubble time = 0.151733333333\n"
     ]
    },
    {
     "data": {
      "text/plain": [
       "0"
      ]
     },
     "execution_count": 35,
     "metadata": {},
     "output_type": "execute_result"
    }
   ],
   "source": [
    "seeds        = np.in1d(f['doubleCompactObjects']['seed'][...].squeeze(), seedsRemain)\n",
    "Hubble       = f['doubleCompactObjects']['mergesInHubbleTimeFlag'][...].squeeze() == True\n",
    "#to double check R1 RLOF1 method before I double check effect of CEE2 mask (there is none so good :) )\n",
    "CEE2         = f['doubleCompactObjects']['RLOFSecondaryAfterCEE'][...].squeeze() == False\n",
    "maskInterest = seeds & Hubble & CEE2\n",
    "seedsRemain  = f['doubleCompactObjects']['seed'][...].squeeze()[maskInterest]\n",
    "print np.sum(maskInterest)\n",
    "print \"percentage merging within Hubble time = %s\"  %((len(seedsRemain)/normalisation)*100)\n",
    "\n",
    "del CEE2\n",
    "del Hubble \n",
    "gc.collect()"
   ]
  },
  {
   "cell_type": "markdown",
   "metadata": {},
   "source": [
    "# Double Core channel"
   ]
  },
  {
   "cell_type": "code",
   "execution_count": 65,
   "metadata": {},
   "outputs": [
    {
     "name": "stdout",
     "output_type": "stream",
     "text": [
      "1.0\n",
      "post MS primar onto MS secondary \n",
      "of interacting systems 1.39753333333 percentage\n"
     ]
    },
    {
     "data": {
      "text/plain": [
       "0"
      ]
     },
     "execution_count": 65,
     "metadata": {},
     "output_type": "execute_result"
    }
   ],
   "source": [
    "# percentage of systems post MS primaries\n",
    "# MS transfering onto MS secondary  (channel 1 and 2)\n",
    "primaryPostHG = (f['RLOF']['type1Prev'][...].squeeze() >2)[RLOF_Z_MASK]\n",
    "secondaryPostHG = (f['RLOF']['type2Prev'][...].squeeze() >2)[RLOF_Z_MASK]\n",
    "firstMoment = (nthMoment == 1)[RLOF_Z_MASK]\n",
    "\n",
    "maskInterest      = [primaryPostHG & secondaryPostHG & firstMoment]\n",
    "seedsRemain       = f['RLOF']['randomSeed'][...].squeeze()[RLOF_Z_MASK][maskInterest]\n",
    "nrSystemsInterest = len(seedsRemain)\n",
    "\n",
    "testMoment   = CV.getXmomentOfMT(seedsRemain, maxCounter=10)\n",
    "print np.max(testMoment)\n",
    "\n",
    "\n",
    "print \"post MS primar onto MS secondary \"\n",
    "print \"of interacting systems %s percentage\"\\\n",
    "      %((nrSystemsInterest/normalisation)*100)\n",
    "del primaryPostHG\n",
    "del secondaryPostHG\n",
    "del firstMoment\n",
    "del maskInterest\n",
    "gc.collect()\n"
   ]
  },
  {
   "cell_type": "code",
   "execution_count": 66,
   "metadata": {},
   "outputs": [
    {
     "name": "stdout",
     "output_type": "stream",
     "text": [
      "percentage unstable-> CEE = 1.26673333333\n"
     ]
    },
    {
     "data": {
      "text/plain": [
       "0"
      ]
     },
     "execution_count": 66,
     "metadata": {},
     "output_type": "execute_result"
    }
   ],
   "source": [
    "# both stars are post MS\n",
    "primaryPostHG = (f['commonEnvelopes']['type1'][...].squeeze() >2) &\\\n",
    "                (f['commonEnvelopes']['type1'][...].squeeze() <7)\n",
    "secondaryPostHG = (f['commonEnvelopes']['type2'][...].squeeze()>2) &\\\n",
    "                (f['commonEnvelopes']['type2'][...].squeeze() <7)\n",
    "seeds        = np.in1d(f['commonEnvelopes']['randomSeed'][...].squeeze(), seedsRemain)\n",
    "maskInterest = primaryPostHG & secondaryPostHG & seeds \n",
    "seedsRemain    = f['commonEnvelopes']['randomSeed'][...].squeeze()[maskInterest]\n",
    "print \"percentage unstable-> CEE = %s\"  %((len(seedsRemain)/normalisation)*100)\n",
    "del primaryPostHG\n",
    "del secondaryPostHG\n",
    "del seeds\n",
    "del maskInterest\n",
    "gc.collect()"
   ]
  },
  {
   "cell_type": "code",
   "execution_count": 67,
   "metadata": {},
   "outputs": [
    {
     "name": "stderr",
     "output_type": "stream",
     "text": [
      "/home/cneijssel/.local/lib/python2.7/site-packages/ipykernel/__main__.py:9: RuntimeWarning: invalid value encountered in less\n"
     ]
    },
    {
     "name": "stdout",
     "output_type": "stream",
     "text": [
      "percentage survived =  0.7143\n"
     ]
    },
    {
     "data": {
      "text/plain": [
       "0"
      ]
     },
     "execution_count": 67,
     "metadata": {},
     "output_type": "execute_result"
    }
   ],
   "source": [
    "survived        = (f['commonEnvelopes']['stellarMerger'][...].squeeze() == False)\n",
    "#we do the pessimistic assumption\n",
    "pessimistic     = f['commonEnvelopes']['optimisticCommonEnvelopeFlag'][...].squeeze() ==  False\n",
    "#they should also not RLOF after stripping directly\n",
    "R1              = f['commonEnvelopes']['radius1AfterStripping'][...].squeeze()\n",
    "RLOF1           = f['commonEnvelopes']['rocheLobe1to2PostCEE'][...].squeeze()\n",
    "R2              = f['commonEnvelopes']['radius2AfterStripping'][...].squeeze()\n",
    "RLOF2           = f['commonEnvelopes']['rocheLobe2to1PostCEE'][...].squeeze()\n",
    "noRLOF          = (np.divide(R1, RLOF1) < 1) & (np.divide(R2, RLOF2) < 1)\n",
    "\n",
    "seeds           = np.in1d(f['commonEnvelopes']['randomSeed'][...].squeeze(), seedsRemain)\n",
    "maskInterest    = seeds &  survived & pessimistic & noRLOF\n",
    "seedsRemain        = f['commonEnvelopes']['randomSeed'][...].squeeze()[maskInterest]\n",
    "print \"percentage survived =  %s\"  %((len(seedsRemain)/normalisation)*100)\n",
    "del survived\n",
    "gc.collect()"
   ]
  },
  {
   "cell_type": "code",
   "execution_count": 68,
   "metadata": {},
   "outputs": [
    {
     "name": "stdout",
     "output_type": "stream",
     "text": [
      "4320585\n",
      "percentage surviving first SN = 0.0922\n",
      "percentage surviving second SN = 0.0449333333333\n"
     ]
    },
    {
     "data": {
      "text/plain": [
       "0"
      ]
     },
     "execution_count": 68,
     "metadata": {},
     "output_type": "execute_result"
    }
   ],
   "source": [
    "# nr systems that survived the first SN\n",
    "primary   = f['supernovae']['whichStar'][...].squeeze() ==1\n",
    "survived  = f['supernovae']['Survived'][...].squeeze() == True\n",
    "BH        = f['supernovae']['RemnantType'][...].squeeze() == 14\n",
    "maskInterest = BH & primary & survived\n",
    "print np.sum(maskInterest)\n",
    "seedsSN   = f['supernovae']['randomSeed'][...].squeeze()[maskInterest]\n",
    "seedsRemain = seedsRemain[(np.in1d(seedsRemain, seedsSN))]\n",
    "print \"percentage surviving first SN = %s\"  %((len(seedsRemain)/normalisation)*100)\n",
    "del primary\n",
    "del BH\n",
    "del survived\n",
    "del seedsSN\n",
    "gc.collect()\n",
    "\n",
    "# nr systems that survived the second SN\n",
    "secondary    = f['supernovae']['whichStar'][...].squeeze() ==2\n",
    "survived     = f['supernovae']['Survived'][...].squeeze() == True\n",
    "BH           = f['supernovae']['RemnantType'][...].squeeze() == 14\n",
    "seeds        = np.in1d(f['supernovae']['randomSeed'][...].squeeze(), seedsRemain)\n",
    "maskInterest = BH & secondary & survived & seeds\n",
    "seedsRemain  = f['supernovae']['randomSeed'][...].squeeze()[maskInterest]\n",
    "print \"percentage surviving second SN = %s\"  %((len(seedsRemain)/normalisation)*100)\n",
    "del secondary\n",
    "del BH\n",
    "del survived\n",
    "gc.collect()"
   ]
  },
  {
   "cell_type": "code",
   "execution_count": 69,
   "metadata": {},
   "outputs": [
    {
     "name": "stdout",
     "output_type": "stream",
     "text": [
      "921\n",
      "percentage merging within Hubble time = 0.0307\n"
     ]
    },
    {
     "data": {
      "text/plain": [
       "0"
      ]
     },
     "execution_count": 69,
     "metadata": {},
     "output_type": "execute_result"
    }
   ],
   "source": [
    "seeds        = np.in1d(f['doubleCompactObjects']['seed'][...].squeeze(), seedsRemain)\n",
    "Hubble       = f['doubleCompactObjects']['mergesInHubbleTimeFlag'][...].squeeze() == True\n",
    "#to double check R1 RLOF1 method before I double check effect of CEE2 mask (there is none so good :) )\n",
    "CEE2         = f['doubleCompactObjects']['RLOFSecondaryAfterCEE'][...].squeeze() == False\n",
    "maskInterest = seeds & Hubble & CEE2\n",
    "seedsRemain  = f['doubleCompactObjects']['seed'][...].squeeze()[maskInterest]\n",
    "print np.sum(maskInterest)\n",
    "print \"percentage merging within Hubble time = %s\"  %((len(seedsRemain)/normalisation)*100)\n",
    "\n",
    "del CEE2\n",
    "del Hubble \n",
    "gc.collect()"
   ]
  },
  {
   "cell_type": "code",
   "execution_count": null,
   "metadata": {
    "collapsed": true
   },
   "outputs": [],
   "source": []
  }
 ],
 "metadata": {
  "kernelspec": {
   "display_name": "Python 2",
   "language": "python",
   "name": "python2"
  },
  "language_info": {
   "codemirror_mode": {
    "name": "ipython",
    "version": 2
   },
   "file_extension": ".py",
   "mimetype": "text/x-python",
   "name": "python",
   "nbconvert_exporter": "python",
   "pygments_lexer": "ipython2",
   "version": "2.7.16"
  }
 },
 "nbformat": 4,
 "nbformat_minor": 2
}
