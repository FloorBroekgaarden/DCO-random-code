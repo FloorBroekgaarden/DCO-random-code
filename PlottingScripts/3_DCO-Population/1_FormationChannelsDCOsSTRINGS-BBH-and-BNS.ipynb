{
 "cells": [
  {
   "cell_type": "code",
   "execution_count": null,
   "metadata": {},
   "outputs": [],
   "source": [
    "# #path to the data\n",
    "# pathCOMPASOutput = '/Volumes/TOSHIBA EXT/black_hole-neutron_star/Fiducial/'\n"
   ]
  },
  {
   "cell_type": "code",
   "execution_count": 1,
   "metadata": {},
   "outputs": [],
   "source": [
    "#Needed in general\n",
    "import numpy as np\n",
    "import matplotlib.pyplot as plt\n",
    "import sys\n",
    "\n",
    "#Quick fudge to make import from ../Scripts work\n",
    "sys.path.append('../../Scripts')\n",
    "\n",
    "#Custom imports\n",
    "import ClassCOMPAS     as CC ###\n",
    "import ClassFormationChannels as FC \n",
    "import coencodeVarious        as CV\n"
   ]
  },
  {
   "cell_type": "markdown",
   "metadata": {},
   "source": [
    "# General Idea"
   ]
  },
  {
   "cell_type": "markdown",
   "metadata": {},
   "source": [
    "The formation of DCos happens through several channels\n",
    "In this notebook we first figure out what the main channels are.\n",
    "And we group their seeds accordingly. This uses the formation channels class\n",
    "and the formation channel printing output of COMPAS.\n",
    "\n",
    "\n",
    "WARNING:\n",
    "\n",
    "During the time of these simulations\n",
    "not all bugs (MS mass transfers). As it happens MS mass transfer is not important for the formation of BHs, but this data set of formation channels might be buggy for other projects such as BeXRBs or LRN.\n",
    "This has been fixed since.\n",
    "Furthermore this simulation did not have later introduced SN types ( (P)PISN). Future implementation of the formation channel output might change and make this notebook outdated. Note that a temporary workaround is to give a list of seeds from PPISN, and a list of seeds without PPISN to differentiate.\n"
   ]
  },
  {
   "cell_type": "markdown",
   "metadata": {
    "collapsed": true
   },
   "source": [
    "The formation channel output gives a line per system in the entire simulation\n",
    "hence reducing /sorting such an array will possibly leave your pc in flames.\n",
    "\n",
    "Hence we only want the channels of systems of interest\n",
    "so we pass the unique seeds we are interested in.\n"
   ]
  },
  {
   "cell_type": "code",
   "execution_count": 2,
   "metadata": {},
   "outputs": [],
   "source": [
    "#all the counts strings and channels are sorted\n",
    "#this function prints the main channels and checks what \n",
    "#percentage of all DCO=type is accounted for\n",
    "def printTopXchannels(x):\n",
    "    maxx = x\n",
    "    i    = 0\n",
    "    totalPercentage = 0.\n",
    "    while i <= maxx:\n",
    "        print 'Nr systems = %s'%(fc.sortedCounts[i])\n",
    "        percentage = fc.sortedCounts[i] / float(np.sum(fc.sortedCounts))\n",
    "        print 'pecentage of all %s' %(percentage)\n",
    "        totalPercentage += percentage\n",
    "        print fc.sortedStrings[i]\n",
    "        i +=1\n",
    "        print 'ssss ', len(fc.sortedCounts)\n",
    "    print 'the above channels account for %s of all systems'  \\\n",
    "    %(totalPercentage)"
   ]
  },
  {
   "cell_type": "markdown",
   "metadata": {},
   "source": [
    "# Get the formation channels and seeds BBH"
   ]
  },
  {
   "cell_type": "code",
   "execution_count": null,
   "metadata": {},
   "outputs": [],
   "source": [
    "pathCOMPASOutput='/Volumes/Virgo/DATA/BHNS/Fiducial/'\n",
    "\n",
    "#hdf5 name needs to be: COMPASOutput.h5\n",
    "\n",
    "#If you want to see what steps and class attributes are set -> verbose=True\n",
    "fc = FC.FormationChannels(path = pathCOMPASOutput,verbose=True)"
   ]
  },
  {
   "cell_type": "code",
   "execution_count": null,
   "metadata": {},
   "outputs": [],
   "source": [
    "#I dont want to take the merged within Hubble time into account in the formation\n",
    "#channels. meaning if we have two exactly the same channels but one mergers within \n",
    "#Hubble and one doesnt. Techinally this is two different channels.\n",
    "#By adding this column to delete columns we ignore this colum.\n",
    "#Same could be done for stellar types of donors etc\n",
    "# fc.deleteColumns = ['merged_in_Hubble_time'] #/floor\n",
    "\n",
    "# For DCO types I have inbuilt sorter to return seeds\n",
    "# set types argument and leave seeds argument empty (or None)\n",
    "#note that withinHubbleTime and optimistic argument are  only used\n",
    "# when types is given, not for seeds.\n",
    "#Additionally there are the following arguments with their Default:\n",
    "#   withinHubbleTime=True, optimistic=False\n",
    "#Not that optimistic True, or withinHubble = False does not give opposite but all systems\n",
    "fc.formationChannelsSeeds(seeds=None, types='BBH', withinHubbleTime=True, optimistic=False)\n"
   ]
  },
  {
   "cell_type": "markdown",
   "metadata": {},
   "source": [
    "# I just do the following since I also wanna know their masses. But you can skip this step\n"
   ]
  },
  {
   "cell_type": "code",
   "execution_count": null,
   "metadata": {},
   "outputs": [],
   "source": [
    "\n",
    "\n",
    "Data            = CC.COMPASData(path=pathCOMPASOutput, lazyData=True, Mlower=5., \\\n",
    "                 Mupper=150., binaryFraction=0.6)\n",
    "# print len(Data.mass1[...].squeeze())\n",
    "#     print(len(Data.mass1))\n",
    "Data.setCOMPASDCOmask(types='BBH',  withinHubbleTime=True, optimistic=False)\n",
    "Data.setCOMPASData()\n",
    "if len(Data.mass1[...].squeeze()):\n",
    "    print(len(Data.mass1))\n",
    "\n",
    "SeedsHubble    = Data.seeds[Data.Hubble==True]\n",
    "print(len(SeedsHubble))"
   ]
  },
  {
   "cell_type": "code",
   "execution_count": null,
   "metadata": {},
   "outputs": [],
   "source": [
    "#weighted samples :-D\n",
    "# Remember to  self.setCOMPASDCOmask() adag and self.setCOMPASData()\n",
    "# 1076538\n",
    "# 1076538 \n",
    "\n",
    "\n",
    "\n",
    "#My channels:\n",
    "\n",
    "# { 'stable A':[1,7,8,12,24,28,35,47,49], 'stable A rejuvenation':[16,19],\\\n",
    "#                     'stable B':[2,3,4,5,6,21,23,27,29,33], 'stable B no CEE':[15,17,42], \\\n",
    "#                     'stable C':[11,20,22,25,32,37,38,39,43],\\\n",
    "#                 r'unstable $\\rightarrow$ CE':[13,18,26,30,45,48],  r'unstable $\\rightarrow$ DCCE':[9,10,14,31,34,36,40,41,44, 46], \\\n",
    "#                     }\n",
    "# SNlucky = [21,25]\n",
    "# dictChannelsBHNS = { 'stable A':[13,22,26], 'stable A rejuvenation':[4,6,15,20,24,29,36,39],\\\n",
    "#                     'stable B':[1,2,3,8,11,16,28,35], 'stable B no CEE':[5,12,23,27,32,34,38], \\\n",
    "#                     'stable C':[9,19,40],\\\n",
    "#                 r'unstable $\\rightarrow$ CE':[17,18,37],  r'unstable $\\rightarrow$ DCCE':[7,10,14,30,31,33,41], \\\n",
    "#                     }\n",
    "# bug channels = "
   ]
  },
  {
   "cell_type": "code",
   "execution_count": null,
   "metadata": {},
   "outputs": [],
   "source": []
  },
  {
   "cell_type": "markdown",
   "metadata": {},
   "source": [
    "# print string formation channel of index channel (index starts at 1, where index=1 is most common channel)"
   ]
  },
  {
   "cell_type": "code",
   "execution_count": null,
   "metadata": {
    "scrolled": false
   },
   "outputs": [],
   "source": [
    "#The method :\n",
    "#Go index by index -> read string and group in cell below the indices\n",
    "#Note some channels do exactlu the #same but one is within Hubble other not, \n",
    "#this is classified as differencce\n",
    "index = 98 #[13,18,26,30,36,40,41,45,46,48]  #[9,10,14,31,34,44] #,18,26,30,36,40,41,45,46,48] #,10,14,31,34,44]\n",
    "index = index-1\n",
    "print fc.sortedStrings[index]\n",
    "\n",
    "print 'I have now accounted for  %s percent', np.sum(fc.sortedCounts[0:index+1])*100 / float(np.sum(fc.sortedCounts))\n",
    "\n",
    "\n",
    "seedsInterest = []\n",
    "seedsInterest.extend(fc.sortedSeeds[index])\n",
    "#         Get metallicity systems this works because seeds in both\n",
    "#         files are in the same order\n",
    "# mask = np.in1d(Data.seeds, np.array(seedsInterest))\n",
    "# mass1 = Data.mass1[mask]\n",
    "# mass2 = Data.mass2[mask]\n",
    "# print(mass1)\n",
    "print(len(seedsInterest))\n",
    "\n",
    "# print(len(mass1))"
   ]
  },
  {
   "cell_type": "code",
   "execution_count": null,
   "metadata": {},
   "outputs": [],
   "source": []
  },
  {
   "cell_type": "code",
   "execution_count": null,
   "metadata": {},
   "outputs": [],
   "source": [
    "dictChannelsBBH = { 'classic':[1,3,5,7,8], 'immediate CE':[9],\\\n",
    "                     'stable B no CEE':[2,6,10,13], \\\n",
    "                 r'double-core CE':[4,11],  \\\n",
    "                    'other':[12,15, 16, 17, 18, 19, 20, 21, 22, 23, 24, \\\n",
    "                             25, 26, 27, 28, 29, 30, 31, 32, 33, 34, 35,\\\n",
    "                             36, 37, 38, 39, 40, 41, 42, 43, 44, 45, 46, \\\n",
    "                             47, 48, 49, 50, 51, 52, 53, 54, 55, 56, 57, \\\n",
    "                             58, 59, 60, 61, 62, 63, 64, 65, 66, 67, 68, 69, \\\n",
    "                             70, 71, 72, 73, 74, 75, 76, 77, 78, 79, 80, 81, 82, \\\n",
    "                             83, 84, 85, 86, 87, 88, 89, 90, 91, 92, 93, 94, 95, 96, 97, 98]\\\n",
    "                    }\n",
    "dictChannelsBBHListBolt = [r'\\textbf{Classic}', \\\n",
    "                            r'\\textbf{Only stable mass transfer}',\\\n",
    "                            r'\\textbf{Immediate single-core CE }',\\\n",
    "                             r'\\textbf{Immediate double-core CE}', r'\\textbf{other}']\n",
    "\n",
    "\n",
    "\n",
    "\n",
    "dictChannelsBBHList = ['classic', \\\n",
    "                      'stable B no CEE', \\\n",
    "                    'immediate CE',\\\n",
    "                 r'double-core CE', 'other']\n",
    "\n",
    "# fractionslist = { 'stable B':70.2, 'stable B no CEE':4.7, \\\n",
    "#                     'case B immediate CE':6.5,'stable C':4.4,\\\n",
    "#                     r'case C immediate CE':1.1, \n",
    "#                     'stable A':3.5, \\\n",
    "#                  r'double-core CE':8.25, 'other':1.3\\\n",
    "#                  }\n",
    "\n"
   ]
  },
  {
   "cell_type": "code",
   "execution_count": null,
   "metadata": {},
   "outputs": [],
   "source": [
    "allchannels = np.asarray(range(98)) +1\n",
    "new_list = allchannels\n",
    "for _, Ch_name in enumerate(dictChannelsBBHList):\n",
    "    channel_list = dictChannelsBBH[Ch_name]\n",
    "\n",
    "    \n",
    "    new_list = [nr for nr in  new_list if nr not in channel_list]\n",
    "print new_list"
   ]
  },
  {
   "cell_type": "code",
   "execution_count": null,
   "metadata": {},
   "outputs": [],
   "source": []
  },
  {
   "cell_type": "code",
   "execution_count": null,
   "metadata": {},
   "outputs": [],
   "source": []
  },
  {
   "cell_type": "code",
   "execution_count": null,
   "metadata": {},
   "outputs": [],
   "source": []
  },
  {
   "cell_type": "code",
   "execution_count": null,
   "metadata": {},
   "outputs": [],
   "source": []
  },
  {
   "cell_type": "code",
   "execution_count": null,
   "metadata": {},
   "outputs": [],
   "source": []
  },
  {
   "cell_type": "markdown",
   "metadata": {},
   "source": [
    "# BNS"
   ]
  },
  {
   "cell_type": "code",
   "execution_count": 3,
   "metadata": {},
   "outputs": [],
   "source": [
    "pathCOMPASOutput='/Volumes/Virgo/DATA/BHNS/Fiducial/'\n",
    "\n",
    "#hdf5 name needs to be: COMPASOutput.h5\n",
    "\n",
    "#If you want to see what steps and class attributes are set -> verbose=True\n",
    "fc = FC.FormationChannels(path = pathCOMPASOutput,verbose=True)"
   ]
  },
  {
   "cell_type": "code",
   "execution_count": 4,
   "metadata": {},
   "outputs": [
    {
     "name": "stdout",
     "output_type": "stream",
     "text": [
      "self.booleanFilter \n",
      " Looking up the seeds/systems and creating mask for formation Channels. \n",
      "Doing the formation channels for 38183 systems\n",
      "self.header \n",
      " Sorted which columns from formation channels we use\n",
      "Counting/sorting the unique Channels\n",
      "self.sortedChannels self.sortedCounts \n",
      " Combining the counts and channels in arrays\n",
      "(17723.294151464976, 'sum sorted counts')\n",
      "Done\n",
      "self.rankArray \n",
      " Creating column with rank of each system, patience required :)\n",
      "Done :D \n",
      "self.sortedSeeds \n",
      " Creating array per channel with all seeds of that channel\n",
      "self.sortedStrings \n",
      " Constructing human readable string for each of the unique Channels (Magic) \n",
      " :D :D \n",
      " finished in total we have 54 channels for 17723.294151464976 systems\n"
     ]
    }
   ],
   "source": [
    "#I dont want to take the merged within Hubble time into account in the formation\n",
    "#channels. meaning if we have two exactly the same channels but one mergers within \n",
    "#Hubble and one doesnt. Techinally this is two different channels.\n",
    "#By adding this column to delete columns we ignore this colum.\n",
    "#Same could be done for stellar types of donors etc\n",
    "# fc.deleteColumns = ['merged_in_Hubble_time'] #/floor\n",
    "\n",
    "# For DCO types I have inbuilt sorter to return seeds\n",
    "# set types argument and leave seeds argument empty (or None)\n",
    "#note that withinHubbleTime and optimistic argument are  only used\n",
    "# when types is given, not for seeds.\n",
    "#Additionally there are the following arguments with their Default:\n",
    "#   withinHubbleTime=True, optimistic=False\n",
    "#Not that optimistic True, or withinHubble = False does not give opposite but all systems\n",
    "fc.formationChannelsSeeds(seeds=None, types='BNS', withinHubbleTime=True, optimistic=False)\n",
    "\n"
   ]
  },
  {
   "cell_type": "code",
   "execution_count": 24,
   "metadata": {},
   "outputs": [
    {
     "name": "stdout",
     "output_type": "stream",
     "text": [
      " ->mt_primary_ep1 P=EAGB  S=CHeB  ->CEE ->ccSN primary  ->ccSN secondary  -> last type Primary in Form=EAGB  -> last type Secondary in Form=CHeB  -> merged within Hubble=True -> binary disrupted=False\n",
      "I have now accounted for  %s percent 98.77648095242785\n",
      "196\n"
     ]
    }
   ],
   "source": [
    "#The method :\n",
    "#Go index by index -> read string and group in cell below the indices\n",
    "#Note some channels do exactlu the #same but one is within Hubble other not, \n",
    "#this is classified as differencce\n",
    "index = 20 #[13,18,26,30,36,40,41,45,46,48]  #[9,10,14,31,34,44] #,18,26,30,36,40,41,45,46,48] #,10,14,31,34,44]\n",
    "index = index-1\n",
    "print fc.sortedStrings[index]\n",
    "\n",
    "print 'I have now accounted for  %s percent', np.sum(fc.sortedCounts[0:index+1])*100 / float(np.sum(fc.sortedCounts))\n",
    "\n",
    "\n",
    "seedsInterest = []\n",
    "seedsInterest.extend(fc.sortedSeeds[index])\n",
    "#         Get metallicity systems this works because seeds in both\n",
    "#         files are in the same order\n",
    "# mask = np.in1d(Data.seeds, np.array(seedsInterest))\n",
    "# mass1 = Data.mass1[mask]\n",
    "# mass2 = Data.mass2[mask]\n",
    "# print(mass1)\n",
    "print(len(seedsInterest))\n",
    "\n",
    "# print(len(mass1))"
   ]
  },
  {
   "cell_type": "code",
   "execution_count": 29,
   "metadata": {},
   "outputs": [],
   "source": [
    "dictChannelsBNS = { 'classic':[2,4,7,9,10,11,15], 'immediate CE':[],\\\n",
    "                     'stable B no CEE':[], \\\n",
    "                 r'double-core CE':[1,3,5,6,8,12,13,14,16,17,18,19,20],  \\\n",
    "                    'other':[21, 22, 23, 24, 25, 26, 27, 28, 29, 30, 31, \\\n",
    "                             32, 33, 34, 35, 36, 37, 38, 39, 40, 41, 42, \\\n",
    "                             43, 44, 45, 46, 47, 48, 49, 50, 51, 52, 53, \\\n",
    "                             54, 55, 56, 57, 58, 59, 60, 61, 62, 63, 64, \\\n",
    "                             65, 66, 67, 68, 69, 70, 71, 72, 73, 74, 75, \\\n",
    "                             76, 77, 78, 79, 80, 81, 82, 83, 84, 85, 86, \\\n",
    "                             87, 88, 89, 90, 91, 92, 93, 94, 95, 96, 97, 98]\\\n",
    "                    }\n",
    "\n",
    "\n",
    "# fractionslist = { 'stable B':70.2, 'stable B no CEE':4.7, \\\n",
    "#                     'case B immediate CE':6.5,'stable C':4.4,\\\n",
    "#                     r'case C immediate CE':1.1, \n",
    "#                     'stable A':3.5, \\\n",
    "#                  r'double-core CE':8.25, 'other':1.3\\\n",
    "#                  }\n",
    "\n",
    "\n"
   ]
  },
  {
   "cell_type": "markdown",
   "metadata": {},
   "source": [
    "# THIS prints the remaining \"OTHER \" CHANNEL"
   ]
  },
  {
   "cell_type": "code",
   "execution_count": 31,
   "metadata": {},
   "outputs": [
    {
     "name": "stdout",
     "output_type": "stream",
     "text": [
      "[21, 22, 23, 24, 25, 26, 27, 28, 29, 30, 31, 32, 33, 34, 35, 36, 37, 38, 39, 40, 41, 42, 43, 44, 45, 46, 47, 48, 49, 50, 51, 52, 53, 54, 55, 56, 57, 58, 59, 60, 61, 62, 63, 64, 65, 66, 67, 68, 69, 70, 71, 72, 73, 74, 75, 76, 77, 78, 79, 80, 81, 82, 83, 84, 85, 86, 87, 88, 89, 90, 91, 92, 93, 94, 95, 96, 97, 98]\n"
     ]
    }
   ],
   "source": [
    "\n",
    "dictChannelsBBHList = ['classic', \\\n",
    "                      'stable B no CEE', \\\n",
    "                    'immediate CE',\\\n",
    "                 r'double-core CE', 'other']\n",
    "\n",
    "allchannels = np.asarray(range(98)) +1\n",
    "new_list = allchannels\n",
    "for _, Ch_name in enumerate(dictChannelsBBHList):\n",
    "    channel_list = dictChannelsBNS[Ch_name]\n",
    "\n",
    "    \n",
    "    new_list = [nr for nr in  new_list if nr not in channel_list]\n",
    "print new_list"
   ]
  },
  {
   "cell_type": "code",
   "execution_count": null,
   "metadata": {},
   "outputs": [],
   "source": []
  },
  {
   "cell_type": "code",
   "execution_count": null,
   "metadata": {},
   "outputs": [],
   "source": []
  },
  {
   "cell_type": "code",
   "execution_count": null,
   "metadata": {},
   "outputs": [],
   "source": []
  },
  {
   "cell_type": "code",
   "execution_count": null,
   "metadata": {},
   "outputs": [],
   "source": []
  },
  {
   "cell_type": "code",
   "execution_count": null,
   "metadata": {},
   "outputs": [],
   "source": []
  },
  {
   "cell_type": "code",
   "execution_count": null,
   "metadata": {},
   "outputs": [],
   "source": []
  },
  {
   "cell_type": "code",
   "execution_count": null,
   "metadata": {},
   "outputs": [],
   "source": []
  },
  {
   "cell_type": "code",
   "execution_count": null,
   "metadata": {},
   "outputs": [],
   "source": []
  },
  {
   "cell_type": "code",
   "execution_count": null,
   "metadata": {},
   "outputs": [],
   "source": []
  },
  {
   "cell_type": "code",
   "execution_count": null,
   "metadata": {},
   "outputs": [],
   "source": []
  },
  {
   "cell_type": "code",
   "execution_count": null,
   "metadata": {},
   "outputs": [],
   "source": [
    "\n",
    "\n",
    "\n",
    "\n",
    "\n",
    "\n",
    "# dictChannelsBHNS = { 'stable A':[13,16,21], 'case B immediate CE':[4,7,17],\\\n",
    "#                     'stable B':[1,2,8,9,10,18,29], 'stable B no CEE':[11,12,22], \\\n",
    "#                     'stable C':[3,15,25],\\\n",
    "#                 r'case C immediate CE':[19,23],  r'double-core CE':[5,6,20,24,26],  \\\n",
    "#                     'other':[28,30]\\\n",
    "#                     }\n",
    "\n",
    "\n",
    "\n",
    "# dictChannelsBHNS = { 'stable A':[13,16,21], 'case B immediate CE':[4,7,17],\\\n",
    "#                     'stable B':[1,2,8,9,10,18,29], 'stable B no CEE':[11,12,22], \\\n",
    "#                     'stable C':[3,15,25],\\\n",
    "#                 r'case C immediate CE':[19,23],  r'double-core CE':[5,6,14,20,24,26,27],  \\\n",
    "#                     'other':[28,30,31, 32, 33, \\\n",
    "#                              34, 35, 36, 37, 38, 39, 40, 41, 42, 43, 44, 45, 46, 47, 48, 49,\\\n",
    "#                              50, 51, 52, 53, 54, 55, 56, 57, 58, 59, 60, 61, 62, 63, 64, 65,\\\n",
    "#                              66, 67, 68, 69, 70, 71, 72, 73, 74, 75, 76, 77, 78, 79, 80, 81, 82, 83, 84, 85]\\\n",
    "#                     }"
   ]
  },
  {
   "cell_type": "code",
   "execution_count": null,
   "metadata": {},
   "outputs": [],
   "source": [
    "import seaborn as sns\n",
    "snscolor_orange =  sns.color_palette(sns.xkcd_palette([\"amber\"])) "
   ]
  },
  {
   "cell_type": "code",
   "execution_count": null,
   "metadata": {},
   "outputs": [],
   "source": []
  },
  {
   "cell_type": "code",
   "execution_count": null,
   "metadata": {},
   "outputs": [],
   "source": [
    "# # For set up channels:\n",
    "\n",
    "# # from PostProcessingScripts import * \n",
    "\n",
    "\n",
    "# dictChannelsBHNS = { 'stable A':[10,16,19], 'case B immediate CE':[6,7,20,29],\\\n",
    "#                     'stable B':[1,2,5,9,14,18,25,28], 'stable B no CEE':[8,11,31,], \\\n",
    "#                     'stable C':[4,15,26],\\\n",
    "#                 r'case C immediate CE':[17,21,],  r'double-core CE':[3,12,13,23,24,30],  \\\n",
    "#                     'other':[22, 32,33,34,35,36,37,38,39,40,41, 42, 43, 44, 45, 46, 47, 48, 49, 50, 51, 52, 53, 54, 55, 56, 57, 58, 59, 60, 61, 62, 63, 64, 65, 66, 67, 68, 69, 70, 71, 72, 73, 74, 75, 76, 77, 78, 79, 80, 81, 82, 83, 84, 85, 86, 87, 88, 89,90]\\\n",
    "#                     }\n",
    "# # [0,1,2,3,4,5,6,7]\n",
    "\n",
    "# dictChannelsBHNSList = [ 'stable B', 'stable B no CEE', \\\n",
    "#                     'case B immediate CE','stable C',\\\n",
    "#                     r'case C immediate CE', \n",
    "#                     'stable A', \\\n",
    "#                  r'double-core CE', 'other']\n",
    "\n",
    "\n",
    "# allchannels = np.asarray(range(136)) +1\n",
    "# new_list = allchannels\n",
    "# for _, Ch_name in enumerate(dictChannelsBHNSList):\n",
    "#     channel_list = dictChannelsBHNS[Ch_name]\n",
    "\n",
    "    \n",
    "#     new_list = [nr for nr in  new_list if nr not in channel_list]\n",
    "# print new_list"
   ]
  },
  {
   "cell_type": "code",
   "execution_count": null,
   "metadata": {},
   "outputs": [],
   "source": [
    "dictChannelsBHNS = { 'stable A':[13,16,21], 'case B immediate CE':[4,7,17],\\\n",
    "                    'stable B':[1,2,8,9,10,18,29], 'stable B no CEE':[11,12,22], \\\n",
    "                    'stable C':[3,15,25],\\\n",
    "                r'case C immediate CE':[19,23],  r'double-core CE':[5,6,14,20,24,26,27],  \\\n",
    "                    'other':[28,30]\\\n",
    "                    }\n",
    "\n",
    "dictChannelsBHNSList = [ 'stable B', 'stable B no CEE', \\\n",
    "                    'case B immediate CE','stable C',\\\n",
    "                    r'case C immediate CE', \n",
    "                    'stable A', \\\n",
    "                 r'double-core CE', 'other']\n",
    "\n",
    "\n",
    "\n",
    "allchannels = np.asarray(range(85)) +1\n",
    "new_list = allchannels\n",
    "for _, Ch_name in enumerate(dictChannelsBHNSList):\n",
    "    channel_list = dictChannelsBHNS[Ch_name]\n",
    "\n",
    "    \n",
    "    new_list = [nr for nr in  new_list if nr not in channel_list]\n",
    "print new_list\n",
    "\n",
    "\n",
    "\n",
    "dictChannelsBHNS = { 'stable A':[13,16,21], 'case B immediate CE':[4,7,17],\\\n",
    "                    'stable B':[1,2,8,9,10,18,29], 'stable B no CEE':[11,12,22], \\\n",
    "                    'stable C':[3,15,25],\\\n",
    "                r'case C immediate CE':[19,23],  r'double-core CE':[5,6,14,20,24,26,27],  \\\n",
    "                    'other':[28,30,31, 32, 33, \\\n",
    "                             34, 35, 36, 37, 38, 39, 40, 41, 42, 43, 44, 45, 46, 47, 48, 49,\\\n",
    "                             50, 51, 52, 53, 54, 55, 56, 57, 58, 59, 60, 61, 62, 63, 64, 65,\\\n",
    "                             66, 67, 68, 69, 70, 71, 72, 73, 74, 75, 76, 77, 78, 79, 80, 81, 82, 83, 84, 85]\\\n",
    "                    }"
   ]
  },
  {
   "cell_type": "code",
   "execution_count": null,
   "metadata": {},
   "outputs": [],
   "source": [
    "\\"
   ]
  },
  {
   "cell_type": "code",
   "execution_count": null,
   "metadata": {},
   "outputs": [],
   "source": []
  },
  {
   "cell_type": "code",
   "execution_count": null,
   "metadata": {},
   "outputs": [],
   "source": []
  },
  {
   "cell_type": "code",
   "execution_count": null,
   "metadata": {},
   "outputs": [],
   "source": [
    "\n",
    "# dictChannelsBHNSList = [ 'stable B', 'stable B no CEE', \\\n",
    "#                     'case B immediate CE','stable C',\\\n",
    "#                     r'case C immediate CE', \n",
    "#                     'stable A', \\\n",
    "#                  r'double-core CE', 'other']"
   ]
  },
  {
   "cell_type": "code",
   "execution_count": null,
   "metadata": {},
   "outputs": [],
   "source": [
    "# dictChannelsBHNS = { 'stable A':[10,16,19], 'case B immediate CE':[6,7,20,29],\\\n",
    "#                     'stable B':[1,2,5,9,14,18,25,28], 'stable B no CEE':[8,11,31,], \\\n",
    "#                     'stable C':[4,15,26],\\\n",
    "#                 r'case C immediate CE':[17,21],  r'double-core CE':[3,12,13,23,24,27,30],  \\\n",
    "#                     'other':[22, 32,33,34,35,36,37,38,39,40,41, 42, 43, 44, 45, 46, 47, 48, 49, 50, 51, 52, 53, 54, 55, 56, 57, 58, 59, 60, 61, 62, 63, 64, 65, 66, 67, 68, 69, 70, 71, 72, 73, 74, 75, 76, 77, 78, 79, 80, 81, 82, 83, 84, 85, 86, 87, 88, 89]\\\n",
    "#                     }"
   ]
  },
  {
   "cell_type": "code",
   "execution_count": null,
   "metadata": {},
   "outputs": [],
   "source": [
    "#The method :\n",
    "#Go index by index -> read string and group in cell below the indices\n",
    "#Note some channels do exactlu the #same but one is within Hubble other not, \n",
    "#this is classified as differencce\n",
    "\n",
    "totFract = 0\n",
    "totN = 0\n",
    "for _, Ch_name in enumerate(dictChannelsBHNSList):\n",
    "    channel_list = dictChannelsBHNS[Ch_name]\n",
    "\n",
    "    print('--------------------')\n",
    "    index = channel_list #[7,10,14,30,31,33,41]#[9,10,14,31,34,36,40,41,44, 46] #[11,20,22,25,32,37,38,39,43]\n",
    "\n",
    "\n",
    "    indices = np.asarray(index)-1\n",
    "    print(indices)\n",
    "    # print fc.sortedStrings[index]\n",
    "    sumpercent = 0\n",
    "    Ncount = 0 \n",
    "    for ind, ind_indices in enumerate(indices):\n",
    "        sumpercent+= (fc.sortedCounts[ind_indices])*100 / float(np.sum(fc.sortedCounts))\n",
    "\n",
    "        seedsInterest = []\n",
    "        seedsInterest.extend(fc.sortedSeeds[ind_indices])\n",
    "        #         Get metallicity systems this works because seeds in both\n",
    "        #         files are in the same order\n",
    "        mask = np.in1d(Data.seeds, np.array(seedsInterest))\n",
    "        mass1 = Data.mass1[mask]\n",
    "        mass2 = Data.mass2[mask]    \n",
    "\n",
    "        if len(mass1):\n",
    "            Ncount += len(mass1)\n",
    "    \n",
    "    print('at channel %s '%Ch_name)\n",
    "    print 'this channel contributes %s percent'%sumpercent\n",
    "    print 'this channel has %s  systems'%Ncount\n",
    "    totFract+= sumpercent\n",
    "    totN+=Ncount\n",
    "print('Done')\n",
    "print()\n",
    "print('tot frac = %s, tot N = %s'%(totFract,totN))\n",
    "\n",
    "# seedsInterest.extend(fc.sortedSeeds[index])\n",
    "#         Get metallicity systems this works because seeds in both\n",
    "#         files are in the same order\n",
    "# mask = np.in1d(Data.seeds, np.array(seedsInterest))\n",
    "# mass1 = Data.mass1[mask]\n",
    "# print(mass1)\n",
    "\n"
   ]
  },
  {
   "cell_type": "markdown",
   "metadata": {},
   "source": [
    "# TESTS FOR BUG BH/NS mass"
   ]
  },
  {
   "cell_type": "code",
   "execution_count": null,
   "metadata": {},
   "outputs": [],
   "source": [
    "#Because some parts in the FC channels class get appended  (form strings)\n",
    "#it is better to reset the class partially\n",
    "fc.resetResults()\n",
    "fc.formationChannelsSeeds(seeds=None, types='BHNS', withinHubbleTime=False)\n",
    "Data            = CC.COMPASData(path=pathCOMPASOutput, lazyData=True, Mlower=5., \\\n",
    "                 Mupper=150., binaryFraction=0.7)\n",
    "Data.setCOMPASDCOmask(types='BHNS',  withinHubbleTime=False, optimistic=False)\n",
    "Data.setCOMPASData()\n",
    "SeedsHubble    = Data.seeds[Data.Hubble==False]"
   ]
  },
  {
   "cell_type": "code",
   "execution_count": null,
   "metadata": {},
   "outputs": [],
   "source": []
  },
  {
   "cell_type": "code",
   "execution_count": null,
   "metadata": {},
   "outputs": [],
   "source": [
    "\n",
    "\n",
    "#The method :\n",
    "#Go index by index -> read string and group in cell below the indices\n",
    "#Note some channels do exactlu the #same but one is within Hubble other not, \n",
    "#this is classified as differencce\n",
    "index = range(89) #[9,10,14,31,34,36,40,41,44, 46] #[11,20,22,25,32,37,38,39,43]\n",
    "# Single CE [13,18,26,30,36,40,41,45,46,48]\n",
    "# DCCE[9,10,14,31,34,44]\n",
    "# stab;e case B = [2,3,4,5,6,21,23,27,29,33] + [11,20,22,25,32,37,38,39,43] + [15,17,42]\n",
    "# case A [1,7,8,12,24,28,35,47,49] + [16,19]\n",
    "indices = np.asarray(index)\n",
    "# print fc.sortedStrings[index]\n",
    "sumpercent = 0\n",
    "sumall=0\n",
    "for ind, ind_indices in enumerate(indices):\n",
    "    seedsInterest.extend(fc.sortedSeeds[ind_indices])\n",
    "\n",
    "    \n",
    "    sumpercent+= (fc.sortedCounts[ind_indices])*100 / float(np.sum(fc.sortedCounts))\n",
    "    \n",
    "    \n",
    "    \n",
    "print 'this channel contributes %s percent'%sumpercent\n",
    "\n",
    "\n",
    "\n",
    "# seedsInterest.extend(fc.sortedSeeds[index])\n",
    "#         Get metallicity systems this works because seeds in both\n",
    "#         files are in the same order\n",
    "# mask = np.in1d(Data.seeds, np.array(seedsInterest))\n",
    "# mass1 = Data.mass1[mask]\n",
    "# print(mass1)\n",
    "\n",
    "\n"
   ]
  },
  {
   "cell_type": "code",
   "execution_count": null,
   "metadata": {},
   "outputs": [],
   "source": []
  },
  {
   "cell_type": "code",
   "execution_count": null,
   "metadata": {},
   "outputs": [],
   "source": [
    "{ 'stable A':[1,7,8,12,24,28,35,47,49], 'stable A rejuvenation':[16,19],\\\n",
    "                    'stable B':[2,3,4,5,6,21,23,27,29,33], 'stable B no CEE':[15,17,42], \\\n",
    "                    'stable C':[11,20,22,25,32,37,38,39,43],\\\n",
    "                r'unstable $\\rightarrow$ CE':[13,18,26,30,45,48],  r'unstable $\\rightarrow$ DCCE':[9,10,14,31,34,36,40,41,44, 46], \\\n",
    "                    }\n",
    "\n",
    "\n",
    "dictChannelsNSorBHfirst{'BH-NS':[2,3,6,10,11,13,14,15,17,18,20,21,22,23,25,26,27], 'NS-BH':[1,4,5,7,8,9,12,16,19,24]}\n",
    "\n",
    "allchannels = range(136)\n",
    "\n",
    "# dictChannelsBHNS{'classic CaseB':[2,3,4,5,6,20,21], 'classic caseA':[1,8,12], \\\n",
    "#                 'double core CE':[9,10,14], 'unstable caseC':[11,13, 18,26,30,36], 'no CEE':[15, 17], \\\n",
    "#                'caseA rejuvenation':[16, 19], 'classic caseC':[7,20]}\n",
    "\n",
    "\n"
   ]
  },
  {
   "cell_type": "code",
   "execution_count": null,
   "metadata": {},
   "outputs": [],
   "source": []
  },
  {
   "cell_type": "markdown",
   "metadata": {
    "collapsed": true
   },
   "source": [
    "# Same but now for BNS"
   ]
  },
  {
   "cell_type": "code",
   "execution_count": null,
   "metadata": {},
   "outputs": [],
   "source": [
    "#Because some parts in the FC channels class get appended  (form strings)\n",
    "#it is better to reset the class partially\n",
    "fc.resetResults()\n",
    "fc.formationChannelsSeeds(seeds=None, types='BNS', withinHubbleTime=False)\n",
    "\n",
    "\n"
   ]
  },
  {
   "cell_type": "code",
   "execution_count": null,
   "metadata": {},
   "outputs": [],
   "source": []
  },
  {
   "cell_type": "code",
   "execution_count": null,
   "metadata": {},
   "outputs": [],
   "source": [
    "print fc.sortedStrings[15]\n",
    "\n",
    "print 'I have now accounted for %s percent', np.sum(fc.sortedCounts[0:15]) / float(np.sum(fc.sortedCounts))\n",
    "seedsInterest = []\n",
    "seedsInterest.extend(fc.sortedSeeds[index])\n",
    "        #Get metallicity systems this works because seeds in both\n",
    "        #files are in the same order\n",
    "mask = np.in1d(Data.seeds, np.array(seedsInterest))\n",
    "mass1 = Data.mass1[mask]\n",
    "print mass1"
   ]
  },
  {
   "cell_type": "code",
   "execution_count": null,
   "metadata": {},
   "outputs": [],
   "source": [
    "dictRank = {'double Core CEE + double stripped MT + ultrastripped':[0,1],    'Classic + ultra stripped':[2,3,8,14],\\\n",
    "            'double core CEE + ultra stripped':[4,5], 'Classic ':[6,7,10],\\\n",
    "            'double Core CEE + double stripped MT':[9,11],   'double Core CEE':[12,13]}\n",
    "# EAGB/CHeB - CHeB -> CEE -> HeHG- HeMS  -> SN -> NS-HeHG -> SN -> BNS\n",
    "doubleCore2MT        = [0,1]\n",
    "#HG-MS -> SN -> NS-CHeB/EAGB ->CEE -> NS-HeHG -> SN ->BNS  #different SN types\n",
    "ClassicUltrastrip    = [2,3,8,14]  #2 SN1 =ECSN, 3 SN1=CCSN, 8 SN1= ECSN\n",
    "#EAG/CHeB-CHeB -> CEE -> SN -> NS-HeHG ->SN\n",
    "doubleCoreUltrastrip = [4,5]\n",
    "#HG-MS -> SN -> NS-CHeB/EAGB ->CEE -> SN ->BNS  #different SN types\n",
    "classic              = [6,7,10] #6 SN1=ECSN , 7 1SN=CCSN  , 10 SN1=ECSN\n",
    "#CHeCHeB -> CEE -> HeHG-HeMS -> SN  -> SN\n",
    "doubleCoredUltraOntoStripped = [9,11]\n",
    "#EAGB CHeB -> CEE -> SN->SN\n",
    "doubleCore   =[12,13]"
   ]
  },
  {
   "cell_type": "code",
   "execution_count": null,
   "metadata": {},
   "outputs": [],
   "source": [
    "# Get the formation channels and Seeds BHNS"
   ]
  },
  {
   "cell_type": "code",
   "execution_count": null,
   "metadata": {},
   "outputs": [],
   "source": [
    "#Because some parts in the FC channels class get appended  (form strings)\n",
    "#it is better to reset the class partially\n",
    "#fc.resetResults()\n",
    "#fc.formationChannelsSeeds(seeds=None, types='BHNS')"
   ]
  },
  {
   "cell_type": "code",
   "execution_count": null,
   "metadata": {},
   "outputs": [],
   "source": [
    "#printTopXchannels(18)"
   ]
  },
  {
   "cell_type": "code",
   "execution_count": null,
   "metadata": {},
   "outputs": [],
   "source": []
  }
 ],
 "metadata": {
  "kernelspec": {
   "display_name": "Python 2",
   "language": "python",
   "name": "python2"
  },
  "language_info": {
   "codemirror_mode": {
    "name": "ipython",
    "version": 2
   },
   "file_extension": ".py",
   "mimetype": "text/x-python",
   "name": "python",
   "nbconvert_exporter": "python",
   "pygments_lexer": "ipython2",
   "version": "2.7.16"
  }
 },
 "nbformat": 4,
 "nbformat_minor": 2
}
