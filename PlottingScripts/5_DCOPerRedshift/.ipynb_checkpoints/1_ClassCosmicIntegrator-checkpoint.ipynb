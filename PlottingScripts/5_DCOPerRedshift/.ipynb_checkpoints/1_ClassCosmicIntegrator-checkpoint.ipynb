{
 "cells": [
  {
   "cell_type": "markdown",
   "metadata": {},
   "source": [
    "# Setting up Paths"
   ]
  },
  {
   "cell_type": "code",
   "execution_count": 1,
   "metadata": {
    "collapsed": true
   },
   "outputs": [],
   "source": [
    "#path to the data\n",
    "pathCOMPASOutput = '/home/cneijssel/Documents/Projects/Data/CosmicInt/'\n",
    "#path to compasrepo which contains ther popsynth folder\n",
    "pathRepo = '/home/cneijssel/Documents/COMPASpop'\n",
    "\n"
   ]
  },
  {
   "cell_type": "markdown",
   "metadata": {},
   "source": [
    "# Imports"
   ]
  },
  {
   "cell_type": "code",
   "execution_count": 2,
   "metadata": {
    "collapsed": true
   },
   "outputs": [],
   "source": [
    "import numpy as np\n",
    "import matplotlib.pyplot as plt\n",
    "import h5py as h5\n",
    "import time\n",
    "import sys\n",
    "#Quick fudge to make import from ../Scripts work\n",
    "import sys\n",
    "sys.path.append(pathRepo + '/popsynth/Papers/NeijsselEtAL/CosmicIntegration/Scripts')\n",
    "sys.path.append(pathRepo + '/popsynth/Papers/NeijsselEtAL/CosmicIntegration/Scripts/CosmicScripts')"
   ]
  },
  {
   "cell_type": "markdown",
   "metadata": {},
   "source": [
    "# Custom Imports from COMPASrepo"
   ]
  },
  {
   "cell_type": "code",
   "execution_count": 3,
   "metadata": {},
   "outputs": [],
   "source": [
    "import ClassCosmicIntegrator  as CI #Given settings and redshifts returns rates (2D arrays) Loads the data\n",
    "import coencodeVarious as CV\n",
    "\n"
   ]
  },
  {
   "cell_type": "markdown",
   "metadata": {},
   "source": [
    "# Single run"
   ]
  },
  {
   "cell_type": "markdown",
   "metadata": {},
   "source": [
    "# The cosmic integrator class EMPTY"
   ]
  },
  {
   "cell_type": "markdown",
   "metadata": {},
   "source": [
    "The cosmic integrator class is the main class used for this project.\n",
    "It combines the COMPAS data class and the MSSFR class  and in addition sets the redshift shells\n",
    "and delay times of the binaries. The main thing you want to calculate is a 2D-array with the rate per system per redshift shell. \n",
    "\n",
    "\n",
    "If you do not give a path to the compas data, it will create almost empty instances of the\n",
    "integrator, COMPAS and MSSFR class. This is so you can at least still test functions without data.\n",
    "You will have to pass the merger redshift limits of the integral. In this notebook I use the default values\n",
    "\n",
    "hubbleConstant = 67.8, \n",
    "\n",
    "omegaMatter=0.308,\n",
    "\n",
    "redshiftFirstSFR=10., \\\n",
    "\n",
    "minRedshift=0.,\n",
    "\n",
    "maxRedshift=2., \n",
    "\n",
    "nrRedshiftBins=20.,\\\n",
    "\n",
    "\n",
    "The code will complain, to make myself aware. That I have note given the amount of systems we are looking at yet.\n",
    "Hence it cannot already construct the shape of a 2D-array of rate per system per redshift.\n"
   ]
  },
  {
   "cell_type": "code",
   "execution_count": 4,
   "metadata": {},
   "outputs": [
    {
     "name": "stdout",
     "output_type": "stream",
     "text": [
      "Creating redshift shells for integral\n",
      "Creating instance COMPAS class\n",
      "Just to double check you create instance of ClassCOMPAS without path/Data\n",
      "Remember to  self.setCOMPASDCOmask() and self.setCOMPASData()\n",
      "\n",
      "Creating instance MSSFR class\n",
      "  COMPAS data is not given given hence I set nothing\n",
      "warning MSSFR instance without metallicityGrid\n",
      "warning no normalisation of mass evolved assuming 1\n",
      "\n",
      "cannot set 2D-array of rates\n",
      "COMPAS data is empty (COMPAS.setCOMPASData) \n"
     ]
    }
   ],
   "source": [
    "Data      = CI.CosmicIntegrator(COMPASpath = None,  verbose=True)"
   ]
  },
  {
   "cell_type": "code",
   "execution_count": 5,
   "metadata": {},
   "outputs": [
    {
     "name": "stdout",
     "output_type": "stream",
     "text": [
      "None\n"
     ]
    }
   ],
   "source": [
    "print Data.COMPAS.metallicityGrid"
   ]
  },
  {
   "cell_type": "code",
   "execution_count": 6,
   "metadata": {},
   "outputs": [
    {
     "name": "stdout",
     "output_type": "stream",
     "text": [
      "14961492.4286\n"
     ]
    }
   ],
   "source": [
    "#But you can still test stuff\n",
    "print Data.MSSFR.SFR_Madau(0)"
   ]
  },
  {
   "cell_type": "markdown",
   "metadata": {},
   "source": [
    "# The Cosmic integrator class no type specified"
   ]
  },
  {
   "cell_type": "markdown",
   "metadata": {},
   "source": [
    "If in addition you give a path to data and the upper and lower limits \n",
    "of your primary mass in the python submit, then it will set the following.\n",
    "\n",
    "1 - In the COMPAS class in the integrator, it will read the systems group in the h5file\n",
    "    this contains all the inormation of the initial parameters. It reads the unique metallicities\n",
    "    and sets this as the metallicityGrid of the simulation\n",
    "    cosmicIntegrator.COMPAS.metallicityGrid\n",
    "2 - Given the metallicityGrid and initial parameters it calculates the 'true' amount of solar mass evolved\n",
    "    per metallicity. This is needed for the rate calculation. It uses the lower and upper limits that you provide\n",
    "    from the pythonSubmit. Additionaly you need to give a binary fraction, which is still mass independent.\n",
    "    It also assumes flat q distribution. Both need to be generalized further if you want to do Max Moe stuff.\n",
    "    The default values based on my python Submit are\n",
    "    COMPASMlower=5., COMPASMupper=150.,COMPASbinaryFraction=0.7\n",
    "    \n",
    "    \n",
    "In principle you only set the above things once. This because they are general to the entire simulation\n",
    "and independent of DCO type or other things.\n",
    "\n"
   ]
  },
  {
   "cell_type": "code",
   "execution_count": 7,
   "metadata": {},
   "outputs": [
    {
     "name": "stdout",
     "output_type": "stream",
     "text": [
      "Creating redshift shells for integral\n",
      "Creating instance COMPAS class\n",
      "Remember to  self.setCOMPASDCOmask() and self.setCOMPASData()\n",
      "\n",
      "Creating instance MSSFR class\n",
      "  COMPAS path is given hence I set:\n",
      "  metallicity Grid from unique metallicities allSystems\n",
      "  calculate 'true' masss evolved using pythonSubmit limits given\n",
      "\n",
      "cannot set 2D-array of rates\n",
      "COMPAS data is empty (COMPAS.setCOMPASData) \n"
     ]
    }
   ],
   "source": [
    "Data      = CI.CosmicIntegrator(COMPASpath = pathCOMPASOutput,  verbose=True)"
   ]
  },
  {
   "cell_type": "markdown",
   "metadata": {},
   "source": [
    "Now it has set the metallicity grid and total mass evolved\n",
    "but it does not know yet at which DCO types we are looking hence it cannot give an array of masses and it still complains about the 2D-array"
   ]
  },
  {
   "cell_type": "code",
   "execution_count": 8,
   "metadata": {},
   "outputs": [
    {
     "name": "stdout",
     "output_type": "stream",
     "text": [
      "[ 0.0001      0.00012196  0.00014873  0.00018139  0.00022122  0.00026979\n",
      "  0.00032903  0.00040128  0.00048939  0.00059685  0.00072789  0.00088772\n",
      "  0.00108264  0.00132035  0.00161026  0.00196383  0.00239503  0.0029209\n",
      "  0.00356225  0.00434441  0.00529832  0.00646167  0.00788046  0.00961078\n",
      "  0.011721    0.0142946   0.0174333   0.0212611   0.0259294   0.0316228 ]\n"
     ]
    }
   ],
   "source": [
    "print Data.COMPAS.metallicityGrid"
   ]
  },
  {
   "cell_type": "code",
   "execution_count": 9,
   "metadata": {},
   "outputs": [
    {
     "name": "stdout",
     "output_type": "stream",
     "text": [
      "None\n"
     ]
    }
   ],
   "source": [
    "print Data.COMPAS.mass1 #still have no data"
   ]
  },
  {
   "cell_type": "markdown",
   "metadata": {},
   "source": [
    "In reality I use this instance often because I set all the main simulation parameters once, and\n",
    "switch manually between BBHs BNSs and BHNSs. This means I have to at least set the following manually\n",
    "\n",
    "Data.COMPAS.setDCOmask(types=, withinHubbleTime=,optimistic=)  \n",
    "Data.COMPAS.setCOMPASdata()   \n",
    "Data.setBirthTimesAnd2Darrays()\n",
    "\n",
    "An example below of looping over types. Note that we are not integrating yet!!! See next example"
   ]
  },
  {
   "cell_type": "code",
   "execution_count": 10,
   "metadata": {},
   "outputs": [
    {
     "name": "stdout",
     "output_type": "stream",
     "text": [
      "creating 2D arrays with birth ages and redshift\n",
      "creating 2D array with intrinsic and observed rate to be calculated\n",
      "1.55241560863\n",
      "creating 2D arrays with birth ages and redshift\n",
      "creating 2D array with intrinsic and observed rate to be calculated\n",
      "1.55351561962\n",
      "creating 2D arrays with birth ages and redshift\n",
      "creating 2D array with intrinsic and observed rate to be calculated\n",
      "1.55341561862\n"
     ]
    },
    {
     "data": {
      "image/png": "[encoded data removed]",
      "text/plain": [
       "<matplotlib.figure.Figure at 0x7fef04c446d0>"
      ]
     },
     "metadata": {},
     "output_type": "display_data"
    }
   ],
   "source": [
    "types        = ['BBH', 'BNS', 'BHNS']\n",
    "colours      = ['k', 'r', 'b']\n",
    "withinHubble = False\n",
    "optimistic   = False\n",
    "\n",
    "nrShellOfInterest = 15\n",
    "redshiftBinsPlot  = np.linspace(0,10,1000)\n",
    "centerBinsPlot    = (redshiftBinsPlot[1:]+redshiftBinsPlot[:-1])/2.\n",
    "binWidthPlot      = np.diff(redshiftBinsPlot)\n",
    "\n",
    "fig, axes = plt.subplots(1,1)\n",
    "for nrT, Type in enumerate(types):\n",
    "    #get the mask of DCO file\n",
    "    Data.COMPAS.setCOMPASDCOmask(types=Type, withinHubbleTime=withinHubble,optimistic=optimistic)\n",
    "    #Get the data given the mask\n",
    "    Data.COMPAS.setCOMPASData()\n",
    "    #Set the delay times per redshift shell\n",
    "    Data.setBirthTimesAnd2Darrays()\n",
    "    \n",
    "    #Now we have 2Darrays each row a redshift each column a system\n",
    "    birthz = Data.PerSystemPerRedshift_redshiftBirth[nrShellOfInterest]\n",
    "    #bin it\n",
    "    hist, bins = np.histogram(birthz, bins=redshiftBinsPlot)\n",
    "    hist       = np.divide(hist, binWidthPlot)\n",
    "    axes.plot(centerBinsPlot, hist, c=colours[nrT], label=Type)\n",
    "    #systems that are unreal have z = -1\n",
    "    birthz = birthz[birthz != -1]\n",
    "    print np.min(birthz)\n",
    "    \n",
    "#double check if minimum redshift is same as shell redshift\n",
    "z = Data.Shell_centerRedshift[nrShellOfInterest]\n",
    "axes.axvline(z, linestyle=':', c='k')\n",
    "\n",
    "axes.set_title('merger redshift =%s' %(np.round(z,3)))\n",
    "\n",
    "axes.set_xlabel('redshift birth systems')\n",
    "axes.set_ylabel('dN/dz')\n",
    "axes.legend()\n",
    "plt.show()\n",
    "\n",
    "    "
   ]
  },
  {
   "cell_type": "markdown",
   "metadata": {},
   "source": [
    "# The Cosmic integrator class , I know what I want"
   ]
  },
  {
   "cell_type": "markdown",
   "metadata": {},
   "source": [
    "If you know that you only want to look at BHNSs that merge within a Hubble time using the pessimistic assumption\n",
    "You might as well set everything all at once."
   ]
  },
  {
   "cell_type": "code",
   "execution_count": 11,
   "metadata": {},
   "outputs": [
    {
     "name": "stdout",
     "output_type": "stream",
     "text": [
      "Creating redshift shells for integral\n",
      "Creating instance COMPAS class\n",
      "Remember to  self.setCOMPASDCOmask() and self.setCOMPASData()\n",
      "\n",
      "Creating instance MSSFR class\n",
      "  COMPAS path is given hence I set:\n",
      "  metallicity Grid from unique metallicities allSystems\n",
      "  calculate 'true' masss evolved using pythonSubmit limits given\n",
      "creating 2D arrays with birth ages and redshift\n",
      "creating 2D array with intrinsic and observed rate to be calculated\n"
     ]
    }
   ],
   "source": [
    "Data = CI.CosmicIntegrator(\\\n",
    "    COMPASpath = pathCOMPASOutput,DCOtypes='BBH', withinHubbleTime=True, optimistic=False,\\\n",
    "\\\n",
    "    hubbleConstant = 67.8, omegaMatter=0.308,redshiftFirstSFR=10., \\\n",
    "    COMPASlazyData=True,COMPASMlower=5.,\\\n",
    "    COMPASMupper=150.,COMPASbinaryFraction=0.7,COMPASmetallicityGrid=None,\\\n",
    "    minRedshift=0.0000000001,   maxRedshift=2., nrRedshiftBins=20,\\\n",
    "    RedshiftTabulated =True, RedshiftTabulatedResolution=100000,\n",
    "    GWdetector_sensitivity='O1', GWdetector_snrThreshold=8, verbose = True)"
   ]
  },
  {
   "cell_type": "markdown",
   "metadata": {
    "collapsed": true
   },
   "source": [
    "# The actual integration"
   ]
  },
  {
   "cell_type": "markdown",
   "metadata": {},
   "source": [
    "If everything is set accordingly, then you still need to define the MSSFR and then do the actual integration/calculation by"
   ]
  },
  {
   "cell_type": "code",
   "execution_count": 12,
   "metadata": {
    "scrolled": false
   },
   "outputs": [
    {
     "name": "stdout",
     "output_type": "stream",
     "text": [
      "Doing the actual cosmic integration\n",
      "Filling in the 2D arrays with rate per system per redshift\n"
     ]
    },
    {
     "data": {
      "image/png": "[encoded data removed]",
      "text/plain": [
       "<matplotlib.figure.Figure at 0x7fef38650390>"
      ]
     },
     "metadata": {},
     "output_type": "display_data"
    }
   ],
   "source": [
    "Data.MSSFR.Zprescription         = 'MZ_GSMF'\n",
    "#current Options  = logNormal' or 'MZ_GSMF\n",
    "\n",
    "#If you use MZ and GSMF relations\n",
    "Data.MSSFR.GSMFprescription      = 'Furlong et al. (2015) Double'\n",
    "# Current Options = Panter et al. (2004) Single, \n",
    "#                   Furlong et al. (2015) Single,\n",
    "#                   Furlong et al. (2015) Double\n",
    "Data.MSSFR.ZMprescription        = 'Langer et al. (2006)'\n",
    "# Current Options = Ma et al. (2015),\n",
    "#                   Langer et al. (2006)\n",
    "#                   Langer et al. +offset (2006)\n",
    "Data.MSSFR.SFRprescription       = 'Madau et al. (2014)' \n",
    "#Current Options  = Madau et al. (2014)\n",
    "#                   Madau et al. (2017)\n",
    "#                   Strolger et al (2004)\n",
    "Data.cosmologicalIntegration()\n",
    "\n",
    "#this calculates the 2d arrays (row = redshift  column = system)\n",
    "ratesIntrinsic2D = Data.PerSystemPerRedshift_ratesIntrinsic\n",
    "#Want rate per redshift so add up all systems in row\n",
    "ratesIntrinsicRedshift = np.sum(ratesIntrinsic2D, axis=1)\n",
    "\n",
    "\n",
    "fig,axes = plt.subplots(1,1)\n",
    "\n",
    "\n",
    "axes.plot(Data.Shell_centerRedshift, ratesIntrinsicRedshift)\n",
    "axes.set_xlabel('redshift')\n",
    "axes.set_ylabel('dN  dGpc-3 dyr-1')\n",
    "plt.show()\n"
   ]
  },
  {
   "cell_type": "code",
   "execution_count": 13,
   "metadata": {
    "collapsed": true
   },
   "outputs": [],
   "source": [
    "#note that you can still manually overwrite the DCO of interest in the instance above :)"
   ]
  },
  {
   "cell_type": "markdown",
   "metadata": {},
   "source": [
    "# Convergence test nr shells (WARNING takes a bit to run)"
   ]
  },
  {
   "cell_type": "code",
   "execution_count": 14,
   "metadata": {},
   "outputs": [
    {
     "name": "stdout",
     "output_type": "stream",
     "text": [
      "Remember to  self.setCOMPASDCOmask() and self.setCOMPASData()\n",
      "\n",
      "cannot set 2D-array of rates\n",
      "COMPAS data is empty (COMPAS.setCOMPASData) \n",
      "BBH\n",
      "BNS\n",
      "BHNS\n"
     ]
    },
    {
     "data": {
      "image/png": "[encoded data removed]",
      "text/plain": [
       "<matplotlib.figure.Figure at 0x7fef04c6ba90>"
      ]
     },
     "metadata": {},
     "output_type": "display_data"
    }
   ],
   "source": [
    "# Convergence test for observed total rates\n",
    "types   = ['BBH', 'BNS', 'BHNS']\n",
    "colours = ['k', 'r', 'b']\n",
    "\n",
    "#maximum redshift to detect during O1 (I know this from previous tries)\n",
    "#But should also have an in-built warning\n",
    "maxZ    = [1, 0.1, 0.2]\n",
    "nrShells = np.linspace(2,50,10)\n",
    "Data = CI.CosmicIntegrator(COMPASpath = pathCOMPASOutput)\n",
    "Data.MSSFR.Zprescription         = 'MZ_GSMF'\n",
    "Data.MSSFR.GSMFprescription      = 'Furlong et al. (2015) Double'\n",
    "Data.MSSFR.ZMprescription        = 'Langer et al. (2006)'\n",
    "Data.MSSFR.SFRprescription       = 'Madau et al. (2014)' \n",
    "\n",
    "fig, axes = plt.subplots(1,1)\n",
    "for nrt, Type in enumerate(types):\n",
    "    print Type    \n",
    "    Data.COMPAS.setCOMPASDCOmask(types=Type)\n",
    "    Data.COMPAS.setCOMPASData()\n",
    "    Data.maxRedshift = maxZ[nrt]\n",
    "    \n",
    "    totalRateObserved = np.zeros(len(nrShells))\n",
    "    for nrr, resolution in enumerate(nrShells):\n",
    "        Data.nrRedshiftBins = resolution\n",
    "        #I have messed with the settings of shell so\n",
    "        #reset everything shell related\n",
    "        Data.createConcentricRedshiftShells()\n",
    "        Data.setBirthTimesAnd2Darrays()\n",
    "        #Do intergral and get total rate\n",
    "        Data.cosmologicalIntegration()\n",
    "        totalRateObserved[nrr] = np.sum(Data.PerSystemPerRedshift_ratesObserved)\n",
    "    axes.plot(nrShells, totalRateObserved, c=colours[nrt], label=Type)\n",
    "    axes.scatter(nrShells, totalRateObserved, c=colours[nrt], label=None)\n",
    "axes.set_yscale('log')\n",
    "axes.set_ylim(bottom=0.00001)\n",
    "axes.set_xlabel('nr shells integral')\n",
    "axes.set_ylabel('total rate observed')\n",
    "plt.show()"
   ]
  },
  {
   "cell_type": "code",
   "execution_count": 15,
   "metadata": {
    "collapsed": true
   },
   "outputs": [],
   "source": [
    "#The above plot suggests that 20 shells is enough\n",
    "#I often end up using more for aesthetic reasons in plots :D"
   ]
  }
 ],
 "metadata": {
  "kernelspec": {
   "display_name": "Python 2",
   "language": "python",
   "name": "python2"
  },
  "language_info": {
   "codemirror_mode": {
    "name": "ipython",
    "version": 2
   },
   "file_extension": ".py",
   "mimetype": "text/x-python",
   "name": "python",
   "nbconvert_exporter": "python",
   "pygments_lexer": "ipython2",
   "version": "2.7.16"
  }
 },
 "nbformat": 4,
 "nbformat_minor": 2
}
