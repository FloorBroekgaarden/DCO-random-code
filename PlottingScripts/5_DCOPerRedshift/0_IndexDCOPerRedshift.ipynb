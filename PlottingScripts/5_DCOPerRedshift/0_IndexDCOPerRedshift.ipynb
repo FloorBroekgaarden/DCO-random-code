{
 "cells": [
  {
   "cell_type": "markdown",
   "metadata": {},
   "source": [
    "# Section  DCO per Redshift and ClassCosmicIntegrator"
   ]
  },
  {
   "cell_type": "markdown",
   "metadata": {},
   "source": [
    "Once we have a handle on our COMPAS data and we know the MSSFR per system, then\n",
    "we need to combine everything. The class cosmicIntegrator is the main code for this.\n",
    "\n",
    "It creates the concentric redshift shells for the integral\n",
    "Gathers the COMPAS data needed for the calculation in the COMPAS class\n",
    "Sets the MSSFR class and the functions we want to use\n",
    "\n",
    "When you finally run the cosmologicalIntegrator it gives you the most important output\n",
    "which is a series of 2D arrays.\n",
    "\n",
    "\n",
    "As mentioned before solve the entire problem by adding up the rate of each system at each merger redshift.\n",
    "Hence these 2D arrays have the shape\n",
    "\n",
    "\n",
    "nrRows    = nr redshift shells\n",
    "nrcolumns = is number of systems\n",
    "\n",
    "\n",
    "I create several such arrays with information about:\n",
    "birth-redshift, intrinsic rate and observed rate\n",
    "\n",
    "\n",
    "\n",
    "First thing is to think of what type of instance of the cosmological integrator we want"
   ]
  },
  {
   "cell_type": "markdown",
   "metadata": {},
   "source": [
    "<a href=\"./1_ClassCosmicIntegrator.html\">\n",
    "Create an instance of Cosmic integrator and get results based on DCO of interest\n",
    "</a>"
   ]
  },
  {
   "cell_type": "markdown",
   "metadata": {
    "collapsed": true
   },
   "source": [
    "Once we now how to create the instance we want to plot\n",
    "the merger rate of DCOs as a function of redshift. This is interesting for multiple reasons. One being that\n",
    "in the O1 LIGO paper the assume a constant rate per redshift to estimate the rate. At that time we already figured out this is unlikely for massive stellar binaries. O2 paper shows a redshift dependent rate prior. \n",
    "If this becomes a more constrained popultion, then the redshift dependent merger rate distribution could \n",
    "act as an additional constraint"
   ]
  },
  {
   "cell_type": "markdown",
   "metadata": {},
   "source": [
    "<a href=\"./2_TotalMergerRateRedshift.html\">\n",
    "The total Rate of DCOs as a function of redshift\n",
    "</a>"
   ]
  },
  {
   "cell_type": "markdown",
   "metadata": {},
   "source": [
    "Same for the mass distribution. O1 paper (see their appendix on rate estimates)\n",
    "assumed a constat mass distribution and a specific possible shape. \n",
    "We show that neither is a valid assumption for our simulation"
   ]
  },
  {
   "cell_type": "markdown",
   "metadata": {},
   "source": [
    "<a href=\"./3_MassDistributionAtRedshift.html\">\n",
    "Intrinsic mass distribution at several redshifts and the LIGO prior\n",
    "</a>"
   ]
  },
  {
   "cell_type": "markdown",
   "metadata": {},
   "source": [
    "Given that the the priors used for their rate estimates differ from our intrinsic distributions we cannot directly compare against their intrinsic rate estimates. This is the main reason (besides more cool plots and stuff) that we also estimate the selection effects. Then we can directly compare our predictions for observations against the observations"
   ]
  },
  {
   "cell_type": "markdown",
   "metadata": {},
   "source": [
    "<a href=\"./4_MorePlots.html\">\n",
    "More possible plots :D\n",
    "</a>"
   ]
  },
  {
   "cell_type": "markdown",
   "metadata": {},
   "source": []
  }
 ],
 "metadata": {
  "kernelspec": {
   "display_name": "Python 2",
   "language": "python",
   "name": "python2"
  },
  "language_info": {
   "codemirror_mode": {
    "name": "ipython",
    "version": 2
   },
   "file_extension": ".py",
   "mimetype": "text/x-python",
   "name": "python",
   "nbconvert_exporter": "python",
   "pygments_lexer": "ipython2",
   "version": "2.7.12"
  }
 },
 "nbformat": 4,
 "nbformat_minor": 2
}
