{
 "cells": [
  {
   "cell_type": "code",
   "execution_count": 1,
   "metadata": {
    "collapsed": false
   },
   "outputs": [],
   "source": [
    "import numpy as np\n",
    "import matplotlib.pyplot as plt\n",
    "import scipy.special\n",
    "import h5py as h5\n",
    "import copy\n",
    "\n",
    "#Quick fudge to make import from ../Scripts work\n",
    "import sys\n",
    "#path to compasrepo which contains ther popsynth folder\n",
    "pathRepo = '/home/cneijssel/Documents/COMPASpop'\n",
    "sys.path.append(pathRepo + '/popsynth/Papers/NeijsselEtAL/CosmicIntegration/Scripts')\n",
    "sys.path.append(pathRepo + '/popsynth/Papers/NeijsselEtAL/CosmicIntegration/Scripts/CosmicScripts')\n",
    "import metallicitySpecificSFR as MSSFR\n",
    "import ClassBayes      as Bayes  #Used to create KDECOMPAS/Posterior/Likelyhood \n",
    "import ClassBootStrap  as Boot   #checks if I have a bootstrap file and reads it\n",
    "import ClassCosmicLoop as Cosmic #Given settings and redshifts returns rates (2D arrays) Loads the data\n",
    "import ClassEvents     as Events  #Where I store the GW-events observed"
   ]
  },
  {
   "cell_type": "code",
   "execution_count": 2,
   "metadata": {
    "collapsed": false
   },
   "outputs": [
    {
     "data": {
      "image/png": "[encoded data removed]",
      "text/plain": [
       "<matplotlib.figure.Figure at 0x7fe4d8083550>"
      ]
     },
     "metadata": {},
     "output_type": "display_data"
    }
   ],
   "source": [
    "def logNormal(x, mu, sigma):\n",
    "    #mu and sigma of lognormal \n",
    "    Base        = 10.\n",
    "    V           = sigma*np.log(Base)\n",
    "    coefficient = 1 / (x * V * np.sqrt(2 * np.pi))\n",
    "    exponent    = (np.exp(-(np.log(x) - mu)**2 / (2 * V**2)))\n",
    "    \n",
    "    return coefficient * exponent\n",
    "\n",
    "\n",
    "def CDFlogNormal(x, mu, sigma):\n",
    "    Base        = 10.\n",
    "    V           = sigma*np.log(Base)\n",
    "    #mu and sigma of lognormal\n",
    "    CDF =  0.5*(1+ scipy.special.erf((np.log(x)-mu)/(V*np.sqrt(2))))\n",
    "    return CDF\n",
    "    \n",
    "    \n",
    "x      = np.logspace(-1,0.5, 1000)\n",
    "center = (x[1:]+x[:-1])/2.\n",
    "width  = np.diff(x)\n",
    "\n",
    "mu    = -0.4\n",
    "sigma = 0.35\n",
    "alpha = -0.33\n",
    "\n",
    "y     = logNormal(center, mu, sigma)\n",
    "CDFs  = CDFlogNormal(x, mu, sigma)\n",
    "\n",
    "y2    = np.divide(np.diff(CDFs), width)\n",
    "plt.plot(np.log10(center),y, c='b', lw=2)\n",
    "plt.plot(np.log10(center), y2, c='r', linestyle=':', lw=2.)\n",
    "plt.show()\n",
    "plt.close()\n",
    "\n",
    "\n",
    "\n",
    "#this translates to fraction for metallicity bin Zlower-Zupper\n",
    "def fractionLogNormal(lowerZ, upperZ, redshift):\n",
    "    \n",
    "    #given variable x the cdf of the pdf such that \n",
    "    #ln(x) is normally distributed is\n",
    "    #CDF =  0.5*(1+ scipy.special.erf((np.log(x)-mu)/(sigma*np.sqrt(2))))\n",
    "    \n",
    "    #fraction of total is CDFup-CDF-low\n",
    "    CDFup  =  0.5*(1+ scipy.special.erf((np.log(upperZ)-mu)/(sigma*np.sqrt(2))))\n",
    "    CDFlow =  0.5*(1+ scipy.special.erf((np.log(lowerZ)-mu)/(sigma*np.sqrt(2))))\n",
    "\n",
    "    fractionMSSFR = CDFup - CDFlow\n",
    "    return fractionMSSFR\n",
    "\n",
    "#now I need to translate mmean metallicity scaling"
   ]
  },
  {
   "cell_type": "code",
   "execution_count": 3,
   "metadata": {
    "collapsed": false
   },
   "outputs": [
    {
     "name": "stdout",
     "output_type": "stream",
     "text": [
      "0.870445612662\n",
      "mu = -0.4\n"
     ]
    }
   ],
   "source": [
    "#mu is not the mean metallicity but the mean of the log normal\n",
    "\n",
    "meanZ\t= np.exp((mu+sigma**2)/2.)\n",
    "print meanZ\n",
    "\n",
    "#meanZ scales as meanZ(z) = meanZ(0) * 10^(-alpha * z)\n",
    "#scaling is kept constant, but if I want to integrate logNormal I first need to \n",
    "#scale meanZ. Then solve for new mu of lognormal, then do cdf\n",
    "\n",
    "def muLogNormal(meanZ, sigma):\n",
    "    mu = 2*np.log(meanZ) - sigma*sigma\n",
    "    return mu\n",
    "\n",
    "def fractionLogNormal(lowerZ, upperZ, redshift, MZ, GSMF):\n",
    "    \n",
    "    #given variable x the cdf of the pdf such that \n",
    "    #ln(x) is normally distributed is\n",
    "    #CDF =  0.5*(1+ scipy.special.erf((np.log(x)-mu)/(sigma*np.sqrt(2))))\n",
    "    \n",
    "    #fraction of total is CDFup-CDF-low\n",
    "    #mu     = 2*(np.log(Z0)+np.log(10)*(-alpha*redshift))\n",
    "    if (MZ == 'Langer2005') & (GSMF == 'Panter2004Single'):\n",
    "        alpha = 0.3\n",
    "        sigma = 0.5\n",
    "        Z0    = 0.02\n",
    "    if (MZ == 'Ma2015') & (GSMF == 'FurlongDouble'):\n",
    "        alpha = 0.3\n",
    "        sigma = 0.45\n",
    "        Z0    = 0.05\n",
    "        \n",
    "    Base        = 10.\n",
    "    V           = sigma*np.log(Base)\n",
    "    mu  = np.log(Z0*10**(-alpha*redshift)) - (V/2.)\n",
    "    CDFup  =  0.5*(1+ scipy.special.erf((np.log(upperZ)-mu)/(sigma*np.sqrt(2))))\n",
    "    CDFlow =  0.5*(1+ scipy.special.erf((np.log(lowerZ)-mu)/(sigma*np.sqrt(2))))\n",
    "    fractionMSSFR = CDFup - CDFlow\n",
    "    return fractionMSSFR\n",
    "    \n",
    "print 'mu = %s' %(muLogNormal(meanZ, sigma))\n"
   ]
  },
  {
   "cell_type": "code",
   "execution_count": 4,
   "metadata": {
    "collapsed": false
   },
   "outputs": [
    {
     "name": "stdout",
     "output_type": "stream",
     "text": [
      "1.0 0.999999961405\n"
     ]
    }
   ],
   "source": [
    "def returnPDF(redshift, MZ, GSMF, metallicityBinLimits):\n",
    "    #Usually this function takes an array of redshifts len>1 for all the binaries\n",
    "    #but now I want a single value, but it still only accepts arrays\n",
    "    redshift= np.array([redshift])\n",
    "\n",
    "    \n",
    "    metallicities        = (metallicityBinLimits[1:]+metallicityBinLimits[:-1])/2.\n",
    "    metallicityBinWidth  = np.diff(metallicityBinLimits)\n",
    "    \n",
    "    #Fractions will be calculated at each metallicity (global variables here)\n",
    "    Fractions = np.zeros(len(metallicities))\n",
    "\n",
    "    #Again code is made for single metallicity so sadly a for loop\n",
    "    #Pass the bin limits to calculate the fraction at the center value.\n",
    "    for nrZ, Z in enumerate(metallicities):\n",
    "        Zlower = metallicityBinLimits[nrZ]\n",
    "        Zupper = metallicityBinLimits[nrZ+1]\n",
    "        dummyValue = 0\n",
    "        dummySFR   = 'Madau'\n",
    "        \n",
    "        fraction = MSSFR.returnMetallicitySpecificSFR(Zupper=Zupper,Zlower=Zlower,\\\n",
    "                                                      redshifts=redshift, ageBirthGyrs=dummyValue,\\\n",
    "                                                       SFRprescription=dummySFR,ZMprescription=MZ, \\\n",
    "                                                       Schechter=GSMF, returnOnlyFraction=True)\n",
    "        Fractions[nrZ] = fraction\n",
    "    #fraction is integral of PDF over bin i.e. PDF * binwidth\n",
    "    #PDF  = np.divide(Fractions, np.diff(metallicityBinLimits))\n",
    "    return Fractions, metallicities, metallicityBinWidth\n",
    "\n",
    "\n",
    "metallicityBinLimits = np.logspace(-5, 0.0, 100)\n",
    "redshift             = 0\n",
    "MZ                   = 'Ma2015'\n",
    "GSMF                 = 'FurlongDouble'\n",
    "PDFlanger, x, binWidth = returnPDF(redshift, MZ, GSMF,metallicityBinLimits)\n",
    "\n",
    "PDF_model = np.zeros(len(x))\n",
    "for nr in range(len(x)):\n",
    "    PDF_model[nr] =fractionLogNormal(metallicityBinLimits[nr], metallicityBinLimits[nr+1], redshift, MZ, GSMF)\n",
    "#PDF_model = np.divide(PDF_model, binWidth)\n",
    "print np.sum(PDF_model), np.sum(PDFlanger)"
   ]
  },
  {
   "cell_type": "code",
   "execution_count": 5,
   "metadata": {
    "collapsed": false
   },
   "outputs": [
    {
     "data": {
      "image/png": "[encoded data removed]",
      "text/plain": [
       "<matplotlib.figure.Figure at 0x7fe49efd1050>"
      ]
     },
     "metadata": {},
     "output_type": "display_data"
    }
   ],
   "source": [
    "fig, axes = plt.subplots(1,1)\n",
    "axes.plot(np.log10(x), PDFlanger)\n",
    "axes.plot(np.log10(x), PDF_model, c='r')\n",
    "plt.show()"
   ]
  },
  {
   "cell_type": "code",
   "execution_count": 7,
   "metadata": {
    "collapsed": false
   },
   "outputs": [],
   "source": [
    "optimistic  = False\n",
    "sensitivity = 'O1' # for event class\n",
    "pathCOMPASOutput = '/home/cneijssel/Documents/Projects/Data/CosmicInt/'\n",
    "f               = h5.File(pathCOMPASOutput+'COMPASOutput.h5')\n",
    "fDCO            = f['doubleCompactObjects']\n",
    "metallicityGrid = np.unique(f['systems']['Metallicity1'][...].squeeze())\n",
    "\n",
    "solar = 0.0142\n",
    "def returnDCOmask(types='BBH', optimistic=True):\n",
    "    if types == 'BBH':\n",
    "        maskDCO   = (fDCO['stellarType1'][...] == 14) & (fDCO['stellarType2'][...] == 14) &\\\n",
    "                    (fDCO['RLOFSecondaryAfterCEE'][...]==False) &(fDCO['mergesInHubbleTimeFlag'][...]==True)\n",
    "    if types == 'BNS':\n",
    "        maskDCO   = (fDCO['stellarType1'][...] == 13) & (fDCO['stellarType2'][...] == 13) &\\\n",
    "                    (fDCO['RLOFSecondaryAfterCEE'][...]==False) &(fDCO['mergesInHubbleTimeFlag'][...]==True)\n",
    "    if types == 'BHNS':\n",
    "        maskDCO1   = (fDCO['stellarType1'][...] == 13) & (fDCO['stellarType2'][...] == 14) &\\\n",
    "                    (fDCO['RLOFSecondaryAfterCEE'][...]==False) &(fDCO['mergesInHubbleTimeFlag'][...]==True)\n",
    "        maskDCO2   = (fDCO['stellarType1'][...] == 14) & (fDCO['stellarType2'][...] == 13) &\\\n",
    "                    (fDCO['RLOFSecondaryAfterCEE'][...]==False) &(fDCO['mergesInHubbleTimeFlag'][...]==True)\n",
    "        maskDCO    = maskDCO1 | maskDCO2\n",
    "\n",
    "\n",
    "    if not optimistic:\n",
    "        maskPessimistic = (fDCO['optimisticCEFlag'][...]==False)\n",
    "        maskDCO = maskDCO & maskPessimistic\n",
    "    return maskDCO\n",
    "\n",
    "def returnCosmic(types, optimistic, minRedshift, maxRedshift, nrRedshiftBins):\n",
    "    maskDCO  = returnDCOmask(types=types, optimistic=optimistic)\n",
    "    cosmic   = Cosmic.CosmicIntegrationLoop(pathCOMPAS=pathCOMPASOutput, \\\n",
    "                                          maskDCO=maskDCO,\\\n",
    "                                          uniqueMetallicity=metallicityGrid,\n",
    "                                          minRedshift=minRedshift,\\\n",
    "                                          maxRedshift=maxRedshift,\\\n",
    "                                          nrRedshiftBins=nrRedshiftBins)\n",
    "    return cosmic\n",
    "\n",
    "def doCosmicIntegral(cosmic, SFR, MZ, GSMF, customToyModel=None):\n",
    "    cosmic.doCosmicIntPerRedshift(starFormationRatePrescription=SFR,\\\n",
    "                                  metallicityFractionPrescription=MZ,\\\n",
    "                                  schechterPrescription=GSMF,customToyModel=customToyModel) #everything else is default\n",
    "    return cosmic\n",
    "\n",
    "cosmic             = returnCosmic('BBH', optimistic, 0, 1, 30)\n",
    "Truecosmic         = copy.deepcopy(cosmic)\n",
    "Truecosmic  = doCosmicIntegral(Truecosmic, 'Madau', 'Ma2015',\\\n",
    "                            'FurlongDouble')#, customToyModel=[guesx, guesy, guesz])\n",
    "\n",
    "\n",
    "\n",
    "datapoints        = cosmic.COMPAS_Mchirp\n",
    "\n",
    "datapoints        = datapoints[cosmic.COMPAS_pessimictic_subSet]\n",
    "bayes             = Bayes.BayesianLikelyhoodSingleObservation(datapoints=datapoints)\n"
   ]
  },
  {
   "cell_type": "code",
   "execution_count": 8,
   "metadata": {
    "collapsed": false
   },
   "outputs": [],
   "source": [
    "def Likelihoods(cosmic, Type, Survey, Optimistic, debugging=False, nrEvents=10\\\n",
    "                                ,names=None, values=None, lowerErrors=None, upperErrors=None):\n",
    "    maskDCO  = returnDCOmask(types=Type, optimistic=Optimistic)\n",
    "    datapoints        = cosmic.COMPAS_Mchirp\n",
    "    ratePerSystem     = np.sum(cosmic.PerSystemRedshift_ratesObserved, axis=0)\n",
    "    \n",
    "    maskDCO = maskDCO.squeeze() #I use a different shape [[1],[0],[1]] vs [1,0,1]\n",
    "     \n",
    "    \n",
    "    if Optimistic   == 'pessimistic': #should take subset\n",
    "        maskDCO       = maskDCO & cosmic.COMPAS_pessimictic_allDCO\n",
    "        ratePerSystem = ratePerSystem[cosmic.COMPAS_pessimictic_subSet]\n",
    "        datapoints    = datapoints[cosmic.COMPAS_pessimictic_subSet]\n",
    "        \n",
    "    if len(datapoints) != len(ratePerSystem):\n",
    "        raise ValueError(\"oopsie rate per system and number of datapoints not the same XO\")\n",
    "        #calculating a single likelyhood for the COMPAS values  \n",
    "    ratePerRedshift = np.sum(cosmic.PerSystemRedshift_ratesObserved, axis=1)\n",
    "    if ratePerRedshift[-1]!=0.:\n",
    "        raise ValueError(\"max redshift still contains mergers, look further or you might miss stuff\")   \n",
    "        \n",
    "    \n",
    "    #what are the events I use for the likelyhoods\n",
    "    values = np.random.uniform(low=5, high=70, size=(nrEvents,))\n",
    "    lowerErrors = values*0.1\n",
    "    upperErrors= values*0.1\n",
    "    names = np.ones(len(values))\n",
    "    #######################################################\n",
    "    #        Calculating Likelihoods per Event            #\n",
    "    #######################################################   \n",
    "    if debugging:\n",
    "        print 'Likelihoods Events'\n",
    "    #calculate the width of the kernel using scipy in Bayes class\n",
    "    #bayes = Bayes.BayesianLikelyhoodSingleObservation(datapoints=datapoints)\n",
    "    \n",
    "    centerValuesL = np.zeros(len(names))\n",
    "    \n",
    "    for nrB, observation in enumerate(names):\n",
    "        #prepare the gaussians we are going to use for the observation\n",
    "        #and the dx steps for integrating\n",
    "        bayes.setObservation(observation=values[nrB], lowerError=lowerErrors[nrB], \\\n",
    "                             upperError=upperErrors[nrB], confidence=0.9)\n",
    "        \n",
    "        #What is our center value (i.e. with original rate)\n",
    "        bayes.calculatePDFs(weights=ratePerSystem)\n",
    "        centerValuesL[nrB] = np.log10(bayes._PmodelGivenObservation )\n",
    "        \n",
    "    rateCOMPASinSurvey     = np.sum(ratePerSystem) * observingTime[Survey]\n",
    "    centerValueR           = np.log10(bayes.poisson(rateCOMPASinSurvey, len(names)))\n",
    "    return centerValuesL, centerValueR\n",
    "\n",
    "observable        = 'Mchirp'\n",
    "surveys           = ['O1', 'O2']\n",
    "observingTime     = {'O1':48./365.25, 'O2':118./365.25}\n",
    "nrEvents          = 50\n",
    "values            = np.random.uniform(low=5, high=70, size=(nrEvents,))\n",
    "lowerErrors       = values*0.1\n",
    "upperErrors       = values*0.1\n",
    "names             = np.ones(len(values))\n",
    "\n",
    "LMcTrue,LRTrue = Likelihoods(Truecosmic, 'BBH', 'O2', 'False', debugging=False, nrEvents=nrEvents\\\n",
    "                    ,names=names, values=values, lowerErrors=lowerErrors, upperErrors=upperErrors)\n",
    "LtotTrue = np.sum(LMcTrue) +LRTrue"
   ]
  },
  {
   "cell_type": "code",
   "execution_count": 9,
   "metadata": {
    "collapsed": false
   },
   "outputs": [
    {
     "name": "stdout",
     "output_type": "stream",
     "text": [
      "[[ 0.  0.  0.]\n",
      " [ 0.  0.  0.]\n",
      " [ 0.  0.  0.]]\n"
     ]
    }
   ],
   "source": [
    "guess              = np.array([0.25 0.4 0.038])   #first guess\n",
    "#guess              = np.array([0.2375, 0.4, 0.042])\n",
    "resolutions        = np.array([0.05, 0.05, 0.05])     #%\n",
    "newguessx          = np.zeros(3)\n",
    "newguessy          = np.zeros(3)\n",
    "newguessz          = np.zeros(3)\n",
    "#draw a cube around it (26 solutions)\n",
    "#calculate Ls\n",
    "\n",
    "a = np.zeros((3, 3, 3))\n",
    "print a[0]"
   ]
  },
  {
   "cell_type": "code",
   "execution_count": 10,
   "metadata": {
    "collapsed": false
   },
   "outputs": [
    {
     "name": "stdout",
     "output_type": "stream",
     "text": [
      "1\n",
      "2\n",
      "3\n",
      "4\n",
      "5\n",
      "6\n",
      "7\n",
      "8\n",
      "9\n",
      "10\n",
      "11\n",
      "12\n",
      "13\n",
      "14\n",
      "15\n",
      "16\n",
      "17\n",
      "18\n",
      "19\n",
      "20\n",
      "21\n",
      "22\n",
      "23\n",
      "24\n",
      "25\n",
      "26\n",
      "27\n"
     ]
    }
   ],
   "source": [
    "\n",
    "counter           = 0\n",
    "\n",
    "for nrx in range(3):\n",
    "    for nry in range(3):\n",
    "        for nrz in range(3):\n",
    "            counter+=1\n",
    "            print counter\n",
    "            guesx = guess[0] * (1+  (nrx - 1 )*resolutions[0])\n",
    "            guesy = guess[1] * (1+  (nry - 1 )*resolutions[1])\n",
    "            guesz = guess[2] * (1+  (nrz - 1 )*resolutions[2])\n",
    "            newguessx[nrx] = guesx\n",
    "            newguessy[nry] = guesy\n",
    "            newguessz[nrz] = guesz\n",
    "            cosmic  = doCosmicIntegral(cosmic, 'Madau', 'toyModelMa2015',\\\n",
    "                                      'FurlongDouble', customToyModel=[guesx, guesy, guesz])\n",
    "\n",
    "            LMc,LR = Likelihoods(cosmic, 'BBH', 'O2', 'False', debugging=False, nrEvents=nrEvents\\\n",
    "                                ,names=names, values=values, lowerErrors=lowerErrors, upperErrors=upperErrors)\n",
    "            Ltot = np.sum(LMc) + LR\n",
    "            difference = np.abs(LtotTrue-Ltot)\n",
    "            a[nrx][nry][nrz] = difference"
   ]
  },
  {
   "cell_type": "code",
   "execution_count": 15,
   "metadata": {
    "collapsed": false
   },
   "outputs": [
    {
     "name": "stdout",
     "output_type": "stream",
     "text": [
      "0.119735233541\n",
      "0.25 0.4 0.038\n"
     ]
    }
   ],
   "source": [
    "xmin, ymin, zmin =np.where(a == np.min(a))\n",
    "\n",
    "print a[xmin[0]][ymin[0]][zmin[0]]\n",
    "print newguessx[xmin[0]] ,newguessy[ymin[0]] ,newguessz[zmin[0]]"
   ]
  },
  {
   "cell_type": "code",
   "execution_count": null,
   "metadata": {
    "collapsed": false
   },
   "outputs": [],
   "source": [
    "cosmic  = doCosmicIntegral(cosmic, 'Madau', 'toyModelMa2015',\\\n",
    "                                      'FurlongDouble', customToyModel=[0.25, 0.4, 0.04])\n",
    "\n",
    "LMc,LR = Likelihoods(cosmic, 'BBH', 'O2', 'False', debugging=False, nrEvents=nrEvents\\\n",
    "                    ,names=names, values=values, lowerErrors=lowerErrors, upperErrors=upperErrors)\n",
    "print np.sum(LMc) + LR"
   ]
  },
  {
   "cell_type": "code",
   "execution_count": null,
   "metadata": {
    "collapsed": true
   },
   "outputs": [],
   "source": []
  }
 ],
 "metadata": {
  "kernelspec": {
   "display_name": "Python 2",
   "language": "python",
   "name": "python2"
  },
  "language_info": {
   "codemirror_mode": {
    "name": "ipython",
    "version": 2
   },
   "file_extension": ".py",
   "mimetype": "text/x-python",
   "name": "python",
   "nbconvert_exporter": "python",
   "pygments_lexer": "ipython2",
   "version": "2.7.12"
  }
 },
 "nbformat": 4,
 "nbformat_minor": 2
}
