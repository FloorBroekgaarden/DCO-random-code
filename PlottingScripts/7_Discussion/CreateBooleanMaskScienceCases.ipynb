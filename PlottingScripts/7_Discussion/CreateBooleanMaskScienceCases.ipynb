{
 "cells": [
  {
   "cell_type": "markdown",
   "metadata": {},
   "source": [
    "# Setting up Paths"
   ]
  },
  {
   "cell_type": "code",
   "execution_count": 15,
   "metadata": {
    "collapsed": true
   },
   "outputs": [],
   "source": [
    "#path to the data\n",
    "pathCOMPASOutput = '/home/cneijssel/Documents/Projects/Data/CosmicInt/'\n",
    "\n",
    "#path to compasrepo which contains ther popsynth folder\n",
    "pathRepo = '/home/cneijssel/Documents/COMPASpop'\n",
    "\n"
   ]
  },
  {
   "cell_type": "markdown",
   "metadata": {},
   "source": [
    "# Imports"
   ]
  },
  {
   "cell_type": "code",
   "execution_count": 16,
   "metadata": {},
   "outputs": [],
   "source": [
    "import numpy as np\n",
    "import matplotlib.pyplot as plt\n",
    "import h5py as h5\n",
    "import pandas as pd\n",
    "import sys\n",
    "import os.path\n",
    "#Quick fudge to make import from ../Scripts work\n",
    "import sys\n",
    "sys.path.append(pathRepo + '/popsynth/Papers/NeijsselEtAL/CosmicIntegration/Scripts')\n",
    "sys.path.append(pathRepo + '/popsynth/Papers/NeijsselEtAL/CosmicIntegration/Scripts/CosmicScripts')"
   ]
  },
  {
   "cell_type": "markdown",
   "metadata": {},
   "source": [
    "# Custom Imports from COMPASrepo"
   ]
  },
  {
   "cell_type": "code",
   "execution_count": 17,
   "metadata": {},
   "outputs": [],
   "source": [
    "import ClassCosmicLoop as Cosmic #Given settings and redshifts returns rates (2D arrays) Loads the data\n",
    "import coencodeVarious as CV\n"
   ]
  },
  {
   "cell_type": "markdown",
   "metadata": {},
   "source": [
    "# COMPAS info"
   ]
  },
  {
   "cell_type": "code",
   "execution_count": 18,
   "metadata": {},
   "outputs": [],
   "source": [
    "f               = h5.File(pathCOMPASOutput+'COMPASOutput.h5')\n",
    "fDCO            = f['doubleCompactObjects']\n",
    "metallicityGrid = np.unique(f['systems']['Metallicity1'][...].squeeze())\n",
    "def returnDCOmask(types='BBH', optimistic=True):\n",
    "    if types == 'BBH':\n",
    "        maskDCO   = (fDCO['stellarType1'][...] == 14) & (fDCO['stellarType2'][...] == 14) &\\\n",
    "                    (fDCO['RLOFSecondaryAfterCEE'][...]==False) &(fDCO['mergesInHubbleTimeFlag'][...]==True)\n",
    "    if types == 'BNS':\n",
    "        maskDCO   = (fDCO['stellarType1'][...] == 13) & (fDCO['stellarType2'][...] == 13) &\\\n",
    "                    (fDCO['RLOFSecondaryAfterCEE'][...]==False) &(fDCO['mergesInHubbleTimeFlag'][...]==True)\n",
    "    if types == 'BHNS':\n",
    "        maskDCO1   = (fDCO['stellarType1'][...] == 13) & (fDCO['stellarType2'][...] == 14) &\\\n",
    "                    (fDCO['RLOFSecondaryAfterCEE'][...]==False) &(fDCO['mergesInHubbleTimeFlag'][...]==True)\n",
    "        maskDCO2   = (fDCO['stellarType1'][...] == 14) & (fDCO['stellarType2'][...] == 13) &\\\n",
    "                    (fDCO['RLOFSecondaryAfterCEE'][...]==False) &(fDCO['mergesInHubbleTimeFlag'][...]==True)\n",
    "        maskDCO    = maskDCO1 | maskDCO2\n",
    "\n",
    "\n",
    "    if not optimistic:\n",
    "        maskPessimistic = (fDCO['optimisticCEFlag'][...]==False)\n",
    "        maskDCO = maskDCO & maskPessimistic\n",
    "    return maskDCO\n",
    "\n",
    "#remember that between different MSSFRs the DCO used are exactly the same only the weights differ.\n",
    "#so for this array we do not have to do the integral just now which DCO's we are looking at :)\n",
    "types          = 'BBH'\n",
    "optimistic     = False\n",
    "maskDCO        = returnDCOmask(types=types, optimistic=optimistic)\n",
    "seedsDCO       = fDCO['seed'][...].squeeze()[maskDCO.squeeze()]\n"
   ]
  },
  {
   "cell_type": "code",
   "execution_count": 19,
   "metadata": {},
   "outputs": [
    {
     "name": "stdout",
     "output_type": "stream",
     "text": [
      "file exists\n"
     ]
    }
   ],
   "source": [
    "#I want to do it once and store booleans in array\n",
    "#careful this is not a univeral approach  if stuff changed it brakes\n",
    "filename = 'BooleanArray.txt'\n",
    "\n",
    "\n",
    "columnnames = ['PPISN_primary' ,\\\n",
    "          'PPISN_secondary',\\\n",
    "          'PISN_primary',\\\n",
    "          'PISN_secondary',\\\n",
    "          'LBV_primary',\\\n",
    "          'LBV_secondary',\\\n",
    "          'channel_binary']\n",
    "\n",
    "header = ''\n",
    "for string in columnnames[:-1]:\n",
    "    header +=string+'\\t'\n",
    "header += columnnames[-1]\n",
    "if not os.path.isfile(filename):\n",
    "    print(' does not file exists')\n",
    "   \n",
    "    f_handle = file(filename, 'w')\n",
    "    np.savetxt(f_handle, booleanArray, delimiter='\\t', fmt=\"%5i\", header=header, comments='')\n",
    "    f_handle.close()\n",
    "else:\n",
    "    print('file exists')\n"
   ]
  },
  {
   "cell_type": "markdown",
   "metadata": {
    "collapsed": true
   },
   "source": [
    "# (P)PISN estimate flag"
   ]
  },
  {
   "cell_type": "code",
   "execution_count": 24,
   "metadata": {},
   "outputs": [
    {
     "name": "stdout",
     "output_type": "stream",
     "text": [
      "291929 291929\n",
      "which star == 3 PPISN/PISN= [False] [False]\n",
      "244 0\n"
     ]
    }
   ],
   "source": [
    "doPPISN = True\n",
    "\n",
    "if doPPISN:\n",
    "     #table 1 woosley 2016 \n",
    "    PPISN_CO_low  =  28.\n",
    "    PISN_CO_low   =  54.\n",
    "    \n",
    "    seedsSN       =  f['supernovae']['randomSeed'][...].squeeze()\n",
    "    boolSN_DCO    =  np.in1d(seedsSN,seedsDCO) #will be twice length seedsDCO (2 SN)\n",
    "    seedsSNtest      =  f['supernovae']['randomSeed'][...].squeeze()[boolSN_DCO]\n",
    "    print len(np.unique(seedsSNtest)), len(seedsDCO)\n",
    "    #have a look at the primaries\n",
    "    #apperantly I have two systems of which both went supernova simultaneously in code\n",
    "    #not sure how this is printed, but affects 2/291929 systems \n",
    "    #problem is that I cannot assign it easily to DCO\n",
    "    #or statement in whichstar results in double usage implyin itSN is printed twice if both explode\n",
    "    #and statement is not possible.\n",
    "    #need to isolate the seed and manually set it\n",
    "    \n",
    "    doubleSN      =  (f['supernovae']['whichStar'][...].squeeze() == 3)[boolSN_DCO]\n",
    "    doublePPISN   = ((f['supernovae']['MassCOCoreSN'][...].squeeze()>=PPISN_CO_low) &\\\n",
    "                     (f['supernovae']['MassCOCoreSN'][...].squeeze()< PISN_CO_low))[boolSN_DCO][doubleSN]\n",
    "    doublePISN      = (f['supernovae']['MassCOCoreSN'][...].squeeze()>= PISN_CO_low)[boolSN_DCO][doubleSN]\n",
    "    print 'which star == 3 PPISN/PISN=', np.unique(doublePPISN), np.unique(doublePISN)\n",
    "    \n",
    "    #so I know that these systems should have their boolean false, problem is their location\n",
    "    #instead of directly using primaryPPISN boolean i need to convert to seed and lookup seeds of DCO.\n",
    "    \n",
    "    boolPrimary   =  (f['supernovae']['whichStar'][...].squeeze() == 1)[boolSN_DCO]  \n",
    "    \n",
    "    primaryPPISN    = ((f['supernovae']['MassCOCoreSN'][...].squeeze()>=PPISN_CO_low) &\\\n",
    "                     (f['supernovae']['MassCOCoreSN'][...].squeeze()< PISN_CO_low))[boolSN_DCO][boolPrimary]\n",
    "    primaryPISN      = (f['supernovae']['MassCOCoreSN'][...].squeeze()>= PISN_CO_low)[boolSN_DCO][boolPrimary]\n",
    "        \n",
    "    seedsPrimaryPPISN = seedsSN[boolSN_DCO][boolPrimary][primaryPPISN]\n",
    "    seedsPrimaryPISN  = seedsSN[boolSN_DCO][boolPrimary][primaryPISN]\n",
    "    \n",
    "        #have a look at the secondaries\n",
    "    boolSecondary =  (f['supernovae']['whichStar'][...].squeeze() == 2)[boolSN_DCO]\n",
    "    secondaryPPISN     = ((f['supernovae']['MassCOCoreSN'][...].squeeze()>=PPISN_CO_low) &\\\n",
    "                    (f['supernovae']['MassCOCoreSN'][...].squeeze()< PISN_CO_low))[boolSN_DCO][boolSecondary]\n",
    "    secondaryPISN      = (f['supernovae']['MassCOCoreSN'][...].squeeze()>= PISN_CO_low)[boolSN_DCO][boolSecondary]\n",
    "        \n",
    "    seedsSecondaryPPISN = seedsSN[boolSN_DCO][boolSecondary][secondaryPPISN]\n",
    "    seedsSecondaryPISN  = seedsSN[boolSN_DCO][boolSecondary][secondaryPISN]    \n",
    "    #read and write to file\n",
    "    df = pd.read_table(filename, header=0,  delim_whitespace=True)\n",
    "    df['PPISN_primary']   = np.in1d(seedsDCO, seedsPrimaryPPISN)\n",
    "    df['PPISN_secondary'] = np.in1d(seedsDCO, seedsPrimaryPISN)\n",
    "    df['PISN_primary']    = np.in1d(seedsDCO, seedsPrimaryPISN)\n",
    "    df['PISN_secondary']  = np.in1d(seedsDCO, seedsSecondaryPISN)\n",
    "    \n",
    "    Results = df.as_matrix()\n",
    "    \n",
    "    f_handle = file(filename, 'w')\n",
    "    np.savetxt(f_handle, Results, delimiter='\\t', fmt='%5i', header=header, comments='')\n",
    "    f_handle.close()\n",
    "#If a PISN it would not be a binary so sepatate class"
   ]
  },
  {
   "cell_type": "markdown",
   "metadata": {},
   "source": [
    "# LBV estimate flag"
   ]
  },
  {
   "cell_type": "code",
   "execution_count": 7,
   "metadata": {},
   "outputs": [],
   "source": [
    "doLBV  = False\n",
    "\n",
    "#During the run the lbv flag didnt exist, now estimate from sse grid if the star is above lbv threshold.\n",
    "#first star will only be from zams mass, unless there is an\n",
    "#extreme second moment mass transfer from winds/timestepping, but I ignore this\n",
    "#Secondary star can accrete during the MS so I test the MS after mass transfer\n",
    "\n",
    "#this takes long :s\n",
    "if doLBV:\n",
    "    metallicities = np.logspace(-4,-1.5,30)\n",
    "    LBVMS         = np.zeros(len(metallicities))\n",
    "    masses        = np.linspace(0.0,200,401)\n",
    "    for nrZ, Z in enumerate(metallicities):\n",
    "        path= '/home/cneijssel/Desktop/GridStuff/'+str(Z)\n",
    "        dfDetailed = pd.read_table(path+'/dataOutput_0.dat', header=1, delim_whitespace=True)\n",
    "        boolLBV    = (dfDetailed['m_LBVphaseFlag']==True)\n",
    "        boolMS     = (dfDetailed['S1type']==True)\n",
    "\n",
    "        seedsS     = np.unique(dfDetailed['%SEED'][boolLBV & boolMS])\n",
    "        boolM      = np.zeros(len(masses), dtype=bool)\n",
    "\n",
    "        for S in (seedsS):\n",
    "            boolM[S] = True\n",
    "        try:\n",
    "            minMassLBV = min(masses[boolM])    \n",
    "        except: #no LBV so arbitrary high mass\n",
    "            minMassLBV = 1000.\n",
    "        LBVMS[nrZ] =minMassLBV\n",
    "    print 'found LBV criteria looking at booleans'   \n",
    "    #split cell because this one takes long if a bug below I dont want to redo it"
   ]
  },
  {
   "cell_type": "code",
   "execution_count": 8,
   "metadata": {},
   "outputs": [],
   "source": [
    "if doLBV:\n",
    "    print 'found LBV criteria looking at booleans'\n",
    "    boolLBVprimary   = np.zeros(len(f['systems']['mass1'][...].squeeze()), dtype=bool)\n",
    "    boolLBVsecondary = np.zeros(len(f['systems']['mass1'][...].squeeze()), dtype=bool)\n",
    "    for nrZ, Z in enumerate(metallicityGrid):\n",
    "\n",
    "        boolZ     = f['systems']['Metallicity1'][...].squeeze() == Z\n",
    "        boolMass1 = f['systems']['mass1'][...].squeeze() >= LBVMS[nrZ]\n",
    "        boolLBV   = boolZ & boolMass1\n",
    "        boolLBVprimary = boolLBV | boolLBVprimary\n",
    "        boolMass2 = f['systems']['mass2'][...].squeeze() >= LBVMS[nrZ]\n",
    "        boolLBV   = boolZ & boolMass2\n",
    "        boolLBVsecondary = boolLBV | boolLBVsecondary\n",
    "    seedsPrimaryLBV = f['systems']['SEED'][...].squeeze()[boolLBVprimary]\n",
    "    seedsSecondaryLBV = f['systems']['SEED'][...].squeeze()[boolLBVsecondary]\n",
    "    print len(seedsPrimaryLBV)\n",
    "\n",
    "    boolSecondaryLBVRLOF = np.zeros(len(f['RLOF']['mass1'][...].squeeze()), dtype=bool)\n",
    "    for nrZ, Z in enumerate(metallicityGrid):\n",
    "        #find metallicity Z\n",
    "        boolZ     = f['systems']['Metallicity2'][...].squeeze() == Z\n",
    "        seedsZ = f['systems']['SEED'][...].squeeze()[f['systems']['Metallicity1'][...].squeeze() ==  Z]\n",
    "        #get seeds with metallicity Z\n",
    "        boolZ = np.in1d(f['RLOF']['randomSeed'][...].squeeze(), seedsZ)\n",
    "        boolMass = f['RLOF']['mass2'][...].squeeze() >= LBVMS[nrZ]\n",
    "        boolType = f['RLOF']['type2'][...].squeeze() == 1\n",
    "        boolLBV = boolMass & boolType\n",
    "        boolSecondaryLBVRLOF = boolLBV | boolSecondaryLBVRLOF\n",
    "    seedsSecondaryLBVRLOF = f['RLOF']['randomSeed'][...].squeeze()[boolSecondaryLBVRLOF]\n",
    "    print 'almost DOnce'\n",
    "    boolLBV_Primary = np.in1d(seedsDCO, seedsPrimaryLBV)\n",
    "    boolLBV_Secondary = np.in1d(seedsDCO, seedsSecondaryLBV) |  np.in1d(seedsDCO, seedsSecondaryLBVRLOF)\n",
    "    #read and write to file\n",
    "    df = pd.read_table(filename, header=0,  delim_whitespace=True)\n",
    "    df['LBV_primary']   = boolLBV_Primary\n",
    "    df['LBV_secondary'] = boolLBV_Secondary\n",
    "    \n",
    "    Results = df.as_matrix()\n",
    "    \n",
    "    f_handle = file(filename, 'w')\n",
    "    np.savetxt(f_handle, Results, delimiter='\\t', fmt='%5i', header=header, comments='')\n",
    "    f_handle.close()\n",
    "    print 'Done'"
   ]
  },
  {
   "cell_type": "markdown",
   "metadata": {},
   "source": [
    "# formation flag"
   ]
  },
  {
   "cell_type": "code",
   "execution_count": 14,
   "metadata": {},
   "outputs": [
    {
     "name": "stdout",
     "output_type": "stream",
     "text": [
      "0.500745044172\n",
      "0.395688677726\n",
      "0.0685098088919\n"
     ]
    }
   ],
   "source": [
    "doChannels = True\n",
    "#when calculating the fractions I saved the seeds to file to reuse here.\n",
    "if doChannels:\n",
    "    channel1 = pd.read_table('../AppendixE_Fractions/seedsClassic.txt', header=None)\n",
    "    maskChannel1 = np.in1d(seedsDCO, channel1.as_matrix().squeeze())\n",
    "    channel2 = pd.read_table('../AppendixE_Fractions/seedsNonCee.txt', header=None)\n",
    "    maskChannel2 = np.in1d(seedsDCO, channel2.as_matrix().squeeze())\n",
    "    channel3 = pd.read_table('../AppendixE_Fractions/seedsDoubleCore.txt', header=None)\n",
    "    maskChannel3 = np.in1d(seedsDCO, channel3.as_matrix().squeeze())\n",
    "\n",
    "    df = pd.read_table(filename, header=0,  delim_whitespace=True)\n",
    "    df['channel_binary'][maskChannel1]  = 1\n",
    "    df['channel_binary'][maskChannel2]  = 2\n",
    "    df['channel_binary'][maskChannel3]  = 3\n",
    "    for channel in [maskChannel1, maskChannel2, maskChannel3]:\n",
    "        print np.sum(channel) / float(len(channel))\n",
    "    Results = df.as_matrix()\n",
    "    \n",
    "    \n",
    "    f_handle = file(filename, 'w')\n",
    "    np.savetxt(f_handle, Results, delimiter='\\t', fmt='%5i', header=header, comments='')\n",
    "    f_handle.close()"
   ]
  },
  {
   "cell_type": "code",
   "execution_count": null,
   "metadata": {
    "collapsed": true
   },
   "outputs": [],
   "source": []
  }
 ],
 "metadata": {
  "kernelspec": {
   "display_name": "Python 2",
   "language": "python",
   "name": "python2"
  },
  "language_info": {
   "codemirror_mode": {
    "name": "ipython",
    "version": 2
   },
   "file_extension": ".py",
   "mimetype": "text/x-python",
   "name": "python",
   "nbconvert_exporter": "python",
   "pygments_lexer": "ipython2",
   "version": "2.7.16"
  }
 },
 "nbformat": 4,
 "nbformat_minor": 2
}
