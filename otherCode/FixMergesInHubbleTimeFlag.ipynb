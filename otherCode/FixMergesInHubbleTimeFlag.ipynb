{
 "cells": [
  {
   "cell_type": "code",
   "execution_count": 3,
   "metadata": {},
   "outputs": [
    {
     "data": {
      "text/html": [
       "<style>.container { width:100% !important; }</style>"
      ],
      "text/plain": [
       "<IPython.core.display.HTML object>"
      ]
     },
     "metadata": {},
     "output_type": "display_data"
    },
    {
     "name": "stdout",
     "output_type": "stream",
     "text": [
      "[False False False ... False False  True]\n",
      "[2.10478e+22 2.15493e+16 1.77366e+17 7.72399e+03 4.32953e+02 9.49787e+04]\n",
      "[False False False  True  True False]\n",
      "done\n"
     ]
    }
   ],
   "source": [
    "\n",
    "from __future__ import print_function\n",
    "# from __future__ import division\n",
    "import numpy as np\n",
    "import matplotlib.pyplot as plt\n",
    "import h5py as h5\n",
    "from matplotlib.ticker import AutoMinorLocator, MultipleLocator\n",
    "minor = AutoMinorLocator()\n",
    "\n",
    "from IPython.core.display import display, HTML\n",
    "display(HTML(\"<style>.container { width:100% !important; }</style>\"))\n",
    "\n",
    "\n",
    "path = '/Volumes/TOSHIBA EXT/black_hole-neutron_star/Fiducial/'\n",
    "\n",
    "# for both directories, change default weights to weights above\n",
    "# for ind, outputDir in enumerate([outputDirectoryExpl, outputDirectoryRef]):\n",
    "#path1 = path+'COMPASOutput.h5'\n",
    "#fdata = h5.File(path1)\n",
    "#print(fdata.keys())\n",
    "\n",
    "\n",
    "path1 = path+'COMPASOutput.h5'\n",
    "fdata = h5.File(path1)\n",
    "\n",
    "fDCO = fdata['doubleCompactObjects']\n",
    "tc = fdata['doubleCompactObjects/tc'][...].squeeze() # Myr\n",
    "\n",
    "  \n",
    "H0                         = 67.8;                                #   // Hubble's Constant in km s^-1 Mpc^-1  (from plank approx 67.80±0.77) CPLB: Use WMAP value\n",
    "H0SI                       = H0*1000/3E22;                        # // Hubble's Constant in SI units, s^-1\n",
    "HubbleTime                 = 1./H0SI #;   # in sec\n",
    "\n",
    "secToMyr =  1./(3.1556926 * 10.**(13.))\n",
    "HubbleTime= HubbleTime*secToMyr  \n",
    "\n",
    "\n",
    "\n",
    "tcInHubble = (tc < HubbleTime   )\n",
    "print(tcInHubble)\n",
    "\n",
    "fdata['doubleCompactObjects/mergesInHubbleTimeFlag'][...] = np.transpose([tcInHubble])\n",
    "\n",
    "\n",
    "Hubble = fDCO['mergesInHubbleTimeFlag'][...].squeeze()\n",
    "print(tc[0:6])\n",
    "print(Hubble[0:6])\n",
    "print('done')\n",
    "\n"
   ]
  },
  {
   "cell_type": "code",
   "execution_count": 24,
   "metadata": {},
   "outputs": [
    {
     "name": "stdout",
     "output_type": "stream",
     "text": [
      "(2413809, 1)\n"
     ]
    }
   ],
   "source": [
    "print(np.shape(np.transpose([tcInHubble])))"
   ]
  },
  {
   "cell_type": "code",
   "execution_count": 13,
   "metadata": {},
   "outputs": [
    {
     "name": "stdout",
     "output_type": "stream",
     "text": [
      "[False, True, False, True, False, False]\n",
      "[False  True False  True False False]\n"
     ]
    }
   ],
   "source": [
    "print(list(tcInHubble[0:6]))\n",
    "\n",
    "\n",
    "RealHubble = np.ones_like(tcInHubble)\n",
    "zeros = np.zeros_like(tcInHubble)\n",
    "RealHubble[~tcInHubble] = zeros[~tcInHubble]\n",
    "\n",
    "print(RealHubble[0:6]==1)"
   ]
  },
  {
   "cell_type": "code",
   "execution_count": 7,
   "metadata": {},
   "outputs": [
    {
     "name": "stdout",
     "output_type": "stream",
     "text": [
      "14021.5772635\n"
     ]
    }
   ],
   "source": []
  }
 ],
 "metadata": {
  "kernelspec": {
   "display_name": "Python 2",
   "language": "python",
   "name": "python2"
  },
  "language_info": {
   "codemirror_mode": {
    "name": "ipython",
    "version": 2
   },
   "file_extension": ".py",
   "mimetype": "text/x-python",
   "name": "python",
   "nbconvert_exporter": "python",
   "pygments_lexer": "ipython2",
   "version": "2.7.16"
  }
 },
 "nbformat": 4,
 "nbformat_minor": 2
}
