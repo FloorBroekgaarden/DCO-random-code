{
 "cells": [
  {
   "cell_type": "code",
   "execution_count": 1,
   "metadata": {},
   "outputs": [],
   "source": [
    "import numpy as np \n",
    "import matplotlib.pyplot as plt\n",
    "import matplotlib.pyplot  as plt\n",
    "import matplotlib.patches as mpatches "
   ]
  },
  {
   "cell_type": "code",
   "execution_count": 6,
   "metadata": {},
   "outputs": [
    {
     "name": "stdout",
     "output_type": "stream",
     "text": [
      "[0.0001     0.00012174 0.0001482  0.00018041 0.00021962 0.00026736\n",
      " 0.00032547 0.00039621 0.00048233 0.00058717 0.00071479 0.00087016\n",
      " 0.00105929 0.00128954 0.00156983 0.00191104 0.00232642 0.00283208\n",
      " 0.00344765 0.00419702 0.00510928 0.00621981 0.00757174 0.00921751\n",
      " 0.011221   0.01365996 0.01662905 0.02024349 0.02464355 0.03      ]\n",
      "--- log    ----\n",
      "[0.0001  0.00011 0.00012 0.00014 0.00016 0.00017 0.00019 0.00022 0.00024\n",
      " 0.00027 0.0003  0.00034 0.00037 0.00042 0.00047 0.00052 0.00058 0.00065\n",
      " 0.00073 0.00081 0.0009  0.00101 0.00113 0.00126 0.0014  0.00157 0.00175\n",
      " 0.00195 0.00218 0.00243 0.00272 0.00303 0.00339 0.00378 0.00422 0.00471\n",
      " 0.00526 0.00587 0.00655 0.00732 0.00817 0.00912 0.01018 0.01137 0.01269\n",
      " 0.01416 0.01581 0.01765 0.01971 0.022  ]\n",
      "[0.0001     0.00011164 0.00012463 0.00013913 0.00015532 0.00017339\n",
      " 0.00019357 0.00021609 0.00024123 0.0002693  0.00030064 0.00033562\n",
      " 0.00037467 0.00041827 0.00046694 0.00052128 0.00058193 0.00064965\n",
      " 0.00072524 0.00080963 0.00090384 0.00100901 0.00112642 0.00125749\n",
      " 0.00140381 0.00156716 0.00174952 0.00195309 0.00218036 0.00243406\n",
      " 0.00271729 0.00303348 0.00338646 0.00378051 0.00422041 0.0047115\n",
      " 0.00525973 0.00587176 0.006555   0.00731774 0.00816924 0.00911982\n",
      " 0.01018101 0.01136568 0.0126882  0.01416461 0.01581281 0.0176528\n",
      " 0.01970689 0.022     ]\n",
      "--- linear ----\n",
      "[0.0001     0.00017783 0.00031623 0.00056234 0.001      0.0011487\n",
      " 0.00131951 0.00151572 0.0017411  0.002      0.0022974  0.00263902\n",
      " 0.00303143 0.0034822  0.004      0.00448144 0.00502082 0.00562513\n",
      " 0.00630217 0.0070607  0.00791052 0.00886263 0.00992933 0.01112443\n",
      " 0.01246336 0.01396345 0.01564408 0.017527   0.01963655 0.022     ]\n"
     ]
    },
    {
     "ename": "ValueError",
     "evalue": "x and y must be the same size",
     "output_type": "error",
     "traceback": [
      "\u001b[0;31m---------------------------------------------------------------------------\u001b[0m",
      "\u001b[0;31mValueError\u001b[0m                                Traceback (most recent call last)",
      "\u001b[0;32m<ipython-input-6-766bc7c70803>\u001b[0m in \u001b[0;36m<module>\u001b[0;34m\u001b[0m\n\u001b[1;32m     24\u001b[0m \u001b[0mprint\u001b[0m\u001b[0;34m(\u001b[0m\u001b[0mLinGrid\u001b[0m\u001b[0;34m)\u001b[0m\u001b[0;34m\u001b[0m\u001b[0;34m\u001b[0m\u001b[0m\n\u001b[1;32m     25\u001b[0m \u001b[0mfig\u001b[0m\u001b[0;34m,\u001b[0m \u001b[0maxes\u001b[0m \u001b[0;34m=\u001b[0m \u001b[0mplt\u001b[0m\u001b[0;34m.\u001b[0m\u001b[0msubplots\u001b[0m\u001b[0;34m(\u001b[0m\u001b[0;36m1\u001b[0m\u001b[0;34m,\u001b[0m\u001b[0;36m1\u001b[0m\u001b[0;34m,\u001b[0m\u001b[0mfigsize\u001b[0m\u001b[0;34m=\u001b[0m\u001b[0;34m(\u001b[0m\u001b[0;36m9\u001b[0m\u001b[0;34m,\u001b[0m\u001b[0;36m8\u001b[0m\u001b[0;34m)\u001b[0m\u001b[0;34m)\u001b[0m\u001b[0;34m\u001b[0m\u001b[0;34m\u001b[0m\u001b[0m\n\u001b[0;32m---> 26\u001b[0;31m \u001b[0maxes\u001b[0m\u001b[0;34m.\u001b[0m\u001b[0mscatter\u001b[0m\u001b[0;34m(\u001b[0m\u001b[0mnp\u001b[0m\u001b[0;34m.\u001b[0m\u001b[0mlog10\u001b[0m\u001b[0;34m(\u001b[0m\u001b[0mLinGrid\u001b[0m\u001b[0;34m/\u001b[0m\u001b[0mZ_solar\u001b[0m\u001b[0;34m)\u001b[0m\u001b[0;34m,\u001b[0m \u001b[0mnp\u001b[0m\u001b[0;34m.\u001b[0m\u001b[0mones_like\u001b[0m\u001b[0;34m(\u001b[0m\u001b[0mLogGrid\u001b[0m\u001b[0;34m)\u001b[0m\u001b[0;34m,\u001b[0m \u001b[0ms\u001b[0m\u001b[0;34m=\u001b[0m\u001b[0;36m28\u001b[0m\u001b[0;34m,\u001b[0m \u001b[0mlabel\u001b[0m\u001b[0;34m=\u001b[0m\u001b[0;34m'new grid'\u001b[0m\u001b[0;34m)\u001b[0m \u001b[0;31m#, c='b', s='25')\u001b[0m\u001b[0;34m\u001b[0m\u001b[0;34m\u001b[0m\u001b[0m\n\u001b[0m\u001b[1;32m     27\u001b[0m \u001b[0maxes\u001b[0m\u001b[0;34m.\u001b[0m\u001b[0mscatter\u001b[0m\u001b[0;34m(\u001b[0m\u001b[0mnp\u001b[0m\u001b[0;34m.\u001b[0m\u001b[0mlog10\u001b[0m\u001b[0;34m(\u001b[0m\u001b[0mLogGrid\u001b[0m\u001b[0;34m/\u001b[0m\u001b[0mZ_solar\u001b[0m\u001b[0;34m)\u001b[0m\u001b[0;34m,\u001b[0m\u001b[0mnp\u001b[0m\u001b[0;34m.\u001b[0m\u001b[0mones_like\u001b[0m\u001b[0;34m(\u001b[0m\u001b[0mLogGrid\u001b[0m\u001b[0;34m)\u001b[0m\u001b[0;34m,\u001b[0m \u001b[0ms\u001b[0m\u001b[0;34m=\u001b[0m\u001b[0;36m22\u001b[0m\u001b[0;34m,\u001b[0m \u001b[0mlabel\u001b[0m\u001b[0;34m=\u001b[0m\u001b[0;34m'uniform grid'\u001b[0m\u001b[0;34m)\u001b[0m \u001b[0;31m#,  c='r', s='25')\u001b[0m\u001b[0;34m\u001b[0m\u001b[0;34m\u001b[0m\u001b[0m\n\u001b[1;32m     28\u001b[0m \u001b[0mplt\u001b[0m\u001b[0;34m.\u001b[0m\u001b[0mlegend\u001b[0m\u001b[0;34m(\u001b[0m\u001b[0;34m'upper left'\u001b[0m\u001b[0;34m)\u001b[0m\u001b[0;34m\u001b[0m\u001b[0;34m\u001b[0m\u001b[0m\n",
      "\u001b[0;32m/Library/Frameworks/Python.framework/Versions/3.7/lib/python3.7/site-packages/matplotlib/__init__.py\u001b[0m in \u001b[0;36minner\u001b[0;34m(ax, data, *args, **kwargs)\u001b[0m\n\u001b[1;32m   1599\u001b[0m     \u001b[0;32mdef\u001b[0m \u001b[0minner\u001b[0m\u001b[0;34m(\u001b[0m\u001b[0max\u001b[0m\u001b[0;34m,\u001b[0m \u001b[0;34m*\u001b[0m\u001b[0margs\u001b[0m\u001b[0;34m,\u001b[0m \u001b[0mdata\u001b[0m\u001b[0;34m=\u001b[0m\u001b[0;32mNone\u001b[0m\u001b[0;34m,\u001b[0m \u001b[0;34m**\u001b[0m\u001b[0mkwargs\u001b[0m\u001b[0;34m)\u001b[0m\u001b[0;34m:\u001b[0m\u001b[0;34m\u001b[0m\u001b[0;34m\u001b[0m\u001b[0m\n\u001b[1;32m   1600\u001b[0m         \u001b[0;32mif\u001b[0m \u001b[0mdata\u001b[0m \u001b[0;32mis\u001b[0m \u001b[0;32mNone\u001b[0m\u001b[0;34m:\u001b[0m\u001b[0;34m\u001b[0m\u001b[0;34m\u001b[0m\u001b[0m\n\u001b[0;32m-> 1601\u001b[0;31m             \u001b[0;32mreturn\u001b[0m \u001b[0mfunc\u001b[0m\u001b[0;34m(\u001b[0m\u001b[0max\u001b[0m\u001b[0;34m,\u001b[0m \u001b[0;34m*\u001b[0m\u001b[0mmap\u001b[0m\u001b[0;34m(\u001b[0m\u001b[0msanitize_sequence\u001b[0m\u001b[0;34m,\u001b[0m \u001b[0margs\u001b[0m\u001b[0;34m)\u001b[0m\u001b[0;34m,\u001b[0m \u001b[0;34m**\u001b[0m\u001b[0mkwargs\u001b[0m\u001b[0;34m)\u001b[0m\u001b[0;34m\u001b[0m\u001b[0;34m\u001b[0m\u001b[0m\n\u001b[0m\u001b[1;32m   1602\u001b[0m \u001b[0;34m\u001b[0m\u001b[0m\n\u001b[1;32m   1603\u001b[0m         \u001b[0mbound\u001b[0m \u001b[0;34m=\u001b[0m \u001b[0mnew_sig\u001b[0m\u001b[0;34m.\u001b[0m\u001b[0mbind\u001b[0m\u001b[0;34m(\u001b[0m\u001b[0max\u001b[0m\u001b[0;34m,\u001b[0m \u001b[0;34m*\u001b[0m\u001b[0margs\u001b[0m\u001b[0;34m,\u001b[0m \u001b[0;34m**\u001b[0m\u001b[0mkwargs\u001b[0m\u001b[0;34m)\u001b[0m\u001b[0;34m\u001b[0m\u001b[0;34m\u001b[0m\u001b[0m\n",
      "\u001b[0;32m/Library/Frameworks/Python.framework/Versions/3.7/lib/python3.7/site-packages/matplotlib/axes/_axes.py\u001b[0m in \u001b[0;36mscatter\u001b[0;34m(self, x, y, s, c, marker, cmap, norm, vmin, vmax, alpha, linewidths, verts, edgecolors, plotnonfinite, **kwargs)\u001b[0m\n\u001b[1;32m   4442\u001b[0m         \u001b[0my\u001b[0m \u001b[0;34m=\u001b[0m \u001b[0mnp\u001b[0m\u001b[0;34m.\u001b[0m\u001b[0mma\u001b[0m\u001b[0;34m.\u001b[0m\u001b[0mravel\u001b[0m\u001b[0;34m(\u001b[0m\u001b[0my\u001b[0m\u001b[0;34m)\u001b[0m\u001b[0;34m\u001b[0m\u001b[0;34m\u001b[0m\u001b[0m\n\u001b[1;32m   4443\u001b[0m         \u001b[0;32mif\u001b[0m \u001b[0mx\u001b[0m\u001b[0;34m.\u001b[0m\u001b[0msize\u001b[0m \u001b[0;34m!=\u001b[0m \u001b[0my\u001b[0m\u001b[0;34m.\u001b[0m\u001b[0msize\u001b[0m\u001b[0;34m:\u001b[0m\u001b[0;34m\u001b[0m\u001b[0;34m\u001b[0m\u001b[0m\n\u001b[0;32m-> 4444\u001b[0;31m             \u001b[0;32mraise\u001b[0m \u001b[0mValueError\u001b[0m\u001b[0;34m(\u001b[0m\u001b[0;34m\"x and y must be the same size\"\u001b[0m\u001b[0;34m)\u001b[0m\u001b[0;34m\u001b[0m\u001b[0;34m\u001b[0m\u001b[0m\n\u001b[0m\u001b[1;32m   4445\u001b[0m \u001b[0;34m\u001b[0m\u001b[0m\n\u001b[1;32m   4446\u001b[0m         \u001b[0;32mif\u001b[0m \u001b[0ms\u001b[0m \u001b[0;32mis\u001b[0m \u001b[0;32mNone\u001b[0m\u001b[0;34m:\u001b[0m\u001b[0;34m\u001b[0m\u001b[0;34m\u001b[0m\u001b[0m\n",
      "\u001b[0;31mValueError\u001b[0m: x and y must be the same size"
     ]
    },
    {
     "data": {
      "image/png": "[encoded data removed]",
      "text/plain": [
       "<Figure size 648x576 with 1 Axes>"
      ]
     },
     "metadata": {
      "needs_background": "light"
     },
     "output_type": "display_data"
    }
   ],
   "source": [
    "Z_Coen = np.logspace(np.log10(0.0001), np.log10(0.03), 30)\n",
    "print(Z_Coen)\n",
    "\n",
    "Z_solar = 0.0142\n",
    "\n",
    "Z_Floor = [0.0001, 0.0002, 0.0005, 0.002, 0.001, 0.006,  0.0142, 0.03]\n",
    "\n",
    "\n",
    "print('--- log    ----')\n",
    "LogGrid = np.logspace(np.log10(0.0001), np.log10(0.022), 50)\n",
    "LogGridround = np.round(LogGrid, 5)\n",
    "print(LogGridround)\n",
    "\n",
    "print(LogGrid)\n",
    "print('--- linear ----')\n",
    "k=3\n",
    "LinGrid_A = np.concatenate((np.logspace(np.log10(0.0001), np.log10(0.001), 5)[:],\\\n",
    "                                     np.logspace(np.log10(0.001), np.log10(0.004), 11)[1:] ))\n",
    "\n",
    "LinGrid_B = np.logspace(np.log10(0.004), np.log10(0.022), 16)[1:]\n",
    "LinGrid = np.concatenate((LinGrid_A, LinGrid_B))\n",
    "LinGrid = (LinGrid)\n",
    "print(LinGrid)\n",
    "fig, axes = plt.subplots(1,1,figsize=(9,8))\n",
    "axes.scatter(np.log10(LinGrid/Z_solar), np.ones_like(LogGrid), s=28, label='new grid') #, c='b', s='25') \n",
    "axes.scatter(np.log10(LogGrid/Z_solar),np.ones_like(LogGrid), s=22, label='uniform grid') #,  c='r', s='25')\n",
    "plt.legend('upper left')\n",
    "\n",
    "plt.show()"
   ]
  },
  {
   "cell_type": "markdown",
   "metadata": {},
   "source": [
    "# Metallicity grid that I'm going to use:"
   ]
  },
  {
   "cell_type": "code",
   "execution_count": null,
   "metadata": {},
   "outputs": [],
   "source": [
    "# Metallicity grid that I'm going to use:\n",
    "\n",
    "[0.0001     0.00017783 0.00031623 0.00056234 0.001      0.0011487\n",
    " 0.00131951 0.00151572 0.0017411  0.002      0.0022974  0.00263902\n",
    " 0.00303143 0.0034822  0.004      0.00448144 0.00502082 0.00562513\n",
    " 0.00630217 0.0070607  0.00791052 0.00886263 0.00992933 0.01112443\n",
    " 0.01246336 0.0142     0.01564408 0.017527   0.01963655 0.022     ]"
   ]
  },
  {
   "cell_type": "code",
   "execution_count": null,
   "metadata": {},
   "outputs": [],
   "source": []
  },
  {
   "cell_type": "code",
   "execution_count": null,
   "metadata": {},
   "outputs": [],
   "source": []
  },
  {
   "cell_type": "code",
   "execution_count": null,
   "metadata": {},
   "outputs": [],
   "source": []
  },
  {
   "cell_type": "code",
   "execution_count": null,
   "metadata": {},
   "outputs": [],
   "source": []
  },
  {
   "cell_type": "code",
   "execution_count": 31,
   "metadata": {},
   "outputs": [
    {
     "name": "stdout",
     "output_type": "stream",
     "text": [
      "0.0002365500000000003\n",
      "-0.0014440800000000004\n"
     ]
    }
   ],
   "source": [
    "print( 0.0142- 0.01396345)\n",
    "print( 0.0142- 0.01564408)"
   ]
  },
  {
   "cell_type": "code",
   "execution_count": null,
   "metadata": {},
   "outputs": [],
   "source": []
  },
  {
   "cell_type": "code",
   "execution_count": 3,
   "metadata": {},
   "outputs": [
    {
     "ename": "SyntaxError",
     "evalue": "invalid syntax (<ipython-input-3-144c94a435eb>, line 1)",
     "output_type": "error",
     "traceback": [
      "\u001b[0;36m  File \u001b[0;32m\"<ipython-input-3-144c94a435eb>\"\u001b[0;36m, line \u001b[0;32m1\u001b[0m\n\u001b[0;31m    [0.0001     0.00012174 0.0001482  0.00018041 0.00021962 0.00026736\u001b[0m\n\u001b[0m                         ^\u001b[0m\n\u001b[0;31mSyntaxError\u001b[0m\u001b[0;31m:\u001b[0m invalid syntax\n"
     ]
    }
   ],
   "source": [
    "[0.0001     0.00012174 0.0001482  0.00018041 0.00021962 0.00026736\n",
    " 0.00032547 0.00039621 0.00048233 0.00058717 0.00071479 0.00087016\n",
    " 0.00105929 0.00128954 0.00156983 0.0002 0.00232642 0.0003\n",
    " 0.00344765 0.00419702 0.00510928 0.00621981 0.00757174 0.00921751\n",
    " 0.011221   0.01365996 0.01662905 0.02024349 0.02464355 0.03      ]\n",
    "\n",
    "\n",
    "[0.0001     0.00015029 0.00022588 0.00033948 0.00051021 0.00076681\n",
    " 0.00115245 0.00173205 0.00260314 0.00391233 0.00587993 0.0088371\n",
    " 0.01328149 0.01996108 0.03      ]\n",
    "\n",
    "\n",
    "\n",
    "[0.0001, 0.00016, 0.0002, 0.0003, 0.0005, 0.0008,  0.001, 0.002, 0.0026, 0.004, 0.006, 0.009,  0.0142, 0.02, 0.03]\n",
    "\n",
    "\n",
    "\n",
    "\n"
   ]
  },
  {
   "cell_type": "markdown",
   "metadata": {},
   "source": [
    "### I used the following metallicity grid for small runs:"
   ]
  },
  {
   "cell_type": "code",
   "execution_count": 4,
   "metadata": {},
   "outputs": [],
   "source": [
    "Z_Floor = [0.0001, 0.0002, 0.0005, 0.002, 0.001, 0.006,  0.0142, 0.03]\n",
    "\n"
   ]
  },
  {
   "cell_type": "markdown",
   "metadata": {},
   "source": [
    "### I use the following metallicity grid for large runs:"
   ]
  },
  {
   "cell_type": "code",
   "execution_count": null,
   "metadata": {},
   "outputs": [],
   "source": [
    "Z_FloorLarge = [0.0001     0.00012174 0.0001482  0.00018041 0.0002 0.00026736\n",
    " 0.00032547 0.00039621 0.0005 0.00058717 0.00071479 0.00087016\n",
    " 0.001 0.00128954 0.00156983 0.002 0.00232642 0.00283208\n",
    " 0.00344765 0.00419702 0.00510928 0.006 0.00757174 0.00921751\n",
    " 0.011221   0.0142 0.01662905 0.02024349 0.02464355 0.03      ]"
   ]
  },
  {
   "cell_type": "code",
   "execution_count": null,
   "metadata": {},
   "outputs": [],
   "source": []
  },
  {
   "cell_type": "code",
   "execution_count": null,
   "metadata": {},
   "outputs": [],
   "source": []
  },
  {
   "cell_type": "code",
   "execution_count": null,
   "metadata": {},
   "outputs": [],
   "source": [
    "import numpy as np \n",
    "\n",
    "min_Z, max_Z = 0.0001 , 0.03 #COEN set by Hurley et al 2000\n",
    "\n",
    "\n",
    "Z_COEN = np.logspace(np.log10(min_Z), np.log10(max_Z), 8)\n",
    "print('Z Coen = ',Z_COEN )\n",
    "\n",
    "Z_Hurley = [0.0001, 0.0003, 0.001, 0.004, 0.01, 0.02 , 0.03]\n",
    "print('Z Hurley = ',Z_Hurley )\n",
    "Z_solar = 0.0142\n",
    "Z_Floor = np.asarray([0.0001, 0.0002, 0.0005, 0.001, 0.002, 0.006, 0.0142 ,  0.03])\n",
    "Z_FloorNames = Z0_0001 Z0_0002 Z0_0005 Z0_001 Z0_002 Z0_006 Z0_0142   Z0_03\n",
    "\n",
    "\n",
    "print('Z Floor = ',Z_Floor )\n",
    "\n",
    "\n",
    "print(np.log10(Z_Floor/Z_solar))"
   ]
  },
  {
   "cell_type": "code",
   "execution_count": null,
   "metadata": {},
   "outputs": [],
   "source": []
  },
  {
   "cell_type": "code",
   "execution_count": null,
   "metadata": {},
   "outputs": [],
   "source": []
  },
  {
   "cell_type": "code",
   "execution_count": null,
   "metadata": {},
   "outputs": [],
   "source": [
    "# ALL DCO SIMULATION RUNS:"
   ]
  },
  {
   "cell_type": "code",
   "execution_count": 7,
   "metadata": {},
   "outputs": [
    {
     "name": "stdout",
     "output_type": "stream",
     "text": [
      "--- log    ----\n",
      "[0.0001  0.00011 0.00012 0.00014 0.00016 0.00017 0.00019 0.00022 0.00024\n",
      " 0.00027 0.0003  0.00034 0.00037 0.00042 0.00047 0.00052 0.00058 0.00065\n",
      " 0.00073 0.00081 0.0009  0.00101 0.00113 0.00126 0.0014  0.00157 0.00175\n",
      " 0.00195 0.00218 0.00243 0.00272 0.00303 0.00339 0.00378 0.00422 0.00471\n",
      " 0.00526 0.00587 0.00655 0.00732 0.00817 0.00912 0.01018 0.01137 0.01269\n",
      " 0.01416 0.01581 0.01765 0.01971 0.022  ]\n"
     ]
    }
   ],
   "source": [
    "print('--- log    ----')\n",
    "LogGrid = np.logspace(np.log10(0.0001), np.log10(0.022), 50)\n",
    "LogGridround = np.round(LogGrid, 5)\n",
    "print(LogGridround)"
   ]
  },
  {
   "cell_type": "code",
   "execution_count": 8,
   "metadata": {},
   "outputs": [
    {
     "name": "stdout",
     "output_type": "stream",
     "text": [
      "[0.0001, 0.00011, 0.00012, 0.00014, 0.00016, 0.00017, 0.00019, 0.00022, 0.00024, 0.00027, 0.0003, 0.00034, 0.00037, 0.00042, 0.00047, 0.00052, 0.00058, 0.00065, 0.00073, 0.00081, 0.0009, 0.00101, 0.00113, 0.00126, 0.0014, 0.00157, 0.00175, 0.00195, 0.00218, 0.00243, 0.00272, 0.00303, 0.00339, 0.00378, 0.00422, 0.00471, 0.00526, 0.00587, 0.00655, 0.00732, 0.00817, 0.00912, 0.01018, 0.01137, 0.01269, 0.01416, 0.01581, 0.01765, 0.01971, 0.022]\n"
     ]
    }
   ],
   "source": [
    "print(list(LogGridround))"
   ]
  },
  {
   "cell_type": "code",
   "execution_count": 9,
   "metadata": {},
   "outputs": [
    {
     "name": "stdout",
     "output_type": "stream",
     "text": [
      "['0.0001', '0.00011', '0.00012', '0.00014', '0.00016', '0.00017', '0.00019', '0.00022', '0.00024', '0.00027', '0.0003', '0.00034', '0.00037', '0.00042', '0.00047', '0.00052', '0.00058', '0.00065', '0.00073', '0.00081', '0.0009', '0.00101', '0.00113', '0.00126', '0.0014', '0.00157', '0.00175', '0.00195', '0.00218', '0.00243', '0.00272', '0.00303', '0.00339', '0.00378', '0.00422', '0.00471', '0.00526', '0.00587', '0.00655', '0.00732', '0.00817', '0.00912', '0.01018', '0.01137', '0.01269', '0.01416', '0.01581', '0.01765', '0.01971', '0.022']\n"
     ]
    }
   ],
   "source": [
    "stringlist = []\n",
    "\n",
    "for Z in LogGridround:\n",
    "    stringlist.append(str(Z))\n",
    "print(stringlist)"
   ]
  },
  {
   "cell_type": "code",
   "execution_count": null,
   "metadata": {},
   "outputs": [],
   "source": []
  }
 ],
 "metadata": {
  "kernelspec": {
   "display_name": "Python 3",
   "language": "python",
   "name": "python3"
  },
  "language_info": {
   "codemirror_mode": {
    "name": "ipython",
    "version": 3
   },
   "file_extension": ".py",
   "mimetype": "text/x-python",
   "name": "python",
   "nbconvert_exporter": "python",
   "pygments_lexer": "ipython3",
   "version": "3.7.4"
  }
 },
 "nbformat": 4,
 "nbformat_minor": 2
}
