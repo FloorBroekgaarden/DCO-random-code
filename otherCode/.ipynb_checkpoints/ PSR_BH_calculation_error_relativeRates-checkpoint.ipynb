{
 "cells": [
  {
   "cell_type": "code",
   "execution_count": 1,
   "metadata": {},
   "outputs": [
    {
     "data": {
      "text/html": [
       "<style>.container { width:100% !important; }</style>"
      ],
      "text/plain": [
       "<IPython.core.display.HTML object>"
      ]
     },
     "metadata": {},
     "output_type": "display_data"
    }
   ],
   "source": [
    "\n",
    "import numpy as np\n",
    "import matplotlib.pyplot as plt\n",
    "import h5py as h5\n",
    "from matplotlib.ticker import AutoMinorLocator, MultipleLocator\n",
    "minor = AutoMinorLocator()\n",
    "import math # for tan function and degrees function\n",
    "\n",
    "from IPython.core.display import display, HTML\n",
    "display(HTML(\"<style>.container { width:100% !important; }</style>\"))\n",
    "import pylab as plt\n",
    "import matplotlib.patches as mpatches "
   ]
  },
  {
   "cell_type": "code",
   "execution_count": 18,
   "metadata": {},
   "outputs": [
    {
     "data": {
      "image/png": "[encoded data removed]",
      "text/plain": [
       "<Figure size 1152x432 with 1 Axes>"
      ]
     },
     "metadata": {
      "needs_background": "light"
     },
     "output_type": "display_data"
    },
    {
     "name": "stdout",
     "output_type": "stream",
     "text": [
      " ---  model 0  --- \n",
      "\n",
      " Parkes relative rate = 0.2962962962962963 +/- 0.11927059050361677 \n",
      " SKA    relative rate = 0.38461538461538464 +/- 0.08262863931224226 \n",
      "\n",
      " ---  model 1  --- \n",
      "\n",
      " Parkes relative rate = 1.4814814814814814 +/- 0.3689960785425497 \n",
      " SKA    relative rate = 1.7183098591549295 +/- 0.25649035978984913 \n",
      "\n",
      " ---  model 2  --- \n",
      "\n",
      " Parkes relative rate = 0.12 +/- 0.07332121111929343 \n",
      " SKA    relative rate = 0.125 +/- 0.044194173824159216 \n",
      "\n",
      " ---  model 3  --- \n",
      "\n",
      " Parkes relative rate = 0.09523809523809523 +/- 0.07047741618104332 \n",
      " SKA    relative rate = 0.0967741935483871 +/- 0.04137543257454951 \n",
      "\n",
      " ---  model 4  --- \n",
      "\n",
      " Parkes relative rate = 1.6666666666666667 +/- 1.2171612389003692 \n",
      " SKA    relative rate = 1.6363636363636365 +/- 0.6262478152222358 \n",
      "\n",
      " ---  model 5  --- \n",
      "\n",
      " Parkes relative rate = 0.6428571428571429 +/- 0.2746585476264239 \n",
      " SKA    relative rate = 0.5333333333333333 +/- 0.13480667456091644 \n",
      "\n",
      " ---  model 6  --- \n",
      "\n",
      " Parkes relative rate = 0.1 +/- 0.052440442408507586 \n",
      " SKA    relative rate = 0.08264462809917356 +/- 0.027193029407744342 \n",
      "\n",
      " ---  model 7  --- \n",
      "\n",
      " Parkes relative rate = 0.4 +/- 0.16733200530681513 \n",
      " SKA    relative rate = 0.3870967741935484 +/- 0.0930609136953647 \n",
      "\n",
      " ---  model 8  --- \n",
      "\n",
      " Parkes relative rate = 0.3684210526315789 +/- 0.1628940767644228 \n",
      " SKA    relative rate = 0.453125 +/- 0.10143095447342801 \n",
      "\n"
     ]
    },
    {
     "data": {
      "image/png": "[encoded data removed]",
      "text/plain": [
       "<Figure size 1152x432 with 1 Axes>"
      ]
     },
     "metadata": {
      "needs_background": "light"
     },
     "output_type": "display_data"
    }
   ],
   "source": [
    "def errorPropagation(nBHNS, nNSNS):\n",
    "    \"\"\" \n",
    "    returns relative rate and 1 sigma Poisson error\n",
    "    \n",
    "    input: number of BHNS and number of NSNS observed with telescope\n",
    "    \"\"\"\n",
    "    \n",
    "    # calculate relative Rate BHNS / NSNS \n",
    "    relRate = nBHNS / nNSNS\n",
    "    \n",
    "    # poisson sampling errors on quoted numbers\n",
    "    sigma_BHNS = np.sqrt(nBHNS)\n",
    "    sigma_NSNS = np.sqrt(nNSNS)\n",
    "    \n",
    "    # 1 sigmaa poisson error using error propagation\n",
    "    BHNS_term =  np.abs(sigma_BHNS / nBHNS)**2 \n",
    "    NSNS_term =  np.abs(sigma_NSNS / nNSNS)**2 \n",
    "    \n",
    "    sigma = relRate * np.sqrt(BHNS_term + NSNS_term)\n",
    "    \n",
    "    \n",
    "    \n",
    "    return relRate, sigma\n",
    "\n",
    "\n",
    "\n",
    "\n",
    "\n",
    "\n",
    "Parkes_BHNS = [8, 40, 3,2,5,9,4,8,7,641]\n",
    "SKA_BHNS    = [30, 122, 9, 6, 18, 24, 10, 24, 29, 2174]\n",
    "\n",
    "\n",
    "Parkes_NSNS = [27, 27, 25, 21, 3, 14, 40, 20, 19, 78]\n",
    "SKA_NSNS    = [78, 71, 72, 62, 11, 45, 121, 62, 64, 239]\n",
    "\n",
    "\n",
    "\n",
    "\n",
    "f, ax= plt.subplots(ncols=1,nrows=1, figsize=(16,6))\n",
    "\n",
    "for ind_m in range(len(Parkes_BHNS)):\n",
    "    \n",
    "    nBHNS, nNSNS =   Parkes_BHNS[ind_m],  Parkes_NSNS[ind_m]\n",
    "#     R_parkes = nBHNS/nNSNS\n",
    "    R_parkes, sigma_parkes = errorPropagation(nBHNS, nNSNS)\n",
    "    \n",
    "    nBHNS, nNSNS = SKA_BHNS[ind_m], SKA_NSNS[ind_m]\n",
    "#     R_ska    = nBHNS/nNSNS\n",
    "    R_ska,  sigma_ska = errorPropagation(nBHNS, nNSNS)\n",
    "    \n",
    "#     plt.errorbar(x=ind_m, y=R_parkes, yerr=sigma_parkes, c='red', label='Parkes')\n",
    "    plt.errorbar(x=ind_m, y=R_parkes, yerr=sigma_parkes, c='red',  label='Parkes',capsize=10, marker='o')\n",
    "    plt.errorbar(x=ind_m, y=R_ska,    yerr=sigma_ska,    c='blue', label='SKA'   ,capsize=10, marker='o')\n",
    "    \n",
    "    \n",
    "    plt.xlabel('model number', fontsize=14)\n",
    "    plt.tick_params(labelsize=14)\n",
    "    \n",
    "plt.show()\n",
    "    \n",
    "    \n",
    "  \n",
    "\n",
    "\n",
    "f, ax= plt.subplots(ncols=1,nrows=1, figsize=(16,6))\n",
    "for ind_m in range(len(Parkes_BHNS[:-1])):\n",
    "    \n",
    "    nBHNS, nNSNS =   Parkes_BHNS[ind_m],  Parkes_NSNS[ind_m]\n",
    "    R_parkes, sigma_parkes = errorPropagation(nBHNS, nNSNS)\n",
    "    \n",
    "    nBHNS, nNSNS = SKA_BHNS[ind_m], SKA_NSNS[ind_m]\n",
    "    R_ska,  sigma_ska = errorPropagation(nBHNS, nNSNS)\n",
    "    \n",
    "    \n",
    "    print(' ---  model %s  --- \\n'%ind_m)\n",
    "    print(' Parkes relative rate = %s +/- %s '%(R_parkes, sigma_parkes))\n",
    "    print(' SKA    relative rate = %s +/- %s '%(R_ska,    sigma_ska))\n",
    "    print()\n",
    "    \n",
    "#     plt.errorbar(x=ind_m, y=R_parkes, yerr=sigma_parkes, c='red', label='Parkes')\n",
    "    plt.errorbar(x=ind_m, y=R_parkes, yerr=sigma_parkes, c='red',  label='Parkes',capsize=10, marker='o')\n",
    "    plt.errorbar(x=ind_m, y=R_ska,    yerr=sigma_ska,    c='blue', label='SKA'   ,capsize=10, marker='o')\n",
    "    \n",
    "    \n",
    "    plt.xlabel('model number', fontsize=14)\n",
    "    plt.tick_params(labelsize=14)\n",
    "    \n",
    "plt.show()\n",
    "\n",
    "\n",
    "\n",
    "\n",
    "    "
   ]
  },
  {
   "cell_type": "code",
   "execution_count": null,
   "metadata": {},
   "outputs": [],
   "source": []
  }
 ],
 "metadata": {
  "kernelspec": {
   "display_name": "Python 3",
   "language": "python",
   "name": "python3"
  },
  "language_info": {
   "codemirror_mode": {
    "name": "ipython",
    "version": 3
   },
   "file_extension": ".py",
   "mimetype": "text/x-python",
   "name": "python",
   "nbconvert_exporter": "python",
   "pygments_lexer": "ipython3",
   "version": "3.7.4"
  }
 },
 "nbformat": 4,
 "nbformat_minor": 2
}
