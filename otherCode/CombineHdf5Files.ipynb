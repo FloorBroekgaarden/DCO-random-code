{
 "cells": [
  {
   "cell_type": "code",
   "execution_count": null,
   "metadata": {},
   "outputs": [],
   "source": [
    "import os \n",
    "\n",
    "import sys\n",
    "\n",
    "sys.path.append('/Users/floorbroekgaarden/Programs/COMPAS/popsynth/Papers/BroekgaardenEtAl/black_hole-neutron_star/Scripts')\n",
    "\n",
    "\n",
    "d_names = os.listdir(os.getcwd())\n"
   ]
  },
  {
   "cell_type": "code",
   "execution_count": null,
   "metadata": {},
   "outputs": [],
   "source": [
    "\n",
    "d_names = os.listdir(os.getcwd())\n",
    "d_struct = {} #Here we will store the database structure\n",
    "for i in d_names:\n",
    "   f = h5py.File(i,'r+')\n",
    "   d_struct[i] = f.keys()\n",
    "   f.close()\n",
    "\n",
    "# A) empty all the groups in the new .h5 file \n",
    "for i in d_names:\n",
    "    for j  in d_struct[i]:\n",
    "        !h5copy -i '{i}' -o 'output.h5' -s {j} -d {j}"
   ]
  },
  {
   "cell_type": "code",
   "execution_count": null,
   "metadata": {},
   "outputs": [],
   "source": [
    "for i in output0 output1 output2 output3 output4 output5 output6 output7 output8 output9"
   ]
  },
  {
   "cell_type": "code",
   "execution_count": null,
   "metadata": {},
   "outputs": [],
   "source": [
    "\n",
    "\n",
    "\n",
    "Z_0.0001 Z_0.00017783 Z_0.00031623 Z_0.00056234 Z_0.001 Z_0.0011487\n",
    " Z_0.00131951 Z_0.0017411 Z_0.002 Z_0.0022974  Z_0.00263902\n",
    " Z_0.00303143 Z_0.0034822 Z_0.004 Z_0.00448144 Z_0.00502082 Z_0.00562513\n",
    " Z_0.00630217 Z_0.0070607 Z_0.00791052 Z_0.00886263 Z_0.00992933 Z_0.01112443\n",
    " Z_0.01246336 Z_0.0142 Z_0.01564408 Z_0.017527 Z_0.01963655 Z_0.022\n",
    "\n",
    "\n",
    "# Z_0.00151572"
   ]
  },
  {
   "cell_type": "code",
   "execution_count": null,
   "metadata": {},
   "outputs": [],
   "source": [
    "for i in Z_0.0001 Z_0.00017783 Z_0.00031623 Z_0.00056234 Z_0.001 Z_0.0011487 Z_0.00131951 Z_0.0017411 Z_0.002 Z_0.0022974  Z_0.00263902 Z_0.00303143 Z_0.0034822 Z_0.004 Z_0.00448144 Z_0.00502082 Z_0.00562513 Z_0.00630217 Z_0.0070607 Z_0.00791052 Z_0.00886263 Z_0.00992933 Z_0.01112443 Z_0.01246336 Z_0.0142 Z_0.01564408 Z_0.017527 Z_0.01963655 Z_0.022\n",
    "do \n",
    "    mkdir $i\n",
    "    scp -r floorb@tsunami.sr.bham.ac.uk:/home/floorb/DATA/black_hole-neutron_star/Fiducial/$i/STROOPWAFELcombined/COMPASOutput.h5 $i/.\n",
    "    sleep 60s\n",
    "done \n",
    "\n",
    "\n",
    "\n",
    "\n",
    "done    "
   ]
  }
 ],
 "metadata": {
  "kernelspec": {
   "display_name": "Python 3",
   "language": "python",
   "name": "python3"
  },
  "language_info": {
   "codemirror_mode": {
    "name": "ipython",
    "version": 3
   },
   "file_extension": ".py",
   "mimetype": "text/x-python",
   "name": "python",
   "nbconvert_exporter": "python",
   "pygments_lexer": "ipython3",
   "version": "3.7.4"
  }
 },
 "nbformat": 4,
 "nbformat_minor": 2
}
